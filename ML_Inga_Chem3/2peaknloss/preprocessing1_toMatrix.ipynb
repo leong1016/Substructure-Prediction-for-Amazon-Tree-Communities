{
 "cells": [
  {
   "cell_type": "code",
   "execution_count": 1,
   "metadata": {},
   "outputs": [],
   "source": [
    "import numpy as np\n",
    "import pandas as pd\n",
    "import scipy as sp\n",
    "\n",
    "from matplotlib import pyplot as plt\n",
    "plt.rcParams['figure.figsize'] = [20,10]\n",
    "\n",
    "from scipy.sparse import load_npz\n",
    "from scipy.sparse import csr_matrix, hstack, save_npz"
   ]
  },
  {
   "cell_type": "markdown",
   "metadata": {},
   "source": [
    "## Reading Wim Data"
   ]
  },
  {
   "cell_type": "code",
   "execution_count": 2,
   "metadata": {},
   "outputs": [],
   "source": [
    "data = np.load('inga_out.npz')"
   ]
  },
  {
   "cell_type": "code",
   "execution_count": 3,
   "metadata": {},
   "outputs": [
    {
     "data": {
      "text/plain": [
       "array([ 552.293448,  338.046024,  724.221464, ...,  328.072907,\n",
       "        262.19328 ,  636.278192])"
      ]
     },
     "execution_count": 3,
     "metadata": {},
     "output_type": "execute_result"
    }
   ],
   "source": [
    "mass = data['arr_0']\n",
    "mass"
   ]
  },
  {
   "cell_type": "code",
   "execution_count": 4,
   "metadata": {},
   "outputs": [
    {
     "data": {
      "text/plain": [
       "array(['UNPD98266', 'UNPD207163', 'UNPD3499', ..., 'UNPD98267',\n",
       "       'UNPD47332', 'UNPD101003'], dtype=object)"
      ]
     },
     "execution_count": 4,
     "metadata": {},
     "output_type": "execute_result"
    }
   ],
   "source": [
    "name = data['arr_1']\n",
    "name"
   ]
  },
  {
   "cell_type": "code",
   "execution_count": 5,
   "metadata": {},
   "outputs": [
    {
     "data": {
      "text/plain": [
       "array([[  41.00329 ,    1.688456],\n",
       "       [  43.01894 ,    2.135631],\n",
       "       [  55.01894 ,    1.105409],\n",
       "       ..., \n",
       "       [ 549.23414 ,   24.377134],\n",
       "       [ 551.24979 ,   22.666363],\n",
       "       [ 591.2447  ,    5.496205]])"
      ]
     },
     "execution_count": 5,
     "metadata": {},
     "output_type": "execute_result"
    }
   ],
   "source": [
    "massabund = data['arr_2']\n",
    "massabund"
   ]
  },
  {
   "cell_type": "code",
   "execution_count": 6,
   "metadata": {},
   "outputs": [
    {
     "data": {
      "text/plain": [
       "array([     0,      0,      0, ..., 220988, 220988, 220988], dtype=uint32)"
      ]
     },
     "execution_count": 6,
     "metadata": {},
     "output_type": "execute_result"
    }
   ],
   "source": [
    "blockind = data['arr_3']\n",
    "blockind"
   ]
  },
  {
   "cell_type": "code",
   "execution_count": 7,
   "metadata": {},
   "outputs": [
    {
     "data": {
      "text/html": [
       "<div>\n",
       "<style>\n",
       "    .dataframe thead tr:only-child th {\n",
       "        text-align: right;\n",
       "    }\n",
       "\n",
       "    .dataframe thead th {\n",
       "        text-align: left;\n",
       "    }\n",
       "\n",
       "    .dataframe tbody tr th {\n",
       "        vertical-align: top;\n",
       "    }\n",
       "</style>\n",
       "<table border=\"1\" class=\"dataframe\">\n",
       "  <thead>\n",
       "    <tr style=\"text-align: right;\">\n",
       "      <th></th>\n",
       "      <th>comp_name</th>\n",
       "      <th>mass</th>\n",
       "    </tr>\n",
       "  </thead>\n",
       "  <tbody>\n",
       "    <tr>\n",
       "      <th>0</th>\n",
       "      <td>UNPD98266</td>\n",
       "      <td>552.293448</td>\n",
       "    </tr>\n",
       "    <tr>\n",
       "      <th>1</th>\n",
       "      <td>UNPD207163</td>\n",
       "      <td>338.046024</td>\n",
       "    </tr>\n",
       "    <tr>\n",
       "      <th>2</th>\n",
       "      <td>UNPD3499</td>\n",
       "      <td>724.221464</td>\n",
       "    </tr>\n",
       "    <tr>\n",
       "      <th>3</th>\n",
       "      <td>UNPD3498</td>\n",
       "      <td>154.099380</td>\n",
       "    </tr>\n",
       "    <tr>\n",
       "      <th>4</th>\n",
       "      <td>UNPD101002</td>\n",
       "      <td>793.294570</td>\n",
       "    </tr>\n",
       "  </tbody>\n",
       "</table>\n",
       "</div>"
      ],
      "text/plain": [
       "    comp_name        mass\n",
       "0   UNPD98266  552.293448\n",
       "1  UNPD207163  338.046024\n",
       "2    UNPD3499  724.221464\n",
       "3    UNPD3498  154.099380\n",
       "4  UNPD101002  793.294570"
      ]
     },
     "execution_count": 7,
     "metadata": {},
     "output_type": "execute_result"
    }
   ],
   "source": [
    "wim = pd.DataFrame({'comp_name': name, 'mass': mass})\n",
    "wim.head()"
   ]
  },
  {
   "cell_type": "code",
   "execution_count": 8,
   "metadata": {},
   "outputs": [
    {
     "data": {
      "text/plain": [
       "(220989, 2)"
      ]
     },
     "execution_count": 8,
     "metadata": {},
     "output_type": "execute_result"
    }
   ],
   "source": [
    "wim.shape"
   ]
  },
  {
   "cell_type": "code",
   "execution_count": 9,
   "metadata": {},
   "outputs": [
    {
     "data": {
      "text/html": [
       "<div>\n",
       "<style>\n",
       "    .dataframe thead tr:only-child th {\n",
       "        text-align: right;\n",
       "    }\n",
       "\n",
       "    .dataframe thead th {\n",
       "        text-align: left;\n",
       "    }\n",
       "\n",
       "    .dataframe tbody tr th {\n",
       "        vertical-align: top;\n",
       "    }\n",
       "</style>\n",
       "<table border=\"1\" class=\"dataframe\">\n",
       "  <thead>\n",
       "    <tr style=\"text-align: right;\">\n",
       "      <th></th>\n",
       "      <th>comp_name</th>\n",
       "      <th>mass</th>\n",
       "    </tr>\n",
       "  </thead>\n",
       "  <tbody>\n",
       "    <tr>\n",
       "      <th>131</th>\n",
       "      <td>Inga_compound_2296</td>\n",
       "      <td>1728.783400</td>\n",
       "    </tr>\n",
       "    <tr>\n",
       "      <th>132</th>\n",
       "      <td>Inga_compound_2295</td>\n",
       "      <td>585.089720</td>\n",
       "    </tr>\n",
       "    <tr>\n",
       "      <th>133</th>\n",
       "      <td>Inga_compound_2293</td>\n",
       "      <td>987.533777</td>\n",
       "    </tr>\n",
       "    <tr>\n",
       "      <th>134</th>\n",
       "      <td>Inga_compound_2292</td>\n",
       "      <td>1154.570300</td>\n",
       "    </tr>\n",
       "    <tr>\n",
       "      <th>135</th>\n",
       "      <td>Inga_compound_2291</td>\n",
       "      <td>722.174222</td>\n",
       "    </tr>\n",
       "  </tbody>\n",
       "</table>\n",
       "</div>"
      ],
      "text/plain": [
       "              comp_name         mass\n",
       "131  Inga_compound_2296  1728.783400\n",
       "132  Inga_compound_2295   585.089720\n",
       "133  Inga_compound_2293   987.533777\n",
       "134  Inga_compound_2292  1154.570300\n",
       "135  Inga_compound_2291   722.174222"
      ]
     },
     "execution_count": 9,
     "metadata": {},
     "output_type": "execute_result"
    }
   ],
   "source": [
    "wim_inga = wim[wim['comp_name'].str.match('Inga')]\n",
    "wim_inga.head()"
   ]
  },
  {
   "cell_type": "code",
   "execution_count": 10,
   "metadata": {},
   "outputs": [
    {
     "data": {
      "text/plain": [
       "(3291, 2)"
      ]
     },
     "execution_count": 10,
     "metadata": {},
     "output_type": "execute_result"
    }
   ],
   "source": [
    "wim_inga.shape"
   ]
  },
  {
   "cell_type": "code",
   "execution_count": 11,
   "metadata": {},
   "outputs": [
    {
     "data": {
      "text/html": [
       "<div>\n",
       "<style>\n",
       "    .dataframe thead tr:only-child th {\n",
       "        text-align: right;\n",
       "    }\n",
       "\n",
       "    .dataframe thead th {\n",
       "        text-align: left;\n",
       "    }\n",
       "\n",
       "    .dataframe tbody tr th {\n",
       "        vertical-align: top;\n",
       "    }\n",
       "</style>\n",
       "<table border=\"1\" class=\"dataframe\">\n",
       "  <thead>\n",
       "    <tr style=\"text-align: right;\">\n",
       "      <th></th>\n",
       "      <th>comp_name</th>\n",
       "      <th>mass</th>\n",
       "    </tr>\n",
       "  </thead>\n",
       "  <tbody>\n",
       "    <tr>\n",
       "      <th>0</th>\n",
       "      <td>UNPD98266</td>\n",
       "      <td>552.293448</td>\n",
       "    </tr>\n",
       "    <tr>\n",
       "      <th>1</th>\n",
       "      <td>UNPD207163</td>\n",
       "      <td>338.046024</td>\n",
       "    </tr>\n",
       "    <tr>\n",
       "      <th>2</th>\n",
       "      <td>UNPD3499</td>\n",
       "      <td>724.221464</td>\n",
       "    </tr>\n",
       "    <tr>\n",
       "      <th>3</th>\n",
       "      <td>UNPD3498</td>\n",
       "      <td>154.099380</td>\n",
       "    </tr>\n",
       "    <tr>\n",
       "      <th>4</th>\n",
       "      <td>UNPD101002</td>\n",
       "      <td>793.294570</td>\n",
       "    </tr>\n",
       "  </tbody>\n",
       "</table>\n",
       "</div>"
      ],
      "text/plain": [
       "    comp_name        mass\n",
       "0   UNPD98266  552.293448\n",
       "1  UNPD207163  338.046024\n",
       "2    UNPD3499  724.221464\n",
       "3    UNPD3498  154.099380\n",
       "4  UNPD101002  793.294570"
      ]
     },
     "execution_count": 11,
     "metadata": {},
     "output_type": "execute_result"
    }
   ],
   "source": [
    "wim_silico = wim[wim['comp_name'].str.match('UNPD')]\n",
    "wim_silico.head()"
   ]
  },
  {
   "cell_type": "code",
   "execution_count": 12,
   "metadata": {},
   "outputs": [
    {
     "data": {
      "text/plain": [
       "(217698, 2)"
      ]
     },
     "execution_count": 12,
     "metadata": {},
     "output_type": "execute_result"
    }
   ],
   "source": [
    "wim_silico.shape"
   ]
  },
  {
   "cell_type": "markdown",
   "metadata": {},
   "source": [
    "## Reading Peak & Loss Data"
   ]
  },
  {
   "cell_type": "code",
   "execution_count": 13,
   "metadata": {},
   "outputs": [
    {
     "data": {
      "text/plain": [
       "(2615424, 3)"
      ]
     },
     "execution_count": 13,
     "metadata": {},
     "output_type": "execute_result"
    }
   ],
   "source": [
    "raw = pd.read_pickle('mz_and_losses_long_2018_07_09.pkl')\n",
    "raw.shape"
   ]
  },
  {
   "cell_type": "code",
   "execution_count": 14,
   "metadata": {},
   "outputs": [
    {
     "data": {
      "text/html": [
       "<div>\n",
       "<style>\n",
       "    .dataframe thead tr:only-child th {\n",
       "        text-align: right;\n",
       "    }\n",
       "\n",
       "    .dataframe thead th {\n",
       "        text-align: left;\n",
       "    }\n",
       "\n",
       "    .dataframe tbody tr th {\n",
       "        vertical-align: top;\n",
       "    }\n",
       "</style>\n",
       "<table border=\"1\" class=\"dataframe\">\n",
       "  <thead>\n",
       "    <tr style=\"text-align: right;\">\n",
       "      <th></th>\n",
       "      <th>comp_name</th>\n",
       "      <th>feature_name</th>\n",
       "      <th>intensity</th>\n",
       "    </tr>\n",
       "  </thead>\n",
       "  <tbody>\n",
       "    <tr>\n",
       "      <th>4</th>\n",
       "      <td>UNPD98266</td>\n",
       "      <td>peak_110</td>\n",
       "      <td>1.294890</td>\n",
       "    </tr>\n",
       "    <tr>\n",
       "      <th>5</th>\n",
       "      <td>UNPD98266</td>\n",
       "      <td>peak_191</td>\n",
       "      <td>2.076612</td>\n",
       "    </tr>\n",
       "    <tr>\n",
       "      <th>12</th>\n",
       "      <td>UNPD98266</td>\n",
       "      <td>peak_5691</td>\n",
       "      <td>16.325846</td>\n",
       "    </tr>\n",
       "    <tr>\n",
       "      <th>18</th>\n",
       "      <td>UNPD98266</td>\n",
       "      <td>peak_6984</td>\n",
       "      <td>2.461923</td>\n",
       "    </tr>\n",
       "    <tr>\n",
       "      <th>24</th>\n",
       "      <td>UNPD3499</td>\n",
       "      <td>peak_191</td>\n",
       "      <td>3.612248</td>\n",
       "    </tr>\n",
       "  </tbody>\n",
       "</table>\n",
       "</div>"
      ],
      "text/plain": [
       "    comp_name feature_name  intensity\n",
       "4   UNPD98266     peak_110   1.294890\n",
       "5   UNPD98266     peak_191   2.076612\n",
       "12  UNPD98266    peak_5691  16.325846\n",
       "18  UNPD98266    peak_6984   2.461923\n",
       "24   UNPD3499     peak_191   3.612248"
      ]
     },
     "execution_count": 14,
     "metadata": {},
     "output_type": "execute_result"
    }
   ],
   "source": [
    "raw.head()"
   ]
  },
  {
   "cell_type": "markdown",
   "metadata": {},
   "source": [
    "### Peak Data"
   ]
  },
  {
   "cell_type": "code",
   "execution_count": 15,
   "metadata": {},
   "outputs": [
    {
     "data": {
      "text/plain": [
       "(1214577, 3)"
      ]
     },
     "execution_count": 15,
     "metadata": {},
     "output_type": "execute_result"
    }
   ],
   "source": [
    "peak = raw[raw['feature_name'].str.match('peak')]\n",
    "peak.shape"
   ]
  },
  {
   "cell_type": "code",
   "execution_count": 16,
   "metadata": {},
   "outputs": [
    {
     "data": {
      "text/html": [
       "<div>\n",
       "<style>\n",
       "    .dataframe thead tr:only-child th {\n",
       "        text-align: right;\n",
       "    }\n",
       "\n",
       "    .dataframe thead th {\n",
       "        text-align: left;\n",
       "    }\n",
       "\n",
       "    .dataframe tbody tr th {\n",
       "        vertical-align: top;\n",
       "    }\n",
       "</style>\n",
       "<table border=\"1\" class=\"dataframe\">\n",
       "  <thead>\n",
       "    <tr style=\"text-align: right;\">\n",
       "      <th></th>\n",
       "      <th>comp_name</th>\n",
       "      <th>feature_name</th>\n",
       "      <th>intensity</th>\n",
       "    </tr>\n",
       "  </thead>\n",
       "  <tbody>\n",
       "    <tr>\n",
       "      <th>4</th>\n",
       "      <td>UNPD98266</td>\n",
       "      <td>peak_110</td>\n",
       "      <td>1.294890</td>\n",
       "    </tr>\n",
       "    <tr>\n",
       "      <th>5</th>\n",
       "      <td>UNPD98266</td>\n",
       "      <td>peak_191</td>\n",
       "      <td>2.076612</td>\n",
       "    </tr>\n",
       "    <tr>\n",
       "      <th>12</th>\n",
       "      <td>UNPD98266</td>\n",
       "      <td>peak_5691</td>\n",
       "      <td>16.325846</td>\n",
       "    </tr>\n",
       "    <tr>\n",
       "      <th>18</th>\n",
       "      <td>UNPD98266</td>\n",
       "      <td>peak_6984</td>\n",
       "      <td>2.461923</td>\n",
       "    </tr>\n",
       "    <tr>\n",
       "      <th>24</th>\n",
       "      <td>UNPD3499</td>\n",
       "      <td>peak_191</td>\n",
       "      <td>3.612248</td>\n",
       "    </tr>\n",
       "  </tbody>\n",
       "</table>\n",
       "</div>"
      ],
      "text/plain": [
       "    comp_name feature_name  intensity\n",
       "4   UNPD98266     peak_110   1.294890\n",
       "5   UNPD98266     peak_191   2.076612\n",
       "12  UNPD98266    peak_5691  16.325846\n",
       "18  UNPD98266    peak_6984   2.461923\n",
       "24   UNPD3499     peak_191   3.612248"
      ]
     },
     "execution_count": 16,
     "metadata": {},
     "output_type": "execute_result"
    }
   ],
   "source": [
    "peak.head()"
   ]
  },
  {
   "cell_type": "code",
   "execution_count": 17,
   "metadata": {},
   "outputs": [
    {
     "data": {
      "text/plain": [
       "(53508, 3)"
      ]
     },
     "execution_count": 17,
     "metadata": {},
     "output_type": "execute_result"
    }
   ],
   "source": [
    "peak_inga = peak[peak['comp_name'].str.match('Inga')]\n",
    "peak_inga.shape"
   ]
  },
  {
   "cell_type": "code",
   "execution_count": 18,
   "metadata": {},
   "outputs": [
    {
     "data": {
      "text/plain": [
       "(1161069, 3)"
      ]
     },
     "execution_count": 18,
     "metadata": {},
     "output_type": "execute_result"
    }
   ],
   "source": [
    "peak_silico = peak[peak['comp_name'].str.match('UNPD')]\n",
    "peak_silico.shape"
   ]
  },
  {
   "cell_type": "markdown",
   "metadata": {},
   "source": [
    "### Loss Data"
   ]
  },
  {
   "cell_type": "code",
   "execution_count": 19,
   "metadata": {},
   "outputs": [
    {
     "data": {
      "text/plain": [
       "(1400847, 3)"
      ]
     },
     "execution_count": 19,
     "metadata": {},
     "output_type": "execute_result"
    }
   ],
   "source": [
    "loss = raw[raw['feature_name'].str.match('loss')]\n",
    "loss.shape"
   ]
  },
  {
   "cell_type": "code",
   "execution_count": 20,
   "metadata": {},
   "outputs": [
    {
     "data": {
      "text/html": [
       "<div>\n",
       "<style>\n",
       "    .dataframe thead tr:only-child th {\n",
       "        text-align: right;\n",
       "    }\n",
       "\n",
       "    .dataframe thead th {\n",
       "        text-align: left;\n",
       "    }\n",
       "\n",
       "    .dataframe tbody tr th {\n",
       "        vertical-align: top;\n",
       "    }\n",
       "</style>\n",
       "<table border=\"1\" class=\"dataframe\">\n",
       "  <thead>\n",
       "    <tr style=\"text-align: right;\">\n",
       "      <th></th>\n",
       "      <th>comp_name</th>\n",
       "      <th>feature_name</th>\n",
       "      <th>intensity</th>\n",
       "    </tr>\n",
       "  </thead>\n",
       "  <tbody>\n",
       "    <tr>\n",
       "      <th>2</th>\n",
       "      <td>UNPD98266</td>\n",
       "      <td>loss_11529</td>\n",
       "      <td>1.0</td>\n",
       "    </tr>\n",
       "    <tr>\n",
       "      <th>5</th>\n",
       "      <td>UNPD98266</td>\n",
       "      <td>loss_10868</td>\n",
       "      <td>1.0</td>\n",
       "    </tr>\n",
       "    <tr>\n",
       "      <th>6</th>\n",
       "      <td>UNPD98266</td>\n",
       "      <td>loss_2897</td>\n",
       "      <td>1.0</td>\n",
       "    </tr>\n",
       "    <tr>\n",
       "      <th>7</th>\n",
       "      <td>UNPD98266</td>\n",
       "      <td>loss_2864</td>\n",
       "      <td>1.0</td>\n",
       "    </tr>\n",
       "    <tr>\n",
       "      <th>8</th>\n",
       "      <td>UNPD98266</td>\n",
       "      <td>loss_2661</td>\n",
       "      <td>1.0</td>\n",
       "    </tr>\n",
       "  </tbody>\n",
       "</table>\n",
       "</div>"
      ],
      "text/plain": [
       "   comp_name feature_name  intensity\n",
       "2  UNPD98266   loss_11529        1.0\n",
       "5  UNPD98266   loss_10868        1.0\n",
       "6  UNPD98266    loss_2897        1.0\n",
       "7  UNPD98266    loss_2864        1.0\n",
       "8  UNPD98266    loss_2661        1.0"
      ]
     },
     "execution_count": 20,
     "metadata": {},
     "output_type": "execute_result"
    }
   ],
   "source": [
    "loss.head()"
   ]
  },
  {
   "cell_type": "code",
   "execution_count": 21,
   "metadata": {},
   "outputs": [
    {
     "data": {
      "text/plain": [
       "(53508, 3)"
      ]
     },
     "execution_count": 21,
     "metadata": {},
     "output_type": "execute_result"
    }
   ],
   "source": [
    "loss_inga = loss[loss['comp_name'].str.match('Inga')]\n",
    "loss_inga.shape"
   ]
  },
  {
   "cell_type": "code",
   "execution_count": 22,
   "metadata": {},
   "outputs": [
    {
     "data": {
      "text/plain": [
       "(1347339, 3)"
      ]
     },
     "execution_count": 22,
     "metadata": {},
     "output_type": "execute_result"
    }
   ],
   "source": [
    "loss_silico = loss[loss['comp_name'].str.match('UNPD')]\n",
    "loss_silico.shape"
   ]
  },
  {
   "cell_type": "markdown",
   "metadata": {},
   "source": [
    "## Reading Classes Data"
   ]
  },
  {
   "cell_type": "code",
   "execution_count": 23,
   "metadata": {},
   "outputs": [
    {
     "data": {
      "text/html": [
       "<div>\n",
       "<style>\n",
       "    .dataframe thead tr:only-child th {\n",
       "        text-align: right;\n",
       "    }\n",
       "\n",
       "    .dataframe thead th {\n",
       "        text-align: left;\n",
       "    }\n",
       "\n",
       "    .dataframe tbody tr th {\n",
       "        vertical-align: top;\n",
       "    }\n",
       "</style>\n",
       "<table border=\"1\" class=\"dataframe\">\n",
       "  <thead>\n",
       "    <tr style=\"text-align: right;\">\n",
       "      <th></th>\n",
       "      <th>Phenolic</th>\n",
       "      <th>Flavonoid</th>\n",
       "      <th>Flavone</th>\n",
       "      <th>Flavonol</th>\n",
       "      <th>DihydroFlavone</th>\n",
       "      <th>Flavan3ol</th>\n",
       "      <th>Dihydroflavonol</th>\n",
       "      <th>Anthocyanidin</th>\n",
       "      <th>Chalcone</th>\n",
       "      <th>Aurone</th>\n",
       "      <th>...</th>\n",
       "      <th>QuinicAcid</th>\n",
       "      <th>Naringenin</th>\n",
       "      <th>Catechin_OR_Epicatechin</th>\n",
       "      <th>Myricetin</th>\n",
       "      <th>Kaempferol</th>\n",
       "      <th>Afzelechin</th>\n",
       "      <th>Gallocatechin</th>\n",
       "      <th>Quercetin</th>\n",
       "      <th>Apigenin</th>\n",
       "      <th>compound_id</th>\n",
       "    </tr>\n",
       "  </thead>\n",
       "  <tbody>\n",
       "    <tr>\n",
       "      <th>0</th>\n",
       "      <td>0</td>\n",
       "      <td>0</td>\n",
       "      <td>0</td>\n",
       "      <td>0</td>\n",
       "      <td>0</td>\n",
       "      <td>0</td>\n",
       "      <td>0</td>\n",
       "      <td>0</td>\n",
       "      <td>0</td>\n",
       "      <td>0</td>\n",
       "      <td>...</td>\n",
       "      <td>0</td>\n",
       "      <td>0</td>\n",
       "      <td>0</td>\n",
       "      <td>0</td>\n",
       "      <td>0</td>\n",
       "      <td>0</td>\n",
       "      <td>0</td>\n",
       "      <td>0</td>\n",
       "      <td>0</td>\n",
       "      <td>UNPD98266</td>\n",
       "    </tr>\n",
       "    <tr>\n",
       "      <th>1</th>\n",
       "      <td>1</td>\n",
       "      <td>1</td>\n",
       "      <td>0</td>\n",
       "      <td>1</td>\n",
       "      <td>0</td>\n",
       "      <td>0</td>\n",
       "      <td>0</td>\n",
       "      <td>0</td>\n",
       "      <td>0</td>\n",
       "      <td>0</td>\n",
       "      <td>...</td>\n",
       "      <td>0</td>\n",
       "      <td>0</td>\n",
       "      <td>0</td>\n",
       "      <td>0</td>\n",
       "      <td>0</td>\n",
       "      <td>0</td>\n",
       "      <td>0</td>\n",
       "      <td>0</td>\n",
       "      <td>0</td>\n",
       "      <td>UNPD3499</td>\n",
       "    </tr>\n",
       "    <tr>\n",
       "      <th>2</th>\n",
       "      <td>1</td>\n",
       "      <td>0</td>\n",
       "      <td>0</td>\n",
       "      <td>0</td>\n",
       "      <td>0</td>\n",
       "      <td>0</td>\n",
       "      <td>0</td>\n",
       "      <td>0</td>\n",
       "      <td>0</td>\n",
       "      <td>0</td>\n",
       "      <td>...</td>\n",
       "      <td>0</td>\n",
       "      <td>0</td>\n",
       "      <td>0</td>\n",
       "      <td>0</td>\n",
       "      <td>0</td>\n",
       "      <td>0</td>\n",
       "      <td>0</td>\n",
       "      <td>0</td>\n",
       "      <td>0</td>\n",
       "      <td>UNPD3493</td>\n",
       "    </tr>\n",
       "    <tr>\n",
       "      <th>3</th>\n",
       "      <td>1</td>\n",
       "      <td>0</td>\n",
       "      <td>0</td>\n",
       "      <td>0</td>\n",
       "      <td>0</td>\n",
       "      <td>0</td>\n",
       "      <td>0</td>\n",
       "      <td>0</td>\n",
       "      <td>0</td>\n",
       "      <td>0</td>\n",
       "      <td>...</td>\n",
       "      <td>0</td>\n",
       "      <td>0</td>\n",
       "      <td>0</td>\n",
       "      <td>0</td>\n",
       "      <td>0</td>\n",
       "      <td>0</td>\n",
       "      <td>0</td>\n",
       "      <td>0</td>\n",
       "      <td>0</td>\n",
       "      <td>UNPD3492</td>\n",
       "    </tr>\n",
       "    <tr>\n",
       "      <th>4</th>\n",
       "      <td>0</td>\n",
       "      <td>0</td>\n",
       "      <td>0</td>\n",
       "      <td>0</td>\n",
       "      <td>0</td>\n",
       "      <td>0</td>\n",
       "      <td>0</td>\n",
       "      <td>0</td>\n",
       "      <td>0</td>\n",
       "      <td>0</td>\n",
       "      <td>...</td>\n",
       "      <td>0</td>\n",
       "      <td>0</td>\n",
       "      <td>0</td>\n",
       "      <td>0</td>\n",
       "      <td>0</td>\n",
       "      <td>0</td>\n",
       "      <td>0</td>\n",
       "      <td>0</td>\n",
       "      <td>0</td>\n",
       "      <td>UNPD3490</td>\n",
       "    </tr>\n",
       "  </tbody>\n",
       "</table>\n",
       "<p>5 rows × 72 columns</p>\n",
       "</div>"
      ],
      "text/plain": [
       "   Phenolic  Flavonoid  Flavone  Flavonol  DihydroFlavone  Flavan3ol  \\\n",
       "0         0          0        0         0               0          0   \n",
       "1         1          1        0         1               0          0   \n",
       "2         1          0        0         0               0          0   \n",
       "3         1          0        0         0               0          0   \n",
       "4         0          0        0         0               0          0   \n",
       "\n",
       "   Dihydroflavonol  Anthocyanidin  Chalcone  Aurone     ...       QuinicAcid  \\\n",
       "0                0              0         0       0     ...                0   \n",
       "1                0              0         0       0     ...                0   \n",
       "2                0              0         0       0     ...                0   \n",
       "3                0              0         0       0     ...                0   \n",
       "4                0              0         0       0     ...                0   \n",
       "\n",
       "   Naringenin  Catechin_OR_Epicatechin  Myricetin  Kaempferol  Afzelechin  \\\n",
       "0           0                        0          0           0           0   \n",
       "1           0                        0          0           0           0   \n",
       "2           0                        0          0           0           0   \n",
       "3           0                        0          0           0           0   \n",
       "4           0                        0          0           0           0   \n",
       "\n",
       "   Gallocatechin  Quercetin  Apigenin  compound_id  \n",
       "0              0          0         0    UNPD98266  \n",
       "1              0          0         0     UNPD3499  \n",
       "2              0          0         0     UNPD3493  \n",
       "3              0          0         0     UNPD3492  \n",
       "4              0          0         0     UNPD3490  \n",
       "\n",
       "[5 rows x 72 columns]"
      ]
     },
     "execution_count": 23,
     "metadata": {},
     "output_type": "execute_result"
    }
   ],
   "source": [
    "classes = pd.read_pickle('compound_names_with_classes.pkl')\n",
    "classes.head()"
   ]
  },
  {
   "cell_type": "code",
   "execution_count": 24,
   "metadata": {},
   "outputs": [
    {
     "data": {
      "text/html": [
       "<div>\n",
       "<style>\n",
       "    .dataframe thead tr:only-child th {\n",
       "        text-align: right;\n",
       "    }\n",
       "\n",
       "    .dataframe thead th {\n",
       "        text-align: left;\n",
       "    }\n",
       "\n",
       "    .dataframe tbody tr th {\n",
       "        vertical-align: top;\n",
       "    }\n",
       "</style>\n",
       "<table border=\"1\" class=\"dataframe\">\n",
       "  <thead>\n",
       "    <tr style=\"text-align: right;\">\n",
       "      <th></th>\n",
       "      <th>Phenolic</th>\n",
       "      <th>Flavonoid</th>\n",
       "      <th>Flavone</th>\n",
       "      <th>Flavonol</th>\n",
       "      <th>DihydroFlavone</th>\n",
       "      <th>Flavan3ol</th>\n",
       "      <th>Dihydroflavonol</th>\n",
       "      <th>Anthocyanidin</th>\n",
       "      <th>Chalcone</th>\n",
       "      <th>Aurone</th>\n",
       "      <th>...</th>\n",
       "      <th>QuinicAcid</th>\n",
       "      <th>Naringenin</th>\n",
       "      <th>Catechin_OR_Epicatechin</th>\n",
       "      <th>Myricetin</th>\n",
       "      <th>Kaempferol</th>\n",
       "      <th>Afzelechin</th>\n",
       "      <th>Gallocatechin</th>\n",
       "      <th>Quercetin</th>\n",
       "      <th>Apigenin</th>\n",
       "      <th>comp_name</th>\n",
       "    </tr>\n",
       "  </thead>\n",
       "  <tbody>\n",
       "    <tr>\n",
       "      <th>0</th>\n",
       "      <td>0</td>\n",
       "      <td>0</td>\n",
       "      <td>0</td>\n",
       "      <td>0</td>\n",
       "      <td>0</td>\n",
       "      <td>0</td>\n",
       "      <td>0</td>\n",
       "      <td>0</td>\n",
       "      <td>0</td>\n",
       "      <td>0</td>\n",
       "      <td>...</td>\n",
       "      <td>0</td>\n",
       "      <td>0</td>\n",
       "      <td>0</td>\n",
       "      <td>0</td>\n",
       "      <td>0</td>\n",
       "      <td>0</td>\n",
       "      <td>0</td>\n",
       "      <td>0</td>\n",
       "      <td>0</td>\n",
       "      <td>UNPD98266</td>\n",
       "    </tr>\n",
       "    <tr>\n",
       "      <th>1</th>\n",
       "      <td>1</td>\n",
       "      <td>1</td>\n",
       "      <td>0</td>\n",
       "      <td>1</td>\n",
       "      <td>0</td>\n",
       "      <td>0</td>\n",
       "      <td>0</td>\n",
       "      <td>0</td>\n",
       "      <td>0</td>\n",
       "      <td>0</td>\n",
       "      <td>...</td>\n",
       "      <td>0</td>\n",
       "      <td>0</td>\n",
       "      <td>0</td>\n",
       "      <td>0</td>\n",
       "      <td>0</td>\n",
       "      <td>0</td>\n",
       "      <td>0</td>\n",
       "      <td>0</td>\n",
       "      <td>0</td>\n",
       "      <td>UNPD3499</td>\n",
       "    </tr>\n",
       "    <tr>\n",
       "      <th>2</th>\n",
       "      <td>1</td>\n",
       "      <td>0</td>\n",
       "      <td>0</td>\n",
       "      <td>0</td>\n",
       "      <td>0</td>\n",
       "      <td>0</td>\n",
       "      <td>0</td>\n",
       "      <td>0</td>\n",
       "      <td>0</td>\n",
       "      <td>0</td>\n",
       "      <td>...</td>\n",
       "      <td>0</td>\n",
       "      <td>0</td>\n",
       "      <td>0</td>\n",
       "      <td>0</td>\n",
       "      <td>0</td>\n",
       "      <td>0</td>\n",
       "      <td>0</td>\n",
       "      <td>0</td>\n",
       "      <td>0</td>\n",
       "      <td>UNPD3493</td>\n",
       "    </tr>\n",
       "    <tr>\n",
       "      <th>3</th>\n",
       "      <td>1</td>\n",
       "      <td>0</td>\n",
       "      <td>0</td>\n",
       "      <td>0</td>\n",
       "      <td>0</td>\n",
       "      <td>0</td>\n",
       "      <td>0</td>\n",
       "      <td>0</td>\n",
       "      <td>0</td>\n",
       "      <td>0</td>\n",
       "      <td>...</td>\n",
       "      <td>0</td>\n",
       "      <td>0</td>\n",
       "      <td>0</td>\n",
       "      <td>0</td>\n",
       "      <td>0</td>\n",
       "      <td>0</td>\n",
       "      <td>0</td>\n",
       "      <td>0</td>\n",
       "      <td>0</td>\n",
       "      <td>UNPD3492</td>\n",
       "    </tr>\n",
       "    <tr>\n",
       "      <th>4</th>\n",
       "      <td>0</td>\n",
       "      <td>0</td>\n",
       "      <td>0</td>\n",
       "      <td>0</td>\n",
       "      <td>0</td>\n",
       "      <td>0</td>\n",
       "      <td>0</td>\n",
       "      <td>0</td>\n",
       "      <td>0</td>\n",
       "      <td>0</td>\n",
       "      <td>...</td>\n",
       "      <td>0</td>\n",
       "      <td>0</td>\n",
       "      <td>0</td>\n",
       "      <td>0</td>\n",
       "      <td>0</td>\n",
       "      <td>0</td>\n",
       "      <td>0</td>\n",
       "      <td>0</td>\n",
       "      <td>0</td>\n",
       "      <td>UNPD3490</td>\n",
       "    </tr>\n",
       "  </tbody>\n",
       "</table>\n",
       "<p>5 rows × 72 columns</p>\n",
       "</div>"
      ],
      "text/plain": [
       "   Phenolic  Flavonoid  Flavone  Flavonol  DihydroFlavone  Flavan3ol  \\\n",
       "0         0          0        0         0               0          0   \n",
       "1         1          1        0         1               0          0   \n",
       "2         1          0        0         0               0          0   \n",
       "3         1          0        0         0               0          0   \n",
       "4         0          0        0         0               0          0   \n",
       "\n",
       "   Dihydroflavonol  Anthocyanidin  Chalcone  Aurone    ...      QuinicAcid  \\\n",
       "0                0              0         0       0    ...               0   \n",
       "1                0              0         0       0    ...               0   \n",
       "2                0              0         0       0    ...               0   \n",
       "3                0              0         0       0    ...               0   \n",
       "4                0              0         0       0    ...               0   \n",
       "\n",
       "   Naringenin  Catechin_OR_Epicatechin  Myricetin  Kaempferol  Afzelechin  \\\n",
       "0           0                        0          0           0           0   \n",
       "1           0                        0          0           0           0   \n",
       "2           0                        0          0           0           0   \n",
       "3           0                        0          0           0           0   \n",
       "4           0                        0          0           0           0   \n",
       "\n",
       "   Gallocatechin  Quercetin  Apigenin  comp_name  \n",
       "0              0          0         0  UNPD98266  \n",
       "1              0          0         0   UNPD3499  \n",
       "2              0          0         0   UNPD3493  \n",
       "3              0          0         0   UNPD3492  \n",
       "4              0          0         0   UNPD3490  \n",
       "\n",
       "[5 rows x 72 columns]"
      ]
     },
     "execution_count": 24,
     "metadata": {},
     "output_type": "execute_result"
    }
   ],
   "source": [
    "classes = classes.rename(columns={'compound_id': 'comp_name'})\n",
    "classes.head()"
   ]
  },
  {
   "cell_type": "code",
   "execution_count": 25,
   "metadata": {
    "scrolled": true
   },
   "outputs": [
    {
     "data": {
      "text/plain": [
       "(76903, 72)"
      ]
     },
     "execution_count": 25,
     "metadata": {},
     "output_type": "execute_result"
    }
   ],
   "source": [
    "classes.shape"
   ]
  },
  {
   "cell_type": "code",
   "execution_count": 26,
   "metadata": {
    "scrolled": true
   },
   "outputs": [
    {
     "data": {
      "text/plain": [
       "(76061, 72)"
      ]
     },
     "execution_count": 26,
     "metadata": {},
     "output_type": "execute_result"
    }
   ],
   "source": [
    "classes_silico = classes[classes['comp_name'].str.match('UNPD')]\n",
    "classes_silico.shape"
   ]
  },
  {
   "cell_type": "code",
   "execution_count": 27,
   "metadata": {
    "scrolled": true
   },
   "outputs": [
    {
     "data": {
      "text/plain": [
       "(842, 72)"
      ]
     },
     "execution_count": 27,
     "metadata": {},
     "output_type": "execute_result"
    }
   ],
   "source": [
    "classes_inga = classes[classes['comp_name'].str.match('Inga_compound')]\n",
    "classes_inga.shape"
   ]
  },
  {
   "cell_type": "markdown",
   "metadata": {},
   "source": [
    "## Data Processing"
   ]
  },
  {
   "cell_type": "markdown",
   "metadata": {},
   "source": [
    "### Generating dictionaries"
   ]
  },
  {
   "cell_type": "markdown",
   "metadata": {},
   "source": [
    "#### peak feature_name dictionary"
   ]
  },
  {
   "cell_type": "code",
   "execution_count": 48,
   "metadata": {},
   "outputs": [
    {
     "data": {
      "text/plain": [
       "array(['peak_110', 'peak_191', 'peak_5691', ..., 'peak_33790',\n",
       "       'peak_35474', 'peak_3893'], dtype=object)"
      ]
     },
     "execution_count": 48,
     "metadata": {},
     "output_type": "execute_result"
    }
   ],
   "source": [
    "pnames = peak['feature_name'].unique()\n",
    "pnames"
   ]
  },
  {
   "cell_type": "code",
   "execution_count": 49,
   "metadata": {},
   "outputs": [
    {
     "data": {
      "text/plain": [
       "array([  110,   191,  5691, ..., 33790, 35474,  3893])"
      ]
     },
     "execution_count": 49,
     "metadata": {},
     "output_type": "execute_result"
    }
   ],
   "source": [
    "pnumbers = np.array([int(str(x)[5:]) for x in pnames])\n",
    "pnumbers"
   ]
  },
  {
   "cell_type": "code",
   "execution_count": 50,
   "metadata": {},
   "outputs": [
    {
     "data": {
      "text/plain": [
       "array([    2,     3,     4, ..., 37325, 37329, 37331])"
      ]
     },
     "execution_count": 50,
     "metadata": {},
     "output_type": "execute_result"
    }
   ],
   "source": [
    "pnumbers_sorted = np.sort(pnumbers)\n",
    "pnumbers_sorted"
   ]
  },
  {
   "cell_type": "code",
   "execution_count": 51,
   "metadata": {},
   "outputs": [
    {
     "data": {
      "text/plain": [
       "array(['peak_2', 'peak_3', 'peak_4', ..., 'peak_37325', 'peak_37329',\n",
       "       'peak_37331'],\n",
       "      dtype='<U10')"
      ]
     },
     "execution_count": 51,
     "metadata": {},
     "output_type": "execute_result"
    }
   ],
   "source": [
    "pnames_sorted = np.array(['peak_'+str(x) for x in pnumbers_sorted])\n",
    "pnames_sorted"
   ]
  },
  {
   "cell_type": "code",
   "execution_count": 52,
   "metadata": {},
   "outputs": [
    {
     "data": {
      "text/plain": [
       "peak_2    0\n",
       "peak_3    1\n",
       "peak_4    2\n",
       "peak_7    3\n",
       "peak_8    4\n",
       "Name: feature_id, dtype: int64"
      ]
     },
     "execution_count": 52,
     "metadata": {},
     "output_type": "execute_result"
    }
   ],
   "source": [
    "pdict = pd.Series(data=np.arange(len(pnames)), index=pnames_sorted, name='feature_id')\n",
    "pdict.head()"
   ]
  },
  {
   "cell_type": "markdown",
   "metadata": {},
   "source": [
    "#### loss feature_name dictionary"
   ]
  },
  {
   "cell_type": "code",
   "execution_count": 53,
   "metadata": {},
   "outputs": [
    {
     "data": {
      "text/plain": [
       "array(['loss_11529', 'loss_10868', 'loss_2897', ..., 'loss_507',\n",
       "       'loss_5114', 'loss_935'], dtype=object)"
      ]
     },
     "execution_count": 53,
     "metadata": {},
     "output_type": "execute_result"
    }
   ],
   "source": [
    "lnames = loss['feature_name'].unique()\n",
    "lnames"
   ]
  },
  {
   "cell_type": "code",
   "execution_count": 54,
   "metadata": {},
   "outputs": [
    {
     "data": {
      "text/plain": [
       "array([11529, 10868,  2897, ...,   507,  5114,   935])"
      ]
     },
     "execution_count": 54,
     "metadata": {},
     "output_type": "execute_result"
    }
   ],
   "source": [
    "lnumbers = np.array([int(str(x)[5:]) for x in lnames])\n",
    "lnumbers"
   ]
  },
  {
   "cell_type": "code",
   "execution_count": 55,
   "metadata": {},
   "outputs": [
    {
     "data": {
      "text/plain": [
       "array([    0,     1,     2, ..., 43795, 43806, 43821])"
      ]
     },
     "execution_count": 55,
     "metadata": {},
     "output_type": "execute_result"
    }
   ],
   "source": [
    "lnumbers_sorted = np.sort(lnumbers)\n",
    "lnumbers_sorted"
   ]
  },
  {
   "cell_type": "code",
   "execution_count": 57,
   "metadata": {},
   "outputs": [
    {
     "data": {
      "text/plain": [
       "array(['loss_0', 'loss_1', 'loss_2', ..., 'loss_43795', 'loss_43806',\n",
       "       'loss_43821'],\n",
       "      dtype='<U10')"
      ]
     },
     "execution_count": 57,
     "metadata": {},
     "output_type": "execute_result"
    }
   ],
   "source": [
    "lnames_sorted = np.array(['loss_'+str(x) for x in lnumbers_sorted])\n",
    "lnames_sorted"
   ]
  },
  {
   "cell_type": "code",
   "execution_count": 60,
   "metadata": {},
   "outputs": [
    {
     "data": {
      "text/plain": [
       "loss_0    0\n",
       "loss_1    1\n",
       "loss_2    2\n",
       "loss_3    3\n",
       "loss_4    4\n",
       "Name: feature_id, dtype: int64"
      ]
     },
     "execution_count": 60,
     "metadata": {},
     "output_type": "execute_result"
    }
   ],
   "source": [
    "ldict = pd.Series(data=np.arange(len(lnames)), index=lnames_sorted, name='feature_id')\n",
    "ldict.head()"
   ]
  },
  {
   "cell_type": "markdown",
   "metadata": {},
   "source": [
    "#### comp_name dictionary: inga"
   ]
  },
  {
   "cell_type": "code",
   "execution_count": 34,
   "metadata": {},
   "outputs": [
    {
     "data": {
      "text/plain": [
       "3291"
      ]
     },
     "execution_count": 34,
     "metadata": {},
     "output_type": "execute_result"
    }
   ],
   "source": [
    "cnames_inga1 = set(peak_inga['comp_name'].unique())\n",
    "len(cnames_inga1)"
   ]
  },
  {
   "cell_type": "code",
   "execution_count": 62,
   "metadata": {},
   "outputs": [
    {
     "data": {
      "text/plain": [
       "3291"
      ]
     },
     "execution_count": 62,
     "metadata": {},
     "output_type": "execute_result"
    }
   ],
   "source": [
    "cnames_inga2 = set(loss_inga['comp_name'].unique())\n",
    "len(cnames_inga2)"
   ]
  },
  {
   "cell_type": "code",
   "execution_count": 63,
   "metadata": {},
   "outputs": [
    {
     "data": {
      "text/plain": [
       "842"
      ]
     },
     "execution_count": 63,
     "metadata": {},
     "output_type": "execute_result"
    }
   ],
   "source": [
    "cnames_inga3 = set(classes_inga['comp_name'].unique())\n",
    "len(cnames_inga3)"
   ]
  },
  {
   "cell_type": "code",
   "execution_count": 64,
   "metadata": {},
   "outputs": [
    {
     "data": {
      "text/plain": [
       "842"
      ]
     },
     "execution_count": 64,
     "metadata": {},
     "output_type": "execute_result"
    }
   ],
   "source": [
    "cnames_inga = cnames_inga1.intersection(cnames_inga2).intersection(cnames_inga3)\n",
    "len(cnames_inga)"
   ]
  },
  {
   "cell_type": "code",
   "execution_count": 65,
   "metadata": {
    "scrolled": true
   },
   "outputs": [
    {
     "data": {
      "text/plain": [
       "array([3220, 4267, 1317,   42, 1570, 2513, 1059,  138, 4650, 1544, 2307,\n",
       "       3033,  922, 4104, 2140, 1949,  344, 1293, 3454,   67, 3826, 2064,\n",
       "       4511,  730,  396, 4204, 4147, 3731,  292, 2746, 1736, 4061, 4487,\n",
       "       3430, 4710,  749, 2815, 3456, 2869,  587,  491, 1139,  979, 1185,\n",
       "       1522, 3636, 2909,  957,  388, 2762,  856, 2675, 4717,  934, 2068,\n",
       "       4208, 1514, 3832, 4309,   60, 4065, 3202, 1306, 1706, 1768, 4570,\n",
       "       1573,  691, 2698, 1058, 2493, 4501, 2959, 4691, 2579, 4661,  778,\n",
       "       2871, 2945, 4110, 4669, 2768,  188, 4562, 2213,  867, 2123,  826,\n",
       "       2466, 2066,  167, 3664, 4704, 3210, 4213, 1173, 2599, 1649, 2074,\n",
       "        581, 3072,  230,  658, 3827, 1517,  502,   47, 1448,  229, 1370,\n",
       "       4150,  608,  823, 2166, 2290, 4192, 2777,  585,  653, 3734,  218,\n",
       "       4599, 1330, 4127,  966, 1110, 1886, 4225, 2371, 2454, 1124, 4227,\n",
       "        795, 3534,   41,  449,  364, 1220, 2329, 3311, 4246, 3414, 3279,\n",
       "       1882, 2137,  946, 2712, 2342, 2036,  109, 2224, 1118, 3544, 1294,\n",
       "       3647,  913, 1433, 2630,  346,  739, 2611, 1692, 2324, 2295,  950,\n",
       "       1831, 2716, 3469,  500, 2258, 1000, 1270,  747, 3241, 2605, 2487,\n",
       "       4122, 3327, 2086, 1848, 2481, 1133, 1975, 1859, 2204, 2533, 1355,\n",
       "        941, 3171,  863, 1493, 4060,  779, 2754,  262, 1864, 2153,  125,\n",
       "       3499,  334, 1694, 1012, 2271, 4442,  115, 1976, 1749, 1829,  419,\n",
       "       1757, 3851, 1860, 2050, 3140, 4613,  697,  121, 3568, 4519, 1142,\n",
       "       1227,   57, 3974, 2512,  468,  995,  377, 3374, 2404,  905, 1928,\n",
       "       4283,  118,  615, 2598, 2876, 1074, 1308, 3090, 1475,  475, 1863,\n",
       "       3334,  227, 1091, 4000, 1390, 4397, 2480, 1808, 4079, 1835,  256,\n",
       "       1048, 4362, 3532, 4628,  308,  193,  114, 2637, 3517, 1926, 3775,\n",
       "       2863, 1428, 2993, 1847, 3131, 3778, 2162,  493, 3351, 1520, 1192,\n",
       "       3888, 1128, 2548, 1750, 2095, 2829,  436, 4126, 4427, 2602,  604,\n",
       "       2736, 4241, 1497, 2593, 3504,  959, 1137, 4070,  368,  244, 1865,\n",
       "       4452, 3217, 1488, 2695, 3170, 3447, 3061, 4539, 3786, 2995,  150,\n",
       "       2635, 4483,  267, 1700,  735, 3277, 1769, 3437, 3796,   70,   15,\n",
       "        908, 3419, 2683, 2011, 4631,  841, 3139, 3150,  395, 2450,  974,\n",
       "       2484, 2094,  639, 3977,  602, 1247, 2632,  480, 1230,   32, 2616,\n",
       "       1376, 1753, 3764,  450,   72, 1806, 3857, 1695, 3641, 2067,  570,\n",
       "       1767, 3342, 2976,  840, 1773,  406, 3335, 2391, 1452, 2135, 3620,\n",
       "       1100,  443,   50, 2062, 3416,  129, 1396, 2442, 2478,  956, 2681,\n",
       "       2361, 2682,  643, 3267, 4456,  597, 1422, 3081,  296,  329, 1898,\n",
       "        141, 1617, 3830,  994,  119, 1032, 2641, 3879,  662, 4080, 1350,\n",
       "       2031, 3526, 2486, 4412, 3212,  794, 4156, 3918, 3485,  255, 1315,\n",
       "       2033, 1172, 1180,  465, 2338,   24, 1068,  869, 2412, 1744,   79,\n",
       "        400, 3672,  555, 3912, 4260,  648, 1231, 1283, 2960, 2143, 4672,\n",
       "       1381, 1655, 4081, 4166, 1075,   93, 2572,   55,  769, 3197, 2003,\n",
       "       4102, 2293, 2328,  196,   18, 2161, 2203, 2725, 3896,  231, 2878,\n",
       "        647,   25,  352,  699, 2511, 3167,  221,   26, 2190, 2474, 2151,\n",
       "         35, 2608, 1107, 3332, 3595,  921, 2385,  351,   87, 3979, 2252,\n",
       "       3560, 1167, 3149, 1811,  175, 1465,  280, 2018, 4297,  147, 1140,\n",
       "       1101,  568, 1406, 2322, 2165, 2594, 3893,  947, 1807,  740, 3705,\n",
       "       3597, 2913, 4212,   56, 4131, 2670,  474, 2604,  505, 1152, 2992,\n",
       "       4583, 2244, 1006, 2277, 3160,  617,  715, 1071, 2820, 2677,  376,\n",
       "        916, 3850, 1099,  539,  783, 4480, 3412, 2267,  837, 3990, 2060,\n",
       "       2424,  302,  181, 2911, 1041,  640, 4168,  418, 4142, 3714, 1421,\n",
       "       4518,   27, 4041,  131, 1567, 3505, 2418, 2319,  345, 3590, 3542,\n",
       "       1034, 4175, 1279,  391, 2935, 1587, 2281,  873,  636, 3849, 2773,\n",
       "       1766, 1441, 2192, 1856,  132, 3450,  251, 2844, 2972, 1319,  575,\n",
       "       2813, 1594, 2951, 3844,  832, 4688, 1550, 2240, 1166, 1372,  408,\n",
       "       3443, 3570, 1521, 3321, 2782, 3944, 3104,  550, 2984, 1243, 2504,\n",
       "       2318,  233,  343, 4242, 4129, 4489, 4709, 4252, 2087, 3943, 1177,\n",
       "       2540,  379, 1836, 2735,  180,  409, 2178, 2652, 3939,   76, 1446,\n",
       "       2072, 2694, 1426, 3747, 2874, 3095, 3301, 3927, 2058, 2921, 1801,\n",
       "       4627,  718,  721,  689, 4197,  654,  713, 3550, 2756,   53, 3562,\n",
       "        413, 2231,   71, 2852, 2202,  531,  214, 1209, 3341, 2952, 1942,\n",
       "        641,  284, 2042, 1879, 1004, 4277, 2803,  433,  457,  952, 3596,\n",
       "        127, 3822, 1639, 3901,  427, 3702, 2700, 3386, 2748, 1300, 3669,\n",
       "        540, 4419, 1466, 2505, 4063,  524, 1235, 4476, 4228, 1914,  159,\n",
       "       3537, 2218,  174, 1633, 4638,   29, 1106, 1130,   44, 1473, 2172,\n",
       "       3991,  511,  390,  339, 1086, 1304,  223, 3121,  638,  671, 3719,\n",
       "       4032, 3290, 3877, 2646, 3207, 2792,  494, 3177, 3987, 2092, 1476,\n",
       "        885,   96, 3258, 2638,  385,  820, 2781, 2205,  663,  168, 2542,\n",
       "        866, 4367, 2724, 3924, 3079,  817, 3312, 3668, 2557, 3572, 2168,\n",
       "       4293, 1342,  943, 3099, 2979, 1890,  674,  293, 3185, 3818, 1458,\n",
       "       1405,   90, 3029, 2801,  189, 1679, 2619, 3269, 3246,  162, 1351,\n",
       "       2093,  736,  972,  155, 3931, 1656,  421, 2289, 1066,  753, 4162,\n",
       "       4541,   20,  600, 2853, 2688, 2245, 4271,  356, 4410, 2800, 3461,\n",
       "       2195, 2476,  563, 1063, 2388, 1745,  989,   63,   92,  120, 3366,\n",
       "       2955,  172,  176,  714,  365, 4247, 3003, 2083, 2101, 3958, 1562,\n",
       "       2711, 2855,  394, 3448,   88, 1296, 3293,  888,  998, 3868,  620,\n",
       "        130,  246, 1539, 4109,  310, 4016, 1971, 2786, 2320, 3606, 2278,\n",
       "       3656, 4474,  791, 1666, 4018,  142, 2910, 3946, 4314, 3554,  960,\n",
       "       3295,  687,  748, 2892, 2840,   89])"
      ]
     },
     "execution_count": 65,
     "metadata": {},
     "output_type": "execute_result"
    }
   ],
   "source": [
    "cnumbers_inga = np.array([int(str(x)[14:]) for x in cnames_inga])\n",
    "cnumbers_inga"
   ]
  },
  {
   "cell_type": "code",
   "execution_count": 66,
   "metadata": {
    "scrolled": true
   },
   "outputs": [
    {
     "data": {
      "text/plain": [
       "array([  15,   18,   20,   24,   25,   26,   27,   29,   32,   35,   41,\n",
       "         42,   44,   47,   50,   53,   55,   56,   57,   60,   63,   67,\n",
       "         70,   71,   72,   76,   79,   87,   88,   89,   90,   92,   93,\n",
       "         96,  109,  114,  115,  118,  119,  120,  121,  125,  127,  129,\n",
       "        130,  131,  132,  138,  141,  142,  147,  150,  155,  159,  162,\n",
       "        167,  168,  172,  174,  175,  176,  180,  181,  188,  189,  193,\n",
       "        196,  214,  218,  221,  223,  227,  229,  230,  231,  233,  244,\n",
       "        246,  251,  255,  256,  262,  267,  280,  284,  292,  293,  296,\n",
       "        302,  308,  310,  329,  334,  339,  343,  344,  345,  346,  351,\n",
       "        352,  356,  364,  365,  368,  376,  377,  379,  385,  388,  390,\n",
       "        391,  394,  395,  396,  400,  406,  408,  409,  413,  418,  419,\n",
       "        421,  427,  433,  436,  443,  449,  450,  457,  465,  468,  474,\n",
       "        475,  480,  491,  493,  494,  500,  502,  505,  511,  524,  531,\n",
       "        539,  540,  550,  555,  563,  568,  570,  575,  581,  585,  587,\n",
       "        597,  600,  602,  604,  608,  615,  617,  620,  636,  638,  639,\n",
       "        640,  641,  643,  647,  648,  653,  654,  658,  662,  663,  671,\n",
       "        674,  687,  689,  691,  697,  699,  713,  714,  715,  718,  721,\n",
       "        730,  735,  736,  739,  740,  747,  748,  749,  753,  769,  778,\n",
       "        779,  783,  791,  794,  795,  817,  820,  823,  826,  832,  837,\n",
       "        840,  841,  856,  863,  866,  867,  869,  873,  885,  888,  905,\n",
       "        908,  913,  916,  921,  922,  934,  941,  943,  946,  947,  950,\n",
       "        952,  956,  957,  959,  960,  966,  972,  974,  979,  989,  994,\n",
       "        995,  998, 1000, 1004, 1006, 1012, 1032, 1034, 1041, 1048, 1058,\n",
       "       1059, 1063, 1066, 1068, 1071, 1074, 1075, 1086, 1091, 1099, 1100,\n",
       "       1101, 1106, 1107, 1110, 1118, 1124, 1128, 1130, 1133, 1137, 1139,\n",
       "       1140, 1142, 1152, 1166, 1167, 1172, 1173, 1177, 1180, 1185, 1192,\n",
       "       1209, 1220, 1227, 1230, 1231, 1235, 1243, 1247, 1270, 1279, 1283,\n",
       "       1293, 1294, 1296, 1300, 1304, 1306, 1308, 1315, 1317, 1319, 1330,\n",
       "       1342, 1350, 1351, 1355, 1370, 1372, 1376, 1381, 1390, 1396, 1405,\n",
       "       1406, 1421, 1422, 1426, 1428, 1433, 1441, 1446, 1448, 1452, 1458,\n",
       "       1465, 1466, 1473, 1475, 1476, 1488, 1493, 1497, 1514, 1517, 1520,\n",
       "       1521, 1522, 1539, 1544, 1550, 1562, 1567, 1570, 1573, 1587, 1594,\n",
       "       1617, 1633, 1639, 1649, 1655, 1656, 1666, 1679, 1692, 1694, 1695,\n",
       "       1700, 1706, 1736, 1744, 1745, 1749, 1750, 1753, 1757, 1766, 1767,\n",
       "       1768, 1769, 1773, 1801, 1806, 1807, 1808, 1811, 1829, 1831, 1835,\n",
       "       1836, 1847, 1848, 1856, 1859, 1860, 1863, 1864, 1865, 1879, 1882,\n",
       "       1886, 1890, 1898, 1914, 1926, 1928, 1942, 1949, 1971, 1975, 1976,\n",
       "       2003, 2011, 2018, 2031, 2033, 2036, 2042, 2050, 2058, 2060, 2062,\n",
       "       2064, 2066, 2067, 2068, 2072, 2074, 2083, 2086, 2087, 2092, 2093,\n",
       "       2094, 2095, 2101, 2123, 2135, 2137, 2140, 2143, 2151, 2153, 2161,\n",
       "       2162, 2165, 2166, 2168, 2172, 2178, 2190, 2192, 2195, 2202, 2203,\n",
       "       2204, 2205, 2213, 2218, 2224, 2231, 2240, 2244, 2245, 2252, 2258,\n",
       "       2267, 2271, 2277, 2278, 2281, 2289, 2290, 2293, 2295, 2307, 2318,\n",
       "       2319, 2320, 2322, 2324, 2328, 2329, 2338, 2342, 2361, 2371, 2385,\n",
       "       2388, 2391, 2404, 2412, 2418, 2424, 2442, 2450, 2454, 2466, 2474,\n",
       "       2476, 2478, 2480, 2481, 2484, 2486, 2487, 2493, 2504, 2505, 2511,\n",
       "       2512, 2513, 2533, 2540, 2542, 2548, 2557, 2572, 2579, 2593, 2594,\n",
       "       2598, 2599, 2602, 2604, 2605, 2608, 2611, 2616, 2619, 2630, 2632,\n",
       "       2635, 2637, 2638, 2641, 2646, 2652, 2670, 2675, 2677, 2681, 2682,\n",
       "       2683, 2688, 2694, 2695, 2698, 2700, 2711, 2712, 2716, 2724, 2725,\n",
       "       2735, 2736, 2746, 2748, 2754, 2756, 2762, 2768, 2773, 2777, 2781,\n",
       "       2782, 2786, 2792, 2800, 2801, 2803, 2813, 2815, 2820, 2829, 2840,\n",
       "       2844, 2852, 2853, 2855, 2863, 2869, 2871, 2874, 2876, 2878, 2892,\n",
       "       2909, 2910, 2911, 2913, 2921, 2935, 2945, 2951, 2952, 2955, 2959,\n",
       "       2960, 2972, 2976, 2979, 2984, 2992, 2993, 2995, 3003, 3029, 3033,\n",
       "       3061, 3072, 3079, 3081, 3090, 3095, 3099, 3104, 3121, 3131, 3139,\n",
       "       3140, 3149, 3150, 3160, 3167, 3170, 3171, 3177, 3185, 3197, 3202,\n",
       "       3207, 3210, 3212, 3217, 3220, 3241, 3246, 3258, 3267, 3269, 3277,\n",
       "       3279, 3290, 3293, 3295, 3301, 3311, 3312, 3321, 3327, 3332, 3334,\n",
       "       3335, 3341, 3342, 3351, 3366, 3374, 3386, 3412, 3414, 3416, 3419,\n",
       "       3430, 3437, 3443, 3447, 3448, 3450, 3454, 3456, 3461, 3469, 3485,\n",
       "       3499, 3504, 3505, 3517, 3526, 3532, 3534, 3537, 3542, 3544, 3550,\n",
       "       3554, 3560, 3562, 3568, 3570, 3572, 3590, 3595, 3596, 3597, 3606,\n",
       "       3620, 3636, 3641, 3647, 3656, 3664, 3668, 3669, 3672, 3702, 3705,\n",
       "       3714, 3719, 3731, 3734, 3747, 3764, 3775, 3778, 3786, 3796, 3818,\n",
       "       3822, 3826, 3827, 3830, 3832, 3844, 3849, 3850, 3851, 3857, 3868,\n",
       "       3877, 3879, 3888, 3893, 3896, 3901, 3912, 3918, 3924, 3927, 3931,\n",
       "       3939, 3943, 3944, 3946, 3958, 3974, 3977, 3979, 3987, 3990, 3991,\n",
       "       4000, 4016, 4018, 4032, 4041, 4060, 4061, 4063, 4065, 4070, 4079,\n",
       "       4080, 4081, 4102, 4104, 4109, 4110, 4122, 4126, 4127, 4129, 4131,\n",
       "       4142, 4147, 4150, 4156, 4162, 4166, 4168, 4175, 4192, 4197, 4204,\n",
       "       4208, 4212, 4213, 4225, 4227, 4228, 4241, 4242, 4246, 4247, 4252,\n",
       "       4260, 4267, 4271, 4277, 4283, 4293, 4297, 4309, 4314, 4362, 4367,\n",
       "       4397, 4410, 4412, 4419, 4427, 4442, 4452, 4456, 4474, 4476, 4480,\n",
       "       4483, 4487, 4489, 4501, 4511, 4518, 4519, 4539, 4541, 4562, 4570,\n",
       "       4583, 4599, 4613, 4627, 4628, 4631, 4638, 4650, 4661, 4669, 4672,\n",
       "       4688, 4691, 4704, 4709, 4710, 4717])"
      ]
     },
     "execution_count": 66,
     "metadata": {},
     "output_type": "execute_result"
    }
   ],
   "source": [
    "cnumbers_inga_sorted = np.sort(cnumbers_inga)\n",
    "cnumbers_inga_sorted"
   ]
  },
  {
   "cell_type": "code",
   "execution_count": 67,
   "metadata": {
    "scrolled": true
   },
   "outputs": [
    {
     "data": {
      "text/plain": [
       "array(['Inga_compound_15', 'Inga_compound_18', 'Inga_compound_20',\n",
       "       'Inga_compound_24', 'Inga_compound_25', 'Inga_compound_26',\n",
       "       'Inga_compound_27', 'Inga_compound_29', 'Inga_compound_32',\n",
       "       'Inga_compound_35', 'Inga_compound_41', 'Inga_compound_42',\n",
       "       'Inga_compound_44', 'Inga_compound_47', 'Inga_compound_50',\n",
       "       'Inga_compound_53', 'Inga_compound_55', 'Inga_compound_56',\n",
       "       'Inga_compound_57', 'Inga_compound_60', 'Inga_compound_63',\n",
       "       'Inga_compound_67', 'Inga_compound_70', 'Inga_compound_71',\n",
       "       'Inga_compound_72', 'Inga_compound_76', 'Inga_compound_79',\n",
       "       'Inga_compound_87', 'Inga_compound_88', 'Inga_compound_89',\n",
       "       'Inga_compound_90', 'Inga_compound_92', 'Inga_compound_93',\n",
       "       'Inga_compound_96', 'Inga_compound_109', 'Inga_compound_114',\n",
       "       'Inga_compound_115', 'Inga_compound_118', 'Inga_compound_119',\n",
       "       'Inga_compound_120', 'Inga_compound_121', 'Inga_compound_125',\n",
       "       'Inga_compound_127', 'Inga_compound_129', 'Inga_compound_130',\n",
       "       'Inga_compound_131', 'Inga_compound_132', 'Inga_compound_138',\n",
       "       'Inga_compound_141', 'Inga_compound_142', 'Inga_compound_147',\n",
       "       'Inga_compound_150', 'Inga_compound_155', 'Inga_compound_159',\n",
       "       'Inga_compound_162', 'Inga_compound_167', 'Inga_compound_168',\n",
       "       'Inga_compound_172', 'Inga_compound_174', 'Inga_compound_175',\n",
       "       'Inga_compound_176', 'Inga_compound_180', 'Inga_compound_181',\n",
       "       'Inga_compound_188', 'Inga_compound_189', 'Inga_compound_193',\n",
       "       'Inga_compound_196', 'Inga_compound_214', 'Inga_compound_218',\n",
       "       'Inga_compound_221', 'Inga_compound_223', 'Inga_compound_227',\n",
       "       'Inga_compound_229', 'Inga_compound_230', 'Inga_compound_231',\n",
       "       'Inga_compound_233', 'Inga_compound_244', 'Inga_compound_246',\n",
       "       'Inga_compound_251', 'Inga_compound_255', 'Inga_compound_256',\n",
       "       'Inga_compound_262', 'Inga_compound_267', 'Inga_compound_280',\n",
       "       'Inga_compound_284', 'Inga_compound_292', 'Inga_compound_293',\n",
       "       'Inga_compound_296', 'Inga_compound_302', 'Inga_compound_308',\n",
       "       'Inga_compound_310', 'Inga_compound_329', 'Inga_compound_334',\n",
       "       'Inga_compound_339', 'Inga_compound_343', 'Inga_compound_344',\n",
       "       'Inga_compound_345', 'Inga_compound_346', 'Inga_compound_351',\n",
       "       'Inga_compound_352', 'Inga_compound_356', 'Inga_compound_364',\n",
       "       'Inga_compound_365', 'Inga_compound_368', 'Inga_compound_376',\n",
       "       'Inga_compound_377', 'Inga_compound_379', 'Inga_compound_385',\n",
       "       'Inga_compound_388', 'Inga_compound_390', 'Inga_compound_391',\n",
       "       'Inga_compound_394', 'Inga_compound_395', 'Inga_compound_396',\n",
       "       'Inga_compound_400', 'Inga_compound_406', 'Inga_compound_408',\n",
       "       'Inga_compound_409', 'Inga_compound_413', 'Inga_compound_418',\n",
       "       'Inga_compound_419', 'Inga_compound_421', 'Inga_compound_427',\n",
       "       'Inga_compound_433', 'Inga_compound_436', 'Inga_compound_443',\n",
       "       'Inga_compound_449', 'Inga_compound_450', 'Inga_compound_457',\n",
       "       'Inga_compound_465', 'Inga_compound_468', 'Inga_compound_474',\n",
       "       'Inga_compound_475', 'Inga_compound_480', 'Inga_compound_491',\n",
       "       'Inga_compound_493', 'Inga_compound_494', 'Inga_compound_500',\n",
       "       'Inga_compound_502', 'Inga_compound_505', 'Inga_compound_511',\n",
       "       'Inga_compound_524', 'Inga_compound_531', 'Inga_compound_539',\n",
       "       'Inga_compound_540', 'Inga_compound_550', 'Inga_compound_555',\n",
       "       'Inga_compound_563', 'Inga_compound_568', 'Inga_compound_570',\n",
       "       'Inga_compound_575', 'Inga_compound_581', 'Inga_compound_585',\n",
       "       'Inga_compound_587', 'Inga_compound_597', 'Inga_compound_600',\n",
       "       'Inga_compound_602', 'Inga_compound_604', 'Inga_compound_608',\n",
       "       'Inga_compound_615', 'Inga_compound_617', 'Inga_compound_620',\n",
       "       'Inga_compound_636', 'Inga_compound_638', 'Inga_compound_639',\n",
       "       'Inga_compound_640', 'Inga_compound_641', 'Inga_compound_643',\n",
       "       'Inga_compound_647', 'Inga_compound_648', 'Inga_compound_653',\n",
       "       'Inga_compound_654', 'Inga_compound_658', 'Inga_compound_662',\n",
       "       'Inga_compound_663', 'Inga_compound_671', 'Inga_compound_674',\n",
       "       'Inga_compound_687', 'Inga_compound_689', 'Inga_compound_691',\n",
       "       'Inga_compound_697', 'Inga_compound_699', 'Inga_compound_713',\n",
       "       'Inga_compound_714', 'Inga_compound_715', 'Inga_compound_718',\n",
       "       'Inga_compound_721', 'Inga_compound_730', 'Inga_compound_735',\n",
       "       'Inga_compound_736', 'Inga_compound_739', 'Inga_compound_740',\n",
       "       'Inga_compound_747', 'Inga_compound_748', 'Inga_compound_749',\n",
       "       'Inga_compound_753', 'Inga_compound_769', 'Inga_compound_778',\n",
       "       'Inga_compound_779', 'Inga_compound_783', 'Inga_compound_791',\n",
       "       'Inga_compound_794', 'Inga_compound_795', 'Inga_compound_817',\n",
       "       'Inga_compound_820', 'Inga_compound_823', 'Inga_compound_826',\n",
       "       'Inga_compound_832', 'Inga_compound_837', 'Inga_compound_840',\n",
       "       'Inga_compound_841', 'Inga_compound_856', 'Inga_compound_863',\n",
       "       'Inga_compound_866', 'Inga_compound_867', 'Inga_compound_869',\n",
       "       'Inga_compound_873', 'Inga_compound_885', 'Inga_compound_888',\n",
       "       'Inga_compound_905', 'Inga_compound_908', 'Inga_compound_913',\n",
       "       'Inga_compound_916', 'Inga_compound_921', 'Inga_compound_922',\n",
       "       'Inga_compound_934', 'Inga_compound_941', 'Inga_compound_943',\n",
       "       'Inga_compound_946', 'Inga_compound_947', 'Inga_compound_950',\n",
       "       'Inga_compound_952', 'Inga_compound_956', 'Inga_compound_957',\n",
       "       'Inga_compound_959', 'Inga_compound_960', 'Inga_compound_966',\n",
       "       'Inga_compound_972', 'Inga_compound_974', 'Inga_compound_979',\n",
       "       'Inga_compound_989', 'Inga_compound_994', 'Inga_compound_995',\n",
       "       'Inga_compound_998', 'Inga_compound_1000', 'Inga_compound_1004',\n",
       "       'Inga_compound_1006', 'Inga_compound_1012', 'Inga_compound_1032',\n",
       "       'Inga_compound_1034', 'Inga_compound_1041', 'Inga_compound_1048',\n",
       "       'Inga_compound_1058', 'Inga_compound_1059', 'Inga_compound_1063',\n",
       "       'Inga_compound_1066', 'Inga_compound_1068', 'Inga_compound_1071',\n",
       "       'Inga_compound_1074', 'Inga_compound_1075', 'Inga_compound_1086',\n",
       "       'Inga_compound_1091', 'Inga_compound_1099', 'Inga_compound_1100',\n",
       "       'Inga_compound_1101', 'Inga_compound_1106', 'Inga_compound_1107',\n",
       "       'Inga_compound_1110', 'Inga_compound_1118', 'Inga_compound_1124',\n",
       "       'Inga_compound_1128', 'Inga_compound_1130', 'Inga_compound_1133',\n",
       "       'Inga_compound_1137', 'Inga_compound_1139', 'Inga_compound_1140',\n",
       "       'Inga_compound_1142', 'Inga_compound_1152', 'Inga_compound_1166',\n",
       "       'Inga_compound_1167', 'Inga_compound_1172', 'Inga_compound_1173',\n",
       "       'Inga_compound_1177', 'Inga_compound_1180', 'Inga_compound_1185',\n",
       "       'Inga_compound_1192', 'Inga_compound_1209', 'Inga_compound_1220',\n",
       "       'Inga_compound_1227', 'Inga_compound_1230', 'Inga_compound_1231',\n",
       "       'Inga_compound_1235', 'Inga_compound_1243', 'Inga_compound_1247',\n",
       "       'Inga_compound_1270', 'Inga_compound_1279', 'Inga_compound_1283',\n",
       "       'Inga_compound_1293', 'Inga_compound_1294', 'Inga_compound_1296',\n",
       "       'Inga_compound_1300', 'Inga_compound_1304', 'Inga_compound_1306',\n",
       "       'Inga_compound_1308', 'Inga_compound_1315', 'Inga_compound_1317',\n",
       "       'Inga_compound_1319', 'Inga_compound_1330', 'Inga_compound_1342',\n",
       "       'Inga_compound_1350', 'Inga_compound_1351', 'Inga_compound_1355',\n",
       "       'Inga_compound_1370', 'Inga_compound_1372', 'Inga_compound_1376',\n",
       "       'Inga_compound_1381', 'Inga_compound_1390', 'Inga_compound_1396',\n",
       "       'Inga_compound_1405', 'Inga_compound_1406', 'Inga_compound_1421',\n",
       "       'Inga_compound_1422', 'Inga_compound_1426', 'Inga_compound_1428',\n",
       "       'Inga_compound_1433', 'Inga_compound_1441', 'Inga_compound_1446',\n",
       "       'Inga_compound_1448', 'Inga_compound_1452', 'Inga_compound_1458',\n",
       "       'Inga_compound_1465', 'Inga_compound_1466', 'Inga_compound_1473',\n",
       "       'Inga_compound_1475', 'Inga_compound_1476', 'Inga_compound_1488',\n",
       "       'Inga_compound_1493', 'Inga_compound_1497', 'Inga_compound_1514',\n",
       "       'Inga_compound_1517', 'Inga_compound_1520', 'Inga_compound_1521',\n",
       "       'Inga_compound_1522', 'Inga_compound_1539', 'Inga_compound_1544',\n",
       "       'Inga_compound_1550', 'Inga_compound_1562', 'Inga_compound_1567',\n",
       "       'Inga_compound_1570', 'Inga_compound_1573', 'Inga_compound_1587',\n",
       "       'Inga_compound_1594', 'Inga_compound_1617', 'Inga_compound_1633',\n",
       "       'Inga_compound_1639', 'Inga_compound_1649', 'Inga_compound_1655',\n",
       "       'Inga_compound_1656', 'Inga_compound_1666', 'Inga_compound_1679',\n",
       "       'Inga_compound_1692', 'Inga_compound_1694', 'Inga_compound_1695',\n",
       "       'Inga_compound_1700', 'Inga_compound_1706', 'Inga_compound_1736',\n",
       "       'Inga_compound_1744', 'Inga_compound_1745', 'Inga_compound_1749',\n",
       "       'Inga_compound_1750', 'Inga_compound_1753', 'Inga_compound_1757',\n",
       "       'Inga_compound_1766', 'Inga_compound_1767', 'Inga_compound_1768',\n",
       "       'Inga_compound_1769', 'Inga_compound_1773', 'Inga_compound_1801',\n",
       "       'Inga_compound_1806', 'Inga_compound_1807', 'Inga_compound_1808',\n",
       "       'Inga_compound_1811', 'Inga_compound_1829', 'Inga_compound_1831',\n",
       "       'Inga_compound_1835', 'Inga_compound_1836', 'Inga_compound_1847',\n",
       "       'Inga_compound_1848', 'Inga_compound_1856', 'Inga_compound_1859',\n",
       "       'Inga_compound_1860', 'Inga_compound_1863', 'Inga_compound_1864',\n",
       "       'Inga_compound_1865', 'Inga_compound_1879', 'Inga_compound_1882',\n",
       "       'Inga_compound_1886', 'Inga_compound_1890', 'Inga_compound_1898',\n",
       "       'Inga_compound_1914', 'Inga_compound_1926', 'Inga_compound_1928',\n",
       "       'Inga_compound_1942', 'Inga_compound_1949', 'Inga_compound_1971',\n",
       "       'Inga_compound_1975', 'Inga_compound_1976', 'Inga_compound_2003',\n",
       "       'Inga_compound_2011', 'Inga_compound_2018', 'Inga_compound_2031',\n",
       "       'Inga_compound_2033', 'Inga_compound_2036', 'Inga_compound_2042',\n",
       "       'Inga_compound_2050', 'Inga_compound_2058', 'Inga_compound_2060',\n",
       "       'Inga_compound_2062', 'Inga_compound_2064', 'Inga_compound_2066',\n",
       "       'Inga_compound_2067', 'Inga_compound_2068', 'Inga_compound_2072',\n",
       "       'Inga_compound_2074', 'Inga_compound_2083', 'Inga_compound_2086',\n",
       "       'Inga_compound_2087', 'Inga_compound_2092', 'Inga_compound_2093',\n",
       "       'Inga_compound_2094', 'Inga_compound_2095', 'Inga_compound_2101',\n",
       "       'Inga_compound_2123', 'Inga_compound_2135', 'Inga_compound_2137',\n",
       "       'Inga_compound_2140', 'Inga_compound_2143', 'Inga_compound_2151',\n",
       "       'Inga_compound_2153', 'Inga_compound_2161', 'Inga_compound_2162',\n",
       "       'Inga_compound_2165', 'Inga_compound_2166', 'Inga_compound_2168',\n",
       "       'Inga_compound_2172', 'Inga_compound_2178', 'Inga_compound_2190',\n",
       "       'Inga_compound_2192', 'Inga_compound_2195', 'Inga_compound_2202',\n",
       "       'Inga_compound_2203', 'Inga_compound_2204', 'Inga_compound_2205',\n",
       "       'Inga_compound_2213', 'Inga_compound_2218', 'Inga_compound_2224',\n",
       "       'Inga_compound_2231', 'Inga_compound_2240', 'Inga_compound_2244',\n",
       "       'Inga_compound_2245', 'Inga_compound_2252', 'Inga_compound_2258',\n",
       "       'Inga_compound_2267', 'Inga_compound_2271', 'Inga_compound_2277',\n",
       "       'Inga_compound_2278', 'Inga_compound_2281', 'Inga_compound_2289',\n",
       "       'Inga_compound_2290', 'Inga_compound_2293', 'Inga_compound_2295',\n",
       "       'Inga_compound_2307', 'Inga_compound_2318', 'Inga_compound_2319',\n",
       "       'Inga_compound_2320', 'Inga_compound_2322', 'Inga_compound_2324',\n",
       "       'Inga_compound_2328', 'Inga_compound_2329', 'Inga_compound_2338',\n",
       "       'Inga_compound_2342', 'Inga_compound_2361', 'Inga_compound_2371',\n",
       "       'Inga_compound_2385', 'Inga_compound_2388', 'Inga_compound_2391',\n",
       "       'Inga_compound_2404', 'Inga_compound_2412', 'Inga_compound_2418',\n",
       "       'Inga_compound_2424', 'Inga_compound_2442', 'Inga_compound_2450',\n",
       "       'Inga_compound_2454', 'Inga_compound_2466', 'Inga_compound_2474',\n",
       "       'Inga_compound_2476', 'Inga_compound_2478', 'Inga_compound_2480',\n",
       "       'Inga_compound_2481', 'Inga_compound_2484', 'Inga_compound_2486',\n",
       "       'Inga_compound_2487', 'Inga_compound_2493', 'Inga_compound_2504',\n",
       "       'Inga_compound_2505', 'Inga_compound_2511', 'Inga_compound_2512',\n",
       "       'Inga_compound_2513', 'Inga_compound_2533', 'Inga_compound_2540',\n",
       "       'Inga_compound_2542', 'Inga_compound_2548', 'Inga_compound_2557',\n",
       "       'Inga_compound_2572', 'Inga_compound_2579', 'Inga_compound_2593',\n",
       "       'Inga_compound_2594', 'Inga_compound_2598', 'Inga_compound_2599',\n",
       "       'Inga_compound_2602', 'Inga_compound_2604', 'Inga_compound_2605',\n",
       "       'Inga_compound_2608', 'Inga_compound_2611', 'Inga_compound_2616',\n",
       "       'Inga_compound_2619', 'Inga_compound_2630', 'Inga_compound_2632',\n",
       "       'Inga_compound_2635', 'Inga_compound_2637', 'Inga_compound_2638',\n",
       "       'Inga_compound_2641', 'Inga_compound_2646', 'Inga_compound_2652',\n",
       "       'Inga_compound_2670', 'Inga_compound_2675', 'Inga_compound_2677',\n",
       "       'Inga_compound_2681', 'Inga_compound_2682', 'Inga_compound_2683',\n",
       "       'Inga_compound_2688', 'Inga_compound_2694', 'Inga_compound_2695',\n",
       "       'Inga_compound_2698', 'Inga_compound_2700', 'Inga_compound_2711',\n",
       "       'Inga_compound_2712', 'Inga_compound_2716', 'Inga_compound_2724',\n",
       "       'Inga_compound_2725', 'Inga_compound_2735', 'Inga_compound_2736',\n",
       "       'Inga_compound_2746', 'Inga_compound_2748', 'Inga_compound_2754',\n",
       "       'Inga_compound_2756', 'Inga_compound_2762', 'Inga_compound_2768',\n",
       "       'Inga_compound_2773', 'Inga_compound_2777', 'Inga_compound_2781',\n",
       "       'Inga_compound_2782', 'Inga_compound_2786', 'Inga_compound_2792',\n",
       "       'Inga_compound_2800', 'Inga_compound_2801', 'Inga_compound_2803',\n",
       "       'Inga_compound_2813', 'Inga_compound_2815', 'Inga_compound_2820',\n",
       "       'Inga_compound_2829', 'Inga_compound_2840', 'Inga_compound_2844',\n",
       "       'Inga_compound_2852', 'Inga_compound_2853', 'Inga_compound_2855',\n",
       "       'Inga_compound_2863', 'Inga_compound_2869', 'Inga_compound_2871',\n",
       "       'Inga_compound_2874', 'Inga_compound_2876', 'Inga_compound_2878',\n",
       "       'Inga_compound_2892', 'Inga_compound_2909', 'Inga_compound_2910',\n",
       "       'Inga_compound_2911', 'Inga_compound_2913', 'Inga_compound_2921',\n",
       "       'Inga_compound_2935', 'Inga_compound_2945', 'Inga_compound_2951',\n",
       "       'Inga_compound_2952', 'Inga_compound_2955', 'Inga_compound_2959',\n",
       "       'Inga_compound_2960', 'Inga_compound_2972', 'Inga_compound_2976',\n",
       "       'Inga_compound_2979', 'Inga_compound_2984', 'Inga_compound_2992',\n",
       "       'Inga_compound_2993', 'Inga_compound_2995', 'Inga_compound_3003',\n",
       "       'Inga_compound_3029', 'Inga_compound_3033', 'Inga_compound_3061',\n",
       "       'Inga_compound_3072', 'Inga_compound_3079', 'Inga_compound_3081',\n",
       "       'Inga_compound_3090', 'Inga_compound_3095', 'Inga_compound_3099',\n",
       "       'Inga_compound_3104', 'Inga_compound_3121', 'Inga_compound_3131',\n",
       "       'Inga_compound_3139', 'Inga_compound_3140', 'Inga_compound_3149',\n",
       "       'Inga_compound_3150', 'Inga_compound_3160', 'Inga_compound_3167',\n",
       "       'Inga_compound_3170', 'Inga_compound_3171', 'Inga_compound_3177',\n",
       "       'Inga_compound_3185', 'Inga_compound_3197', 'Inga_compound_3202',\n",
       "       'Inga_compound_3207', 'Inga_compound_3210', 'Inga_compound_3212',\n",
       "       'Inga_compound_3217', 'Inga_compound_3220', 'Inga_compound_3241',\n",
       "       'Inga_compound_3246', 'Inga_compound_3258', 'Inga_compound_3267',\n",
       "       'Inga_compound_3269', 'Inga_compound_3277', 'Inga_compound_3279',\n",
       "       'Inga_compound_3290', 'Inga_compound_3293', 'Inga_compound_3295',\n",
       "       'Inga_compound_3301', 'Inga_compound_3311', 'Inga_compound_3312',\n",
       "       'Inga_compound_3321', 'Inga_compound_3327', 'Inga_compound_3332',\n",
       "       'Inga_compound_3334', 'Inga_compound_3335', 'Inga_compound_3341',\n",
       "       'Inga_compound_3342', 'Inga_compound_3351', 'Inga_compound_3366',\n",
       "       'Inga_compound_3374', 'Inga_compound_3386', 'Inga_compound_3412',\n",
       "       'Inga_compound_3414', 'Inga_compound_3416', 'Inga_compound_3419',\n",
       "       'Inga_compound_3430', 'Inga_compound_3437', 'Inga_compound_3443',\n",
       "       'Inga_compound_3447', 'Inga_compound_3448', 'Inga_compound_3450',\n",
       "       'Inga_compound_3454', 'Inga_compound_3456', 'Inga_compound_3461',\n",
       "       'Inga_compound_3469', 'Inga_compound_3485', 'Inga_compound_3499',\n",
       "       'Inga_compound_3504', 'Inga_compound_3505', 'Inga_compound_3517',\n",
       "       'Inga_compound_3526', 'Inga_compound_3532', 'Inga_compound_3534',\n",
       "       'Inga_compound_3537', 'Inga_compound_3542', 'Inga_compound_3544',\n",
       "       'Inga_compound_3550', 'Inga_compound_3554', 'Inga_compound_3560',\n",
       "       'Inga_compound_3562', 'Inga_compound_3568', 'Inga_compound_3570',\n",
       "       'Inga_compound_3572', 'Inga_compound_3590', 'Inga_compound_3595',\n",
       "       'Inga_compound_3596', 'Inga_compound_3597', 'Inga_compound_3606',\n",
       "       'Inga_compound_3620', 'Inga_compound_3636', 'Inga_compound_3641',\n",
       "       'Inga_compound_3647', 'Inga_compound_3656', 'Inga_compound_3664',\n",
       "       'Inga_compound_3668', 'Inga_compound_3669', 'Inga_compound_3672',\n",
       "       'Inga_compound_3702', 'Inga_compound_3705', 'Inga_compound_3714',\n",
       "       'Inga_compound_3719', 'Inga_compound_3731', 'Inga_compound_3734',\n",
       "       'Inga_compound_3747', 'Inga_compound_3764', 'Inga_compound_3775',\n",
       "       'Inga_compound_3778', 'Inga_compound_3786', 'Inga_compound_3796',\n",
       "       'Inga_compound_3818', 'Inga_compound_3822', 'Inga_compound_3826',\n",
       "       'Inga_compound_3827', 'Inga_compound_3830', 'Inga_compound_3832',\n",
       "       'Inga_compound_3844', 'Inga_compound_3849', 'Inga_compound_3850',\n",
       "       'Inga_compound_3851', 'Inga_compound_3857', 'Inga_compound_3868',\n",
       "       'Inga_compound_3877', 'Inga_compound_3879', 'Inga_compound_3888',\n",
       "       'Inga_compound_3893', 'Inga_compound_3896', 'Inga_compound_3901',\n",
       "       'Inga_compound_3912', 'Inga_compound_3918', 'Inga_compound_3924',\n",
       "       'Inga_compound_3927', 'Inga_compound_3931', 'Inga_compound_3939',\n",
       "       'Inga_compound_3943', 'Inga_compound_3944', 'Inga_compound_3946',\n",
       "       'Inga_compound_3958', 'Inga_compound_3974', 'Inga_compound_3977',\n",
       "       'Inga_compound_3979', 'Inga_compound_3987', 'Inga_compound_3990',\n",
       "       'Inga_compound_3991', 'Inga_compound_4000', 'Inga_compound_4016',\n",
       "       'Inga_compound_4018', 'Inga_compound_4032', 'Inga_compound_4041',\n",
       "       'Inga_compound_4060', 'Inga_compound_4061', 'Inga_compound_4063',\n",
       "       'Inga_compound_4065', 'Inga_compound_4070', 'Inga_compound_4079',\n",
       "       'Inga_compound_4080', 'Inga_compound_4081', 'Inga_compound_4102',\n",
       "       'Inga_compound_4104', 'Inga_compound_4109', 'Inga_compound_4110',\n",
       "       'Inga_compound_4122', 'Inga_compound_4126', 'Inga_compound_4127',\n",
       "       'Inga_compound_4129', 'Inga_compound_4131', 'Inga_compound_4142',\n",
       "       'Inga_compound_4147', 'Inga_compound_4150', 'Inga_compound_4156',\n",
       "       'Inga_compound_4162', 'Inga_compound_4166', 'Inga_compound_4168',\n",
       "       'Inga_compound_4175', 'Inga_compound_4192', 'Inga_compound_4197',\n",
       "       'Inga_compound_4204', 'Inga_compound_4208', 'Inga_compound_4212',\n",
       "       'Inga_compound_4213', 'Inga_compound_4225', 'Inga_compound_4227',\n",
       "       'Inga_compound_4228', 'Inga_compound_4241', 'Inga_compound_4242',\n",
       "       'Inga_compound_4246', 'Inga_compound_4247', 'Inga_compound_4252',\n",
       "       'Inga_compound_4260', 'Inga_compound_4267', 'Inga_compound_4271',\n",
       "       'Inga_compound_4277', 'Inga_compound_4283', 'Inga_compound_4293',\n",
       "       'Inga_compound_4297', 'Inga_compound_4309', 'Inga_compound_4314',\n",
       "       'Inga_compound_4362', 'Inga_compound_4367', 'Inga_compound_4397',\n",
       "       'Inga_compound_4410', 'Inga_compound_4412', 'Inga_compound_4419',\n",
       "       'Inga_compound_4427', 'Inga_compound_4442', 'Inga_compound_4452',\n",
       "       'Inga_compound_4456', 'Inga_compound_4474', 'Inga_compound_4476',\n",
       "       'Inga_compound_4480', 'Inga_compound_4483', 'Inga_compound_4487',\n",
       "       'Inga_compound_4489', 'Inga_compound_4501', 'Inga_compound_4511',\n",
       "       'Inga_compound_4518', 'Inga_compound_4519', 'Inga_compound_4539',\n",
       "       'Inga_compound_4541', 'Inga_compound_4562', 'Inga_compound_4570',\n",
       "       'Inga_compound_4583', 'Inga_compound_4599', 'Inga_compound_4613',\n",
       "       'Inga_compound_4627', 'Inga_compound_4628', 'Inga_compound_4631',\n",
       "       'Inga_compound_4638', 'Inga_compound_4650', 'Inga_compound_4661',\n",
       "       'Inga_compound_4669', 'Inga_compound_4672', 'Inga_compound_4688',\n",
       "       'Inga_compound_4691', 'Inga_compound_4704', 'Inga_compound_4709',\n",
       "       'Inga_compound_4710', 'Inga_compound_4717'],\n",
       "      dtype='<U18')"
      ]
     },
     "execution_count": 67,
     "metadata": {},
     "output_type": "execute_result"
    }
   ],
   "source": [
    "cnames_inga_sorted = np.array(['Inga_compound_'+str(x) for x in cnumbers_inga_sorted])\n",
    "cnames_inga_sorted"
   ]
  },
  {
   "cell_type": "code",
   "execution_count": 68,
   "metadata": {},
   "outputs": [
    {
     "data": {
      "text/plain": [
       "Inga_compound_15    0\n",
       "Inga_compound_18    1\n",
       "Inga_compound_20    2\n",
       "Inga_compound_24    3\n",
       "Inga_compound_25    4\n",
       "Name: comp_id, dtype: int64"
      ]
     },
     "execution_count": 68,
     "metadata": {},
     "output_type": "execute_result"
    }
   ],
   "source": [
    "cdict_inga = pd.Series(data=np.arange(len(cnames_inga)), index=cnames_inga_sorted, name='comp_id')\n",
    "cdict_inga.head()"
   ]
  },
  {
   "cell_type": "markdown",
   "metadata": {},
   "source": [
    "#### comp_name dictionary: silico"
   ]
  },
  {
   "cell_type": "code",
   "execution_count": 69,
   "metadata": {},
   "outputs": [
    {
     "data": {
      "text/plain": [
       "75785"
      ]
     },
     "execution_count": 69,
     "metadata": {},
     "output_type": "execute_result"
    }
   ],
   "source": [
    "cnames_silico1 = set(peak_silico['comp_name'].unique())\n",
    "len(cnames_silico1)"
   ]
  },
  {
   "cell_type": "code",
   "execution_count": 70,
   "metadata": {},
   "outputs": [
    {
     "data": {
      "text/plain": [
       "75987"
      ]
     },
     "execution_count": 70,
     "metadata": {},
     "output_type": "execute_result"
    }
   ],
   "source": [
    "cnames_silico2 = set(loss_silico['comp_name'].unique())\n",
    "len(cnames_silico2)"
   ]
  },
  {
   "cell_type": "code",
   "execution_count": 71,
   "metadata": {},
   "outputs": [
    {
     "data": {
      "text/plain": [
       "76061"
      ]
     },
     "execution_count": 71,
     "metadata": {},
     "output_type": "execute_result"
    }
   ],
   "source": [
    "cnames_silico3 = set(classes_silico['comp_name'].unique())\n",
    "len(cnames_silico3)"
   ]
  },
  {
   "cell_type": "code",
   "execution_count": 72,
   "metadata": {},
   "outputs": [
    {
     "data": {
      "text/plain": [
       "75711"
      ]
     },
     "execution_count": 72,
     "metadata": {},
     "output_type": "execute_result"
    }
   ],
   "source": [
    "cnames_silico = cnames_silico1.intersection(cnames_silico2)\n",
    "len(cnames_silico)"
   ]
  },
  {
   "cell_type": "code",
   "execution_count": 73,
   "metadata": {},
   "outputs": [
    {
     "data": {
      "text/plain": [
       "array([143304, 148979, 101114, ...,  24907,  37946,   6231])"
      ]
     },
     "execution_count": 73,
     "metadata": {},
     "output_type": "execute_result"
    }
   ],
   "source": [
    "cnumbers_silico = np.array([int(str(x)[4:]) for x in cnames_silico])\n",
    "cnumbers_silico"
   ]
  },
  {
   "cell_type": "code",
   "execution_count": 74,
   "metadata": {},
   "outputs": [
    {
     "data": {
      "text/plain": [
       "array([     2,      6,     10, ..., 230721, 230723, 230730])"
      ]
     },
     "execution_count": 74,
     "metadata": {},
     "output_type": "execute_result"
    }
   ],
   "source": [
    "cnumbers_silico_sorted = np.sort(cnumbers_silico)\n",
    "cnumbers_silico_sorted"
   ]
  },
  {
   "cell_type": "code",
   "execution_count": 75,
   "metadata": {},
   "outputs": [
    {
     "data": {
      "text/plain": [
       "array(['UNPD2', 'UNPD6', 'UNPD10', ..., 'UNPD230721', 'UNPD230723',\n",
       "       'UNPD230730'],\n",
       "      dtype='<U10')"
      ]
     },
     "execution_count": 75,
     "metadata": {},
     "output_type": "execute_result"
    }
   ],
   "source": [
    "cnames_silico_sorted = np.array(['UNPD'+str(x) for x in cnumbers_silico_sorted])\n",
    "cnames_silico_sorted"
   ]
  },
  {
   "cell_type": "code",
   "execution_count": 76,
   "metadata": {},
   "outputs": [
    {
     "data": {
      "text/plain": [
       "UNPD2     0\n",
       "UNPD6     1\n",
       "UNPD10    2\n",
       "UNPD13    3\n",
       "UNPD17    4\n",
       "Name: comp_id, dtype: int64"
      ]
     },
     "execution_count": 76,
     "metadata": {},
     "output_type": "execute_result"
    }
   ],
   "source": [
    "cdict_silico = pd.Series(data=np.arange(len(cnames_silico)), index=cnames_silico_sorted, name='comp_id')\n",
    "cdict_silico.head()"
   ]
  },
  {
   "cell_type": "markdown",
   "metadata": {},
   "source": [
    "### Inga Data"
   ]
  },
  {
   "cell_type": "markdown",
   "metadata": {},
   "source": [
    "#### Appending new columns to peak"
   ]
  },
  {
   "cell_type": "code",
   "execution_count": 77,
   "metadata": {},
   "outputs": [
    {
     "data": {
      "text/plain": [
       "(53508,)"
      ]
     },
     "execution_count": 77,
     "metadata": {},
     "output_type": "execute_result"
    }
   ],
   "source": [
    "ind_peak_inga = peak_inga['comp_name'].apply(lambda x: x in cnames_inga)\n",
    "ind_peak_inga.shape"
   ]
  },
  {
   "cell_type": "code",
   "execution_count": 78,
   "metadata": {},
   "outputs": [
    {
     "data": {
      "text/plain": [
       "(13599, 3)"
      ]
     },
     "execution_count": 78,
     "metadata": {},
     "output_type": "execute_result"
    }
   ],
   "source": [
    "new_peak_inga = peak_inga[ind_peak_inga]\n",
    "new_peak_inga.shape"
   ]
  },
  {
   "cell_type": "code",
   "execution_count": 88,
   "metadata": {},
   "outputs": [
    {
     "name": "stderr",
     "output_type": "stream",
     "text": [
      "/uufs/chpc.utah.edu/sys/installdir/python/3.6.3/lib/python3.6/site-packages/ipykernel_launcher.py:1: SettingWithCopyWarning: \n",
      "A value is trying to be set on a copy of a slice from a DataFrame.\n",
      "Try using .loc[row_indexer,col_indexer] = value instead\n",
      "\n",
      "See the caveats in the documentation: http://pandas.pydata.org/pandas-docs/stable/indexing.html#indexing-view-versus-copy\n",
      "  \"\"\"Entry point for launching an IPython kernel.\n"
     ]
    }
   ],
   "source": [
    "new_peak_inga['feature_id'] = new_peak_inga['feature_name'].map(lambda x: pdict.get(x))"
   ]
  },
  {
   "cell_type": "code",
   "execution_count": 89,
   "metadata": {},
   "outputs": [
    {
     "name": "stderr",
     "output_type": "stream",
     "text": [
      "/uufs/chpc.utah.edu/sys/installdir/python/3.6.3/lib/python3.6/site-packages/ipykernel_launcher.py:1: SettingWithCopyWarning: \n",
      "A value is trying to be set on a copy of a slice from a DataFrame.\n",
      "Try using .loc[row_indexer,col_indexer] = value instead\n",
      "\n",
      "See the caveats in the documentation: http://pandas.pydata.org/pandas-docs/stable/indexing.html#indexing-view-versus-copy\n",
      "  \"\"\"Entry point for launching an IPython kernel.\n"
     ]
    }
   ],
   "source": [
    "new_peak_inga['comp_id'] = new_peak_inga['comp_name'].map(lambda x: cdict_inga.get(x))"
   ]
  },
  {
   "cell_type": "code",
   "execution_count": 90,
   "metadata": {},
   "outputs": [
    {
     "data": {
      "text/html": [
       "<div>\n",
       "<style>\n",
       "    .dataframe thead tr:only-child th {\n",
       "        text-align: right;\n",
       "    }\n",
       "\n",
       "    .dataframe thead th {\n",
       "        text-align: left;\n",
       "    }\n",
       "\n",
       "    .dataframe tbody tr th {\n",
       "        vertical-align: top;\n",
       "    }\n",
       "</style>\n",
       "<table border=\"1\" class=\"dataframe\">\n",
       "  <thead>\n",
       "    <tr style=\"text-align: right;\">\n",
       "      <th></th>\n",
       "      <th>comp_name</th>\n",
       "      <th>feature_name</th>\n",
       "      <th>intensity</th>\n",
       "      <th>feature_id</th>\n",
       "      <th>comp_id</th>\n",
       "    </tr>\n",
       "  </thead>\n",
       "  <tbody>\n",
       "    <tr>\n",
       "      <th>1412</th>\n",
       "      <td>Inga_compound_2295</td>\n",
       "      <td>peak_746</td>\n",
       "      <td>15504.016632</td>\n",
       "      <td>413</td>\n",
       "      <td>470</td>\n",
       "    </tr>\n",
       "    <tr>\n",
       "      <th>1413</th>\n",
       "      <td>Inga_compound_2295</td>\n",
       "      <td>peak_907</td>\n",
       "      <td>13900.255432</td>\n",
       "      <td>490</td>\n",
       "      <td>470</td>\n",
       "    </tr>\n",
       "    <tr>\n",
       "      <th>1414</th>\n",
       "      <td>Inga_compound_2295</td>\n",
       "      <td>peak_1249</td>\n",
       "      <td>7572.683838</td>\n",
       "      <td>655</td>\n",
       "      <td>470</td>\n",
       "    </tr>\n",
       "    <tr>\n",
       "      <th>1415</th>\n",
       "      <td>Inga_compound_2295</td>\n",
       "      <td>peak_1259</td>\n",
       "      <td>12585.825684</td>\n",
       "      <td>659</td>\n",
       "      <td>470</td>\n",
       "    </tr>\n",
       "    <tr>\n",
       "      <th>1416</th>\n",
       "      <td>Inga_compound_2295</td>\n",
       "      <td>peak_1272</td>\n",
       "      <td>15757.078171</td>\n",
       "      <td>665</td>\n",
       "      <td>470</td>\n",
       "    </tr>\n",
       "  </tbody>\n",
       "</table>\n",
       "</div>"
      ],
      "text/plain": [
       "               comp_name feature_name     intensity  feature_id  comp_id\n",
       "1412  Inga_compound_2295     peak_746  15504.016632         413      470\n",
       "1413  Inga_compound_2295     peak_907  13900.255432         490      470\n",
       "1414  Inga_compound_2295    peak_1249   7572.683838         655      470\n",
       "1415  Inga_compound_2295    peak_1259  12585.825684         659      470\n",
       "1416  Inga_compound_2295    peak_1272  15757.078171         665      470"
      ]
     },
     "execution_count": 90,
     "metadata": {},
     "output_type": "execute_result"
    }
   ],
   "source": [
    "new_peak_inga.head()"
   ]
  },
  {
   "cell_type": "code",
   "execution_count": 95,
   "metadata": {},
   "outputs": [
    {
     "data": {
      "text/plain": [
       "(13599, 5)"
      ]
     },
     "execution_count": 95,
     "metadata": {},
     "output_type": "execute_result"
    }
   ],
   "source": [
    "new_peak_inga.shape"
   ]
  },
  {
   "cell_type": "markdown",
   "metadata": {},
   "source": [
    "#### Appending new columns to loss"
   ]
  },
  {
   "cell_type": "code",
   "execution_count": 82,
   "metadata": {},
   "outputs": [
    {
     "data": {
      "text/plain": [
       "(53508,)"
      ]
     },
     "execution_count": 82,
     "metadata": {},
     "output_type": "execute_result"
    }
   ],
   "source": [
    "ind_loss_inga = loss_inga['comp_name'].apply(lambda x: x in cnames_inga)\n",
    "ind_loss_inga.shape"
   ]
  },
  {
   "cell_type": "code",
   "execution_count": 84,
   "metadata": {},
   "outputs": [
    {
     "data": {
      "text/plain": [
       "(13599, 3)"
      ]
     },
     "execution_count": 84,
     "metadata": {},
     "output_type": "execute_result"
    }
   ],
   "source": [
    "new_loss_inga = loss_inga[ind_loss_inga]\n",
    "new_loss_inga.shape"
   ]
  },
  {
   "cell_type": "code",
   "execution_count": 91,
   "metadata": {},
   "outputs": [
    {
     "name": "stderr",
     "output_type": "stream",
     "text": [
      "/uufs/chpc.utah.edu/sys/installdir/python/3.6.3/lib/python3.6/site-packages/ipykernel_launcher.py:1: SettingWithCopyWarning: \n",
      "A value is trying to be set on a copy of a slice from a DataFrame.\n",
      "Try using .loc[row_indexer,col_indexer] = value instead\n",
      "\n",
      "See the caveats in the documentation: http://pandas.pydata.org/pandas-docs/stable/indexing.html#indexing-view-versus-copy\n",
      "  \"\"\"Entry point for launching an IPython kernel.\n"
     ]
    }
   ],
   "source": [
    "new_loss_inga['feature_id'] = new_loss_inga['feature_name'].map(lambda x: ldict.get(x))"
   ]
  },
  {
   "cell_type": "code",
   "execution_count": 92,
   "metadata": {},
   "outputs": [
    {
     "name": "stderr",
     "output_type": "stream",
     "text": [
      "/uufs/chpc.utah.edu/sys/installdir/python/3.6.3/lib/python3.6/site-packages/ipykernel_launcher.py:1: SettingWithCopyWarning: \n",
      "A value is trying to be set on a copy of a slice from a DataFrame.\n",
      "Try using .loc[row_indexer,col_indexer] = value instead\n",
      "\n",
      "See the caveats in the documentation: http://pandas.pydata.org/pandas-docs/stable/indexing.html#indexing-view-versus-copy\n",
      "  \"\"\"Entry point for launching an IPython kernel.\n"
     ]
    }
   ],
   "source": [
    "new_loss_inga['comp_id'] = new_loss_inga['comp_name'].map(lambda x: cdict_inga.get(x))"
   ]
  },
  {
   "cell_type": "code",
   "execution_count": 93,
   "metadata": {},
   "outputs": [
    {
     "data": {
      "text/html": [
       "<div>\n",
       "<style>\n",
       "    .dataframe thead tr:only-child th {\n",
       "        text-align: right;\n",
       "    }\n",
       "\n",
       "    .dataframe thead th {\n",
       "        text-align: left;\n",
       "    }\n",
       "\n",
       "    .dataframe tbody tr th {\n",
       "        vertical-align: top;\n",
       "    }\n",
       "</style>\n",
       "<table border=\"1\" class=\"dataframe\">\n",
       "  <thead>\n",
       "    <tr style=\"text-align: right;\">\n",
       "      <th></th>\n",
       "      <th>comp_name</th>\n",
       "      <th>feature_name</th>\n",
       "      <th>intensity</th>\n",
       "      <th>feature_id</th>\n",
       "      <th>comp_id</th>\n",
       "    </tr>\n",
       "  </thead>\n",
       "  <tbody>\n",
       "    <tr>\n",
       "      <th>1412</th>\n",
       "      <td>Inga_compound_2295</td>\n",
       "      <td>loss_9789</td>\n",
       "      <td>1.0</td>\n",
       "      <td>5054</td>\n",
       "      <td>470</td>\n",
       "    </tr>\n",
       "    <tr>\n",
       "      <th>1413</th>\n",
       "      <td>Inga_compound_2295</td>\n",
       "      <td>loss_9305</td>\n",
       "      <td>1.0</td>\n",
       "      <td>4901</td>\n",
       "      <td>470</td>\n",
       "    </tr>\n",
       "    <tr>\n",
       "      <th>1414</th>\n",
       "      <td>Inga_compound_2295</td>\n",
       "      <td>loss_8475</td>\n",
       "      <td>1.0</td>\n",
       "      <td>4657</td>\n",
       "      <td>470</td>\n",
       "    </tr>\n",
       "    <tr>\n",
       "      <th>1415</th>\n",
       "      <td>Inga_compound_2295</td>\n",
       "      <td>loss_8442</td>\n",
       "      <td>1.0</td>\n",
       "      <td>4650</td>\n",
       "      <td>470</td>\n",
       "    </tr>\n",
       "    <tr>\n",
       "      <th>1416</th>\n",
       "      <td>Inga_compound_2295</td>\n",
       "      <td>loss_8404</td>\n",
       "      <td>1.0</td>\n",
       "      <td>4639</td>\n",
       "      <td>470</td>\n",
       "    </tr>\n",
       "  </tbody>\n",
       "</table>\n",
       "</div>"
      ],
      "text/plain": [
       "               comp_name feature_name  intensity  feature_id  comp_id\n",
       "1412  Inga_compound_2295    loss_9789        1.0        5054      470\n",
       "1413  Inga_compound_2295    loss_9305        1.0        4901      470\n",
       "1414  Inga_compound_2295    loss_8475        1.0        4657      470\n",
       "1415  Inga_compound_2295    loss_8442        1.0        4650      470\n",
       "1416  Inga_compound_2295    loss_8404        1.0        4639      470"
      ]
     },
     "execution_count": 93,
     "metadata": {},
     "output_type": "execute_result"
    }
   ],
   "source": [
    "new_loss_inga.head()"
   ]
  },
  {
   "cell_type": "code",
   "execution_count": 94,
   "metadata": {},
   "outputs": [
    {
     "data": {
      "text/plain": [
       "(13599, 5)"
      ]
     },
     "execution_count": 94,
     "metadata": {},
     "output_type": "execute_result"
    }
   ],
   "source": [
    "new_loss_inga.shape"
   ]
  },
  {
   "cell_type": "markdown",
   "metadata": {},
   "source": [
    "#### Generating sparse matrix"
   ]
  },
  {
   "cell_type": "code",
   "execution_count": 104,
   "metadata": {},
   "outputs": [],
   "source": [
    "def generateSparseMatrix(raw, n_features):\n",
    "    data = raw['intensity']\n",
    "    row = raw['comp_id']\n",
    "    col = raw['feature_id']\n",
    "    \n",
    "    sparse = csr_matrix((data, (row, col)))\n",
    "    addition = np.zeros((sparse.shape[0], n_features-sparse.shape[1]))\n",
    "    result = hstack([sparse, addition])\n",
    "    return result"
   ]
  },
  {
   "cell_type": "code",
   "execution_count": 123,
   "metadata": {},
   "outputs": [
    {
     "data": {
      "text/plain": [
       "<842x7492 sparse matrix of type '<class 'numpy.float64'>'\n",
       "\twith 13599 stored elements in COOrdinate format>"
      ]
     },
     "execution_count": 123,
     "metadata": {},
     "output_type": "execute_result"
    }
   ],
   "source": [
    "mat_peak_inga = generateSparseMatrix(new_peak_inga, pdict.max()+1)\n",
    "mat_peak_inga"
   ]
  },
  {
   "cell_type": "code",
   "execution_count": 124,
   "metadata": {},
   "outputs": [
    {
     "data": {
      "text/plain": [
       "<842x15220 sparse matrix of type '<class 'numpy.float64'>'\n",
       "\twith 13002 stored elements in COOrdinate format>"
      ]
     },
     "execution_count": 124,
     "metadata": {},
     "output_type": "execute_result"
    }
   ],
   "source": [
    "mat_loss_inga = generateSparseMatrix(new_loss_inga, ldict.max()+1)\n",
    "mat_loss_inga"
   ]
  },
  {
   "cell_type": "code",
   "execution_count": 160,
   "metadata": {},
   "outputs": [
    {
     "data": {
      "text/plain": [
       "<842x22712 sparse matrix of type '<class 'numpy.float64'>'\n",
       "\twith 26601 stored elements in COOrdinate format>"
      ]
     },
     "execution_count": 160,
     "metadata": {},
     "output_type": "execute_result"
    }
   ],
   "source": [
    "mat_features_inga = hstack([mat_peak_inga, mat_loss_inga])\n",
    "mat_features_inga"
   ]
  },
  {
   "cell_type": "markdown",
   "metadata": {},
   "source": [
    "### In Silico Data"
   ]
  },
  {
   "cell_type": "markdown",
   "metadata": {},
   "source": [
    "#### Appending new columns to peak"
   ]
  },
  {
   "cell_type": "code",
   "execution_count": 108,
   "metadata": {},
   "outputs": [
    {
     "data": {
      "text/plain": [
       "(1161069,)"
      ]
     },
     "execution_count": 108,
     "metadata": {},
     "output_type": "execute_result"
    }
   ],
   "source": [
    "ind_peak_silico = peak_silico['comp_name'].apply(lambda x: x in cnames_silico)\n",
    "ind_peak_silico.shape"
   ]
  },
  {
   "cell_type": "code",
   "execution_count": 109,
   "metadata": {},
   "outputs": [
    {
     "data": {
      "text/plain": [
       "(1160638, 3)"
      ]
     },
     "execution_count": 109,
     "metadata": {},
     "output_type": "execute_result"
    }
   ],
   "source": [
    "new_peak_silico = peak_silico[ind_peak_silico]\n",
    "new_peak_silico.shape"
   ]
  },
  {
   "cell_type": "code",
   "execution_count": 110,
   "metadata": {},
   "outputs": [
    {
     "name": "stderr",
     "output_type": "stream",
     "text": [
      "/uufs/chpc.utah.edu/sys/installdir/python/3.6.3/lib/python3.6/site-packages/ipykernel_launcher.py:1: SettingWithCopyWarning: \n",
      "A value is trying to be set on a copy of a slice from a DataFrame.\n",
      "Try using .loc[row_indexer,col_indexer] = value instead\n",
      "\n",
      "See the caveats in the documentation: http://pandas.pydata.org/pandas-docs/stable/indexing.html#indexing-view-versus-copy\n",
      "  \"\"\"Entry point for launching an IPython kernel.\n"
     ]
    }
   ],
   "source": [
    "new_peak_silico['feature_id'] = new_peak_silico['feature_name'].map(lambda x: pdict.get(x))"
   ]
  },
  {
   "cell_type": "code",
   "execution_count": 111,
   "metadata": {},
   "outputs": [
    {
     "name": "stderr",
     "output_type": "stream",
     "text": [
      "/uufs/chpc.utah.edu/sys/installdir/python/3.6.3/lib/python3.6/site-packages/ipykernel_launcher.py:1: SettingWithCopyWarning: \n",
      "A value is trying to be set on a copy of a slice from a DataFrame.\n",
      "Try using .loc[row_indexer,col_indexer] = value instead\n",
      "\n",
      "See the caveats in the documentation: http://pandas.pydata.org/pandas-docs/stable/indexing.html#indexing-view-versus-copy\n",
      "  \"\"\"Entry point for launching an IPython kernel.\n"
     ]
    }
   ],
   "source": [
    "new_peak_silico['comp_id'] = new_peak_silico['comp_name'].map(lambda x: cdict_silico.get(x))"
   ]
  },
  {
   "cell_type": "code",
   "execution_count": 112,
   "metadata": {
    "scrolled": true
   },
   "outputs": [
    {
     "data": {
      "text/html": [
       "<div>\n",
       "<style>\n",
       "    .dataframe thead tr:only-child th {\n",
       "        text-align: right;\n",
       "    }\n",
       "\n",
       "    .dataframe thead th {\n",
       "        text-align: left;\n",
       "    }\n",
       "\n",
       "    .dataframe tbody tr th {\n",
       "        vertical-align: top;\n",
       "    }\n",
       "</style>\n",
       "<table border=\"1\" class=\"dataframe\">\n",
       "  <thead>\n",
       "    <tr style=\"text-align: right;\">\n",
       "      <th></th>\n",
       "      <th>comp_name</th>\n",
       "      <th>feature_name</th>\n",
       "      <th>intensity</th>\n",
       "      <th>feature_id</th>\n",
       "      <th>comp_id</th>\n",
       "    </tr>\n",
       "  </thead>\n",
       "  <tbody>\n",
       "    <tr>\n",
       "      <th>4</th>\n",
       "      <td>UNPD98266</td>\n",
       "      <td>peak_110</td>\n",
       "      <td>1.294890</td>\n",
       "      <td>41</td>\n",
       "      <td>33256</td>\n",
       "    </tr>\n",
       "    <tr>\n",
       "      <th>5</th>\n",
       "      <td>UNPD98266</td>\n",
       "      <td>peak_191</td>\n",
       "      <td>2.076612</td>\n",
       "      <td>82</td>\n",
       "      <td>33256</td>\n",
       "    </tr>\n",
       "    <tr>\n",
       "      <th>12</th>\n",
       "      <td>UNPD98266</td>\n",
       "      <td>peak_5691</td>\n",
       "      <td>16.325846</td>\n",
       "      <td>1922</td>\n",
       "      <td>33256</td>\n",
       "    </tr>\n",
       "    <tr>\n",
       "      <th>18</th>\n",
       "      <td>UNPD98266</td>\n",
       "      <td>peak_6984</td>\n",
       "      <td>2.461923</td>\n",
       "      <td>2146</td>\n",
       "      <td>33256</td>\n",
       "    </tr>\n",
       "    <tr>\n",
       "      <th>24</th>\n",
       "      <td>UNPD3499</td>\n",
       "      <td>peak_191</td>\n",
       "      <td>3.612248</td>\n",
       "      <td>82</td>\n",
       "      <td>1198</td>\n",
       "    </tr>\n",
       "  </tbody>\n",
       "</table>\n",
       "</div>"
      ],
      "text/plain": [
       "    comp_name feature_name  intensity  feature_id  comp_id\n",
       "4   UNPD98266     peak_110   1.294890          41    33256\n",
       "5   UNPD98266     peak_191   2.076612          82    33256\n",
       "12  UNPD98266    peak_5691  16.325846        1922    33256\n",
       "18  UNPD98266    peak_6984   2.461923        2146    33256\n",
       "24   UNPD3499     peak_191   3.612248          82     1198"
      ]
     },
     "execution_count": 112,
     "metadata": {},
     "output_type": "execute_result"
    }
   ],
   "source": [
    "new_peak_silico.head()"
   ]
  },
  {
   "cell_type": "code",
   "execution_count": 115,
   "metadata": {},
   "outputs": [
    {
     "data": {
      "text/plain": [
       "(1160638, 5)"
      ]
     },
     "execution_count": 115,
     "metadata": {},
     "output_type": "execute_result"
    }
   ],
   "source": [
    "new_peak_silico.shape"
   ]
  },
  {
   "cell_type": "markdown",
   "metadata": {},
   "source": [
    "#### Appending new columns to loss"
   ]
  },
  {
   "cell_type": "code",
   "execution_count": 116,
   "metadata": {},
   "outputs": [
    {
     "data": {
      "text/plain": [
       "(1347339,)"
      ]
     },
     "execution_count": 116,
     "metadata": {},
     "output_type": "execute_result"
    }
   ],
   "source": [
    "ind_loss_silico = loss_silico['comp_name'].apply(lambda x: x in cnames_silico)\n",
    "ind_loss_silico.shape"
   ]
  },
  {
   "cell_type": "code",
   "execution_count": 117,
   "metadata": {},
   "outputs": [
    {
     "data": {
      "text/plain": [
       "(1345359, 3)"
      ]
     },
     "execution_count": 117,
     "metadata": {},
     "output_type": "execute_result"
    }
   ],
   "source": [
    "new_loss_silico = loss_silico[ind_loss_silico]\n",
    "new_loss_silico.shape"
   ]
  },
  {
   "cell_type": "code",
   "execution_count": 118,
   "metadata": {},
   "outputs": [
    {
     "name": "stderr",
     "output_type": "stream",
     "text": [
      "/uufs/chpc.utah.edu/sys/installdir/python/3.6.3/lib/python3.6/site-packages/ipykernel_launcher.py:1: SettingWithCopyWarning: \n",
      "A value is trying to be set on a copy of a slice from a DataFrame.\n",
      "Try using .loc[row_indexer,col_indexer] = value instead\n",
      "\n",
      "See the caveats in the documentation: http://pandas.pydata.org/pandas-docs/stable/indexing.html#indexing-view-versus-copy\n",
      "  \"\"\"Entry point for launching an IPython kernel.\n"
     ]
    }
   ],
   "source": [
    "new_loss_silico['feature_id'] = new_loss_silico['feature_name'].map(lambda x: ldict.get(x))"
   ]
  },
  {
   "cell_type": "code",
   "execution_count": 119,
   "metadata": {},
   "outputs": [
    {
     "name": "stderr",
     "output_type": "stream",
     "text": [
      "/uufs/chpc.utah.edu/sys/installdir/python/3.6.3/lib/python3.6/site-packages/ipykernel_launcher.py:1: SettingWithCopyWarning: \n",
      "A value is trying to be set on a copy of a slice from a DataFrame.\n",
      "Try using .loc[row_indexer,col_indexer] = value instead\n",
      "\n",
      "See the caveats in the documentation: http://pandas.pydata.org/pandas-docs/stable/indexing.html#indexing-view-versus-copy\n",
      "  \"\"\"Entry point for launching an IPython kernel.\n"
     ]
    }
   ],
   "source": [
    "new_loss_silico['comp_id'] = new_loss_silico['comp_name'].map(lambda x: cdict_silico.get(x))"
   ]
  },
  {
   "cell_type": "code",
   "execution_count": 120,
   "metadata": {
    "scrolled": true
   },
   "outputs": [
    {
     "data": {
      "text/html": [
       "<div>\n",
       "<style>\n",
       "    .dataframe thead tr:only-child th {\n",
       "        text-align: right;\n",
       "    }\n",
       "\n",
       "    .dataframe thead th {\n",
       "        text-align: left;\n",
       "    }\n",
       "\n",
       "    .dataframe tbody tr th {\n",
       "        vertical-align: top;\n",
       "    }\n",
       "</style>\n",
       "<table border=\"1\" class=\"dataframe\">\n",
       "  <thead>\n",
       "    <tr style=\"text-align: right;\">\n",
       "      <th></th>\n",
       "      <th>comp_name</th>\n",
       "      <th>feature_name</th>\n",
       "      <th>intensity</th>\n",
       "      <th>feature_id</th>\n",
       "      <th>comp_id</th>\n",
       "    </tr>\n",
       "  </thead>\n",
       "  <tbody>\n",
       "    <tr>\n",
       "      <th>2</th>\n",
       "      <td>UNPD98266</td>\n",
       "      <td>loss_11529</td>\n",
       "      <td>1.0</td>\n",
       "      <td>5621</td>\n",
       "      <td>33256</td>\n",
       "    </tr>\n",
       "    <tr>\n",
       "      <th>5</th>\n",
       "      <td>UNPD98266</td>\n",
       "      <td>loss_10868</td>\n",
       "      <td>1.0</td>\n",
       "      <td>5401</td>\n",
       "      <td>33256</td>\n",
       "    </tr>\n",
       "    <tr>\n",
       "      <th>6</th>\n",
       "      <td>UNPD98266</td>\n",
       "      <td>loss_2897</td>\n",
       "      <td>1.0</td>\n",
       "      <td>2324</td>\n",
       "      <td>33256</td>\n",
       "    </tr>\n",
       "    <tr>\n",
       "      <th>7</th>\n",
       "      <td>UNPD98266</td>\n",
       "      <td>loss_2864</td>\n",
       "      <td>1.0</td>\n",
       "      <td>2303</td>\n",
       "      <td>33256</td>\n",
       "    </tr>\n",
       "    <tr>\n",
       "      <th>8</th>\n",
       "      <td>UNPD98266</td>\n",
       "      <td>loss_2661</td>\n",
       "      <td>1.0</td>\n",
       "      <td>2192</td>\n",
       "      <td>33256</td>\n",
       "    </tr>\n",
       "  </tbody>\n",
       "</table>\n",
       "</div>"
      ],
      "text/plain": [
       "   comp_name feature_name  intensity  feature_id  comp_id\n",
       "2  UNPD98266   loss_11529        1.0        5621    33256\n",
       "5  UNPD98266   loss_10868        1.0        5401    33256\n",
       "6  UNPD98266    loss_2897        1.0        2324    33256\n",
       "7  UNPD98266    loss_2864        1.0        2303    33256\n",
       "8  UNPD98266    loss_2661        1.0        2192    33256"
      ]
     },
     "execution_count": 120,
     "metadata": {},
     "output_type": "execute_result"
    }
   ],
   "source": [
    "new_loss_silico.head()"
   ]
  },
  {
   "cell_type": "code",
   "execution_count": 121,
   "metadata": {},
   "outputs": [
    {
     "data": {
      "text/plain": [
       "(1345359, 5)"
      ]
     },
     "execution_count": 121,
     "metadata": {},
     "output_type": "execute_result"
    }
   ],
   "source": [
    "new_loss_silico.shape"
   ]
  },
  {
   "cell_type": "markdown",
   "metadata": {},
   "source": [
    "#### Generating sparse matrix"
   ]
  },
  {
   "cell_type": "code",
   "execution_count": 125,
   "metadata": {},
   "outputs": [
    {
     "data": {
      "text/plain": [
       "<75711x7492 sparse matrix of type '<class 'numpy.float64'>'\n",
       "\twith 1157048 stored elements in COOrdinate format>"
      ]
     },
     "execution_count": 125,
     "metadata": {},
     "output_type": "execute_result"
    }
   ],
   "source": [
    "mat_peak_silico = generateSparseMatrix(new_peak_silico, pdict.max()+1)\n",
    "mat_peak_silico"
   ]
  },
  {
   "cell_type": "code",
   "execution_count": 126,
   "metadata": {},
   "outputs": [
    {
     "data": {
      "text/plain": [
       "<75711x15220 sparse matrix of type '<class 'numpy.float64'>'\n",
       "\twith 1345047 stored elements in COOrdinate format>"
      ]
     },
     "execution_count": 126,
     "metadata": {},
     "output_type": "execute_result"
    }
   ],
   "source": [
    "mat_loss_silico = generateSparseMatrix(new_loss_silico, ldict.max()+1)\n",
    "mat_loss_silico"
   ]
  },
  {
   "cell_type": "code",
   "execution_count": 159,
   "metadata": {},
   "outputs": [
    {
     "data": {
      "text/plain": [
       "<75711x22712 sparse matrix of type '<class 'numpy.float64'>'\n",
       "\twith 2502095 stored elements in COOrdinate format>"
      ]
     },
     "execution_count": 159,
     "metadata": {},
     "output_type": "execute_result"
    }
   ],
   "source": [
    "mat_features_silico = hstack([mat_peak_silico, mat_loss_silico])\n",
    "mat_features_silico"
   ]
  },
  {
   "cell_type": "markdown",
   "metadata": {},
   "source": [
    "## Dealing with Class Data"
   ]
  },
  {
   "cell_type": "markdown",
   "metadata": {},
   "source": [
    "### Inga Data"
   ]
  },
  {
   "cell_type": "markdown",
   "metadata": {},
   "source": [
    "#### Filtering out unselected records"
   ]
  },
  {
   "cell_type": "code",
   "execution_count": 132,
   "metadata": {},
   "outputs": [
    {
     "data": {
      "text/plain": [
       "(842,)"
      ]
     },
     "execution_count": 132,
     "metadata": {},
     "output_type": "execute_result"
    }
   ],
   "source": [
    "ind_classes_inga = classes_inga['comp_name'].apply(lambda x: x in cnames_inga)\n",
    "ind_classes_inga.shape"
   ]
  },
  {
   "cell_type": "code",
   "execution_count": 133,
   "metadata": {},
   "outputs": [
    {
     "data": {
      "text/plain": [
       "(842, 72)"
      ]
     },
     "execution_count": 133,
     "metadata": {},
     "output_type": "execute_result"
    }
   ],
   "source": [
    "new_classes_inga = classes_inga[ind_classes_inga]\n",
    "new_classes_inga.shape"
   ]
  },
  {
   "cell_type": "markdown",
   "metadata": {},
   "source": [
    "#### Sorting by comp_id"
   ]
  },
  {
   "cell_type": "code",
   "execution_count": 134,
   "metadata": {},
   "outputs": [],
   "source": [
    "new_classes_inga['comp_id'] = new_classes_inga['comp_name'].map(lambda x: cdict_inga.get(x))"
   ]
  },
  {
   "cell_type": "code",
   "execution_count": 135,
   "metadata": {},
   "outputs": [],
   "source": [
    "new_classes_inga = new_classes_inga.set_index('comp_id')"
   ]
  },
  {
   "cell_type": "code",
   "execution_count": 136,
   "metadata": {},
   "outputs": [],
   "source": [
    "new_classes_inga = new_classes_inga.sort_index()"
   ]
  },
  {
   "cell_type": "code",
   "execution_count": 137,
   "metadata": {},
   "outputs": [
    {
     "data": {
      "text/plain": [
       "(842, 72)"
      ]
     },
     "execution_count": 137,
     "metadata": {},
     "output_type": "execute_result"
    }
   ],
   "source": [
    "new_classes_inga.shape"
   ]
  },
  {
   "cell_type": "code",
   "execution_count": 138,
   "metadata": {},
   "outputs": [
    {
     "data": {
      "text/html": [
       "<div>\n",
       "<style>\n",
       "    .dataframe thead tr:only-child th {\n",
       "        text-align: right;\n",
       "    }\n",
       "\n",
       "    .dataframe thead th {\n",
       "        text-align: left;\n",
       "    }\n",
       "\n",
       "    .dataframe tbody tr th {\n",
       "        vertical-align: top;\n",
       "    }\n",
       "</style>\n",
       "<table border=\"1\" class=\"dataframe\">\n",
       "  <thead>\n",
       "    <tr style=\"text-align: right;\">\n",
       "      <th></th>\n",
       "      <th>Phenolic</th>\n",
       "      <th>Flavonoid</th>\n",
       "      <th>Flavone</th>\n",
       "      <th>Flavonol</th>\n",
       "      <th>DihydroFlavone</th>\n",
       "      <th>Flavan3ol</th>\n",
       "      <th>Dihydroflavonol</th>\n",
       "      <th>Anthocyanidin</th>\n",
       "      <th>Chalcone</th>\n",
       "      <th>Aurone</th>\n",
       "      <th>...</th>\n",
       "      <th>QuinicAcid</th>\n",
       "      <th>Naringenin</th>\n",
       "      <th>Catechin_OR_Epicatechin</th>\n",
       "      <th>Myricetin</th>\n",
       "      <th>Kaempferol</th>\n",
       "      <th>Afzelechin</th>\n",
       "      <th>Gallocatechin</th>\n",
       "      <th>Quercetin</th>\n",
       "      <th>Apigenin</th>\n",
       "      <th>comp_name</th>\n",
       "    </tr>\n",
       "    <tr>\n",
       "      <th>comp_id</th>\n",
       "      <th></th>\n",
       "      <th></th>\n",
       "      <th></th>\n",
       "      <th></th>\n",
       "      <th></th>\n",
       "      <th></th>\n",
       "      <th></th>\n",
       "      <th></th>\n",
       "      <th></th>\n",
       "      <th></th>\n",
       "      <th></th>\n",
       "      <th></th>\n",
       "      <th></th>\n",
       "      <th></th>\n",
       "      <th></th>\n",
       "      <th></th>\n",
       "      <th></th>\n",
       "      <th></th>\n",
       "      <th></th>\n",
       "      <th></th>\n",
       "      <th></th>\n",
       "    </tr>\n",
       "  </thead>\n",
       "  <tbody>\n",
       "    <tr>\n",
       "      <th>0</th>\n",
       "      <td>1</td>\n",
       "      <td>1</td>\n",
       "      <td>0</td>\n",
       "      <td>1</td>\n",
       "      <td>0</td>\n",
       "      <td>0</td>\n",
       "      <td>1</td>\n",
       "      <td>0</td>\n",
       "      <td>0</td>\n",
       "      <td>0</td>\n",
       "      <td>...</td>\n",
       "      <td>0</td>\n",
       "      <td>0</td>\n",
       "      <td>1</td>\n",
       "      <td>0</td>\n",
       "      <td>0</td>\n",
       "      <td>0</td>\n",
       "      <td>1</td>\n",
       "      <td>0</td>\n",
       "      <td>0</td>\n",
       "      <td>Inga_compound_15</td>\n",
       "    </tr>\n",
       "    <tr>\n",
       "      <th>1</th>\n",
       "      <td>1</td>\n",
       "      <td>1</td>\n",
       "      <td>0</td>\n",
       "      <td>1</td>\n",
       "      <td>0</td>\n",
       "      <td>0</td>\n",
       "      <td>1</td>\n",
       "      <td>0</td>\n",
       "      <td>0</td>\n",
       "      <td>0</td>\n",
       "      <td>...</td>\n",
       "      <td>0</td>\n",
       "      <td>0</td>\n",
       "      <td>1</td>\n",
       "      <td>0</td>\n",
       "      <td>0</td>\n",
       "      <td>0</td>\n",
       "      <td>0</td>\n",
       "      <td>0</td>\n",
       "      <td>0</td>\n",
       "      <td>Inga_compound_18</td>\n",
       "    </tr>\n",
       "    <tr>\n",
       "      <th>2</th>\n",
       "      <td>1</td>\n",
       "      <td>0</td>\n",
       "      <td>0</td>\n",
       "      <td>0</td>\n",
       "      <td>0</td>\n",
       "      <td>0</td>\n",
       "      <td>0</td>\n",
       "      <td>0</td>\n",
       "      <td>0</td>\n",
       "      <td>0</td>\n",
       "      <td>...</td>\n",
       "      <td>0</td>\n",
       "      <td>0</td>\n",
       "      <td>0</td>\n",
       "      <td>0</td>\n",
       "      <td>0</td>\n",
       "      <td>0</td>\n",
       "      <td>0</td>\n",
       "      <td>0</td>\n",
       "      <td>0</td>\n",
       "      <td>Inga_compound_20</td>\n",
       "    </tr>\n",
       "    <tr>\n",
       "      <th>3</th>\n",
       "      <td>1</td>\n",
       "      <td>0</td>\n",
       "      <td>0</td>\n",
       "      <td>0</td>\n",
       "      <td>0</td>\n",
       "      <td>0</td>\n",
       "      <td>0</td>\n",
       "      <td>0</td>\n",
       "      <td>0</td>\n",
       "      <td>0</td>\n",
       "      <td>...</td>\n",
       "      <td>0</td>\n",
       "      <td>0</td>\n",
       "      <td>0</td>\n",
       "      <td>0</td>\n",
       "      <td>0</td>\n",
       "      <td>0</td>\n",
       "      <td>0</td>\n",
       "      <td>0</td>\n",
       "      <td>0</td>\n",
       "      <td>Inga_compound_24</td>\n",
       "    </tr>\n",
       "    <tr>\n",
       "      <th>4</th>\n",
       "      <td>1</td>\n",
       "      <td>1</td>\n",
       "      <td>0</td>\n",
       "      <td>1</td>\n",
       "      <td>0</td>\n",
       "      <td>0</td>\n",
       "      <td>1</td>\n",
       "      <td>0</td>\n",
       "      <td>0</td>\n",
       "      <td>0</td>\n",
       "      <td>...</td>\n",
       "      <td>0</td>\n",
       "      <td>0</td>\n",
       "      <td>1</td>\n",
       "      <td>0</td>\n",
       "      <td>0</td>\n",
       "      <td>0</td>\n",
       "      <td>0</td>\n",
       "      <td>0</td>\n",
       "      <td>0</td>\n",
       "      <td>Inga_compound_25</td>\n",
       "    </tr>\n",
       "  </tbody>\n",
       "</table>\n",
       "<p>5 rows × 72 columns</p>\n",
       "</div>"
      ],
      "text/plain": [
       "         Phenolic  Flavonoid  Flavone  Flavonol  DihydroFlavone  Flavan3ol  \\\n",
       "comp_id                                                                      \n",
       "0               1          1        0         1               0          0   \n",
       "1               1          1        0         1               0          0   \n",
       "2               1          0        0         0               0          0   \n",
       "3               1          0        0         0               0          0   \n",
       "4               1          1        0         1               0          0   \n",
       "\n",
       "         Dihydroflavonol  Anthocyanidin  Chalcone  Aurone        ...         \\\n",
       "comp_id                                                          ...          \n",
       "0                      1              0         0       0        ...          \n",
       "1                      1              0         0       0        ...          \n",
       "2                      0              0         0       0        ...          \n",
       "3                      0              0         0       0        ...          \n",
       "4                      1              0         0       0        ...          \n",
       "\n",
       "         QuinicAcid  Naringenin  Catechin_OR_Epicatechin  Myricetin  \\\n",
       "comp_id                                                               \n",
       "0                 0           0                        1          0   \n",
       "1                 0           0                        1          0   \n",
       "2                 0           0                        0          0   \n",
       "3                 0           0                        0          0   \n",
       "4                 0           0                        1          0   \n",
       "\n",
       "         Kaempferol  Afzelechin  Gallocatechin  Quercetin  Apigenin  \\\n",
       "comp_id                                                               \n",
       "0                 0           0              1          0         0   \n",
       "1                 0           0              0          0         0   \n",
       "2                 0           0              0          0         0   \n",
       "3                 0           0              0          0         0   \n",
       "4                 0           0              0          0         0   \n",
       "\n",
       "                comp_name  \n",
       "comp_id                    \n",
       "0        Inga_compound_15  \n",
       "1        Inga_compound_18  \n",
       "2        Inga_compound_20  \n",
       "3        Inga_compound_24  \n",
       "4        Inga_compound_25  \n",
       "\n",
       "[5 rows x 72 columns]"
      ]
     },
     "execution_count": 138,
     "metadata": {},
     "output_type": "execute_result"
    }
   ],
   "source": [
    "new_classes_inga.head()"
   ]
  },
  {
   "cell_type": "markdown",
   "metadata": {},
   "source": [
    "#### Generating dense matrix"
   ]
  },
  {
   "cell_type": "code",
   "execution_count": 139,
   "metadata": {},
   "outputs": [],
   "source": [
    "mat_classes_inga = new_classes_inga.iloc[:,:-1].as_matrix()"
   ]
  },
  {
   "cell_type": "code",
   "execution_count": 140,
   "metadata": {},
   "outputs": [
    {
     "data": {
      "text/plain": [
       "(842, 71)"
      ]
     },
     "execution_count": 140,
     "metadata": {},
     "output_type": "execute_result"
    }
   ],
   "source": [
    "mat_classes_inga.shape"
   ]
  },
  {
   "cell_type": "markdown",
   "metadata": {},
   "source": [
    "### In Silico Data"
   ]
  },
  {
   "cell_type": "markdown",
   "metadata": {},
   "source": [
    "#### Filtering out unselected records"
   ]
  },
  {
   "cell_type": "code",
   "execution_count": 141,
   "metadata": {},
   "outputs": [
    {
     "data": {
      "text/plain": [
       "(76061,)"
      ]
     },
     "execution_count": 141,
     "metadata": {},
     "output_type": "execute_result"
    }
   ],
   "source": [
    "ind_classes_silico = classes_silico['comp_name'].apply(lambda x: x in cnames_silico)\n",
    "ind_classes_silico.shape"
   ]
  },
  {
   "cell_type": "code",
   "execution_count": 142,
   "metadata": {},
   "outputs": [
    {
     "data": {
      "text/plain": [
       "(75711, 72)"
      ]
     },
     "execution_count": 142,
     "metadata": {},
     "output_type": "execute_result"
    }
   ],
   "source": [
    "new_classes_silico = classes_silico[ind_classes_silico]\n",
    "new_classes_silico.shape"
   ]
  },
  {
   "cell_type": "markdown",
   "metadata": {},
   "source": [
    "#### Sorting by comp_id"
   ]
  },
  {
   "cell_type": "code",
   "execution_count": 143,
   "metadata": {},
   "outputs": [
    {
     "name": "stderr",
     "output_type": "stream",
     "text": [
      "/uufs/chpc.utah.edu/sys/installdir/python/3.6.3/lib/python3.6/site-packages/ipykernel_launcher.py:1: SettingWithCopyWarning: \n",
      "A value is trying to be set on a copy of a slice from a DataFrame.\n",
      "Try using .loc[row_indexer,col_indexer] = value instead\n",
      "\n",
      "See the caveats in the documentation: http://pandas.pydata.org/pandas-docs/stable/indexing.html#indexing-view-versus-copy\n",
      "  \"\"\"Entry point for launching an IPython kernel.\n"
     ]
    }
   ],
   "source": [
    "new_classes_silico['comp_id'] = new_classes_silico['comp_name'].map(lambda x: cdict_silico.get(x))"
   ]
  },
  {
   "cell_type": "code",
   "execution_count": 144,
   "metadata": {},
   "outputs": [],
   "source": [
    "new_classes_silico = new_classes_silico.set_index('comp_id')"
   ]
  },
  {
   "cell_type": "code",
   "execution_count": 145,
   "metadata": {},
   "outputs": [],
   "source": [
    "new_classes_silico = new_classes_silico.sort_index()"
   ]
  },
  {
   "cell_type": "code",
   "execution_count": 146,
   "metadata": {},
   "outputs": [
    {
     "data": {
      "text/plain": [
       "(75711, 72)"
      ]
     },
     "execution_count": 146,
     "metadata": {},
     "output_type": "execute_result"
    }
   ],
   "source": [
    "new_classes_silico.shape"
   ]
  },
  {
   "cell_type": "code",
   "execution_count": 147,
   "metadata": {},
   "outputs": [
    {
     "data": {
      "text/html": [
       "<div>\n",
       "<style>\n",
       "    .dataframe thead tr:only-child th {\n",
       "        text-align: right;\n",
       "    }\n",
       "\n",
       "    .dataframe thead th {\n",
       "        text-align: left;\n",
       "    }\n",
       "\n",
       "    .dataframe tbody tr th {\n",
       "        vertical-align: top;\n",
       "    }\n",
       "</style>\n",
       "<table border=\"1\" class=\"dataframe\">\n",
       "  <thead>\n",
       "    <tr style=\"text-align: right;\">\n",
       "      <th></th>\n",
       "      <th>Phenolic</th>\n",
       "      <th>Flavonoid</th>\n",
       "      <th>Flavone</th>\n",
       "      <th>Flavonol</th>\n",
       "      <th>DihydroFlavone</th>\n",
       "      <th>Flavan3ol</th>\n",
       "      <th>Dihydroflavonol</th>\n",
       "      <th>Anthocyanidin</th>\n",
       "      <th>Chalcone</th>\n",
       "      <th>Aurone</th>\n",
       "      <th>...</th>\n",
       "      <th>QuinicAcid</th>\n",
       "      <th>Naringenin</th>\n",
       "      <th>Catechin_OR_Epicatechin</th>\n",
       "      <th>Myricetin</th>\n",
       "      <th>Kaempferol</th>\n",
       "      <th>Afzelechin</th>\n",
       "      <th>Gallocatechin</th>\n",
       "      <th>Quercetin</th>\n",
       "      <th>Apigenin</th>\n",
       "      <th>comp_name</th>\n",
       "    </tr>\n",
       "    <tr>\n",
       "      <th>comp_id</th>\n",
       "      <th></th>\n",
       "      <th></th>\n",
       "      <th></th>\n",
       "      <th></th>\n",
       "      <th></th>\n",
       "      <th></th>\n",
       "      <th></th>\n",
       "      <th></th>\n",
       "      <th></th>\n",
       "      <th></th>\n",
       "      <th></th>\n",
       "      <th></th>\n",
       "      <th></th>\n",
       "      <th></th>\n",
       "      <th></th>\n",
       "      <th></th>\n",
       "      <th></th>\n",
       "      <th></th>\n",
       "      <th></th>\n",
       "      <th></th>\n",
       "      <th></th>\n",
       "    </tr>\n",
       "  </thead>\n",
       "  <tbody>\n",
       "    <tr>\n",
       "      <th>0</th>\n",
       "      <td>1</td>\n",
       "      <td>1</td>\n",
       "      <td>0</td>\n",
       "      <td>1</td>\n",
       "      <td>0</td>\n",
       "      <td>0</td>\n",
       "      <td>0</td>\n",
       "      <td>0</td>\n",
       "      <td>0</td>\n",
       "      <td>0</td>\n",
       "      <td>...</td>\n",
       "      <td>0</td>\n",
       "      <td>0</td>\n",
       "      <td>0</td>\n",
       "      <td>0</td>\n",
       "      <td>0</td>\n",
       "      <td>0</td>\n",
       "      <td>0</td>\n",
       "      <td>1</td>\n",
       "      <td>0</td>\n",
       "      <td>UNPD2</td>\n",
       "    </tr>\n",
       "    <tr>\n",
       "      <th>1</th>\n",
       "      <td>1</td>\n",
       "      <td>0</td>\n",
       "      <td>0</td>\n",
       "      <td>0</td>\n",
       "      <td>0</td>\n",
       "      <td>0</td>\n",
       "      <td>0</td>\n",
       "      <td>0</td>\n",
       "      <td>0</td>\n",
       "      <td>0</td>\n",
       "      <td>...</td>\n",
       "      <td>0</td>\n",
       "      <td>0</td>\n",
       "      <td>0</td>\n",
       "      <td>0</td>\n",
       "      <td>0</td>\n",
       "      <td>0</td>\n",
       "      <td>0</td>\n",
       "      <td>0</td>\n",
       "      <td>0</td>\n",
       "      <td>UNPD6</td>\n",
       "    </tr>\n",
       "    <tr>\n",
       "      <th>2</th>\n",
       "      <td>1</td>\n",
       "      <td>0</td>\n",
       "      <td>0</td>\n",
       "      <td>0</td>\n",
       "      <td>0</td>\n",
       "      <td>0</td>\n",
       "      <td>0</td>\n",
       "      <td>0</td>\n",
       "      <td>0</td>\n",
       "      <td>0</td>\n",
       "      <td>...</td>\n",
       "      <td>0</td>\n",
       "      <td>0</td>\n",
       "      <td>0</td>\n",
       "      <td>0</td>\n",
       "      <td>0</td>\n",
       "      <td>0</td>\n",
       "      <td>0</td>\n",
       "      <td>0</td>\n",
       "      <td>0</td>\n",
       "      <td>UNPD10</td>\n",
       "    </tr>\n",
       "    <tr>\n",
       "      <th>3</th>\n",
       "      <td>1</td>\n",
       "      <td>0</td>\n",
       "      <td>0</td>\n",
       "      <td>0</td>\n",
       "      <td>0</td>\n",
       "      <td>0</td>\n",
       "      <td>0</td>\n",
       "      <td>0</td>\n",
       "      <td>0</td>\n",
       "      <td>0</td>\n",
       "      <td>...</td>\n",
       "      <td>0</td>\n",
       "      <td>0</td>\n",
       "      <td>0</td>\n",
       "      <td>0</td>\n",
       "      <td>0</td>\n",
       "      <td>0</td>\n",
       "      <td>0</td>\n",
       "      <td>0</td>\n",
       "      <td>0</td>\n",
       "      <td>UNPD13</td>\n",
       "    </tr>\n",
       "    <tr>\n",
       "      <th>4</th>\n",
       "      <td>0</td>\n",
       "      <td>0</td>\n",
       "      <td>0</td>\n",
       "      <td>0</td>\n",
       "      <td>0</td>\n",
       "      <td>0</td>\n",
       "      <td>0</td>\n",
       "      <td>0</td>\n",
       "      <td>0</td>\n",
       "      <td>0</td>\n",
       "      <td>...</td>\n",
       "      <td>0</td>\n",
       "      <td>0</td>\n",
       "      <td>0</td>\n",
       "      <td>0</td>\n",
       "      <td>0</td>\n",
       "      <td>0</td>\n",
       "      <td>0</td>\n",
       "      <td>0</td>\n",
       "      <td>0</td>\n",
       "      <td>UNPD17</td>\n",
       "    </tr>\n",
       "  </tbody>\n",
       "</table>\n",
       "<p>5 rows × 72 columns</p>\n",
       "</div>"
      ],
      "text/plain": [
       "         Phenolic  Flavonoid  Flavone  Flavonol  DihydroFlavone  Flavan3ol  \\\n",
       "comp_id                                                                      \n",
       "0               1          1        0         1               0          0   \n",
       "1               1          0        0         0               0          0   \n",
       "2               1          0        0         0               0          0   \n",
       "3               1          0        0         0               0          0   \n",
       "4               0          0        0         0               0          0   \n",
       "\n",
       "         Dihydroflavonol  Anthocyanidin  Chalcone  Aurone    ...      \\\n",
       "comp_id                                                      ...       \n",
       "0                      0              0         0       0    ...       \n",
       "1                      0              0         0       0    ...       \n",
       "2                      0              0         0       0    ...       \n",
       "3                      0              0         0       0    ...       \n",
       "4                      0              0         0       0    ...       \n",
       "\n",
       "         QuinicAcid  Naringenin  Catechin_OR_Epicatechin  Myricetin  \\\n",
       "comp_id                                                               \n",
       "0                 0           0                        0          0   \n",
       "1                 0           0                        0          0   \n",
       "2                 0           0                        0          0   \n",
       "3                 0           0                        0          0   \n",
       "4                 0           0                        0          0   \n",
       "\n",
       "         Kaempferol  Afzelechin  Gallocatechin  Quercetin  Apigenin  comp_name  \n",
       "comp_id                                                                         \n",
       "0                 0           0              0          1         0      UNPD2  \n",
       "1                 0           0              0          0         0      UNPD6  \n",
       "2                 0           0              0          0         0     UNPD10  \n",
       "3                 0           0              0          0         0     UNPD13  \n",
       "4                 0           0              0          0         0     UNPD17  \n",
       "\n",
       "[5 rows x 72 columns]"
      ]
     },
     "execution_count": 147,
     "metadata": {},
     "output_type": "execute_result"
    }
   ],
   "source": [
    "new_classes_silico.head()"
   ]
  },
  {
   "cell_type": "markdown",
   "metadata": {},
   "source": [
    "#### Generating dense matrix"
   ]
  },
  {
   "cell_type": "code",
   "execution_count": 148,
   "metadata": {},
   "outputs": [],
   "source": [
    "mat_classes_silico = new_classes_silico.iloc[:,:-1].as_matrix()"
   ]
  },
  {
   "cell_type": "code",
   "execution_count": 149,
   "metadata": {},
   "outputs": [
    {
     "data": {
      "text/plain": [
       "(75711, 71)"
      ]
     },
     "execution_count": 149,
     "metadata": {},
     "output_type": "execute_result"
    }
   ],
   "source": [
    "mat_classes_silico.shape"
   ]
  },
  {
   "cell_type": "markdown",
   "metadata": {},
   "source": [
    "## Distributions"
   ]
  },
  {
   "cell_type": "markdown",
   "metadata": {},
   "source": [
    "### Inga Data"
   ]
  },
  {
   "cell_type": "code",
   "execution_count": 150,
   "metadata": {},
   "outputs": [
    {
     "data": {
      "text/html": [
       "<div>\n",
       "<style>\n",
       "    .dataframe thead tr:only-child th {\n",
       "        text-align: right;\n",
       "    }\n",
       "\n",
       "    .dataframe thead th {\n",
       "        text-align: left;\n",
       "    }\n",
       "\n",
       "    .dataframe tbody tr th {\n",
       "        vertical-align: top;\n",
       "    }\n",
       "</style>\n",
       "<table border=\"1\" class=\"dataframe\">\n",
       "  <thead>\n",
       "    <tr style=\"text-align: right;\">\n",
       "      <th></th>\n",
       "      <th>Phenolic</th>\n",
       "      <th>Flavonoid</th>\n",
       "      <th>Flavone</th>\n",
       "      <th>Flavonol</th>\n",
       "      <th>DihydroFlavone</th>\n",
       "      <th>Flavan3ol</th>\n",
       "      <th>Dihydroflavonol</th>\n",
       "      <th>Anthocyanidin</th>\n",
       "      <th>Chalcone</th>\n",
       "      <th>Aurone</th>\n",
       "      <th>...</th>\n",
       "      <th>Xanthonoid</th>\n",
       "      <th>QuinicAcid</th>\n",
       "      <th>Naringenin</th>\n",
       "      <th>Catechin_OR_Epicatechin</th>\n",
       "      <th>Myricetin</th>\n",
       "      <th>Kaempferol</th>\n",
       "      <th>Afzelechin</th>\n",
       "      <th>Gallocatechin</th>\n",
       "      <th>Quercetin</th>\n",
       "      <th>Apigenin</th>\n",
       "    </tr>\n",
       "    <tr>\n",
       "      <th>comp_id</th>\n",
       "      <th></th>\n",
       "      <th></th>\n",
       "      <th></th>\n",
       "      <th></th>\n",
       "      <th></th>\n",
       "      <th></th>\n",
       "      <th></th>\n",
       "      <th></th>\n",
       "      <th></th>\n",
       "      <th></th>\n",
       "      <th></th>\n",
       "      <th></th>\n",
       "      <th></th>\n",
       "      <th></th>\n",
       "      <th></th>\n",
       "      <th></th>\n",
       "      <th></th>\n",
       "      <th></th>\n",
       "      <th></th>\n",
       "      <th></th>\n",
       "      <th></th>\n",
       "    </tr>\n",
       "  </thead>\n",
       "  <tbody>\n",
       "    <tr>\n",
       "      <th>0</th>\n",
       "      <td>1</td>\n",
       "      <td>1</td>\n",
       "      <td>0</td>\n",
       "      <td>1</td>\n",
       "      <td>0</td>\n",
       "      <td>0</td>\n",
       "      <td>1</td>\n",
       "      <td>0</td>\n",
       "      <td>0</td>\n",
       "      <td>0</td>\n",
       "      <td>...</td>\n",
       "      <td>0</td>\n",
       "      <td>0</td>\n",
       "      <td>0</td>\n",
       "      <td>1</td>\n",
       "      <td>0</td>\n",
       "      <td>0</td>\n",
       "      <td>0</td>\n",
       "      <td>1</td>\n",
       "      <td>0</td>\n",
       "      <td>0</td>\n",
       "    </tr>\n",
       "    <tr>\n",
       "      <th>1</th>\n",
       "      <td>1</td>\n",
       "      <td>1</td>\n",
       "      <td>0</td>\n",
       "      <td>1</td>\n",
       "      <td>0</td>\n",
       "      <td>0</td>\n",
       "      <td>1</td>\n",
       "      <td>0</td>\n",
       "      <td>0</td>\n",
       "      <td>0</td>\n",
       "      <td>...</td>\n",
       "      <td>0</td>\n",
       "      <td>0</td>\n",
       "      <td>0</td>\n",
       "      <td>1</td>\n",
       "      <td>0</td>\n",
       "      <td>0</td>\n",
       "      <td>0</td>\n",
       "      <td>0</td>\n",
       "      <td>0</td>\n",
       "      <td>0</td>\n",
       "    </tr>\n",
       "    <tr>\n",
       "      <th>2</th>\n",
       "      <td>1</td>\n",
       "      <td>0</td>\n",
       "      <td>0</td>\n",
       "      <td>0</td>\n",
       "      <td>0</td>\n",
       "      <td>0</td>\n",
       "      <td>0</td>\n",
       "      <td>0</td>\n",
       "      <td>0</td>\n",
       "      <td>0</td>\n",
       "      <td>...</td>\n",
       "      <td>0</td>\n",
       "      <td>0</td>\n",
       "      <td>0</td>\n",
       "      <td>0</td>\n",
       "      <td>0</td>\n",
       "      <td>0</td>\n",
       "      <td>0</td>\n",
       "      <td>0</td>\n",
       "      <td>0</td>\n",
       "      <td>0</td>\n",
       "    </tr>\n",
       "    <tr>\n",
       "      <th>3</th>\n",
       "      <td>1</td>\n",
       "      <td>0</td>\n",
       "      <td>0</td>\n",
       "      <td>0</td>\n",
       "      <td>0</td>\n",
       "      <td>0</td>\n",
       "      <td>0</td>\n",
       "      <td>0</td>\n",
       "      <td>0</td>\n",
       "      <td>0</td>\n",
       "      <td>...</td>\n",
       "      <td>0</td>\n",
       "      <td>0</td>\n",
       "      <td>0</td>\n",
       "      <td>0</td>\n",
       "      <td>0</td>\n",
       "      <td>0</td>\n",
       "      <td>0</td>\n",
       "      <td>0</td>\n",
       "      <td>0</td>\n",
       "      <td>0</td>\n",
       "    </tr>\n",
       "    <tr>\n",
       "      <th>4</th>\n",
       "      <td>1</td>\n",
       "      <td>1</td>\n",
       "      <td>0</td>\n",
       "      <td>1</td>\n",
       "      <td>0</td>\n",
       "      <td>0</td>\n",
       "      <td>1</td>\n",
       "      <td>0</td>\n",
       "      <td>0</td>\n",
       "      <td>0</td>\n",
       "      <td>...</td>\n",
       "      <td>0</td>\n",
       "      <td>0</td>\n",
       "      <td>0</td>\n",
       "      <td>1</td>\n",
       "      <td>0</td>\n",
       "      <td>0</td>\n",
       "      <td>0</td>\n",
       "      <td>0</td>\n",
       "      <td>0</td>\n",
       "      <td>0</td>\n",
       "    </tr>\n",
       "  </tbody>\n",
       "</table>\n",
       "<p>5 rows × 71 columns</p>\n",
       "</div>"
      ],
      "text/plain": [
       "         Phenolic  Flavonoid  Flavone  Flavonol  DihydroFlavone  Flavan3ol  \\\n",
       "comp_id                                                                      \n",
       "0               1          1        0         1               0          0   \n",
       "1               1          1        0         1               0          0   \n",
       "2               1          0        0         0               0          0   \n",
       "3               1          0        0         0               0          0   \n",
       "4               1          1        0         1               0          0   \n",
       "\n",
       "         Dihydroflavonol  Anthocyanidin  Chalcone  Aurone    ...     \\\n",
       "comp_id                                                      ...      \n",
       "0                      1              0         0       0    ...      \n",
       "1                      1              0         0       0    ...      \n",
       "2                      0              0         0       0    ...      \n",
       "3                      0              0         0       0    ...      \n",
       "4                      1              0         0       0    ...      \n",
       "\n",
       "         Xanthonoid  QuinicAcid  Naringenin  Catechin_OR_Epicatechin  \\\n",
       "comp_id                                                                \n",
       "0                 0           0           0                        1   \n",
       "1                 0           0           0                        1   \n",
       "2                 0           0           0                        0   \n",
       "3                 0           0           0                        0   \n",
       "4                 0           0           0                        1   \n",
       "\n",
       "         Myricetin  Kaempferol  Afzelechin  Gallocatechin  Quercetin  Apigenin  \n",
       "comp_id                                                                         \n",
       "0                0           0           0              1          0         0  \n",
       "1                0           0           0              0          0         0  \n",
       "2                0           0           0              0          0         0  \n",
       "3                0           0           0              0          0         0  \n",
       "4                0           0           0              0          0         0  \n",
       "\n",
       "[5 rows x 71 columns]"
      ]
     },
     "execution_count": 150,
     "metadata": {},
     "output_type": "execute_result"
    }
   ],
   "source": [
    "y_inga = new_classes_inga.iloc[:,:-1]\n",
    "y_inga.head()"
   ]
  },
  {
   "cell_type": "code",
   "execution_count": 151,
   "metadata": {},
   "outputs": [],
   "source": [
    "n_ones_inga =  y_inga.sum()\n",
    "n_records_inga =  y_inga.shape[0]\n",
    "n_labels_inga =  y_inga.shape[1]"
   ]
  },
  {
   "cell_type": "code",
   "execution_count": 152,
   "metadata": {},
   "outputs": [
    {
     "name": "stdout",
     "output_type": "stream",
     "text": [
      "Phenolic                            753 / 842\n",
      "Flavonoid                           588 / 842\n",
      "Flavone                              39 / 842\n",
      "Flavonol                            202 / 842\n",
      "DihydroFlavone                       15 / 842\n",
      "Flavan3ol                           350 / 842\n",
      "Dihydroflavonol                      69 / 842\n",
      "Anthocyanidin                         3 / 842\n",
      "Chalcone                              0 / 842\n",
      "Aurone                                0 / 842\n",
      "FerulicAcid                           9 / 842\n",
      "CinnamicAcid                         68 / 842\n",
      "pCoumaricAcid                       107 / 842\n",
      "CaffeicAcid                          15 / 842\n",
      "GallicAcid                          327 / 842\n",
      "AminoAcid                            15 / 842\n",
      "Alanine                               9 / 842\n",
      "Arginine                              0 / 842\n",
      "Asparagine                            0 / 842\n",
      "AsparticAcid                          0 / 842\n",
      "Cysteine                              0 / 842\n",
      "GlutamicAcid                          1 / 842\n",
      "Glutamine                             1 / 842\n",
      "Histidine                             0 / 842\n",
      "Isoleucine                            0 / 842\n",
      "Leucine                               1 / 842\n",
      "Lysine                                1 / 842\n",
      "Methionine                            0 / 842\n",
      "Phenylalanine                         9 / 842\n",
      "Proline                               0 / 842\n",
      "Serine                                0 / 842\n",
      "Threonine                             0 / 842\n",
      "Tryptophan                            1 / 842\n",
      "Tyrosine                              9 / 842\n",
      "Valine                                0 / 842\n",
      "Indole                                1 / 842\n",
      "BetaCarboline                         0 / 842\n",
      "Imidazole                             2 / 842\n",
      "Pyrrolizidine                         0 / 842\n",
      "Quinolizidine                         0 / 842\n",
      "DjencolicAcid                         0 / 842\n",
      "PipecolicAcid                         2 / 842\n",
      "Triterpene                           64 / 842\n",
      "EchinocysticAcid                     29 / 842\n",
      "OleanolicAcid                        53 / 842\n",
      "AcacicAcid                            9 / 842\n",
      "Echinocystic_AminoBridge              0 / 842\n",
      "Oleanolic_LactoneBridge               4 / 842\n",
      "Echinocystic_LactoneBridge            2 / 842\n",
      "Furanose                             75 / 842\n",
      "Deoxyfuranose                         0 / 842\n",
      "Pyranose                            401 / 842\n",
      "Deoxypyranose                        67 / 842\n",
      "Ribopyranose                         10 / 842\n",
      "HexopyranuronicAcid                  23 / 842\n",
      "Glucosamine                          16 / 842\n",
      "Acetylglucosamine                     7 / 842\n",
      "PropenylRibopyranose                  0 / 842\n",
      "L_Dopa                                1 / 842\n",
      "Tyramine                             15 / 842\n",
      "FattyAcid                            11 / 842\n",
      "Xanthonoid                            2 / 842\n",
      "QuinicAcid                           23 / 842\n",
      "Naringenin                           12 / 842\n",
      "Catechin_OR_Epicatechin             242 / 842\n",
      "Myricetin                            54 / 842\n",
      "Kaempferol                           43 / 842\n",
      "Afzelechin                           45 / 842\n",
      "Gallocatechin                       124 / 842\n",
      "Quercetin                            36 / 842\n",
      "Apigenin                             23 / 842\n"
     ]
    }
   ],
   "source": [
    "for i in range(n_labels_inga):\n",
    "    print('{0:35s} {1:3d} / {2:3d}'.format(n_ones_inga.index[i], int(n_ones_inga[i]), n_records_inga))"
   ]
  },
  {
   "cell_type": "code",
   "execution_count": 153,
   "metadata": {},
   "outputs": [
    {
     "data": {
      "image/png": "[encoded data removed]",
      "text/plain": [
       "<matplotlib.figure.Figure at 0x2b90042fe048>"
      ]
     },
     "metadata": {},
     "output_type": "display_data"
    }
   ],
   "source": [
    "plt.bar(np.arange(n_labels_inga),n_ones_inga)\n",
    "plt.xticks(np.arange(n_labels_inga), n_ones_inga.index, rotation='vertical')\n",
    "plt.ylim([0,n_records_inga])\n",
    "plt.title('Number of \\'1\\'s in Each Label')\n",
    "plt.show()"
   ]
  },
  {
   "cell_type": "markdown",
   "metadata": {},
   "source": [
    "### In Silico Data"
   ]
  },
  {
   "cell_type": "code",
   "execution_count": 154,
   "metadata": {},
   "outputs": [
    {
     "data": {
      "text/html": [
       "<div>\n",
       "<style>\n",
       "    .dataframe thead tr:only-child th {\n",
       "        text-align: right;\n",
       "    }\n",
       "\n",
       "    .dataframe thead th {\n",
       "        text-align: left;\n",
       "    }\n",
       "\n",
       "    .dataframe tbody tr th {\n",
       "        vertical-align: top;\n",
       "    }\n",
       "</style>\n",
       "<table border=\"1\" class=\"dataframe\">\n",
       "  <thead>\n",
       "    <tr style=\"text-align: right;\">\n",
       "      <th></th>\n",
       "      <th>Phenolic</th>\n",
       "      <th>Flavonoid</th>\n",
       "      <th>Flavone</th>\n",
       "      <th>Flavonol</th>\n",
       "      <th>DihydroFlavone</th>\n",
       "      <th>Flavan3ol</th>\n",
       "      <th>Dihydroflavonol</th>\n",
       "      <th>Anthocyanidin</th>\n",
       "      <th>Chalcone</th>\n",
       "      <th>Aurone</th>\n",
       "      <th>...</th>\n",
       "      <th>Xanthonoid</th>\n",
       "      <th>QuinicAcid</th>\n",
       "      <th>Naringenin</th>\n",
       "      <th>Catechin_OR_Epicatechin</th>\n",
       "      <th>Myricetin</th>\n",
       "      <th>Kaempferol</th>\n",
       "      <th>Afzelechin</th>\n",
       "      <th>Gallocatechin</th>\n",
       "      <th>Quercetin</th>\n",
       "      <th>Apigenin</th>\n",
       "    </tr>\n",
       "    <tr>\n",
       "      <th>comp_id</th>\n",
       "      <th></th>\n",
       "      <th></th>\n",
       "      <th></th>\n",
       "      <th></th>\n",
       "      <th></th>\n",
       "      <th></th>\n",
       "      <th></th>\n",
       "      <th></th>\n",
       "      <th></th>\n",
       "      <th></th>\n",
       "      <th></th>\n",
       "      <th></th>\n",
       "      <th></th>\n",
       "      <th></th>\n",
       "      <th></th>\n",
       "      <th></th>\n",
       "      <th></th>\n",
       "      <th></th>\n",
       "      <th></th>\n",
       "      <th></th>\n",
       "      <th></th>\n",
       "    </tr>\n",
       "  </thead>\n",
       "  <tbody>\n",
       "    <tr>\n",
       "      <th>0</th>\n",
       "      <td>1</td>\n",
       "      <td>1</td>\n",
       "      <td>0</td>\n",
       "      <td>1</td>\n",
       "      <td>0</td>\n",
       "      <td>0</td>\n",
       "      <td>0</td>\n",
       "      <td>0</td>\n",
       "      <td>0</td>\n",
       "      <td>0</td>\n",
       "      <td>...</td>\n",
       "      <td>0</td>\n",
       "      <td>0</td>\n",
       "      <td>0</td>\n",
       "      <td>0</td>\n",
       "      <td>0</td>\n",
       "      <td>0</td>\n",
       "      <td>0</td>\n",
       "      <td>0</td>\n",
       "      <td>1</td>\n",
       "      <td>0</td>\n",
       "    </tr>\n",
       "    <tr>\n",
       "      <th>1</th>\n",
       "      <td>1</td>\n",
       "      <td>0</td>\n",
       "      <td>0</td>\n",
       "      <td>0</td>\n",
       "      <td>0</td>\n",
       "      <td>0</td>\n",
       "      <td>0</td>\n",
       "      <td>0</td>\n",
       "      <td>0</td>\n",
       "      <td>0</td>\n",
       "      <td>...</td>\n",
       "      <td>0</td>\n",
       "      <td>0</td>\n",
       "      <td>0</td>\n",
       "      <td>0</td>\n",
       "      <td>0</td>\n",
       "      <td>0</td>\n",
       "      <td>0</td>\n",
       "      <td>0</td>\n",
       "      <td>0</td>\n",
       "      <td>0</td>\n",
       "    </tr>\n",
       "    <tr>\n",
       "      <th>2</th>\n",
       "      <td>1</td>\n",
       "      <td>0</td>\n",
       "      <td>0</td>\n",
       "      <td>0</td>\n",
       "      <td>0</td>\n",
       "      <td>0</td>\n",
       "      <td>0</td>\n",
       "      <td>0</td>\n",
       "      <td>0</td>\n",
       "      <td>0</td>\n",
       "      <td>...</td>\n",
       "      <td>0</td>\n",
       "      <td>0</td>\n",
       "      <td>0</td>\n",
       "      <td>0</td>\n",
       "      <td>0</td>\n",
       "      <td>0</td>\n",
       "      <td>0</td>\n",
       "      <td>0</td>\n",
       "      <td>0</td>\n",
       "      <td>0</td>\n",
       "    </tr>\n",
       "    <tr>\n",
       "      <th>3</th>\n",
       "      <td>1</td>\n",
       "      <td>0</td>\n",
       "      <td>0</td>\n",
       "      <td>0</td>\n",
       "      <td>0</td>\n",
       "      <td>0</td>\n",
       "      <td>0</td>\n",
       "      <td>0</td>\n",
       "      <td>0</td>\n",
       "      <td>0</td>\n",
       "      <td>...</td>\n",
       "      <td>0</td>\n",
       "      <td>0</td>\n",
       "      <td>0</td>\n",
       "      <td>0</td>\n",
       "      <td>0</td>\n",
       "      <td>0</td>\n",
       "      <td>0</td>\n",
       "      <td>0</td>\n",
       "      <td>0</td>\n",
       "      <td>0</td>\n",
       "    </tr>\n",
       "    <tr>\n",
       "      <th>4</th>\n",
       "      <td>0</td>\n",
       "      <td>0</td>\n",
       "      <td>0</td>\n",
       "      <td>0</td>\n",
       "      <td>0</td>\n",
       "      <td>0</td>\n",
       "      <td>0</td>\n",
       "      <td>0</td>\n",
       "      <td>0</td>\n",
       "      <td>0</td>\n",
       "      <td>...</td>\n",
       "      <td>0</td>\n",
       "      <td>0</td>\n",
       "      <td>0</td>\n",
       "      <td>0</td>\n",
       "      <td>0</td>\n",
       "      <td>0</td>\n",
       "      <td>0</td>\n",
       "      <td>0</td>\n",
       "      <td>0</td>\n",
       "      <td>0</td>\n",
       "    </tr>\n",
       "  </tbody>\n",
       "</table>\n",
       "<p>5 rows × 71 columns</p>\n",
       "</div>"
      ],
      "text/plain": [
       "         Phenolic  Flavonoid  Flavone  Flavonol  DihydroFlavone  Flavan3ol  \\\n",
       "comp_id                                                                      \n",
       "0               1          1        0         1               0          0   \n",
       "1               1          0        0         0               0          0   \n",
       "2               1          0        0         0               0          0   \n",
       "3               1          0        0         0               0          0   \n",
       "4               0          0        0         0               0          0   \n",
       "\n",
       "         Dihydroflavonol  Anthocyanidin  Chalcone  Aurone    ...     \\\n",
       "comp_id                                                      ...      \n",
       "0                      0              0         0       0    ...      \n",
       "1                      0              0         0       0    ...      \n",
       "2                      0              0         0       0    ...      \n",
       "3                      0              0         0       0    ...      \n",
       "4                      0              0         0       0    ...      \n",
       "\n",
       "         Xanthonoid  QuinicAcid  Naringenin  Catechin_OR_Epicatechin  \\\n",
       "comp_id                                                                \n",
       "0                 0           0           0                        0   \n",
       "1                 0           0           0                        0   \n",
       "2                 0           0           0                        0   \n",
       "3                 0           0           0                        0   \n",
       "4                 0           0           0                        0   \n",
       "\n",
       "         Myricetin  Kaempferol  Afzelechin  Gallocatechin  Quercetin  Apigenin  \n",
       "comp_id                                                                         \n",
       "0                0           0           0              0          1         0  \n",
       "1                0           0           0              0          0         0  \n",
       "2                0           0           0              0          0         0  \n",
       "3                0           0           0              0          0         0  \n",
       "4                0           0           0              0          0         0  \n",
       "\n",
       "[5 rows x 71 columns]"
      ]
     },
     "execution_count": 154,
     "metadata": {},
     "output_type": "execute_result"
    }
   ],
   "source": [
    "y_silico = new_classes_silico.iloc[:,:-1]\n",
    "y_silico.head()"
   ]
  },
  {
   "cell_type": "code",
   "execution_count": 155,
   "metadata": {},
   "outputs": [],
   "source": [
    "n_ones_silico =  y_silico.sum()\n",
    "n_records_silico =  y_silico.shape[0]\n",
    "n_labels_silico =  y_silico.shape[1]"
   ]
  },
  {
   "cell_type": "code",
   "execution_count": 156,
   "metadata": {},
   "outputs": [
    {
     "name": "stdout",
     "output_type": "stream",
     "text": [
      "Phenolic                            38452 / 75711\n",
      "Flavonoid                           11817 / 75711\n",
      "Flavone                             5199 / 75711\n",
      "Flavonol                            4989 / 75711\n",
      "DihydroFlavone                      1822 / 75711\n",
      "Flavan3ol                           1651 / 75711\n",
      "Dihydroflavonol                     759 / 75711\n",
      "Anthocyanidin                         4 / 75711\n",
      "Chalcone                             19 / 75711\n",
      "Aurone                              142 / 75711\n",
      "FerulicAcid                         1922 / 75711\n",
      "CinnamicAcid                        1627 / 75711\n",
      "pCoumaricAcid                       2214 / 75711\n",
      "CaffeicAcid                         1779 / 75711\n",
      "GallicAcid                          2339 / 75711\n",
      "AminoAcid                           5530 / 75711\n",
      "Alanine                             658 / 75711\n",
      "Arginine                              2 / 75711\n",
      "Asparagine                          133 / 75711\n",
      "AsparticAcid                        111 / 75711\n",
      "Cysteine                            281 / 75711\n",
      "GlutamicAcid                        203 / 75711\n",
      "Glutamine                           349 / 75711\n",
      "Histidine                            68 / 75711\n",
      "Isoleucine                          513 / 75711\n",
      "Leucine                             864 / 75711\n",
      "Lysine                              326 / 75711\n",
      "Methionine                           42 / 75711\n",
      "Phenylalanine                       658 / 75711\n",
      "Proline                             353 / 75711\n",
      "Serine                              621 / 75711\n",
      "Threonine                           433 / 75711\n",
      "Tryptophan                          214 / 75711\n",
      "Tyrosine                            389 / 75711\n",
      "Valine                              959 / 75711\n",
      "Indole                              5823 / 75711\n",
      "BetaCarboline                       557 / 75711\n",
      "Imidazole                           1329 / 75711\n",
      "Pyrrolizidine                       398 / 75711\n",
      "Quinolizidine                       1358 / 75711\n",
      "DjencolicAcid                         5 / 75711\n",
      "PipecolicAcid                       172 / 75711\n",
      "Triterpene                          8274 / 75711\n",
      "EchinocysticAcid                    918 / 75711\n",
      "OleanolicAcid                       4203 / 75711\n",
      "AcacicAcid                           82 / 75711\n",
      "Echinocystic_AminoBridge              0 / 75711\n",
      "Oleanolic_LactoneBridge              43 / 75711\n",
      "Echinocystic_LactoneBridge           12 / 75711\n",
      "Furanose                            2179 / 75711\n",
      "Deoxyfuranose                       159 / 75711\n",
      "Pyranose                            39212 / 75711\n",
      "Deoxypyranose                       3643 / 75711\n",
      "Ribopyranose                        2055 / 75711\n",
      "HexopyranuronicAcid                 3034 / 75711\n",
      "Glucosamine                         749 / 75711\n",
      "Acetylglucosamine                   644 / 75711\n",
      "PropenylRibopyranose                  0 / 75711\n",
      "L_Dopa                              127 / 75711\n",
      "Tyramine                            6370 / 75711\n",
      "FattyAcid                           5085 / 75711\n",
      "Xanthonoid                          1727 / 75711\n",
      "QuinicAcid                          385 / 75711\n",
      "Naringenin                          1125 / 75711\n",
      "Catechin_OR_Epicatechin             1093 / 75711\n",
      "Myricetin                           306 / 75711\n",
      "Kaempferol                          1644 / 75711\n",
      "Afzelechin                          202 / 75711\n",
      "Gallocatechin                       352 / 75711\n",
      "Quercetin                           1877 / 75711\n",
      "Apigenin                            2776 / 75711\n"
     ]
    }
   ],
   "source": [
    "for i in range(n_labels_silico):\n",
    "    print('{0:35s} {1:3d} / {2:3d}'.format(n_ones_silico.index[i], int(n_ones_silico[i]), n_records_silico))"
   ]
  },
  {
   "cell_type": "code",
   "execution_count": 158,
   "metadata": {
    "scrolled": false
   },
   "outputs": [
    {
     "data": {
      "image/png": "[encoded data removed]",
      "text/plain": [
       "<matplotlib.figure.Figure at 0x2b8ff74e5390>"
      ]
     },
     "metadata": {},
     "output_type": "display_data"
    }
   ],
   "source": [
    "plt.bar(np.arange(n_labels_silico),n_ones_silico)\n",
    "plt.xticks(np.arange(n_labels_silico), n_ones_silico.index, rotation='vertical')\n",
    "plt.ylim([0,n_records_silico])\n",
    "plt.title('Number of \\'1\\'s in Each Label')\n",
    "plt.show()"
   ]
  },
  {
   "cell_type": "markdown",
   "metadata": {},
   "source": [
    "## Writing to Files"
   ]
  },
  {
   "cell_type": "code",
   "execution_count": 161,
   "metadata": {},
   "outputs": [],
   "source": [
    "save_npz('features_inga', mat_features_inga)"
   ]
  },
  {
   "cell_type": "code",
   "execution_count": 162,
   "metadata": {},
   "outputs": [],
   "source": [
    "save_npz('features_silico', mat_features_silico)"
   ]
  },
  {
   "cell_type": "code",
   "execution_count": 163,
   "metadata": {},
   "outputs": [],
   "source": [
    "np.save('features_inga', mat_features_inga.todense())"
   ]
  },
  {
   "cell_type": "code",
   "execution_count": 164,
   "metadata": {},
   "outputs": [],
   "source": [
    "np.save('features_silico', mat_features_silico.todense())"
   ]
  },
  {
   "cell_type": "code",
   "execution_count": 165,
   "metadata": {},
   "outputs": [],
   "source": [
    "np.save('classes_inga', mat_classes_inga)"
   ]
  },
  {
   "cell_type": "code",
   "execution_count": 166,
   "metadata": {},
   "outputs": [],
   "source": [
    "np.save('classes_silico', mat_classes_silico)"
   ]
  }
 ],
 "metadata": {
  "kernelspec": {
   "display_name": "Python 3",
   "language": "python",
   "name": "python3"
  },
  "language_info": {
   "codemirror_mode": {
    "name": "ipython",
    "version": 3
   },
   "file_extension": ".py",
   "mimetype": "text/x-python",
   "name": "python",
   "nbconvert_exporter": "python",
   "pygments_lexer": "ipython3",
   "version": "3.6.3"
  }
 },
 "nbformat": 4,
 "nbformat_minor": 2
}
