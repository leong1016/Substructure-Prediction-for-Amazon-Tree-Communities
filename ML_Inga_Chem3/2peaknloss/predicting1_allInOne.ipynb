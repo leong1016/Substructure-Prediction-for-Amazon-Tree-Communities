{
 "cells": [
  {
   "cell_type": "code",
   "execution_count": 1,
   "metadata": {},
   "outputs": [],
   "source": [
    "import numpy as np\n",
    "\n",
    "from scipy.sparse import load_npz"
   ]
  },
  {
   "cell_type": "code",
   "execution_count": 2,
   "metadata": {},
   "outputs": [],
   "source": [
    "from sklearn.ensemble import RandomForestClassifier\n",
    "from sklearn import metrics"
   ]
  },
  {
   "cell_type": "markdown",
   "metadata": {},
   "source": [
    "### Reading data"
   ]
  },
  {
   "cell_type": "code",
   "execution_count": 16,
   "metadata": {},
   "outputs": [
    {
     "data": {
      "text/plain": [
       "<380324x1676 sparse matrix of type '<class 'numpy.float64'>'\n",
       "\twith 5001622 stored elements in Compressed Sparse Row format>"
      ]
     },
     "execution_count": 16,
     "metadata": {},
     "output_type": "execute_result"
    }
   ],
   "source": [
    "Xtrain = load_npz('features_silico_duplicated2.npz')\n",
    "Xtrain"
   ]
  },
  {
   "cell_type": "code",
   "execution_count": 17,
   "metadata": {},
   "outputs": [
    {
     "data": {
      "text/plain": [
       "(380324, 71)"
      ]
     },
     "execution_count": 17,
     "metadata": {},
     "output_type": "execute_result"
    }
   ],
   "source": [
    "Ytrain = np.load('classes_silico_duplicated2.npy')\n",
    "Ytrain.shape"
   ]
  },
  {
   "cell_type": "code",
   "execution_count": 18,
   "metadata": {},
   "outputs": [
    {
     "data": {
      "text/plain": [
       "<842x1676 sparse matrix of type '<class 'numpy.float64'>'\n",
       "\twith 14100 stored elements in Compressed Sparse Row format>"
      ]
     },
     "execution_count": 18,
     "metadata": {},
     "output_type": "execute_result"
    }
   ],
   "source": [
    "Xtest = load_npz('features_inga_dropped.npz')\n",
    "Xtest"
   ]
  },
  {
   "cell_type": "code",
   "execution_count": 19,
   "metadata": {},
   "outputs": [
    {
     "data": {
      "text/plain": [
       "(842, 71)"
      ]
     },
     "execution_count": 19,
     "metadata": {},
     "output_type": "execute_result"
    }
   ],
   "source": [
    "Ytest = np.load('classes_inga.npy')\n",
    "Ytest.shape"
   ]
  },
  {
   "cell_type": "markdown",
   "metadata": {},
   "source": [
    "### Training Model"
   ]
  },
  {
   "cell_type": "code",
   "execution_count": 7,
   "metadata": {},
   "outputs": [],
   "source": [
    "clf = RandomForestClassifier(n_estimators=100)"
   ]
  },
  {
   "cell_type": "code",
   "execution_count": 8,
   "metadata": {},
   "outputs": [
    {
     "data": {
      "text/plain": [
       "RandomForestClassifier(bootstrap=True, class_weight=None, criterion='gini',\n",
       "            max_depth=None, max_features='auto', max_leaf_nodes=None,\n",
       "            min_impurity_decrease=0.0, min_impurity_split=None,\n",
       "            min_samples_leaf=1, min_samples_split=2,\n",
       "            min_weight_fraction_leaf=0.0, n_estimators=100, n_jobs=1,\n",
       "            oob_score=False, random_state=None, verbose=0,\n",
       "            warm_start=False)"
      ]
     },
     "execution_count": 8,
     "metadata": {},
     "output_type": "execute_result"
    }
   ],
   "source": [
    "clf.fit(Xtrain, Ytrain)"
   ]
  },
  {
   "cell_type": "code",
   "execution_count": 9,
   "metadata": {},
   "outputs": [],
   "source": [
    "Ytrainpred = clf.predict(Xtrain)\n",
    "Ytestpred = clf.predict(Xtest)"
   ]
  },
  {
   "cell_type": "code",
   "execution_count": 10,
   "metadata": {},
   "outputs": [],
   "source": [
    "Ytrain = (Ytrain==1).astype('int')\n",
    "Ytest = (Ytest==1).astype('int')\n",
    "Ytrainpred = (Ytrainpred==1).astype('int')\n",
    "Ytestpred = (Ytestpred==1).astype('int')"
   ]
  },
  {
   "cell_type": "code",
   "execution_count": 11,
   "metadata": {},
   "outputs": [
    {
     "name": "stdout",
     "output_type": "stream",
     "text": [
      "             precision    recall  f1-score   support\n",
      "\n",
      "          0       0.98      0.97      0.97       753\n",
      "          1       0.97      0.48      0.64       588\n",
      "          2       0.00      0.00      0.00        39\n",
      "          3       0.00      0.00      0.00       202\n",
      "          4       0.00      0.00      0.00        15\n",
      "          5       1.00      0.02      0.04       350\n",
      "          6       0.00      0.00      0.00        69\n",
      "          7       0.00      0.00      0.00         3\n",
      "          8       0.00      0.00      0.00         0\n",
      "          9       0.00      0.00      0.00         0\n",
      "         10       0.00      0.00      0.00         9\n",
      "         11       0.00      0.00      0.00        68\n",
      "         12       1.00      0.03      0.05       107\n",
      "         13       0.67      0.13      0.22        15\n",
      "         14       0.91      0.32      0.47       327\n",
      "         15       0.14      0.20      0.17        15\n",
      "         16       0.00      0.00      0.00         9\n",
      "         17       0.00      0.00      0.00         0\n",
      "         18       0.00      0.00      0.00         0\n",
      "         19       0.00      0.00      0.00         0\n",
      "         20       0.00      0.00      0.00         0\n",
      "         21       0.00      0.00      0.00         1\n",
      "         22       0.00      0.00      0.00         1\n",
      "         23       0.00      0.00      0.00         0\n",
      "         24       0.00      0.00      0.00         0\n",
      "         25       0.00      0.00      0.00         1\n",
      "         26       0.00      0.00      0.00         1\n",
      "         27       0.00      0.00      0.00         0\n",
      "         28       0.00      0.00      0.00         9\n",
      "         29       0.00      0.00      0.00         0\n",
      "         30       0.00      0.00      0.00         0\n",
      "         31       0.00      0.00      0.00         0\n",
      "         32       0.00      0.00      0.00         1\n",
      "         33       0.00      0.00      0.00         9\n",
      "         34       0.00      0.00      0.00         0\n",
      "         35       0.25      1.00      0.40         1\n",
      "         36       0.00      0.00      0.00         0\n",
      "         37       1.00      0.50      0.67         2\n",
      "         38       0.00      0.00      0.00         0\n",
      "         39       0.00      0.00      0.00         0\n",
      "         40       0.00      0.00      0.00         0\n",
      "         41       0.00      0.00      0.00         2\n",
      "         42       0.50      0.02      0.03        64\n",
      "         43       0.00      0.00      0.00        29\n",
      "         44       0.00      0.00      0.00        53\n",
      "         45       0.00      0.00      0.00         9\n",
      "         46       0.00      0.00      0.00         0\n",
      "         47       0.00      0.00      0.00         4\n",
      "         48       0.00      0.00      0.00         2\n",
      "         49       0.00      0.00      0.00        75\n",
      "         50       0.00      0.00      0.00         0\n",
      "         51       0.79      0.09      0.17       401\n",
      "         52       0.00      0.00      0.00        67\n",
      "         53       0.00      0.00      0.00        10\n",
      "         54       0.00      0.00      0.00        23\n",
      "         55       0.00      0.00      0.00        16\n",
      "         56       0.00      0.00      0.00         7\n",
      "         57       0.00      0.00      0.00         0\n",
      "         58       0.00      0.00      0.00         1\n",
      "         59       0.11      0.07      0.08        15\n",
      "         60       0.00      0.00      0.00        11\n",
      "         61       0.00      0.00      0.00         2\n",
      "         62       0.00      0.00      0.00        23\n",
      "         63       0.00      0.00      0.00        12\n",
      "         64       0.00      0.00      0.00       242\n",
      "         65       0.00      0.00      0.00        54\n",
      "         66       0.00      0.00      0.00        43\n",
      "         67       0.00      0.00      0.00        45\n",
      "         68       0.00      0.00      0.00       124\n",
      "         69       0.00      0.00      0.00        36\n",
      "         70       0.00      0.00      0.00        23\n",
      "\n",
      "avg / total       0.61      0.29      0.34      3988\n",
      "\n"
     ]
    },
    {
     "name": "stderr",
     "output_type": "stream",
     "text": [
      "/uufs/chpc.utah.edu/sys/installdir/python/3.6.3/lib/python3.6/site-packages/sklearn/metrics/classification.py:1135: UndefinedMetricWarning: Precision and F-score are ill-defined and being set to 0.0 in labels with no predicted samples.\n",
      "  'precision', 'predicted', average, warn_for)\n",
      "/uufs/chpc.utah.edu/sys/installdir/python/3.6.3/lib/python3.6/site-packages/sklearn/metrics/classification.py:1137: UndefinedMetricWarning: Recall and F-score are ill-defined and being set to 0.0 in labels with no true samples.\n",
      "  'recall', 'true', average, warn_for)\n"
     ]
    }
   ],
   "source": [
    "print(metrics.classification_report(Ytest, Ytestpred))"
   ]
  },
  {
   "cell_type": "code",
   "execution_count": 12,
   "metadata": {},
   "outputs": [
    {
     "name": "stdout",
     "output_type": "stream",
     "text": [
      "Accuracy: \t \t 0.9985095002868882 \t 0.017814726840855107\n",
      "Hamming: \t \t 0.9999507687368846 \t 0.9514904151751363\n",
      "Precision: \t \t 0.999453826716736 \t 0.4476190476190476\n",
      "Recall: \t \t 0.9995382899827477 \t 0.9310618066561014\n",
      "F1: \t \t \t 0.9993693777241955 \t 0.29463390170511533\n"
     ]
    }
   ],
   "source": [
    "print('Accuracy: \\t \\t {} \\t {}'.format(metrics.accuracy_score(Ytrain, Ytrainpred), \n",
    "                                        metrics.accuracy_score(Ytest, Ytestpred)))\n",
    "print('Hamming: \\t \\t {} \\t {}'.format(1 - metrics.hamming_loss(Ytrain, Ytrainpred), \n",
    "                                       1 - metrics.hamming_loss(Ytest, Ytestpred)))\n",
    "print('Precision: \\t \\t {} \\t {}'.format(metrics.f1_score(Ytrain, Ytrainpred, average='micro'), \n",
    "                                         metrics.f1_score(Ytest, Ytestpred, average='micro')))\n",
    "print('Recall: \\t \\t {} \\t {}'.format(metrics.precision_score(Ytrain, Ytrainpred, average='micro'), \n",
    "                                      metrics.precision_score(Ytest, Ytestpred, average='micro')))\n",
    "print('F1: \\t \\t \\t {} \\t {}'.format(metrics.recall_score(Ytrain, Ytrainpred, average='micro'), \n",
    "                                     metrics.recall_score(Ytest, Ytestpred, average='micro')))"
   ]
  },
  {
   "cell_type": "code",
   "execution_count": 20,
   "metadata": {},
   "outputs": [],
   "source": [
    "def predict(clf, X, Y, n_splits=5):\n",
    "    kf = KFold(n_splits=n_splits, random_state=None, shuffle=True)\n",
    "    \n",
    "    accuracytrain = []\n",
    "    accuracytest = []\n",
    "    hammingtrain = []\n",
    "    hammingtest = []\n",
    "    f1train = []\n",
    "    f1test = []\n",
    "    precisiontrain = []\n",
    "    precisiontest = []\n",
    "    recalltrain = []\n",
    "    recalltest = []\n",
    "    \n",
    "    for train_index, test_index in kf.split(X):\n",
    "        Xtrain = X[train_index]\n",
    "        Ytrain = Y[train_index]\n",
    "        Xtest = X[test_index]\n",
    "        Ytest = Y[test_index]\n",
    "        \n",
    "        clf.fit(Xtrain, Ytrain)\n",
    "\n",
    "        Ytrainpred = clf.predict(Xtrain)\n",
    "        Ytestpred = clf.predict(Xtest)\n",
    "        \n",
    "        Ytrain = (Ytrain==1).astype('int')\n",
    "        Ytest = (Ytest==1).astype('int')\n",
    "        Ytrainpred = (Ytrainpred==1).astype('int')\n",
    "        Ytestpred = (Ytestpred==1).astype('int')\n",
    "        \n",
    "        accuracytrain.append(metrics.accuracy_score(Ytrain, Ytrainpred))\n",
    "        accuracytest.append(metrics.accuracy_score(Ytest, Ytestpred))\n",
    "        hammingtrain.append(1 - metrics.hamming_loss(Ytrain, Ytrainpred))\n",
    "        hammingtest.append(1 - metrics.hamming_loss(Ytest, Ytestpred))\n",
    "        f1train.append(metrics.f1_score(Ytrain, Ytrainpred, average='micro'))\n",
    "        f1test.append(metrics.f1_score(Ytest, Ytestpred, average='micro'))\n",
    "        precisiontrain.append(metrics.precision_score(Ytrain, Ytrainpred, average='micro'))\n",
    "        precisiontest.append(metrics.precision_score(Ytest, Ytestpred, average='micro'))\n",
    "        recalltrain.append(metrics.recall_score(Ytrain, Ytrainpred, average='micro'))\n",
    "        recalltest.append(metrics.recall_score(Ytest, Ytestpred, average='micro'))\n",
    "        \n",
    "#         print(metrics.classification_report(Ytest, Ytestpred))\n",
    "        \n",
    "    print('Accuracy: \\t \\t {} \\t {}'.format(np.array(accuracytrain).mean(), np.array(accuracytest).mean()))\n",
    "    print('Hamming: \\t \\t {} \\t {}'.format(np.array(hammingtrain).mean(), np.array(hammingtest).mean()))\n",
    "    print('Precision: \\t \\t {} \\t {}'.format(np.array(precisiontrain).mean(), np.array(precisiontest).mean()))\n",
    "    print('Recall: \\t \\t {} \\t {}'.format(np.array(recalltrain).mean(), np.array(recalltest).mean()))\n",
    "    print('F1: \\t \\t \\t {} \\t {}'.format(np.array(f1train).mean(), np.array(f1test).mean()))"
   ]
  },
  {
   "cell_type": "code",
   "execution_count": null,
   "metadata": {},
   "outputs": [],
   "source": [
    "predict(RandomForestClassifier(n_estimators=100), Xtrain, Ytrain)"
   ]
  }
 ],
 "metadata": {
  "kernelspec": {
   "display_name": "Python 3",
   "language": "python",
   "name": "python3"
  },
  "language_info": {
   "codemirror_mode": {
    "name": "ipython",
    "version": 3
   },
   "file_extension": ".py",
   "mimetype": "text/x-python",
   "name": "python",
   "nbconvert_exporter": "python",
   "pygments_lexer": "ipython3",
   "version": "3.6.3"
  }
 },
 "nbformat": 4,
 "nbformat_minor": 2
}
