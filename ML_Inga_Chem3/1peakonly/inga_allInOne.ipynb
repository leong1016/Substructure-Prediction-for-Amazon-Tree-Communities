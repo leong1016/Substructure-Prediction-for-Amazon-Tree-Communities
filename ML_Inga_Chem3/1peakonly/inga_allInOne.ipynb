{
 "cells": [
  {
   "cell_type": "code",
   "execution_count": 1,
   "metadata": {},
   "outputs": [],
   "source": [
    "import numpy as np\n",
    "\n",
    "from scipy.sparse import load_npz"
   ]
  },
  {
   "cell_type": "code",
   "execution_count": 2,
   "metadata": {},
   "outputs": [],
   "source": [
    "from sklearn.model_selection import KFold\n",
    "from sklearn.tree import DecisionTreeClassifier\n",
    "from sklearn.ensemble import RandomForestClassifier, ExtraTreesClassifier\n",
    "from sklearn import metrics"
   ]
  },
  {
   "cell_type": "markdown",
   "metadata": {},
   "source": [
    "### Reading data"
   ]
  },
  {
   "cell_type": "code",
   "execution_count": 3,
   "metadata": {},
   "outputs": [
    {
     "data": {
      "text/plain": [
       "<1719x1676 sparse matrix of type '<class 'numpy.float64'>'\n",
       "\twith 27033 stored elements in Compressed Sparse Row format>"
      ]
     },
     "execution_count": 3,
     "metadata": {},
     "output_type": "execute_result"
    }
   ],
   "source": [
    "Xtest = load_npz('features_inga_duplicated.npz')\n",
    "Xtest"
   ]
  },
  {
   "cell_type": "code",
   "execution_count": 4,
   "metadata": {},
   "outputs": [
    {
     "data": {
      "text/plain": [
       "(1719, 71)"
      ]
     },
     "execution_count": 4,
     "metadata": {},
     "output_type": "execute_result"
    }
   ],
   "source": [
    "Ytest = np.load('classes_inga_duplicated.npy')\n",
    "Ytest.shape"
   ]
  },
  {
   "cell_type": "code",
   "execution_count": 5,
   "metadata": {},
   "outputs": [],
   "source": [
    "def predict(clf, X, Y, n_splits=5):\n",
    "    kf = KFold(n_splits=n_splits, random_state=None, shuffle=True)\n",
    "    \n",
    "    accuracytrain = []\n",
    "    accuracytest = []\n",
    "    hammingtrain = []\n",
    "    hammingtest = []\n",
    "    f1train = []\n",
    "    f1test = []\n",
    "    precisiontrain = []\n",
    "    precisiontest = []\n",
    "    recalltrain = []\n",
    "    recalltest = []\n",
    "    \n",
    "    for train_index, test_index in kf.split(X):\n",
    "        Xtrain = X[train_index]\n",
    "        Ytrain = Y[train_index]\n",
    "        Xtest = X[test_index]\n",
    "        Ytest = Y[test_index]\n",
    "        \n",
    "        clf.fit(Xtrain, Ytrain)\n",
    "\n",
    "        Ytrainpred = clf.predict(Xtrain)\n",
    "        Ytestpred = clf.predict(Xtest)\n",
    "        \n",
    "        Ytrain = (Ytrain==1).astype('int')\n",
    "        Ytest = (Ytest==1).astype('int')\n",
    "        Ytrainpred = (Ytrainpred==1).astype('int')\n",
    "        Ytestpred = (Ytestpred==1).astype('int')\n",
    "        \n",
    "        accuracytrain.append(metrics.accuracy_score(Ytrain, Ytrainpred))\n",
    "        accuracytest.append(metrics.accuracy_score(Ytest, Ytestpred))\n",
    "        hammingtrain.append(1 - metrics.hamming_loss(Ytrain, Ytrainpred))\n",
    "        hammingtest.append(1 - metrics.hamming_loss(Ytest, Ytestpred))\n",
    "        f1train.append(metrics.f1_score(Ytrain, Ytrainpred, average='micro'))\n",
    "        f1test.append(metrics.f1_score(Ytest, Ytestpred, average='micro'))\n",
    "        precisiontrain.append(metrics.precision_score(Ytrain, Ytrainpred, average='micro'))\n",
    "        precisiontest.append(metrics.precision_score(Ytest, Ytestpred, average='micro'))\n",
    "        recalltrain.append(metrics.recall_score(Ytrain, Ytrainpred, average='micro'))\n",
    "        recalltest.append(metrics.recall_score(Ytest, Ytestpred, average='micro'))\n",
    "        \n",
    "#         print(metrics.classification_report(Ytest, Ytestpred))\n",
    "        \n",
    "    print('Accuracy: \\t \\t {} \\t {}'.format(np.array(accuracytrain).mean(), np.array(accuracytest).mean()))\n",
    "    print('Hamming: \\t \\t {} \\t {}'.format(np.array(hammingtrain).mean(), np.array(hammingtest).mean()))\n",
    "    print('Precision: \\t \\t {} \\t {}'.format(np.array(precisiontrain).mean(), np.array(precisiontest).mean()))\n",
    "    print('Recall: \\t \\t {} \\t {}'.format(np.array(recalltrain).mean(), np.array(recalltest).mean()))\n",
    "    print('F1: \\t \\t \\t {} \\t {}'.format(np.array(f1train).mean(), np.array(f1test).mean()))"
   ]
  },
  {
   "cell_type": "code",
   "execution_count": 6,
   "metadata": {},
   "outputs": [
    {
     "name": "stdout",
     "output_type": "stream",
     "text": [
      "Accuracy: \t \t 1.0 \t 0.7614990846837075\n",
      "Hamming: \t \t 1.0 \t 0.988365265155241\n",
      "Precision: \t \t 1.0 \t 0.9183945977852433\n",
      "Recall: \t \t 1.0 \t 0.901839800936818\n",
      "F1: \t \t \t 1.0 \t 0.9100039404439778\n"
     ]
    }
   ],
   "source": [
    "predict(DecisionTreeClassifier(max_depth=None), Xtest, Ytest)"
   ]
  },
  {
   "cell_type": "code",
   "execution_count": 7,
   "metadata": {},
   "outputs": [
    {
     "name": "stdout",
     "output_type": "stream",
     "text": [
      "Accuracy: \t \t 1.0 \t 0.7527798494813208\n",
      "Hamming: \t \t 1.0 \t 0.9913895093389\n",
      "Precision: \t \t 1.0 \t 0.9719360594822504\n",
      "Recall: \t \t 1.0 \t 0.8937078397616137\n",
      "F1: \t \t \t 1.0 \t 0.9310911704445342\n"
     ]
    }
   ],
   "source": [
    "predict(RandomForestClassifier(n_estimators=100, n_jobs=-1), Xtest, Ytest)"
   ]
  },
  {
   "cell_type": "code",
   "execution_count": 8,
   "metadata": {},
   "outputs": [
    {
     "name": "stdout",
     "output_type": "stream",
     "text": [
      "Accuracy: \t \t 1.0 \t 0.7347379483354805\n",
      "Hamming: \t \t 1.0 \t 0.9903731119512518\n",
      "Precision: \t \t 1.0 \t 0.9619844487541835\n",
      "Recall: \t \t 1.0 \t 0.8874403373522833\n",
      "F1: \t \t \t 1.0 \t 0.9231872425778406\n"
     ]
    }
   ],
   "source": [
    "predict(ExtraTreesClassifier(n_estimators=100, n_jobs=-1), Xtest, Ytest)"
   ]
  }
 ],
 "metadata": {
  "kernelspec": {
   "display_name": "Python 3",
   "language": "python",
   "name": "python3"
  },
  "language_info": {
   "codemirror_mode": {
    "name": "ipython",
    "version": 3
   },
   "file_extension": ".py",
   "mimetype": "text/x-python",
   "name": "python",
   "nbconvert_exporter": "python",
   "pygments_lexer": "ipython3",
   "version": "3.6.3"
  }
 },
 "nbformat": 4,
 "nbformat_minor": 2
}
