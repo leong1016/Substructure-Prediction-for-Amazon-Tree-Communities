{
 "cells": [
  {
   "cell_type": "code",
   "execution_count": 1,
   "metadata": {},
   "outputs": [],
   "source": [
    "import numpy as np\n",
    "\n",
    "from scipy.sparse import load_npz"
   ]
  },
  {
   "cell_type": "code",
   "execution_count": 2,
   "metadata": {},
   "outputs": [],
   "source": [
    "from sklearn.model_selection import KFold\n",
    "from sklearn.tree import DecisionTreeClassifier\n",
    "from sklearn.ensemble import RandomForestClassifier, ExtraTreesClassifier\n",
    "from sklearn import metrics"
   ]
  },
  {
   "cell_type": "code",
   "execution_count": 3,
   "metadata": {},
   "outputs": [],
   "source": [
    "from imblearn.over_sampling import RandomOverSampler"
   ]
  },
  {
   "cell_type": "markdown",
   "metadata": {},
   "source": [
    "### Reading data"
   ]
  },
  {
   "cell_type": "code",
   "execution_count": 4,
   "metadata": {},
   "outputs": [
    {
     "data": {
      "text/plain": [
       "<151627x1676 sparse matrix of type '<class 'numpy.float64'>'\n",
       "\twith 1901453 stored elements in Compressed Sparse Row format>"
      ]
     },
     "execution_count": 4,
     "metadata": {},
     "output_type": "execute_result"
    }
   ],
   "source": [
    "Xtrain = load_npz('features_silico_duplicated.npz')\n",
    "Xtrain"
   ]
  },
  {
   "cell_type": "code",
   "execution_count": 5,
   "metadata": {},
   "outputs": [
    {
     "data": {
      "text/plain": [
       "(151627, 71)"
      ]
     },
     "execution_count": 5,
     "metadata": {},
     "output_type": "execute_result"
    }
   ],
   "source": [
    "Ytrain = np.load('classes_silico_duplicated.npy')\n",
    "Ytrain.shape"
   ]
  },
  {
   "cell_type": "code",
   "execution_count": 8,
   "metadata": {},
   "outputs": [],
   "source": [
    "def predict(clf, X, Y, n_splits=5):\n",
    "    accuracytrain = []\n",
    "    accuracytest = []\n",
    "    hammingtrain = []\n",
    "    hammingtest = []\n",
    "    f1train = []\n",
    "    f1test = []\n",
    "    precisiontrain = []\n",
    "    precisiontest = []\n",
    "    recalltrain = []\n",
    "    recalltest = []\n",
    "\n",
    "    kf = KFold(n_splits=n_splits)\n",
    "    for train_idx, test_idx in kf.split(X):\n",
    "        Xtrain = X[train_idx]\n",
    "        Xtest = X[test_idx]\n",
    "        Ytrain = Y[train_idx]\n",
    "        Ytest = Y[test_idx]\n",
    "\n",
    "        Ytrainpred_arr = []\n",
    "        Ytestpred_arr = []\n",
    "\n",
    "        for i in range(71):\n",
    "\n",
    "            ytrain = Ytrain[:,i]\n",
    "            ytest = Ytest[:,i]\n",
    "\n",
    "            if np.unique(ytrain).size == 1:\n",
    "                ytrainpred = np.full(ytrain.shape, ytrain[0])\n",
    "                ytestpred = np.full(ytest.shape, ytrain[0])\n",
    "            else:\n",
    "                ros = RandomOverSampler()\n",
    "                Xtrain_resampled, ytrain_resampled = ros.fit_sample(Xtrain, ytrain)\n",
    "                clf.fit(Xtrain_resampled, ytrain_resampled)\n",
    "                ytrainpred = clf.predict(Xtrain)\n",
    "                ytestpred = clf.predict(Xtest)\n",
    "            Ytrainpred_arr.append(ytrainpred)\n",
    "            Ytestpred_arr.append(ytestpred)\n",
    "\n",
    "        Ytrainpred = np.array(Ytrainpred_arr).T\n",
    "        Ytestpred = np.array(Ytestpred_arr).T\n",
    "\n",
    "        Ytrain = (Ytrain==1).astype('int')\n",
    "        Ytest = (Ytest==1).astype('int')\n",
    "        Ytrainpred = (Ytrainpred==1).astype('int')\n",
    "        Ytestpred = (Ytestpred==1).astype('int')\n",
    "\n",
    "        accuracytrain.append(metrics.accuracy_score(Ytrain, Ytrainpred))\n",
    "        accuracytest.append(metrics.accuracy_score(Ytest, Ytestpred))\n",
    "        hammingtrain.append(1 - metrics.hamming_loss(Ytrain, Ytrainpred))\n",
    "        hammingtest.append(1 - metrics.hamming_loss(Ytest, Ytestpred))\n",
    "        f1train.append(metrics.f1_score(Ytrain, Ytrainpred, average='micro'))\n",
    "        f1test.append(metrics.f1_score(Ytest, Ytestpred, average='micro'))\n",
    "        precisiontrain.append(metrics.precision_score(Ytrain, Ytrainpred, average='micro'))\n",
    "        precisiontest.append(metrics.precision_score(Ytest, Ytestpred, average='micro'))\n",
    "        recalltrain.append(metrics.recall_score(Ytrain, Ytrainpred, average='micro'))\n",
    "        recalltest.append(metrics.recall_score(Ytest, Ytestpred, average='micro'))\n",
    "\n",
    "    print('Accuracy: \\t \\t {} \\t {}'.format(np.array(accuracytrain).mean(), np.array(accuracytest).mean()))\n",
    "    print('Hamming: \\t \\t {} \\t {}'.format(np.array(hammingtrain).mean(), np.array(hammingtest).mean()))\n",
    "    print('Precision: \\t \\t {} \\t {}'.format(np.array(precisiontrain).mean(), np.array(precisiontest).mean()))\n",
    "    print('Recall: \\t \\t {} \\t {}'.format(np.array(recalltrain).mean(), np.array(recalltest).mean()))\n",
    "    print('F1: \\t \\t \\t {} \\t {}'.format(np.array(f1train).mean(), np.array(f1test).mean()))"
   ]
  },
  {
   "cell_type": "code",
   "execution_count": 9,
   "metadata": {},
   "outputs": [
    {
     "name": "stdout",
     "output_type": "stream",
     "text": [
      "Accuracy: \t \t 0.9977081937428938 \t 0.8373464397515125\n",
      "Hamming: \t \t 0.9999190471395547 \t 0.9955078457044892\n",
      "Precision: \t \t 0.9982527385626531 \t 0.9296732689634304\n",
      "Recall: \t \t 0.999930741145163 \t 0.9487659144858931\n",
      "F1: \t \t \t 0.9990909917311595 \t 0.9390310200742491\n"
     ]
    }
   ],
   "source": [
    "predict(DecisionTreeClassifier(max_depth=None), Xtrain, Ytrain)"
   ]
  },
  {
   "cell_type": "code",
   "execution_count": 10,
   "metadata": {},
   "outputs": [
    {
     "name": "stdout",
     "output_type": "stream",
     "text": [
      "Accuracy: \t \t 0.9976933547324176 \t 0.8984890762480523\n",
      "Hamming: \t \t 0.9999180717993428 \t 0.9976257839579323\n",
      "Precision: \t \t 0.9982304706348435 \t 0.9779178680897733\n",
      "Recall: \t \t 0.9999330139821151 \t 0.9553299358882452\n",
      "F1: \t \t \t 0.9990809816531556 \t 0.9663599559615929\n"
     ]
    }
   ],
   "source": [
    "predict(RandomForestClassifier(n_estimators=100, n_jobs=-1), Xtrain, Ytrain)"
   ]
  },
  {
   "cell_type": "code",
   "execution_count": 11,
   "metadata": {},
   "outputs": [
    {
     "name": "stdout",
     "output_type": "stream",
     "text": [
      "Accuracy: \t \t 0.9977098425339179 \t 0.8984956725539057\n",
      "Hamming: \t \t 0.9999191400286156 \t 0.9976239262540577\n",
      "Precision: \t \t 0.9982545019270297 \t 0.9813139089960365\n",
      "Recall: \t \t 0.9999316777841836 \t 0.951774805109953\n",
      "F1: \t \t \t 0.9990923459378864 \t 0.9660919207501053\n"
     ]
    }
   ],
   "source": [
    "predict(ExtraTreesClassifier(n_estimators=100, n_jobs=-1), Xtrain, Ytrain)"
   ]
  }
 ],
 "metadata": {
  "kernelspec": {
   "display_name": "Python 3",
   "language": "python",
   "name": "python3"
  },
  "language_info": {
   "codemirror_mode": {
    "name": "ipython",
    "version": 3
   },
   "file_extension": ".py",
   "mimetype": "text/x-python",
   "name": "python",
   "nbconvert_exporter": "python",
   "pygments_lexer": "ipython3",
   "version": "3.6.3"
  }
 },
 "nbformat": 4,
 "nbformat_minor": 2
}
