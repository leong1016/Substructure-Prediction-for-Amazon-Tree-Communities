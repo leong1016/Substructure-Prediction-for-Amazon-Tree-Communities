{
 "cells": [
  {
   "cell_type": "code",
   "execution_count": 1,
   "metadata": {},
   "outputs": [],
   "source": [
    "import numpy as np\n",
    "from scipy.sparse import load_npz\n",
    "\n",
    "np.set_printoptions(threshold=np.nan)"
   ]
  },
  {
   "cell_type": "code",
   "execution_count": 2,
   "metadata": {},
   "outputs": [],
   "source": [
    "from sklearn.model_selection import KFold\n",
    "from sklearn.ensemble import RandomForestClassifier\n",
    "from sklearn import metrics"
   ]
  },
  {
   "cell_type": "code",
   "execution_count": 3,
   "metadata": {},
   "outputs": [],
   "source": [
    "from imblearn.over_sampling import RandomOverSampler, SMOTE"
   ]
  },
  {
   "cell_type": "markdown",
   "metadata": {},
   "source": [
    "### Reading data"
   ]
  },
  {
   "cell_type": "code",
   "execution_count": 4,
   "metadata": {},
   "outputs": [
    {
     "data": {
      "text/plain": [
       "<151627x1676 sparse matrix of type '<class 'numpy.float64'>'\n",
       "\twith 1901453 stored elements in Compressed Sparse Row format>"
      ]
     },
     "execution_count": 4,
     "metadata": {},
     "output_type": "execute_result"
    }
   ],
   "source": [
    "Xtrain = load_npz('features_silico_duplicated.npz')\n",
    "Xtrain"
   ]
  },
  {
   "cell_type": "code",
   "execution_count": 5,
   "metadata": {},
   "outputs": [
    {
     "data": {
      "text/plain": [
       "(151627, 71)"
      ]
     },
     "execution_count": 5,
     "metadata": {},
     "output_type": "execute_result"
    }
   ],
   "source": [
    "Ytrain = np.load('classes_silico_duplicated.npy')\n",
    "Ytrain.shape"
   ]
  },
  {
   "cell_type": "code",
   "execution_count": 6,
   "metadata": {},
   "outputs": [
    {
     "data": {
      "text/plain": [
       "<842x1676 sparse matrix of type '<class 'numpy.float64'>'\n",
       "\twith 14100 stored elements in Compressed Sparse Row format>"
      ]
     },
     "execution_count": 6,
     "metadata": {},
     "output_type": "execute_result"
    }
   ],
   "source": [
    "Xtest = load_npz('features_inga_dropped.npz')\n",
    "Xtest"
   ]
  },
  {
   "cell_type": "code",
   "execution_count": 7,
   "metadata": {},
   "outputs": [
    {
     "data": {
      "text/plain": [
       "(842, 71)"
      ]
     },
     "execution_count": 7,
     "metadata": {},
     "output_type": "execute_result"
    }
   ],
   "source": [
    "Ytest = np.load('classes_inga.npy')\n",
    "Ytest.shape"
   ]
  },
  {
   "cell_type": "markdown",
   "metadata": {},
   "source": [
    "### Training Model"
   ]
  },
  {
   "cell_type": "code",
   "execution_count": 8,
   "metadata": {},
   "outputs": [],
   "source": [
    "rfc = RandomForestClassifier(n_estimators=10)"
   ]
  },
  {
   "cell_type": "code",
   "execution_count": 9,
   "metadata": {},
   "outputs": [],
   "source": [
    "rfc1 = RandomForestClassifier(n_estimators=10, class_weight={0:10, 1:1})"
   ]
  },
  {
   "cell_type": "code",
   "execution_count": 10,
   "metadata": {},
   "outputs": [],
   "source": [
    "rfc2 = RandomForestClassifier(n_estimators=10, class_weight={0:1, 1:10})"
   ]
  },
  {
   "cell_type": "code",
   "execution_count": 11,
   "metadata": {},
   "outputs": [],
   "source": [
    "def predicti(clf, Xtrain, Xtest, ytrain, ytest, threshold):\n",
    "    \n",
    "    if np.unique(ytrain).size == 1:\n",
    "        ytrainpred = np.full(ytrain.shape, ytrain[0])\n",
    "        ytestpred = np.full(ytest.shape, ytrain[0])\n",
    "    else:\n",
    "        ros = RandomOverSampler()\n",
    "        Xtrain_resampled, ytrain_resampled = ros.fit_sample(Xtrain, ytrain)\n",
    "        clf.fit(Xtrain_resampled, ytrain_resampled)\n",
    "#         ytrainpred = clf.predict(Xtrain)\n",
    "#         ytestpred = clf.predict(Xtest)\n",
    "        ytrainprob = clf.predict_proba(Xtrain)\n",
    "        ytestprob = clf.predict_proba(Xtest)\n",
    "        ytrainpred = (ytrainprob[:,1]>=threshold).astype('int')\n",
    "        ytestpred = (ytestprob[:,1]>=threshold).astype('int')\n",
    "    \n",
    "    return ytrainpred, ytestpred"
   ]
  },
  {
   "cell_type": "code",
   "execution_count": 12,
   "metadata": {},
   "outputs": [],
   "source": [
    "def predict(clf, Xtrain, Xtest, Ytrain, Ytest, threshold=0.5):\n",
    "    accuracytrain = []\n",
    "    accuracytest = []\n",
    "    hammingtrain = []\n",
    "    hammingtest = []\n",
    "    f1train = []\n",
    "    f1test = []\n",
    "    precisiontrain = []\n",
    "    precisiontest = []\n",
    "    recalltrain = []\n",
    "    recalltest = []\n",
    "\n",
    "    Ytrainpred_arr = []\n",
    "    Ytestpred_arr = []\n",
    "\n",
    "    for i in range(71):\n",
    "\n",
    "        ytrain = Ytrain[:,i]\n",
    "        ytest = Ytest[:,i]\n",
    "\n",
    "        ytrainpred, ytestpred = predicti(clf, Xtrain, Xtest, ytrain, ytest, threshold=threshold)\n",
    "\n",
    "        Ytrainpred_arr.append(ytrainpred)\n",
    "        Ytestpred_arr.append(ytestpred)\n",
    "\n",
    "    Ytrainpred = np.array(Ytrainpred_arr).T\n",
    "    Ytestpred = np.array(Ytestpred_arr).T\n",
    "\n",
    "    print('Accuracy: \\t \\t {} \\t {}'.format(metrics.accuracy_score(Ytrain, Ytrainpred), \n",
    "                                            metrics.accuracy_score(Ytest, Ytestpred)))\n",
    "    print('Hamming: \\t \\t {} \\t {}'.format(1 - metrics.hamming_loss(Ytrain, Ytrainpred), \n",
    "                                           1 - metrics.hamming_loss(Ytest, Ytestpred)))\n",
    "    print('Precision: \\t \\t {} \\t {}'.format(metrics.precision_score(Ytrain, Ytrainpred, average='micro'), \n",
    "                                             metrics.precision_score(Ytest, Ytestpred, average='micro')))\n",
    "    print('Recall: \\t \\t {} \\t {}'.format(metrics.recall_score(Ytrain, Ytrainpred, average='micro'), \n",
    "                                          metrics.recall_score(Ytest, Ytestpred, average='micro')))\n",
    "    print('F1: \\t \\t \\t {} \\t {}'.format(metrics.f1_score(Ytrain, Ytrainpred, average='micro'), \n",
    "                                         metrics.f1_score(Ytest, Ytestpred, average='micro')))"
   ]
  },
  {
   "cell_type": "code",
   "execution_count": 13,
   "metadata": {},
   "outputs": [
    {
     "name": "stdout",
     "output_type": "stream",
     "text": [
      "threshold = 0.5\n",
      "Accuracy: \t \t 0.993299346422471 \t 0.0332541567695962\n",
      "Hamming: \t \t 0.9998548142183975 \t 0.9466060018065638\n",
      "Precision: \t \t 0.996968899885332 \t 0.7363420427553444\n",
      "Recall: \t \t 0.9998186445742785 \t 0.31093279839518556\n",
      "F1: \t \t \t 0.9983917387022988 \t 0.4372355430183357\n",
      "threshold = 0.4\n",
      "Accuracy: \t \t 0.9857874916736465 \t 0.04275534441805225\n",
      "Hamming: \t \t 0.9997384240812587 \t 0.9484627479843432\n",
      "Precision: \t \t 0.9943192414178944 \t 0.671585319712448\n",
      "Recall: \t \t 0.9999093222871392 \t 0.4450852557673019\n",
      "F1: \t \t \t 0.9971064469922873 \t 0.5353641984617704\n",
      "threshold = 0.3\n",
      "Accuracy: \t \t 0.9649666616103992 \t 0.020190023752969122\n",
      "Hamming: \t \t 0.9993958488013163 \t 0.9375062727911412\n",
      "Precision: \t \t 0.9868071302915365 \t 0.5307017543859649\n",
      "Recall: \t \t 0.9999649654291219 \t 0.5461384152457373\n",
      "F1: \t \t \t 0.9933424775318853 \t 0.5383094414236282\n",
      "threshold = 0.2\n",
      "Accuracy: \t \t 0.9066591042492432 \t 0.0\n",
      "Hamming: \t \t 0.9982482959248496 \t 0.8973771369308488\n",
      "Precision: \t \t 0.9625994131918751 \t 0.35869422140318546\n",
      "Recall: \t \t 0.9999896957144476 \t 0.6832998996990973\n",
      "F1: \t \t \t 0.9809383838159217 \t 0.47043590850237377\n",
      "threshold = 0.1\n",
      "Accuracy: \t \t 0.7165478443812777 \t 0.0\n",
      "Hamming: \t \t 0.9913056660446498 \t 0.7890167608979292\n",
      "Precision: \t \t 0.8382985045747298 \t 0.2183765428067655\n",
      "Recall: \t \t 0.9999979391428895 \t 0.8385155466399198\n",
      "F1: \t \t \t 0.9120365540891692 \t 0.3465105434951557\n"
     ]
    }
   ],
   "source": [
    "for t in [0.5, 0.4, 0.3, 0.2, 0.1]:\n",
    "    print('threshold = {}'.format(t))\n",
    "    predict(rfc, Xtrain, Xtest, Ytrain, Ytest, threshold=t)"
   ]
  },
  {
   "cell_type": "code",
   "execution_count": 14,
   "metadata": {},
   "outputs": [
    {
     "name": "stdout",
     "output_type": "stream",
     "text": [
      "threshold = 0.5\n",
      "Accuracy: \t \t 0.9936027224702725 \t 0.014251781472684086\n",
      "Hamming: \t \t 0.9998689333731022 \t 0.9413870395771302\n",
      "Precision: \t \t 0.9975913576844123 \t 0.5676355505869201\n",
      "Recall: \t \t 0.9995053942934866 \t 0.5092778335005015\n",
      "F1: \t \t \t 0.9985474587734622 \t 0.5368754956383821\n",
      "threshold = 0.4\n",
      "Accuracy: \t \t 0.9848180073469764 \t 0.0035629453681710215\n",
      "Hamming: \t \t 0.9997308071688522 \t 0.9267505269144558\n",
      "Precision: \t \t 0.9943101812092504 \t 0.4611872146118721\n",
      "Recall: \t \t 0.9997485754325224 \t 0.5824974924774323\n",
      "F1: \t \t \t 0.9970219622576363 \t 0.5147922437673129\n",
      "threshold = 0.3\n",
      "Accuracy: \t \t 0.9622626577060813 \t 0.0011876484560570072\n",
      "Hamming: \t \t 0.9993526553346207 \t 0.8963233080191362\n",
      "Precision: \t \t 0.9859972441600988 \t 0.35789609053497945\n",
      "Recall: \t \t 0.9998371922882727 \t 0.6978435305917753\n",
      "F1: \t \t \t 0.9928689905973819 \t 0.47313838830329824\n",
      "threshold = 0.2\n",
      "Accuracy: \t \t 0.8995693379147514 \t 0.0\n",
      "Hamming: \t \t 0.998083138970474 \t 0.8410725636479208\n",
      "Precision: \t \t 0.9593123152514558 \t 0.26610097581671616\n",
      "Recall: \t \t 0.9998804702875926 \t 0.7863590772316951\n",
      "F1: \t \t \t 0.9791763791763792 \t 0.3976415393393774\n",
      "threshold = 0.1\n",
      "Accuracy: \t \t 0.7118257302459324 \t 0.0\n",
      "Hamming: \t \t 0.9908136320810231 \t 0.6952761700846408\n",
      "Precision: \t \t 0.8307328807581348 \t 0.16753119304640404\n",
      "Recall: \t \t 0.9999319917153544 \t 0.8989468405215647\n",
      "F1: \t \t \t 0.9075133264752643 \t 0.28242801433804704\n"
     ]
    }
   ],
   "source": [
    "for t in [0.5, 0.4, 0.3, 0.2, 0.1]:\n",
    "    print('threshold = {}'.format(t))\n",
    "    predict(rfc1, Xtrain, Xtest, Ytrain, Ytest, threshold=t)"
   ]
  },
  {
   "cell_type": "code",
   "execution_count": 15,
   "metadata": {},
   "outputs": [
    {
     "name": "stdout",
     "output_type": "stream",
     "text": [
      "threshold = 0.5\n",
      "Accuracy: \t \t 0.99170991973725 \t 0.0332541567695962\n",
      "Hamming: \t \t 0.9997996380480381 \t 0.9452510789200763\n",
      "Precision: \t \t 0.9956720350669819 \t 0.8183437221727515\n",
      "Recall: \t \t 0.9999010788586973 \t 0.23044132397191575\n",
      "F1: \t \t \t 0.9977820758412842 \t 0.3596165134024653\n",
      "threshold = 0.4\n",
      "Accuracy: \t \t 0.9845212264306489 \t 0.0332541567695962\n",
      "Hamming: \t \t 0.9996872421454539 \t 0.9480612893513097\n",
      "Precision: \t \t 0.9931311146588071 \t 0.8430458430458431\n",
      "Recall: \t \t 0.9999773305717848 \t 0.27206619859578735\n",
      "F1: \t \t \t 0.9965424644311291 \t 0.41137440758293836\n",
      "threshold = 0.3\n",
      "Accuracy: \t \t 0.9651315398972479 \t 0.057007125890736345\n",
      "Hamming: \t \t 0.9993680749377851 \t 0.9482620186678264\n",
      "Precision: \t \t 0.9861817368859622 \t 0.7040583675330597\n",
      "Recall: \t \t 0.9999917565715581 \t 0.38716148445336007\n",
      "F1: \t \t \t 0.9930387356551191 \t 0.4995955347031225\n",
      "threshold = 0.2\n",
      "Accuracy: \t \t 0.9115131210140675 \t 0.015439429928741092\n",
      "Hamming: \t \t 0.998326229943253 \t 0.9377237295507008\n",
      "Precision: \t \t 0.9641950188175354 \t 0.5345321866041178\n",
      "Recall: \t \t 1.0 \t 0.5142928786359077\n",
      "F1: \t \t \t 0.9817711679138564 \t 0.5242172523961661\n",
      "threshold = 0.1\n",
      "Accuracy: \t \t 0.7361155994644754 \t 0.0\n",
      "Hamming: \t \t 0.9924356628669111 \t 0.8629855140343248\n",
      "Precision: \t \t 0.8562935329089821 \t 0.28243089346723266\n",
      "Recall: \t \t 1.0 \t 0.6840521564694082\n",
      "F1: \t \t \t 0.9225841901922608 \t 0.3997948267018393\n"
     ]
    }
   ],
   "source": [
    "for t in [0.5, 0.4, 0.3, 0.2, 0.1]:\n",
    "    print('threshold = {}'.format(t))\n",
    "    predict(rfc2, Xtrain, Xtest, Ytrain, Ytest, threshold=t)"
   ]
  }
 ],
 "metadata": {
  "kernelspec": {
   "display_name": "Python 3",
   "language": "python",
   "name": "python3"
  },
  "language_info": {
   "codemirror_mode": {
    "name": "ipython",
    "version": 3
   },
   "file_extension": ".py",
   "mimetype": "text/x-python",
   "name": "python",
   "nbconvert_exporter": "python",
   "pygments_lexer": "ipython3",
   "version": "3.6.3"
  }
 },
 "nbformat": 4,
 "nbformat_minor": 2
}
