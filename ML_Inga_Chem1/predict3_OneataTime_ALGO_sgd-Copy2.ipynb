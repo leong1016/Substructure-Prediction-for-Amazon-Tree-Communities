{
 "cells": [
  {
   "cell_type": "code",
   "execution_count": 1,
   "metadata": {},
   "outputs": [
    {
     "name": "stdout",
     "output_type": "stream",
     "text": [
      "The history saving thread hit an unexpected error (DatabaseError('database disk image is malformed',)).History will not be written to the database.\n"
     ]
    }
   ],
   "source": [
    "n_cores = -1"
   ]
  },
  {
   "cell_type": "markdown",
   "metadata": {},
   "source": [
    "### Approach #2 - One at a Time"
   ]
  },
  {
   "cell_type": "code",
   "execution_count": 2,
   "metadata": {},
   "outputs": [],
   "source": [
    "import numpy as np\n",
    "import pandas as pd\n",
    "\n",
    "np.set_printoptions(threshold=np.inf)\n",
    "pd.set_option('max_columns', 100)"
   ]
  },
  {
   "cell_type": "markdown",
   "metadata": {},
   "source": [
    "### Reading .csv file"
   ]
  },
  {
   "cell_type": "code",
   "execution_count": 3,
   "metadata": {
    "scrolled": true
   },
   "outputs": [
    {
     "data": {
      "text/html": [
       "<div>\n",
       "<style>\n",
       "    .dataframe thead tr:only-child th {\n",
       "        text-align: right;\n",
       "    }\n",
       "\n",
       "    .dataframe thead th {\n",
       "        text-align: left;\n",
       "    }\n",
       "\n",
       "    .dataframe tbody tr th {\n",
       "        vertical-align: top;\n",
       "    }\n",
       "</style>\n",
       "<table border=\"1\" class=\"dataframe\">\n",
       "  <thead>\n",
       "    <tr style=\"text-align: right;\">\n",
       "      <th></th>\n",
       "      <th>fragment_180.067</th>\n",
       "      <th>fragment_236.103</th>\n",
       "      <th>fragment_349.187</th>\n",
       "      <th>fragment_756.149</th>\n",
       "      <th>fragment_455.11</th>\n",
       "      <th>fragment_632.407</th>\n",
       "      <th>fragment_663.152</th>\n",
       "      <th>fragment_201.018</th>\n",
       "      <th>fragment_822.437</th>\n",
       "      <th>fragment_423.128</th>\n",
       "      <th>fragment_761.15</th>\n",
       "      <th>fragment_153.014</th>\n",
       "      <th>fragment_302.06</th>\n",
       "      <th>fragment_599.389</th>\n",
       "      <th>fragment_568.539</th>\n",
       "      <th>fragment_292.899</th>\n",
       "      <th>fragment_427.142</th>\n",
       "      <th>fragment_163.04</th>\n",
       "      <th>fragment_358.1</th>\n",
       "      <th>fragment_583.126</th>\n",
       "      <th>fragment_165.02</th>\n",
       "      <th>fragment_130.091</th>\n",
       "      <th>fragment_272.049</th>\n",
       "      <th>fragment_167.02</th>\n",
       "      <th>fragment_167.01</th>\n",
       "      <th>fragment_127.104</th>\n",
       "      <th>fragment_184.05</th>\n",
       "      <th>fragment_625.141</th>\n",
       "      <th>fragment_205.012</th>\n",
       "      <th>fragment_417.091</th>\n",
       "      <th>fragment_465.092</th>\n",
       "      <th>fragment_847.156</th>\n",
       "      <th>fragment_406.117</th>\n",
       "      <th>fragment_187.136</th>\n",
       "      <th>fragment_1295.273</th>\n",
       "      <th>fragment_672.193</th>\n",
       "      <th>fragment_101.061</th>\n",
       "      <th>fragment_230.146</th>\n",
       "      <th>fragment_316.051</th>\n",
       "      <th>fragment_196.044</th>\n",
       "      <th>fragment_392.06</th>\n",
       "      <th>fragment_357.641</th>\n",
       "      <th>fragment_1043.213</th>\n",
       "      <th>fragment_513.115</th>\n",
       "      <th>fragment_554.184</th>\n",
       "      <th>fragment_432.101</th>\n",
       "      <th>fragment_465.067</th>\n",
       "      <th>fragment_169.023</th>\n",
       "      <th>fragment_575.136</th>\n",
       "      <th>fragment_616.438</th>\n",
       "      <th>...</th>\n",
       "      <th>loss_705.145</th>\n",
       "      <th>loss_1464.865</th>\n",
       "      <th>loss_302.121</th>\n",
       "      <th>loss_511.955</th>\n",
       "      <th>loss_103.017</th>\n",
       "      <th>X2_MethylbutanoicAcid</th>\n",
       "      <th>AcacicAcid</th>\n",
       "      <th>Acetylglucosamine</th>\n",
       "      <th>Alanine</th>\n",
       "      <th>AminoAcid</th>\n",
       "      <th>Anthocyanidin</th>\n",
       "      <th>CaffeicAcid</th>\n",
       "      <th>pCoumaricAcid</th>\n",
       "      <th>CinnamicAcid</th>\n",
       "      <th>Cyclic_Monoterpene</th>\n",
       "      <th>Deoxyfuranose</th>\n",
       "      <th>DihydroFlavone</th>\n",
       "      <th>Dihydroflavonol</th>\n",
       "      <th>DiHydroxyPiperidineCarboxylicAcid</th>\n",
       "      <th>Echinocystic_LactoneBridge</th>\n",
       "      <th>OleanolicAcid</th>\n",
       "      <th>Flavan3ol</th>\n",
       "      <th>Flavonol</th>\n",
       "      <th>Flavone</th>\n",
       "      <th>Furanose</th>\n",
       "      <th>GallicAcid</th>\n",
       "      <th>Glucosamine</th>\n",
       "      <th>GlutamicAcid</th>\n",
       "      <th>Glutamine</th>\n",
       "      <th>HexopyranuronicAcid</th>\n",
       "      <th>HydroxyPiperidineCarboxylicAcid</th>\n",
       "      <th>Imidazole</th>\n",
       "      <th>L_Dopa</th>\n",
       "      <th>Leucine</th>\n",
       "      <th>Lysine</th>\n",
       "      <th>MetaMethoxyCinnamicAcid</th>\n",
       "      <th>MethoxyFerulicAcid</th>\n",
       "      <th>FerulicAcid</th>\n",
       "      <th>Monoterpene</th>\n",
       "      <th>Oleanolic_LactoneBridge</th>\n",
       "      <th>Phenolic</th>\n",
       "      <th>PipecolicAcid</th>\n",
       "      <th>Pyranose</th>\n",
       "      <th>Triterpene</th>\n",
       "      <th>FattyAcid</th>\n",
       "      <th>Tryptophan</th>\n",
       "      <th>Tyramine</th>\n",
       "      <th>Tyrosine</th>\n",
       "      <th>Xanthonoid</th>\n",
       "      <th>MQScore</th>\n",
       "    </tr>\n",
       "  </thead>\n",
       "  <tbody>\n",
       "    <tr>\n",
       "      <th>0</th>\n",
       "      <td>0.0</td>\n",
       "      <td>0.0</td>\n",
       "      <td>0.0</td>\n",
       "      <td>0.0</td>\n",
       "      <td>0.0</td>\n",
       "      <td>0.0</td>\n",
       "      <td>0.0</td>\n",
       "      <td>0.0</td>\n",
       "      <td>0.0</td>\n",
       "      <td>0.0</td>\n",
       "      <td>0.0</td>\n",
       "      <td>0.397111</td>\n",
       "      <td>0.0</td>\n",
       "      <td>0.0</td>\n",
       "      <td>0.0</td>\n",
       "      <td>0.0</td>\n",
       "      <td>0.0</td>\n",
       "      <td>0.0</td>\n",
       "      <td>0.0</td>\n",
       "      <td>0.0</td>\n",
       "      <td>0.215096</td>\n",
       "      <td>0.0</td>\n",
       "      <td>0.0</td>\n",
       "      <td>0.0</td>\n",
       "      <td>0.0</td>\n",
       "      <td>0.0</td>\n",
       "      <td>0.0</td>\n",
       "      <td>0.0</td>\n",
       "      <td>0.0</td>\n",
       "      <td>0.0</td>\n",
       "      <td>0.0</td>\n",
       "      <td>0.0</td>\n",
       "      <td>0.0</td>\n",
       "      <td>0.0</td>\n",
       "      <td>0.0</td>\n",
       "      <td>0.0</td>\n",
       "      <td>0.0</td>\n",
       "      <td>0.0</td>\n",
       "      <td>0.0</td>\n",
       "      <td>0.0</td>\n",
       "      <td>0.0</td>\n",
       "      <td>0.0</td>\n",
       "      <td>0.0</td>\n",
       "      <td>0.0</td>\n",
       "      <td>0.0</td>\n",
       "      <td>0.0</td>\n",
       "      <td>0.0</td>\n",
       "      <td>0.0</td>\n",
       "      <td>0.0</td>\n",
       "      <td>0.0</td>\n",
       "      <td>...</td>\n",
       "      <td>0</td>\n",
       "      <td>0</td>\n",
       "      <td>0</td>\n",
       "      <td>0</td>\n",
       "      <td>0</td>\n",
       "      <td>0</td>\n",
       "      <td>0</td>\n",
       "      <td>0</td>\n",
       "      <td>0</td>\n",
       "      <td>0</td>\n",
       "      <td>0</td>\n",
       "      <td>0</td>\n",
       "      <td>0</td>\n",
       "      <td>0</td>\n",
       "      <td>0</td>\n",
       "      <td>0</td>\n",
       "      <td>0</td>\n",
       "      <td>0</td>\n",
       "      <td>0</td>\n",
       "      <td>0</td>\n",
       "      <td>0</td>\n",
       "      <td>0</td>\n",
       "      <td>0</td>\n",
       "      <td>0.0</td>\n",
       "      <td>0</td>\n",
       "      <td>0</td>\n",
       "      <td>0</td>\n",
       "      <td>0</td>\n",
       "      <td>0</td>\n",
       "      <td>0</td>\n",
       "      <td>0</td>\n",
       "      <td>0</td>\n",
       "      <td>0</td>\n",
       "      <td>0</td>\n",
       "      <td>0</td>\n",
       "      <td>0</td>\n",
       "      <td>0</td>\n",
       "      <td>0</td>\n",
       "      <td>0</td>\n",
       "      <td>0</td>\n",
       "      <td>1</td>\n",
       "      <td>0</td>\n",
       "      <td>0</td>\n",
       "      <td>0</td>\n",
       "      <td>0</td>\n",
       "      <td>0</td>\n",
       "      <td>0</td>\n",
       "      <td>0</td>\n",
       "      <td>0</td>\n",
       "      <td>0.493507</td>\n",
       "    </tr>\n",
       "    <tr>\n",
       "      <th>1</th>\n",
       "      <td>0.0</td>\n",
       "      <td>0.0</td>\n",
       "      <td>0.0</td>\n",
       "      <td>0.0</td>\n",
       "      <td>0.0</td>\n",
       "      <td>0.0</td>\n",
       "      <td>0.0</td>\n",
       "      <td>0.0</td>\n",
       "      <td>0.0</td>\n",
       "      <td>0.0</td>\n",
       "      <td>0.0</td>\n",
       "      <td>1.000000</td>\n",
       "      <td>0.0</td>\n",
       "      <td>0.0</td>\n",
       "      <td>0.0</td>\n",
       "      <td>0.0</td>\n",
       "      <td>0.0</td>\n",
       "      <td>0.0</td>\n",
       "      <td>0.0</td>\n",
       "      <td>0.0</td>\n",
       "      <td>0.360814</td>\n",
       "      <td>0.0</td>\n",
       "      <td>0.0</td>\n",
       "      <td>0.0</td>\n",
       "      <td>0.0</td>\n",
       "      <td>0.0</td>\n",
       "      <td>0.0</td>\n",
       "      <td>0.0</td>\n",
       "      <td>0.0</td>\n",
       "      <td>0.0</td>\n",
       "      <td>0.0</td>\n",
       "      <td>0.0</td>\n",
       "      <td>0.0</td>\n",
       "      <td>0.0</td>\n",
       "      <td>0.0</td>\n",
       "      <td>0.0</td>\n",
       "      <td>0.0</td>\n",
       "      <td>0.0</td>\n",
       "      <td>0.0</td>\n",
       "      <td>0.0</td>\n",
       "      <td>0.0</td>\n",
       "      <td>0.0</td>\n",
       "      <td>0.0</td>\n",
       "      <td>0.0</td>\n",
       "      <td>0.0</td>\n",
       "      <td>0.0</td>\n",
       "      <td>0.0</td>\n",
       "      <td>0.0</td>\n",
       "      <td>0.0</td>\n",
       "      <td>0.0</td>\n",
       "      <td>...</td>\n",
       "      <td>0</td>\n",
       "      <td>0</td>\n",
       "      <td>0</td>\n",
       "      <td>0</td>\n",
       "      <td>0</td>\n",
       "      <td>0</td>\n",
       "      <td>0</td>\n",
       "      <td>0</td>\n",
       "      <td>0</td>\n",
       "      <td>0</td>\n",
       "      <td>0</td>\n",
       "      <td>0</td>\n",
       "      <td>0</td>\n",
       "      <td>0</td>\n",
       "      <td>0</td>\n",
       "      <td>0</td>\n",
       "      <td>1</td>\n",
       "      <td>1</td>\n",
       "      <td>0</td>\n",
       "      <td>0</td>\n",
       "      <td>0</td>\n",
       "      <td>1</td>\n",
       "      <td>1</td>\n",
       "      <td>0.0</td>\n",
       "      <td>0</td>\n",
       "      <td>1</td>\n",
       "      <td>0</td>\n",
       "      <td>0</td>\n",
       "      <td>0</td>\n",
       "      <td>0</td>\n",
       "      <td>0</td>\n",
       "      <td>0</td>\n",
       "      <td>0</td>\n",
       "      <td>0</td>\n",
       "      <td>0</td>\n",
       "      <td>0</td>\n",
       "      <td>0</td>\n",
       "      <td>0</td>\n",
       "      <td>0</td>\n",
       "      <td>0</td>\n",
       "      <td>1</td>\n",
       "      <td>0</td>\n",
       "      <td>0</td>\n",
       "      <td>0</td>\n",
       "      <td>0</td>\n",
       "      <td>0</td>\n",
       "      <td>0</td>\n",
       "      <td>0</td>\n",
       "      <td>0</td>\n",
       "      <td>0.491853</td>\n",
       "    </tr>\n",
       "    <tr>\n",
       "      <th>2</th>\n",
       "      <td>0.0</td>\n",
       "      <td>0.0</td>\n",
       "      <td>0.0</td>\n",
       "      <td>0.0</td>\n",
       "      <td>0.0</td>\n",
       "      <td>0.0</td>\n",
       "      <td>0.0</td>\n",
       "      <td>0.0</td>\n",
       "      <td>0.0</td>\n",
       "      <td>0.0</td>\n",
       "      <td>0.0</td>\n",
       "      <td>0.444485</td>\n",
       "      <td>0.0</td>\n",
       "      <td>0.0</td>\n",
       "      <td>0.0</td>\n",
       "      <td>0.0</td>\n",
       "      <td>0.0</td>\n",
       "      <td>0.0</td>\n",
       "      <td>0.0</td>\n",
       "      <td>0.0</td>\n",
       "      <td>0.000000</td>\n",
       "      <td>0.0</td>\n",
       "      <td>0.0</td>\n",
       "      <td>0.0</td>\n",
       "      <td>0.0</td>\n",
       "      <td>0.0</td>\n",
       "      <td>0.0</td>\n",
       "      <td>0.0</td>\n",
       "      <td>0.0</td>\n",
       "      <td>0.0</td>\n",
       "      <td>0.0</td>\n",
       "      <td>0.0</td>\n",
       "      <td>0.0</td>\n",
       "      <td>0.0</td>\n",
       "      <td>0.0</td>\n",
       "      <td>0.0</td>\n",
       "      <td>0.0</td>\n",
       "      <td>0.0</td>\n",
       "      <td>0.0</td>\n",
       "      <td>0.0</td>\n",
       "      <td>0.0</td>\n",
       "      <td>0.0</td>\n",
       "      <td>0.0</td>\n",
       "      <td>0.0</td>\n",
       "      <td>0.0</td>\n",
       "      <td>0.0</td>\n",
       "      <td>0.0</td>\n",
       "      <td>0.0</td>\n",
       "      <td>0.0</td>\n",
       "      <td>0.0</td>\n",
       "      <td>...</td>\n",
       "      <td>0</td>\n",
       "      <td>0</td>\n",
       "      <td>0</td>\n",
       "      <td>0</td>\n",
       "      <td>0</td>\n",
       "      <td>0</td>\n",
       "      <td>0</td>\n",
       "      <td>0</td>\n",
       "      <td>0</td>\n",
       "      <td>0</td>\n",
       "      <td>0</td>\n",
       "      <td>0</td>\n",
       "      <td>0</td>\n",
       "      <td>0</td>\n",
       "      <td>0</td>\n",
       "      <td>0</td>\n",
       "      <td>1</td>\n",
       "      <td>1</td>\n",
       "      <td>0</td>\n",
       "      <td>0</td>\n",
       "      <td>0</td>\n",
       "      <td>1</td>\n",
       "      <td>1</td>\n",
       "      <td>0.0</td>\n",
       "      <td>0</td>\n",
       "      <td>0</td>\n",
       "      <td>0</td>\n",
       "      <td>0</td>\n",
       "      <td>0</td>\n",
       "      <td>0</td>\n",
       "      <td>0</td>\n",
       "      <td>0</td>\n",
       "      <td>0</td>\n",
       "      <td>0</td>\n",
       "      <td>0</td>\n",
       "      <td>0</td>\n",
       "      <td>0</td>\n",
       "      <td>0</td>\n",
       "      <td>0</td>\n",
       "      <td>0</td>\n",
       "      <td>1</td>\n",
       "      <td>0</td>\n",
       "      <td>1</td>\n",
       "      <td>0</td>\n",
       "      <td>0</td>\n",
       "      <td>0</td>\n",
       "      <td>0</td>\n",
       "      <td>0</td>\n",
       "      <td>0</td>\n",
       "      <td>0.697186</td>\n",
       "    </tr>\n",
       "    <tr>\n",
       "      <th>3</th>\n",
       "      <td>0.0</td>\n",
       "      <td>0.0</td>\n",
       "      <td>0.0</td>\n",
       "      <td>0.0</td>\n",
       "      <td>0.0</td>\n",
       "      <td>0.0</td>\n",
       "      <td>0.0</td>\n",
       "      <td>0.0</td>\n",
       "      <td>0.0</td>\n",
       "      <td>0.0</td>\n",
       "      <td>0.0</td>\n",
       "      <td>0.000000</td>\n",
       "      <td>0.0</td>\n",
       "      <td>0.0</td>\n",
       "      <td>0.0</td>\n",
       "      <td>0.0</td>\n",
       "      <td>0.0</td>\n",
       "      <td>0.0</td>\n",
       "      <td>0.0</td>\n",
       "      <td>0.0</td>\n",
       "      <td>0.000000</td>\n",
       "      <td>0.0</td>\n",
       "      <td>0.0</td>\n",
       "      <td>0.0</td>\n",
       "      <td>0.0</td>\n",
       "      <td>0.0</td>\n",
       "      <td>0.0</td>\n",
       "      <td>0.0</td>\n",
       "      <td>0.0</td>\n",
       "      <td>0.0</td>\n",
       "      <td>0.0</td>\n",
       "      <td>0.0</td>\n",
       "      <td>0.0</td>\n",
       "      <td>0.0</td>\n",
       "      <td>0.0</td>\n",
       "      <td>0.0</td>\n",
       "      <td>0.0</td>\n",
       "      <td>0.0</td>\n",
       "      <td>0.0</td>\n",
       "      <td>0.0</td>\n",
       "      <td>0.0</td>\n",
       "      <td>0.0</td>\n",
       "      <td>0.0</td>\n",
       "      <td>0.0</td>\n",
       "      <td>0.0</td>\n",
       "      <td>0.0</td>\n",
       "      <td>0.0</td>\n",
       "      <td>0.0</td>\n",
       "      <td>0.0</td>\n",
       "      <td>0.0</td>\n",
       "      <td>...</td>\n",
       "      <td>0</td>\n",
       "      <td>0</td>\n",
       "      <td>0</td>\n",
       "      <td>0</td>\n",
       "      <td>0</td>\n",
       "      <td>1</td>\n",
       "      <td>1</td>\n",
       "      <td>0</td>\n",
       "      <td>1</td>\n",
       "      <td>1</td>\n",
       "      <td>0</td>\n",
       "      <td>1</td>\n",
       "      <td>0</td>\n",
       "      <td>0</td>\n",
       "      <td>0</td>\n",
       "      <td>0</td>\n",
       "      <td>0</td>\n",
       "      <td>0</td>\n",
       "      <td>1</td>\n",
       "      <td>0</td>\n",
       "      <td>1</td>\n",
       "      <td>0</td>\n",
       "      <td>0</td>\n",
       "      <td>0.0</td>\n",
       "      <td>0</td>\n",
       "      <td>0</td>\n",
       "      <td>0</td>\n",
       "      <td>0</td>\n",
       "      <td>0</td>\n",
       "      <td>0</td>\n",
       "      <td>1</td>\n",
       "      <td>0</td>\n",
       "      <td>0</td>\n",
       "      <td>0</td>\n",
       "      <td>0</td>\n",
       "      <td>1</td>\n",
       "      <td>0</td>\n",
       "      <td>1</td>\n",
       "      <td>0</td>\n",
       "      <td>0</td>\n",
       "      <td>1</td>\n",
       "      <td>1</td>\n",
       "      <td>1</td>\n",
       "      <td>1</td>\n",
       "      <td>0</td>\n",
       "      <td>0</td>\n",
       "      <td>0</td>\n",
       "      <td>0</td>\n",
       "      <td>0</td>\n",
       "      <td>0.361187</td>\n",
       "    </tr>\n",
       "    <tr>\n",
       "      <th>4</th>\n",
       "      <td>0.0</td>\n",
       "      <td>0.0</td>\n",
       "      <td>0.0</td>\n",
       "      <td>0.0</td>\n",
       "      <td>0.0</td>\n",
       "      <td>0.0</td>\n",
       "      <td>0.0</td>\n",
       "      <td>0.0</td>\n",
       "      <td>0.0</td>\n",
       "      <td>0.0</td>\n",
       "      <td>0.0</td>\n",
       "      <td>0.000000</td>\n",
       "      <td>0.0</td>\n",
       "      <td>1.0</td>\n",
       "      <td>0.0</td>\n",
       "      <td>0.0</td>\n",
       "      <td>0.0</td>\n",
       "      <td>0.0</td>\n",
       "      <td>0.0</td>\n",
       "      <td>0.0</td>\n",
       "      <td>0.000000</td>\n",
       "      <td>0.0</td>\n",
       "      <td>0.0</td>\n",
       "      <td>0.0</td>\n",
       "      <td>0.0</td>\n",
       "      <td>0.0</td>\n",
       "      <td>0.0</td>\n",
       "      <td>0.0</td>\n",
       "      <td>0.0</td>\n",
       "      <td>0.0</td>\n",
       "      <td>0.0</td>\n",
       "      <td>0.0</td>\n",
       "      <td>0.0</td>\n",
       "      <td>0.0</td>\n",
       "      <td>0.0</td>\n",
       "      <td>0.0</td>\n",
       "      <td>0.0</td>\n",
       "      <td>0.0</td>\n",
       "      <td>0.0</td>\n",
       "      <td>0.0</td>\n",
       "      <td>0.0</td>\n",
       "      <td>0.0</td>\n",
       "      <td>0.0</td>\n",
       "      <td>0.0</td>\n",
       "      <td>0.0</td>\n",
       "      <td>0.0</td>\n",
       "      <td>0.0</td>\n",
       "      <td>0.0</td>\n",
       "      <td>0.0</td>\n",
       "      <td>0.0</td>\n",
       "      <td>...</td>\n",
       "      <td>0</td>\n",
       "      <td>0</td>\n",
       "      <td>0</td>\n",
       "      <td>0</td>\n",
       "      <td>0</td>\n",
       "      <td>1</td>\n",
       "      <td>0</td>\n",
       "      <td>0</td>\n",
       "      <td>0</td>\n",
       "      <td>0</td>\n",
       "      <td>0</td>\n",
       "      <td>0</td>\n",
       "      <td>1</td>\n",
       "      <td>0</td>\n",
       "      <td>0</td>\n",
       "      <td>0</td>\n",
       "      <td>0</td>\n",
       "      <td>0</td>\n",
       "      <td>0</td>\n",
       "      <td>0</td>\n",
       "      <td>1</td>\n",
       "      <td>0</td>\n",
       "      <td>0</td>\n",
       "      <td>0.0</td>\n",
       "      <td>0</td>\n",
       "      <td>0</td>\n",
       "      <td>0</td>\n",
       "      <td>0</td>\n",
       "      <td>0</td>\n",
       "      <td>0</td>\n",
       "      <td>0</td>\n",
       "      <td>0</td>\n",
       "      <td>0</td>\n",
       "      <td>0</td>\n",
       "      <td>0</td>\n",
       "      <td>0</td>\n",
       "      <td>0</td>\n",
       "      <td>0</td>\n",
       "      <td>0</td>\n",
       "      <td>0</td>\n",
       "      <td>1</td>\n",
       "      <td>0</td>\n",
       "      <td>1</td>\n",
       "      <td>1</td>\n",
       "      <td>0</td>\n",
       "      <td>0</td>\n",
       "      <td>0</td>\n",
       "      <td>0</td>\n",
       "      <td>0</td>\n",
       "      <td>0.449019</td>\n",
       "    </tr>\n",
       "  </tbody>\n",
       "</table>\n",
       "<p>5 rows × 6260 columns</p>\n",
       "</div>"
      ],
      "text/plain": [
       "   fragment_180.067  fragment_236.103  fragment_349.187  fragment_756.149  \\\n",
       "0               0.0               0.0               0.0               0.0   \n",
       "1               0.0               0.0               0.0               0.0   \n",
       "2               0.0               0.0               0.0               0.0   \n",
       "3               0.0               0.0               0.0               0.0   \n",
       "4               0.0               0.0               0.0               0.0   \n",
       "\n",
       "   fragment_455.11  fragment_632.407  fragment_663.152  fragment_201.018  \\\n",
       "0              0.0               0.0               0.0               0.0   \n",
       "1              0.0               0.0               0.0               0.0   \n",
       "2              0.0               0.0               0.0               0.0   \n",
       "3              0.0               0.0               0.0               0.0   \n",
       "4              0.0               0.0               0.0               0.0   \n",
       "\n",
       "   fragment_822.437  fragment_423.128  fragment_761.15  fragment_153.014  \\\n",
       "0               0.0               0.0              0.0          0.397111   \n",
       "1               0.0               0.0              0.0          1.000000   \n",
       "2               0.0               0.0              0.0          0.444485   \n",
       "3               0.0               0.0              0.0          0.000000   \n",
       "4               0.0               0.0              0.0          0.000000   \n",
       "\n",
       "   fragment_302.06  fragment_599.389  fragment_568.539  fragment_292.899  \\\n",
       "0              0.0               0.0               0.0               0.0   \n",
       "1              0.0               0.0               0.0               0.0   \n",
       "2              0.0               0.0               0.0               0.0   \n",
       "3              0.0               0.0               0.0               0.0   \n",
       "4              0.0               1.0               0.0               0.0   \n",
       "\n",
       "   fragment_427.142  fragment_163.04  fragment_358.1  fragment_583.126  \\\n",
       "0               0.0              0.0             0.0               0.0   \n",
       "1               0.0              0.0             0.0               0.0   \n",
       "2               0.0              0.0             0.0               0.0   \n",
       "3               0.0              0.0             0.0               0.0   \n",
       "4               0.0              0.0             0.0               0.0   \n",
       "\n",
       "   fragment_165.02  fragment_130.091  fragment_272.049  fragment_167.02  \\\n",
       "0         0.215096               0.0               0.0              0.0   \n",
       "1         0.360814               0.0               0.0              0.0   \n",
       "2         0.000000               0.0               0.0              0.0   \n",
       "3         0.000000               0.0               0.0              0.0   \n",
       "4         0.000000               0.0               0.0              0.0   \n",
       "\n",
       "   fragment_167.01  fragment_127.104  fragment_184.05  fragment_625.141  \\\n",
       "0              0.0               0.0              0.0               0.0   \n",
       "1              0.0               0.0              0.0               0.0   \n",
       "2              0.0               0.0              0.0               0.0   \n",
       "3              0.0               0.0              0.0               0.0   \n",
       "4              0.0               0.0              0.0               0.0   \n",
       "\n",
       "   fragment_205.012  fragment_417.091  fragment_465.092  fragment_847.156  \\\n",
       "0               0.0               0.0               0.0               0.0   \n",
       "1               0.0               0.0               0.0               0.0   \n",
       "2               0.0               0.0               0.0               0.0   \n",
       "3               0.0               0.0               0.0               0.0   \n",
       "4               0.0               0.0               0.0               0.0   \n",
       "\n",
       "   fragment_406.117  fragment_187.136  fragment_1295.273  fragment_672.193  \\\n",
       "0               0.0               0.0                0.0               0.0   \n",
       "1               0.0               0.0                0.0               0.0   \n",
       "2               0.0               0.0                0.0               0.0   \n",
       "3               0.0               0.0                0.0               0.0   \n",
       "4               0.0               0.0                0.0               0.0   \n",
       "\n",
       "   fragment_101.061  fragment_230.146  fragment_316.051  fragment_196.044  \\\n",
       "0               0.0               0.0               0.0               0.0   \n",
       "1               0.0               0.0               0.0               0.0   \n",
       "2               0.0               0.0               0.0               0.0   \n",
       "3               0.0               0.0               0.0               0.0   \n",
       "4               0.0               0.0               0.0               0.0   \n",
       "\n",
       "   fragment_392.06  fragment_357.641  fragment_1043.213  fragment_513.115  \\\n",
       "0              0.0               0.0                0.0               0.0   \n",
       "1              0.0               0.0                0.0               0.0   \n",
       "2              0.0               0.0                0.0               0.0   \n",
       "3              0.0               0.0                0.0               0.0   \n",
       "4              0.0               0.0                0.0               0.0   \n",
       "\n",
       "   fragment_554.184  fragment_432.101  fragment_465.067  fragment_169.023  \\\n",
       "0               0.0               0.0               0.0               0.0   \n",
       "1               0.0               0.0               0.0               0.0   \n",
       "2               0.0               0.0               0.0               0.0   \n",
       "3               0.0               0.0               0.0               0.0   \n",
       "4               0.0               0.0               0.0               0.0   \n",
       "\n",
       "   fragment_575.136  fragment_616.438    ...     loss_705.145  loss_1464.865  \\\n",
       "0               0.0               0.0    ...                0              0   \n",
       "1               0.0               0.0    ...                0              0   \n",
       "2               0.0               0.0    ...                0              0   \n",
       "3               0.0               0.0    ...                0              0   \n",
       "4               0.0               0.0    ...                0              0   \n",
       "\n",
       "   loss_302.121  loss_511.955  loss_103.017  X2_MethylbutanoicAcid  \\\n",
       "0             0             0             0                      0   \n",
       "1             0             0             0                      0   \n",
       "2             0             0             0                      0   \n",
       "3             0             0             0                      1   \n",
       "4             0             0             0                      1   \n",
       "\n",
       "   AcacicAcid  Acetylglucosamine  Alanine  AminoAcid  Anthocyanidin  \\\n",
       "0           0                  0        0          0              0   \n",
       "1           0                  0        0          0              0   \n",
       "2           0                  0        0          0              0   \n",
       "3           1                  0        1          1              0   \n",
       "4           0                  0        0          0              0   \n",
       "\n",
       "   CaffeicAcid  pCoumaricAcid  CinnamicAcid  Cyclic_Monoterpene  \\\n",
       "0            0              0             0                   0   \n",
       "1            0              0             0                   0   \n",
       "2            0              0             0                   0   \n",
       "3            1              0             0                   0   \n",
       "4            0              1             0                   0   \n",
       "\n",
       "   Deoxyfuranose  DihydroFlavone  Dihydroflavonol  \\\n",
       "0              0               0                0   \n",
       "1              0               1                1   \n",
       "2              0               1                1   \n",
       "3              0               0                0   \n",
       "4              0               0                0   \n",
       "\n",
       "   DiHydroxyPiperidineCarboxylicAcid  Echinocystic_LactoneBridge  \\\n",
       "0                                  0                           0   \n",
       "1                                  0                           0   \n",
       "2                                  0                           0   \n",
       "3                                  1                           0   \n",
       "4                                  0                           0   \n",
       "\n",
       "   OleanolicAcid  Flavan3ol  Flavonol  Flavone  Furanose  GallicAcid  \\\n",
       "0              0          0         0      0.0         0           0   \n",
       "1              0          1         1      0.0         0           1   \n",
       "2              0          1         1      0.0         0           0   \n",
       "3              1          0         0      0.0         0           0   \n",
       "4              1          0         0      0.0         0           0   \n",
       "\n",
       "   Glucosamine  GlutamicAcid  Glutamine  HexopyranuronicAcid  \\\n",
       "0            0             0          0                    0   \n",
       "1            0             0          0                    0   \n",
       "2            0             0          0                    0   \n",
       "3            0             0          0                    0   \n",
       "4            0             0          0                    0   \n",
       "\n",
       "   HydroxyPiperidineCarboxylicAcid  Imidazole  L_Dopa  Leucine  Lysine  \\\n",
       "0                                0          0       0        0       0   \n",
       "1                                0          0       0        0       0   \n",
       "2                                0          0       0        0       0   \n",
       "3                                1          0       0        0       0   \n",
       "4                                0          0       0        0       0   \n",
       "\n",
       "   MetaMethoxyCinnamicAcid  MethoxyFerulicAcid  FerulicAcid  Monoterpene  \\\n",
       "0                        0                   0            0            0   \n",
       "1                        0                   0            0            0   \n",
       "2                        0                   0            0            0   \n",
       "3                        1                   0            1            0   \n",
       "4                        0                   0            0            0   \n",
       "\n",
       "   Oleanolic_LactoneBridge  Phenolic  PipecolicAcid  Pyranose  Triterpene  \\\n",
       "0                        0         1              0         0           0   \n",
       "1                        0         1              0         0           0   \n",
       "2                        0         1              0         1           0   \n",
       "3                        0         1              1         1           1   \n",
       "4                        0         1              0         1           1   \n",
       "\n",
       "   FattyAcid  Tryptophan  Tyramine  Tyrosine  Xanthonoid   MQScore  \n",
       "0          0           0         0         0           0  0.493507  \n",
       "1          0           0         0         0           0  0.491853  \n",
       "2          0           0         0         0           0  0.697186  \n",
       "3          0           0         0         0           0  0.361187  \n",
       "4          0           0         0         0           0  0.449019  \n",
       "\n",
       "[5 rows x 6260 columns]"
      ]
     },
     "execution_count": 3,
     "metadata": {},
     "output_type": "execute_result"
    }
   ],
   "source": [
    "raw = pd.read_csv('training_scaled.csv')\n",
    "raw.head()"
   ]
  },
  {
   "cell_type": "code",
   "execution_count": 4,
   "metadata": {},
   "outputs": [
    {
     "data": {
      "text/plain": [
       "(2041, 6260)"
      ]
     },
     "execution_count": 4,
     "metadata": {},
     "output_type": "execute_result"
    }
   ],
   "source": [
    "raw.shape"
   ]
  },
  {
   "cell_type": "markdown",
   "metadata": {},
   "source": [
    "### Extracting features, labels, and confidence score"
   ]
  },
  {
   "cell_type": "code",
   "execution_count": 5,
   "metadata": {
    "scrolled": false
   },
   "outputs": [
    {
     "data": {
      "text/html": [
       "<div>\n",
       "<style>\n",
       "    .dataframe thead tr:only-child th {\n",
       "        text-align: right;\n",
       "    }\n",
       "\n",
       "    .dataframe thead th {\n",
       "        text-align: left;\n",
       "    }\n",
       "\n",
       "    .dataframe tbody tr th {\n",
       "        vertical-align: top;\n",
       "    }\n",
       "</style>\n",
       "<table border=\"1\" class=\"dataframe\">\n",
       "  <thead>\n",
       "    <tr style=\"text-align: right;\">\n",
       "      <th></th>\n",
       "      <th>fragment_180.067</th>\n",
       "      <th>fragment_236.103</th>\n",
       "      <th>fragment_349.187</th>\n",
       "      <th>fragment_756.149</th>\n",
       "      <th>fragment_455.11</th>\n",
       "      <th>fragment_632.407</th>\n",
       "      <th>fragment_663.152</th>\n",
       "      <th>fragment_201.018</th>\n",
       "      <th>fragment_822.437</th>\n",
       "      <th>fragment_423.128</th>\n",
       "      <th>fragment_761.15</th>\n",
       "      <th>fragment_153.014</th>\n",
       "      <th>fragment_302.06</th>\n",
       "      <th>fragment_599.389</th>\n",
       "      <th>fragment_568.539</th>\n",
       "      <th>fragment_292.899</th>\n",
       "      <th>fragment_427.142</th>\n",
       "      <th>fragment_163.04</th>\n",
       "      <th>fragment_358.1</th>\n",
       "      <th>fragment_583.126</th>\n",
       "      <th>fragment_165.02</th>\n",
       "      <th>fragment_130.091</th>\n",
       "      <th>fragment_272.049</th>\n",
       "      <th>fragment_167.02</th>\n",
       "      <th>fragment_167.01</th>\n",
       "      <th>fragment_127.104</th>\n",
       "      <th>fragment_184.05</th>\n",
       "      <th>fragment_625.141</th>\n",
       "      <th>fragment_205.012</th>\n",
       "      <th>fragment_417.091</th>\n",
       "      <th>fragment_465.092</th>\n",
       "      <th>fragment_847.156</th>\n",
       "      <th>fragment_406.117</th>\n",
       "      <th>fragment_187.136</th>\n",
       "      <th>fragment_1295.273</th>\n",
       "      <th>fragment_672.193</th>\n",
       "      <th>fragment_101.061</th>\n",
       "      <th>fragment_230.146</th>\n",
       "      <th>fragment_316.051</th>\n",
       "      <th>fragment_196.044</th>\n",
       "      <th>fragment_392.06</th>\n",
       "      <th>fragment_357.641</th>\n",
       "      <th>fragment_1043.213</th>\n",
       "      <th>fragment_513.115</th>\n",
       "      <th>fragment_554.184</th>\n",
       "      <th>fragment_432.101</th>\n",
       "      <th>fragment_465.067</th>\n",
       "      <th>fragment_169.023</th>\n",
       "      <th>fragment_575.136</th>\n",
       "      <th>fragment_616.438</th>\n",
       "      <th>...</th>\n",
       "      <th>loss_604.146</th>\n",
       "      <th>loss_283.069</th>\n",
       "      <th>loss_915.551</th>\n",
       "      <th>loss_274.163</th>\n",
       "      <th>loss_52.083</th>\n",
       "      <th>loss_436.191</th>\n",
       "      <th>loss_101.019</th>\n",
       "      <th>loss_573.149</th>\n",
       "      <th>loss_887.244</th>\n",
       "      <th>loss_312.086</th>\n",
       "      <th>loss_164.059</th>\n",
       "      <th>loss_452.15</th>\n",
       "      <th>loss_263.095</th>\n",
       "      <th>loss_914.269</th>\n",
       "      <th>loss_422.14</th>\n",
       "      <th>loss_576.094</th>\n",
       "      <th>loss_211.074</th>\n",
       "      <th>loss_957.29</th>\n",
       "      <th>loss_442.174</th>\n",
       "      <th>loss_657.111</th>\n",
       "      <th>loss_1023.321</th>\n",
       "      <th>loss_1055.757</th>\n",
       "      <th>loss_987.159</th>\n",
       "      <th>loss_12.027</th>\n",
       "      <th>loss_294.132</th>\n",
       "      <th>loss_58.0</th>\n",
       "      <th>loss_401.129</th>\n",
       "      <th>loss_611.228</th>\n",
       "      <th>loss_360.103</th>\n",
       "      <th>loss_374.067</th>\n",
       "      <th>loss_174.052</th>\n",
       "      <th>loss_225.057</th>\n",
       "      <th>loss_476.128</th>\n",
       "      <th>loss_614.208</th>\n",
       "      <th>loss_1414.358</th>\n",
       "      <th>loss_762.228</th>\n",
       "      <th>loss_578.187</th>\n",
       "      <th>loss_223.048</th>\n",
       "      <th>loss_384.088</th>\n",
       "      <th>loss_121.032</th>\n",
       "      <th>loss_472.151</th>\n",
       "      <th>loss_95.529</th>\n",
       "      <th>loss_12.01</th>\n",
       "      <th>loss_264.089</th>\n",
       "      <th>loss_268.089</th>\n",
       "      <th>loss_705.145</th>\n",
       "      <th>loss_1464.865</th>\n",
       "      <th>loss_302.121</th>\n",
       "      <th>loss_511.955</th>\n",
       "      <th>loss_103.017</th>\n",
       "    </tr>\n",
       "  </thead>\n",
       "  <tbody>\n",
       "    <tr>\n",
       "      <th>0</th>\n",
       "      <td>0.0</td>\n",
       "      <td>0.0</td>\n",
       "      <td>0.0</td>\n",
       "      <td>0.0</td>\n",
       "      <td>0.0</td>\n",
       "      <td>0.0</td>\n",
       "      <td>0.0</td>\n",
       "      <td>0.0</td>\n",
       "      <td>0.0</td>\n",
       "      <td>0.0</td>\n",
       "      <td>0.0</td>\n",
       "      <td>0.397111</td>\n",
       "      <td>0.0</td>\n",
       "      <td>0.0</td>\n",
       "      <td>0.0</td>\n",
       "      <td>0.0</td>\n",
       "      <td>0.0</td>\n",
       "      <td>0.0</td>\n",
       "      <td>0.0</td>\n",
       "      <td>0.0</td>\n",
       "      <td>0.215096</td>\n",
       "      <td>0.0</td>\n",
       "      <td>0.0</td>\n",
       "      <td>0.0</td>\n",
       "      <td>0.0</td>\n",
       "      <td>0.0</td>\n",
       "      <td>0.0</td>\n",
       "      <td>0.0</td>\n",
       "      <td>0.0</td>\n",
       "      <td>0.0</td>\n",
       "      <td>0.0</td>\n",
       "      <td>0.0</td>\n",
       "      <td>0.0</td>\n",
       "      <td>0.0</td>\n",
       "      <td>0.0</td>\n",
       "      <td>0.0</td>\n",
       "      <td>0.0</td>\n",
       "      <td>0.0</td>\n",
       "      <td>0.0</td>\n",
       "      <td>0.0</td>\n",
       "      <td>0.0</td>\n",
       "      <td>0.0</td>\n",
       "      <td>0.0</td>\n",
       "      <td>0.0</td>\n",
       "      <td>0.0</td>\n",
       "      <td>0.0</td>\n",
       "      <td>0.0</td>\n",
       "      <td>0.0</td>\n",
       "      <td>0.0</td>\n",
       "      <td>0.0</td>\n",
       "      <td>...</td>\n",
       "      <td>0</td>\n",
       "      <td>0</td>\n",
       "      <td>0</td>\n",
       "      <td>0</td>\n",
       "      <td>0</td>\n",
       "      <td>0</td>\n",
       "      <td>0</td>\n",
       "      <td>0</td>\n",
       "      <td>0</td>\n",
       "      <td>0</td>\n",
       "      <td>0</td>\n",
       "      <td>0</td>\n",
       "      <td>0</td>\n",
       "      <td>0</td>\n",
       "      <td>0</td>\n",
       "      <td>0</td>\n",
       "      <td>0</td>\n",
       "      <td>0</td>\n",
       "      <td>0</td>\n",
       "      <td>0</td>\n",
       "      <td>0</td>\n",
       "      <td>0</td>\n",
       "      <td>0</td>\n",
       "      <td>0</td>\n",
       "      <td>0</td>\n",
       "      <td>0</td>\n",
       "      <td>0</td>\n",
       "      <td>0</td>\n",
       "      <td>0</td>\n",
       "      <td>0</td>\n",
       "      <td>0</td>\n",
       "      <td>0</td>\n",
       "      <td>0</td>\n",
       "      <td>0</td>\n",
       "      <td>0</td>\n",
       "      <td>0</td>\n",
       "      <td>0</td>\n",
       "      <td>0</td>\n",
       "      <td>0</td>\n",
       "      <td>0</td>\n",
       "      <td>0</td>\n",
       "      <td>0</td>\n",
       "      <td>0</td>\n",
       "      <td>0</td>\n",
       "      <td>0</td>\n",
       "      <td>0</td>\n",
       "      <td>0</td>\n",
       "      <td>0</td>\n",
       "      <td>0</td>\n",
       "      <td>0</td>\n",
       "    </tr>\n",
       "    <tr>\n",
       "      <th>1</th>\n",
       "      <td>0.0</td>\n",
       "      <td>0.0</td>\n",
       "      <td>0.0</td>\n",
       "      <td>0.0</td>\n",
       "      <td>0.0</td>\n",
       "      <td>0.0</td>\n",
       "      <td>0.0</td>\n",
       "      <td>0.0</td>\n",
       "      <td>0.0</td>\n",
       "      <td>0.0</td>\n",
       "      <td>0.0</td>\n",
       "      <td>1.000000</td>\n",
       "      <td>0.0</td>\n",
       "      <td>0.0</td>\n",
       "      <td>0.0</td>\n",
       "      <td>0.0</td>\n",
       "      <td>0.0</td>\n",
       "      <td>0.0</td>\n",
       "      <td>0.0</td>\n",
       "      <td>0.0</td>\n",
       "      <td>0.360814</td>\n",
       "      <td>0.0</td>\n",
       "      <td>0.0</td>\n",
       "      <td>0.0</td>\n",
       "      <td>0.0</td>\n",
       "      <td>0.0</td>\n",
       "      <td>0.0</td>\n",
       "      <td>0.0</td>\n",
       "      <td>0.0</td>\n",
       "      <td>0.0</td>\n",
       "      <td>0.0</td>\n",
       "      <td>0.0</td>\n",
       "      <td>0.0</td>\n",
       "      <td>0.0</td>\n",
       "      <td>0.0</td>\n",
       "      <td>0.0</td>\n",
       "      <td>0.0</td>\n",
       "      <td>0.0</td>\n",
       "      <td>0.0</td>\n",
       "      <td>0.0</td>\n",
       "      <td>0.0</td>\n",
       "      <td>0.0</td>\n",
       "      <td>0.0</td>\n",
       "      <td>0.0</td>\n",
       "      <td>0.0</td>\n",
       "      <td>0.0</td>\n",
       "      <td>0.0</td>\n",
       "      <td>0.0</td>\n",
       "      <td>0.0</td>\n",
       "      <td>0.0</td>\n",
       "      <td>...</td>\n",
       "      <td>0</td>\n",
       "      <td>0</td>\n",
       "      <td>0</td>\n",
       "      <td>0</td>\n",
       "      <td>0</td>\n",
       "      <td>0</td>\n",
       "      <td>0</td>\n",
       "      <td>0</td>\n",
       "      <td>0</td>\n",
       "      <td>0</td>\n",
       "      <td>0</td>\n",
       "      <td>0</td>\n",
       "      <td>0</td>\n",
       "      <td>0</td>\n",
       "      <td>0</td>\n",
       "      <td>0</td>\n",
       "      <td>0</td>\n",
       "      <td>0</td>\n",
       "      <td>0</td>\n",
       "      <td>0</td>\n",
       "      <td>0</td>\n",
       "      <td>0</td>\n",
       "      <td>0</td>\n",
       "      <td>0</td>\n",
       "      <td>0</td>\n",
       "      <td>0</td>\n",
       "      <td>0</td>\n",
       "      <td>0</td>\n",
       "      <td>0</td>\n",
       "      <td>0</td>\n",
       "      <td>0</td>\n",
       "      <td>0</td>\n",
       "      <td>0</td>\n",
       "      <td>0</td>\n",
       "      <td>0</td>\n",
       "      <td>0</td>\n",
       "      <td>0</td>\n",
       "      <td>0</td>\n",
       "      <td>0</td>\n",
       "      <td>0</td>\n",
       "      <td>0</td>\n",
       "      <td>0</td>\n",
       "      <td>0</td>\n",
       "      <td>0</td>\n",
       "      <td>0</td>\n",
       "      <td>0</td>\n",
       "      <td>0</td>\n",
       "      <td>0</td>\n",
       "      <td>0</td>\n",
       "      <td>0</td>\n",
       "    </tr>\n",
       "    <tr>\n",
       "      <th>2</th>\n",
       "      <td>0.0</td>\n",
       "      <td>0.0</td>\n",
       "      <td>0.0</td>\n",
       "      <td>0.0</td>\n",
       "      <td>0.0</td>\n",
       "      <td>0.0</td>\n",
       "      <td>0.0</td>\n",
       "      <td>0.0</td>\n",
       "      <td>0.0</td>\n",
       "      <td>0.0</td>\n",
       "      <td>0.0</td>\n",
       "      <td>0.444485</td>\n",
       "      <td>0.0</td>\n",
       "      <td>0.0</td>\n",
       "      <td>0.0</td>\n",
       "      <td>0.0</td>\n",
       "      <td>0.0</td>\n",
       "      <td>0.0</td>\n",
       "      <td>0.0</td>\n",
       "      <td>0.0</td>\n",
       "      <td>0.000000</td>\n",
       "      <td>0.0</td>\n",
       "      <td>0.0</td>\n",
       "      <td>0.0</td>\n",
       "      <td>0.0</td>\n",
       "      <td>0.0</td>\n",
       "      <td>0.0</td>\n",
       "      <td>0.0</td>\n",
       "      <td>0.0</td>\n",
       "      <td>0.0</td>\n",
       "      <td>0.0</td>\n",
       "      <td>0.0</td>\n",
       "      <td>0.0</td>\n",
       "      <td>0.0</td>\n",
       "      <td>0.0</td>\n",
       "      <td>0.0</td>\n",
       "      <td>0.0</td>\n",
       "      <td>0.0</td>\n",
       "      <td>0.0</td>\n",
       "      <td>0.0</td>\n",
       "      <td>0.0</td>\n",
       "      <td>0.0</td>\n",
       "      <td>0.0</td>\n",
       "      <td>0.0</td>\n",
       "      <td>0.0</td>\n",
       "      <td>0.0</td>\n",
       "      <td>0.0</td>\n",
       "      <td>0.0</td>\n",
       "      <td>0.0</td>\n",
       "      <td>0.0</td>\n",
       "      <td>...</td>\n",
       "      <td>0</td>\n",
       "      <td>0</td>\n",
       "      <td>0</td>\n",
       "      <td>0</td>\n",
       "      <td>0</td>\n",
       "      <td>0</td>\n",
       "      <td>0</td>\n",
       "      <td>0</td>\n",
       "      <td>0</td>\n",
       "      <td>0</td>\n",
       "      <td>0</td>\n",
       "      <td>0</td>\n",
       "      <td>0</td>\n",
       "      <td>0</td>\n",
       "      <td>0</td>\n",
       "      <td>0</td>\n",
       "      <td>0</td>\n",
       "      <td>0</td>\n",
       "      <td>0</td>\n",
       "      <td>0</td>\n",
       "      <td>0</td>\n",
       "      <td>0</td>\n",
       "      <td>0</td>\n",
       "      <td>0</td>\n",
       "      <td>0</td>\n",
       "      <td>0</td>\n",
       "      <td>0</td>\n",
       "      <td>0</td>\n",
       "      <td>0</td>\n",
       "      <td>0</td>\n",
       "      <td>0</td>\n",
       "      <td>0</td>\n",
       "      <td>0</td>\n",
       "      <td>0</td>\n",
       "      <td>0</td>\n",
       "      <td>0</td>\n",
       "      <td>0</td>\n",
       "      <td>0</td>\n",
       "      <td>0</td>\n",
       "      <td>0</td>\n",
       "      <td>0</td>\n",
       "      <td>0</td>\n",
       "      <td>0</td>\n",
       "      <td>0</td>\n",
       "      <td>0</td>\n",
       "      <td>0</td>\n",
       "      <td>0</td>\n",
       "      <td>0</td>\n",
       "      <td>0</td>\n",
       "      <td>0</td>\n",
       "    </tr>\n",
       "    <tr>\n",
       "      <th>3</th>\n",
       "      <td>0.0</td>\n",
       "      <td>0.0</td>\n",
       "      <td>0.0</td>\n",
       "      <td>0.0</td>\n",
       "      <td>0.0</td>\n",
       "      <td>0.0</td>\n",
       "      <td>0.0</td>\n",
       "      <td>0.0</td>\n",
       "      <td>0.0</td>\n",
       "      <td>0.0</td>\n",
       "      <td>0.0</td>\n",
       "      <td>0.000000</td>\n",
       "      <td>0.0</td>\n",
       "      <td>0.0</td>\n",
       "      <td>0.0</td>\n",
       "      <td>0.0</td>\n",
       "      <td>0.0</td>\n",
       "      <td>0.0</td>\n",
       "      <td>0.0</td>\n",
       "      <td>0.0</td>\n",
       "      <td>0.000000</td>\n",
       "      <td>0.0</td>\n",
       "      <td>0.0</td>\n",
       "      <td>0.0</td>\n",
       "      <td>0.0</td>\n",
       "      <td>0.0</td>\n",
       "      <td>0.0</td>\n",
       "      <td>0.0</td>\n",
       "      <td>0.0</td>\n",
       "      <td>0.0</td>\n",
       "      <td>0.0</td>\n",
       "      <td>0.0</td>\n",
       "      <td>0.0</td>\n",
       "      <td>0.0</td>\n",
       "      <td>0.0</td>\n",
       "      <td>0.0</td>\n",
       "      <td>0.0</td>\n",
       "      <td>0.0</td>\n",
       "      <td>0.0</td>\n",
       "      <td>0.0</td>\n",
       "      <td>0.0</td>\n",
       "      <td>0.0</td>\n",
       "      <td>0.0</td>\n",
       "      <td>0.0</td>\n",
       "      <td>0.0</td>\n",
       "      <td>0.0</td>\n",
       "      <td>0.0</td>\n",
       "      <td>0.0</td>\n",
       "      <td>0.0</td>\n",
       "      <td>0.0</td>\n",
       "      <td>...</td>\n",
       "      <td>0</td>\n",
       "      <td>0</td>\n",
       "      <td>0</td>\n",
       "      <td>0</td>\n",
       "      <td>0</td>\n",
       "      <td>0</td>\n",
       "      <td>0</td>\n",
       "      <td>0</td>\n",
       "      <td>0</td>\n",
       "      <td>0</td>\n",
       "      <td>0</td>\n",
       "      <td>0</td>\n",
       "      <td>0</td>\n",
       "      <td>0</td>\n",
       "      <td>0</td>\n",
       "      <td>0</td>\n",
       "      <td>0</td>\n",
       "      <td>0</td>\n",
       "      <td>0</td>\n",
       "      <td>0</td>\n",
       "      <td>0</td>\n",
       "      <td>0</td>\n",
       "      <td>0</td>\n",
       "      <td>0</td>\n",
       "      <td>0</td>\n",
       "      <td>0</td>\n",
       "      <td>0</td>\n",
       "      <td>0</td>\n",
       "      <td>0</td>\n",
       "      <td>0</td>\n",
       "      <td>0</td>\n",
       "      <td>0</td>\n",
       "      <td>0</td>\n",
       "      <td>0</td>\n",
       "      <td>0</td>\n",
       "      <td>0</td>\n",
       "      <td>0</td>\n",
       "      <td>0</td>\n",
       "      <td>0</td>\n",
       "      <td>0</td>\n",
       "      <td>0</td>\n",
       "      <td>0</td>\n",
       "      <td>0</td>\n",
       "      <td>0</td>\n",
       "      <td>0</td>\n",
       "      <td>0</td>\n",
       "      <td>0</td>\n",
       "      <td>0</td>\n",
       "      <td>0</td>\n",
       "      <td>0</td>\n",
       "    </tr>\n",
       "    <tr>\n",
       "      <th>4</th>\n",
       "      <td>0.0</td>\n",
       "      <td>0.0</td>\n",
       "      <td>0.0</td>\n",
       "      <td>0.0</td>\n",
       "      <td>0.0</td>\n",
       "      <td>0.0</td>\n",
       "      <td>0.0</td>\n",
       "      <td>0.0</td>\n",
       "      <td>0.0</td>\n",
       "      <td>0.0</td>\n",
       "      <td>0.0</td>\n",
       "      <td>0.000000</td>\n",
       "      <td>0.0</td>\n",
       "      <td>1.0</td>\n",
       "      <td>0.0</td>\n",
       "      <td>0.0</td>\n",
       "      <td>0.0</td>\n",
       "      <td>0.0</td>\n",
       "      <td>0.0</td>\n",
       "      <td>0.0</td>\n",
       "      <td>0.000000</td>\n",
       "      <td>0.0</td>\n",
       "      <td>0.0</td>\n",
       "      <td>0.0</td>\n",
       "      <td>0.0</td>\n",
       "      <td>0.0</td>\n",
       "      <td>0.0</td>\n",
       "      <td>0.0</td>\n",
       "      <td>0.0</td>\n",
       "      <td>0.0</td>\n",
       "      <td>0.0</td>\n",
       "      <td>0.0</td>\n",
       "      <td>0.0</td>\n",
       "      <td>0.0</td>\n",
       "      <td>0.0</td>\n",
       "      <td>0.0</td>\n",
       "      <td>0.0</td>\n",
       "      <td>0.0</td>\n",
       "      <td>0.0</td>\n",
       "      <td>0.0</td>\n",
       "      <td>0.0</td>\n",
       "      <td>0.0</td>\n",
       "      <td>0.0</td>\n",
       "      <td>0.0</td>\n",
       "      <td>0.0</td>\n",
       "      <td>0.0</td>\n",
       "      <td>0.0</td>\n",
       "      <td>0.0</td>\n",
       "      <td>0.0</td>\n",
       "      <td>0.0</td>\n",
       "      <td>...</td>\n",
       "      <td>0</td>\n",
       "      <td>0</td>\n",
       "      <td>0</td>\n",
       "      <td>0</td>\n",
       "      <td>0</td>\n",
       "      <td>0</td>\n",
       "      <td>0</td>\n",
       "      <td>0</td>\n",
       "      <td>0</td>\n",
       "      <td>0</td>\n",
       "      <td>0</td>\n",
       "      <td>0</td>\n",
       "      <td>0</td>\n",
       "      <td>0</td>\n",
       "      <td>0</td>\n",
       "      <td>0</td>\n",
       "      <td>0</td>\n",
       "      <td>0</td>\n",
       "      <td>0</td>\n",
       "      <td>0</td>\n",
       "      <td>0</td>\n",
       "      <td>0</td>\n",
       "      <td>0</td>\n",
       "      <td>0</td>\n",
       "      <td>0</td>\n",
       "      <td>0</td>\n",
       "      <td>0</td>\n",
       "      <td>0</td>\n",
       "      <td>0</td>\n",
       "      <td>0</td>\n",
       "      <td>0</td>\n",
       "      <td>0</td>\n",
       "      <td>0</td>\n",
       "      <td>0</td>\n",
       "      <td>0</td>\n",
       "      <td>0</td>\n",
       "      <td>0</td>\n",
       "      <td>0</td>\n",
       "      <td>0</td>\n",
       "      <td>0</td>\n",
       "      <td>0</td>\n",
       "      <td>0</td>\n",
       "      <td>0</td>\n",
       "      <td>0</td>\n",
       "      <td>0</td>\n",
       "      <td>0</td>\n",
       "      <td>0</td>\n",
       "      <td>0</td>\n",
       "      <td>0</td>\n",
       "      <td>0</td>\n",
       "    </tr>\n",
       "  </tbody>\n",
       "</table>\n",
       "<p>5 rows × 6215 columns</p>\n",
       "</div>"
      ],
      "text/plain": [
       "   fragment_180.067  fragment_236.103  fragment_349.187  fragment_756.149  \\\n",
       "0               0.0               0.0               0.0               0.0   \n",
       "1               0.0               0.0               0.0               0.0   \n",
       "2               0.0               0.0               0.0               0.0   \n",
       "3               0.0               0.0               0.0               0.0   \n",
       "4               0.0               0.0               0.0               0.0   \n",
       "\n",
       "   fragment_455.11  fragment_632.407  fragment_663.152  fragment_201.018  \\\n",
       "0              0.0               0.0               0.0               0.0   \n",
       "1              0.0               0.0               0.0               0.0   \n",
       "2              0.0               0.0               0.0               0.0   \n",
       "3              0.0               0.0               0.0               0.0   \n",
       "4              0.0               0.0               0.0               0.0   \n",
       "\n",
       "   fragment_822.437  fragment_423.128  fragment_761.15  fragment_153.014  \\\n",
       "0               0.0               0.0              0.0          0.397111   \n",
       "1               0.0               0.0              0.0          1.000000   \n",
       "2               0.0               0.0              0.0          0.444485   \n",
       "3               0.0               0.0              0.0          0.000000   \n",
       "4               0.0               0.0              0.0          0.000000   \n",
       "\n",
       "   fragment_302.06  fragment_599.389  fragment_568.539  fragment_292.899  \\\n",
       "0              0.0               0.0               0.0               0.0   \n",
       "1              0.0               0.0               0.0               0.0   \n",
       "2              0.0               0.0               0.0               0.0   \n",
       "3              0.0               0.0               0.0               0.0   \n",
       "4              0.0               1.0               0.0               0.0   \n",
       "\n",
       "   fragment_427.142  fragment_163.04  fragment_358.1  fragment_583.126  \\\n",
       "0               0.0              0.0             0.0               0.0   \n",
       "1               0.0              0.0             0.0               0.0   \n",
       "2               0.0              0.0             0.0               0.0   \n",
       "3               0.0              0.0             0.0               0.0   \n",
       "4               0.0              0.0             0.0               0.0   \n",
       "\n",
       "   fragment_165.02  fragment_130.091  fragment_272.049  fragment_167.02  \\\n",
       "0         0.215096               0.0               0.0              0.0   \n",
       "1         0.360814               0.0               0.0              0.0   \n",
       "2         0.000000               0.0               0.0              0.0   \n",
       "3         0.000000               0.0               0.0              0.0   \n",
       "4         0.000000               0.0               0.0              0.0   \n",
       "\n",
       "   fragment_167.01  fragment_127.104  fragment_184.05  fragment_625.141  \\\n",
       "0              0.0               0.0              0.0               0.0   \n",
       "1              0.0               0.0              0.0               0.0   \n",
       "2              0.0               0.0              0.0               0.0   \n",
       "3              0.0               0.0              0.0               0.0   \n",
       "4              0.0               0.0              0.0               0.0   \n",
       "\n",
       "   fragment_205.012  fragment_417.091  fragment_465.092  fragment_847.156  \\\n",
       "0               0.0               0.0               0.0               0.0   \n",
       "1               0.0               0.0               0.0               0.0   \n",
       "2               0.0               0.0               0.0               0.0   \n",
       "3               0.0               0.0               0.0               0.0   \n",
       "4               0.0               0.0               0.0               0.0   \n",
       "\n",
       "   fragment_406.117  fragment_187.136  fragment_1295.273  fragment_672.193  \\\n",
       "0               0.0               0.0                0.0               0.0   \n",
       "1               0.0               0.0                0.0               0.0   \n",
       "2               0.0               0.0                0.0               0.0   \n",
       "3               0.0               0.0                0.0               0.0   \n",
       "4               0.0               0.0                0.0               0.0   \n",
       "\n",
       "   fragment_101.061  fragment_230.146  fragment_316.051  fragment_196.044  \\\n",
       "0               0.0               0.0               0.0               0.0   \n",
       "1               0.0               0.0               0.0               0.0   \n",
       "2               0.0               0.0               0.0               0.0   \n",
       "3               0.0               0.0               0.0               0.0   \n",
       "4               0.0               0.0               0.0               0.0   \n",
       "\n",
       "   fragment_392.06  fragment_357.641  fragment_1043.213  fragment_513.115  \\\n",
       "0              0.0               0.0                0.0               0.0   \n",
       "1              0.0               0.0                0.0               0.0   \n",
       "2              0.0               0.0                0.0               0.0   \n",
       "3              0.0               0.0                0.0               0.0   \n",
       "4              0.0               0.0                0.0               0.0   \n",
       "\n",
       "   fragment_554.184  fragment_432.101  fragment_465.067  fragment_169.023  \\\n",
       "0               0.0               0.0               0.0               0.0   \n",
       "1               0.0               0.0               0.0               0.0   \n",
       "2               0.0               0.0               0.0               0.0   \n",
       "3               0.0               0.0               0.0               0.0   \n",
       "4               0.0               0.0               0.0               0.0   \n",
       "\n",
       "   fragment_575.136  fragment_616.438      ...       loss_604.146  \\\n",
       "0               0.0               0.0      ...                  0   \n",
       "1               0.0               0.0      ...                  0   \n",
       "2               0.0               0.0      ...                  0   \n",
       "3               0.0               0.0      ...                  0   \n",
       "4               0.0               0.0      ...                  0   \n",
       "\n",
       "   loss_283.069  loss_915.551  loss_274.163  loss_52.083  loss_436.191  \\\n",
       "0             0             0             0            0             0   \n",
       "1             0             0             0            0             0   \n",
       "2             0             0             0            0             0   \n",
       "3             0             0             0            0             0   \n",
       "4             0             0             0            0             0   \n",
       "\n",
       "   loss_101.019  loss_573.149  loss_887.244  loss_312.086  loss_164.059  \\\n",
       "0             0             0             0             0             0   \n",
       "1             0             0             0             0             0   \n",
       "2             0             0             0             0             0   \n",
       "3             0             0             0             0             0   \n",
       "4             0             0             0             0             0   \n",
       "\n",
       "   loss_452.15  loss_263.095  loss_914.269  loss_422.14  loss_576.094  \\\n",
       "0            0             0             0            0             0   \n",
       "1            0             0             0            0             0   \n",
       "2            0             0             0            0             0   \n",
       "3            0             0             0            0             0   \n",
       "4            0             0             0            0             0   \n",
       "\n",
       "   loss_211.074  loss_957.29  loss_442.174  loss_657.111  loss_1023.321  \\\n",
       "0             0            0             0             0              0   \n",
       "1             0            0             0             0              0   \n",
       "2             0            0             0             0              0   \n",
       "3             0            0             0             0              0   \n",
       "4             0            0             0             0              0   \n",
       "\n",
       "   loss_1055.757  loss_987.159  loss_12.027  loss_294.132  loss_58.0  \\\n",
       "0              0             0            0             0          0   \n",
       "1              0             0            0             0          0   \n",
       "2              0             0            0             0          0   \n",
       "3              0             0            0             0          0   \n",
       "4              0             0            0             0          0   \n",
       "\n",
       "   loss_401.129  loss_611.228  loss_360.103  loss_374.067  loss_174.052  \\\n",
       "0             0             0             0             0             0   \n",
       "1             0             0             0             0             0   \n",
       "2             0             0             0             0             0   \n",
       "3             0             0             0             0             0   \n",
       "4             0             0             0             0             0   \n",
       "\n",
       "   loss_225.057  loss_476.128  loss_614.208  loss_1414.358  loss_762.228  \\\n",
       "0             0             0             0              0             0   \n",
       "1             0             0             0              0             0   \n",
       "2             0             0             0              0             0   \n",
       "3             0             0             0              0             0   \n",
       "4             0             0             0              0             0   \n",
       "\n",
       "   loss_578.187  loss_223.048  loss_384.088  loss_121.032  loss_472.151  \\\n",
       "0             0             0             0             0             0   \n",
       "1             0             0             0             0             0   \n",
       "2             0             0             0             0             0   \n",
       "3             0             0             0             0             0   \n",
       "4             0             0             0             0             0   \n",
       "\n",
       "   loss_95.529  loss_12.01  loss_264.089  loss_268.089  loss_705.145  \\\n",
       "0            0           0             0             0             0   \n",
       "1            0           0             0             0             0   \n",
       "2            0           0             0             0             0   \n",
       "3            0           0             0             0             0   \n",
       "4            0           0             0             0             0   \n",
       "\n",
       "   loss_1464.865  loss_302.121  loss_511.955  loss_103.017  \n",
       "0              0             0             0             0  \n",
       "1              0             0             0             0  \n",
       "2              0             0             0             0  \n",
       "3              0             0             0             0  \n",
       "4              0             0             0             0  \n",
       "\n",
       "[5 rows x 6215 columns]"
      ]
     },
     "execution_count": 5,
     "metadata": {},
     "output_type": "execute_result"
    }
   ],
   "source": [
    "feature = raw.iloc[:,:6215]\n",
    "feature.head()"
   ]
  },
  {
   "cell_type": "code",
   "execution_count": 6,
   "metadata": {},
   "outputs": [
    {
     "data": {
      "text/plain": [
       "(2041, 6215)"
      ]
     },
     "execution_count": 6,
     "metadata": {},
     "output_type": "execute_result"
    }
   ],
   "source": [
    "X = feature.as_matrix()\n",
    "X.shape"
   ]
  },
  {
   "cell_type": "code",
   "execution_count": 7,
   "metadata": {},
   "outputs": [
    {
     "data": {
      "text/html": [
       "<div>\n",
       "<style>\n",
       "    .dataframe thead tr:only-child th {\n",
       "        text-align: right;\n",
       "    }\n",
       "\n",
       "    .dataframe thead th {\n",
       "        text-align: left;\n",
       "    }\n",
       "\n",
       "    .dataframe tbody tr th {\n",
       "        vertical-align: top;\n",
       "    }\n",
       "</style>\n",
       "<table border=\"1\" class=\"dataframe\">\n",
       "  <thead>\n",
       "    <tr style=\"text-align: right;\">\n",
       "      <th></th>\n",
       "      <th>X2_MethylbutanoicAcid</th>\n",
       "      <th>AcacicAcid</th>\n",
       "      <th>Acetylglucosamine</th>\n",
       "      <th>Alanine</th>\n",
       "      <th>AminoAcid</th>\n",
       "      <th>Anthocyanidin</th>\n",
       "      <th>CaffeicAcid</th>\n",
       "      <th>pCoumaricAcid</th>\n",
       "      <th>CinnamicAcid</th>\n",
       "      <th>Cyclic_Monoterpene</th>\n",
       "      <th>Deoxyfuranose</th>\n",
       "      <th>DihydroFlavone</th>\n",
       "      <th>Dihydroflavonol</th>\n",
       "      <th>DiHydroxyPiperidineCarboxylicAcid</th>\n",
       "      <th>Echinocystic_LactoneBridge</th>\n",
       "      <th>OleanolicAcid</th>\n",
       "      <th>Flavan3ol</th>\n",
       "      <th>Flavonol</th>\n",
       "      <th>Flavone</th>\n",
       "      <th>Furanose</th>\n",
       "      <th>GallicAcid</th>\n",
       "      <th>Glucosamine</th>\n",
       "      <th>GlutamicAcid</th>\n",
       "      <th>Glutamine</th>\n",
       "      <th>HexopyranuronicAcid</th>\n",
       "      <th>HydroxyPiperidineCarboxylicAcid</th>\n",
       "      <th>Imidazole</th>\n",
       "      <th>L_Dopa</th>\n",
       "      <th>Leucine</th>\n",
       "      <th>Lysine</th>\n",
       "      <th>MetaMethoxyCinnamicAcid</th>\n",
       "      <th>MethoxyFerulicAcid</th>\n",
       "      <th>FerulicAcid</th>\n",
       "      <th>Monoterpene</th>\n",
       "      <th>Oleanolic_LactoneBridge</th>\n",
       "      <th>Phenolic</th>\n",
       "      <th>PipecolicAcid</th>\n",
       "      <th>Pyranose</th>\n",
       "      <th>Triterpene</th>\n",
       "      <th>FattyAcid</th>\n",
       "      <th>Tryptophan</th>\n",
       "      <th>Tyramine</th>\n",
       "      <th>Tyrosine</th>\n",
       "      <th>Xanthonoid</th>\n",
       "    </tr>\n",
       "  </thead>\n",
       "  <tbody>\n",
       "    <tr>\n",
       "      <th>0</th>\n",
       "      <td>0</td>\n",
       "      <td>0</td>\n",
       "      <td>0</td>\n",
       "      <td>0</td>\n",
       "      <td>0</td>\n",
       "      <td>0</td>\n",
       "      <td>0</td>\n",
       "      <td>0</td>\n",
       "      <td>0</td>\n",
       "      <td>0</td>\n",
       "      <td>0</td>\n",
       "      <td>0</td>\n",
       "      <td>0</td>\n",
       "      <td>0</td>\n",
       "      <td>0</td>\n",
       "      <td>0</td>\n",
       "      <td>0</td>\n",
       "      <td>0</td>\n",
       "      <td>0.0</td>\n",
       "      <td>0</td>\n",
       "      <td>0</td>\n",
       "      <td>0</td>\n",
       "      <td>0</td>\n",
       "      <td>0</td>\n",
       "      <td>0</td>\n",
       "      <td>0</td>\n",
       "      <td>0</td>\n",
       "      <td>0</td>\n",
       "      <td>0</td>\n",
       "      <td>0</td>\n",
       "      <td>0</td>\n",
       "      <td>0</td>\n",
       "      <td>0</td>\n",
       "      <td>0</td>\n",
       "      <td>0</td>\n",
       "      <td>1</td>\n",
       "      <td>0</td>\n",
       "      <td>0</td>\n",
       "      <td>0</td>\n",
       "      <td>0</td>\n",
       "      <td>0</td>\n",
       "      <td>0</td>\n",
       "      <td>0</td>\n",
       "      <td>0</td>\n",
       "    </tr>\n",
       "    <tr>\n",
       "      <th>1</th>\n",
       "      <td>0</td>\n",
       "      <td>0</td>\n",
       "      <td>0</td>\n",
       "      <td>0</td>\n",
       "      <td>0</td>\n",
       "      <td>0</td>\n",
       "      <td>0</td>\n",
       "      <td>0</td>\n",
       "      <td>0</td>\n",
       "      <td>0</td>\n",
       "      <td>0</td>\n",
       "      <td>1</td>\n",
       "      <td>1</td>\n",
       "      <td>0</td>\n",
       "      <td>0</td>\n",
       "      <td>0</td>\n",
       "      <td>1</td>\n",
       "      <td>1</td>\n",
       "      <td>0.0</td>\n",
       "      <td>0</td>\n",
       "      <td>1</td>\n",
       "      <td>0</td>\n",
       "      <td>0</td>\n",
       "      <td>0</td>\n",
       "      <td>0</td>\n",
       "      <td>0</td>\n",
       "      <td>0</td>\n",
       "      <td>0</td>\n",
       "      <td>0</td>\n",
       "      <td>0</td>\n",
       "      <td>0</td>\n",
       "      <td>0</td>\n",
       "      <td>0</td>\n",
       "      <td>0</td>\n",
       "      <td>0</td>\n",
       "      <td>1</td>\n",
       "      <td>0</td>\n",
       "      <td>0</td>\n",
       "      <td>0</td>\n",
       "      <td>0</td>\n",
       "      <td>0</td>\n",
       "      <td>0</td>\n",
       "      <td>0</td>\n",
       "      <td>0</td>\n",
       "    </tr>\n",
       "    <tr>\n",
       "      <th>2</th>\n",
       "      <td>0</td>\n",
       "      <td>0</td>\n",
       "      <td>0</td>\n",
       "      <td>0</td>\n",
       "      <td>0</td>\n",
       "      <td>0</td>\n",
       "      <td>0</td>\n",
       "      <td>0</td>\n",
       "      <td>0</td>\n",
       "      <td>0</td>\n",
       "      <td>0</td>\n",
       "      <td>1</td>\n",
       "      <td>1</td>\n",
       "      <td>0</td>\n",
       "      <td>0</td>\n",
       "      <td>0</td>\n",
       "      <td>1</td>\n",
       "      <td>1</td>\n",
       "      <td>0.0</td>\n",
       "      <td>0</td>\n",
       "      <td>0</td>\n",
       "      <td>0</td>\n",
       "      <td>0</td>\n",
       "      <td>0</td>\n",
       "      <td>0</td>\n",
       "      <td>0</td>\n",
       "      <td>0</td>\n",
       "      <td>0</td>\n",
       "      <td>0</td>\n",
       "      <td>0</td>\n",
       "      <td>0</td>\n",
       "      <td>0</td>\n",
       "      <td>0</td>\n",
       "      <td>0</td>\n",
       "      <td>0</td>\n",
       "      <td>1</td>\n",
       "      <td>0</td>\n",
       "      <td>1</td>\n",
       "      <td>0</td>\n",
       "      <td>0</td>\n",
       "      <td>0</td>\n",
       "      <td>0</td>\n",
       "      <td>0</td>\n",
       "      <td>0</td>\n",
       "    </tr>\n",
       "    <tr>\n",
       "      <th>3</th>\n",
       "      <td>1</td>\n",
       "      <td>1</td>\n",
       "      <td>0</td>\n",
       "      <td>1</td>\n",
       "      <td>1</td>\n",
       "      <td>0</td>\n",
       "      <td>1</td>\n",
       "      <td>0</td>\n",
       "      <td>0</td>\n",
       "      <td>0</td>\n",
       "      <td>0</td>\n",
       "      <td>0</td>\n",
       "      <td>0</td>\n",
       "      <td>1</td>\n",
       "      <td>0</td>\n",
       "      <td>1</td>\n",
       "      <td>0</td>\n",
       "      <td>0</td>\n",
       "      <td>0.0</td>\n",
       "      <td>0</td>\n",
       "      <td>0</td>\n",
       "      <td>0</td>\n",
       "      <td>0</td>\n",
       "      <td>0</td>\n",
       "      <td>0</td>\n",
       "      <td>1</td>\n",
       "      <td>0</td>\n",
       "      <td>0</td>\n",
       "      <td>0</td>\n",
       "      <td>0</td>\n",
       "      <td>1</td>\n",
       "      <td>0</td>\n",
       "      <td>1</td>\n",
       "      <td>0</td>\n",
       "      <td>0</td>\n",
       "      <td>1</td>\n",
       "      <td>1</td>\n",
       "      <td>1</td>\n",
       "      <td>1</td>\n",
       "      <td>0</td>\n",
       "      <td>0</td>\n",
       "      <td>0</td>\n",
       "      <td>0</td>\n",
       "      <td>0</td>\n",
       "    </tr>\n",
       "    <tr>\n",
       "      <th>4</th>\n",
       "      <td>1</td>\n",
       "      <td>0</td>\n",
       "      <td>0</td>\n",
       "      <td>0</td>\n",
       "      <td>0</td>\n",
       "      <td>0</td>\n",
       "      <td>0</td>\n",
       "      <td>1</td>\n",
       "      <td>0</td>\n",
       "      <td>0</td>\n",
       "      <td>0</td>\n",
       "      <td>0</td>\n",
       "      <td>0</td>\n",
       "      <td>0</td>\n",
       "      <td>0</td>\n",
       "      <td>1</td>\n",
       "      <td>0</td>\n",
       "      <td>0</td>\n",
       "      <td>0.0</td>\n",
       "      <td>0</td>\n",
       "      <td>0</td>\n",
       "      <td>0</td>\n",
       "      <td>0</td>\n",
       "      <td>0</td>\n",
       "      <td>0</td>\n",
       "      <td>0</td>\n",
       "      <td>0</td>\n",
       "      <td>0</td>\n",
       "      <td>0</td>\n",
       "      <td>0</td>\n",
       "      <td>0</td>\n",
       "      <td>0</td>\n",
       "      <td>0</td>\n",
       "      <td>0</td>\n",
       "      <td>0</td>\n",
       "      <td>1</td>\n",
       "      <td>0</td>\n",
       "      <td>1</td>\n",
       "      <td>1</td>\n",
       "      <td>0</td>\n",
       "      <td>0</td>\n",
       "      <td>0</td>\n",
       "      <td>0</td>\n",
       "      <td>0</td>\n",
       "    </tr>\n",
       "  </tbody>\n",
       "</table>\n",
       "</div>"
      ],
      "text/plain": [
       "   X2_MethylbutanoicAcid  AcacicAcid  Acetylglucosamine  Alanine  AminoAcid  \\\n",
       "0                      0           0                  0        0          0   \n",
       "1                      0           0                  0        0          0   \n",
       "2                      0           0                  0        0          0   \n",
       "3                      1           1                  0        1          1   \n",
       "4                      1           0                  0        0          0   \n",
       "\n",
       "   Anthocyanidin  CaffeicAcid  pCoumaricAcid  CinnamicAcid  \\\n",
       "0              0            0              0             0   \n",
       "1              0            0              0             0   \n",
       "2              0            0              0             0   \n",
       "3              0            1              0             0   \n",
       "4              0            0              1             0   \n",
       "\n",
       "   Cyclic_Monoterpene  Deoxyfuranose  DihydroFlavone  Dihydroflavonol  \\\n",
       "0                   0              0               0                0   \n",
       "1                   0              0               1                1   \n",
       "2                   0              0               1                1   \n",
       "3                   0              0               0                0   \n",
       "4                   0              0               0                0   \n",
       "\n",
       "   DiHydroxyPiperidineCarboxylicAcid  Echinocystic_LactoneBridge  \\\n",
       "0                                  0                           0   \n",
       "1                                  0                           0   \n",
       "2                                  0                           0   \n",
       "3                                  1                           0   \n",
       "4                                  0                           0   \n",
       "\n",
       "   OleanolicAcid  Flavan3ol  Flavonol  Flavone  Furanose  GallicAcid  \\\n",
       "0              0          0         0      0.0         0           0   \n",
       "1              0          1         1      0.0         0           1   \n",
       "2              0          1         1      0.0         0           0   \n",
       "3              1          0         0      0.0         0           0   \n",
       "4              1          0         0      0.0         0           0   \n",
       "\n",
       "   Glucosamine  GlutamicAcid  Glutamine  HexopyranuronicAcid  \\\n",
       "0            0             0          0                    0   \n",
       "1            0             0          0                    0   \n",
       "2            0             0          0                    0   \n",
       "3            0             0          0                    0   \n",
       "4            0             0          0                    0   \n",
       "\n",
       "   HydroxyPiperidineCarboxylicAcid  Imidazole  L_Dopa  Leucine  Lysine  \\\n",
       "0                                0          0       0        0       0   \n",
       "1                                0          0       0        0       0   \n",
       "2                                0          0       0        0       0   \n",
       "3                                1          0       0        0       0   \n",
       "4                                0          0       0        0       0   \n",
       "\n",
       "   MetaMethoxyCinnamicAcid  MethoxyFerulicAcid  FerulicAcid  Monoterpene  \\\n",
       "0                        0                   0            0            0   \n",
       "1                        0                   0            0            0   \n",
       "2                        0                   0            0            0   \n",
       "3                        1                   0            1            0   \n",
       "4                        0                   0            0            0   \n",
       "\n",
       "   Oleanolic_LactoneBridge  Phenolic  PipecolicAcid  Pyranose  Triterpene  \\\n",
       "0                        0         1              0         0           0   \n",
       "1                        0         1              0         0           0   \n",
       "2                        0         1              0         1           0   \n",
       "3                        0         1              1         1           1   \n",
       "4                        0         1              0         1           1   \n",
       "\n",
       "   FattyAcid  Tryptophan  Tyramine  Tyrosine  Xanthonoid  \n",
       "0          0           0         0         0           0  \n",
       "1          0           0         0         0           0  \n",
       "2          0           0         0         0           0  \n",
       "3          0           0         0         0           0  \n",
       "4          0           0         0         0           0  "
      ]
     },
     "execution_count": 7,
     "metadata": {},
     "output_type": "execute_result"
    }
   ],
   "source": [
    "label = raw.iloc[:,6215:-1]\n",
    "label.head()"
   ]
  },
  {
   "cell_type": "code",
   "execution_count": 8,
   "metadata": {},
   "outputs": [
    {
     "data": {
      "text/plain": [
       "(2041, 44)"
      ]
     },
     "execution_count": 8,
     "metadata": {},
     "output_type": "execute_result"
    }
   ],
   "source": [
    "Y = label.as_matrix()\n",
    "Y.shape"
   ]
  },
  {
   "cell_type": "code",
   "execution_count": 9,
   "metadata": {},
   "outputs": [
    {
     "data": {
      "text/plain": [
       "0    0.493507\n",
       "1    0.491853\n",
       "2    0.697186\n",
       "3    0.361187\n",
       "4    0.449019\n",
       "Name: MQScore, dtype: float64"
      ]
     },
     "execution_count": 9,
     "metadata": {},
     "output_type": "execute_result"
    }
   ],
   "source": [
    "confidence = raw.iloc[:,-1]\n",
    "confidence.head()"
   ]
  },
  {
   "cell_type": "code",
   "execution_count": 10,
   "metadata": {},
   "outputs": [
    {
     "data": {
      "text/plain": [
       "(2041,)"
      ]
     },
     "execution_count": 10,
     "metadata": {},
     "output_type": "execute_result"
    }
   ],
   "source": [
    "weight = confidence.as_matrix()\n",
    "weight.shape"
   ]
  },
  {
   "cell_type": "markdown",
   "metadata": {},
   "source": [
    "### Making Predictions"
   ]
  },
  {
   "cell_type": "code",
   "execution_count": 11,
   "metadata": {},
   "outputs": [],
   "source": [
    "from sklearn.model_selection import train_test_split, KFold, GridSearchCV"
   ]
  },
  {
   "cell_type": "code",
   "execution_count": 12,
   "metadata": {},
   "outputs": [],
   "source": [
    "from imblearn.over_sampling import SMOTE"
   ]
  },
  {
   "cell_type": "code",
   "execution_count": 13,
   "metadata": {},
   "outputs": [],
   "source": [
    "from sklearn.feature_selection import VarianceThreshold, f_classif"
   ]
  },
  {
   "cell_type": "code",
   "execution_count": 14,
   "metadata": {},
   "outputs": [],
   "source": [
    "from sklearn.linear_model import SGDClassifier"
   ]
  },
  {
   "cell_type": "code",
   "execution_count": 15,
   "metadata": {},
   "outputs": [],
   "source": [
    "from sklearn import metrics"
   ]
  },
  {
   "cell_type": "markdown",
   "metadata": {},
   "source": [
    "#### Predicting with Train-Test-Split"
   ]
  },
  {
   "cell_type": "code",
   "execution_count": 16,
   "metadata": {},
   "outputs": [],
   "source": [
    "def predict3_ttsplit(clf, params, X, Y, test_size=0.2):\n",
    "    Xtrain, Xtest, Ytrain, Ytest = train_test_split(X, Y, test_size=test_size)\n",
    "    \n",
    "    Ytrainpred_arr = []\n",
    "    Ytestpred_arr = []\n",
    "    for i in range(44):\n",
    "#         print('Predicting label {}'.format(i))\n",
    "        ytrain = Ytrain[:,i]\n",
    "        ytest = Ytest[:,i]\n",
    "\n",
    "        spl = SMOTE(ratio='minority', kind='borderline2', k_neighbors=3, m_neighbors=3, n_jobs=n_cores)\n",
    "        Xtrain_resampled, ytrain_resampled = spl.fit_sample(Xtrain, ytrain)\n",
    "\n",
    "        vt = VarianceThreshold().fit(Xtrain_resampled)\n",
    "        selected_ind1 = (vt.variances_ != vt.threshold)\n",
    "        Xtrain_resampled1 = Xtrain_resampled[:,selected_ind1]\n",
    "        Xtrain1 = Xtrain[:,selected_ind1]\n",
    "        Xtest1 = Xtest[:,selected_ind1]\n",
    "\n",
    "        fval, pval = f_classif(Xtrain_resampled1, ytrain_resampled)\n",
    "        selected_ind2 = (pval<0.1)\n",
    "        Xtrain_resampled2 = Xtrain_resampled1[:,selected_ind2]\n",
    "        Xtrain2 = Xtrain1[:,selected_ind2]\n",
    "        Xtest2 = Xtest1[:,selected_ind2]\n",
    "        \n",
    "        gscv = GridSearchCV(clf, params, scoring='accuracy', cv=5, n_jobs=n_cores)\n",
    "        gscv.fit(Xtrain_resampled2, ytrain_resampled)\n",
    "        print(gscv.best_score_)\n",
    "        print(gscv.best_params_)\n",
    "        \n",
    "        ytrainpred = gscv.predict(Xtrain2)\n",
    "        ytestpred = gscv.predict(Xtest2)\n",
    "        Ytrainpred_arr.append(ytrainpred)\n",
    "        Ytestpred_arr.append(ytestpred)\n",
    "        \n",
    "    Ytrainpred = np.array(Ytrainpred_arr).T\n",
    "    Ytestpred = np.array(Ytestpred_arr).T\n",
    "\n",
    "    Ytrain = (Ytrain==1).astype('int')\n",
    "    Ytest = (Ytest==1).astype('int')\n",
    "    Ytrainpred = (Ytrainpred==1).astype('int')\n",
    "    Ytestpred = (Ytestpred==1).astype('int')\n",
    "    \n",
    "    accuracytrain = metrics.accuracy_score(Ytrain, Ytrainpred)\n",
    "    accuracytest = metrics.accuracy_score(Ytest, Ytestpred)\n",
    "    hammingtrain = 1 - metrics.hamming_loss(Ytrain, Ytrainpred)\n",
    "    hammingtest = 1 - metrics.hamming_loss(Ytest, Ytestpred)\n",
    "    f1train = metrics.f1_score(Ytrain, Ytrainpred, average='micro')\n",
    "    f1test = metrics.f1_score(Ytest, Ytestpred, average='micro')\n",
    "    precisiontrain = metrics.precision_score(Ytrain, Ytrainpred, average='micro')\n",
    "    precisiontest = metrics.precision_score(Ytest, Ytestpred, average='micro')\n",
    "    recalltrain = metrics.recall_score(Ytrain, Ytrainpred, average='micro')\n",
    "    recalltest = metrics.recall_score(Ytest, Ytestpred, average='micro')\n",
    "\n",
    "    # print(metrics.classification_report(Ytest, Ytestpred))\n",
    "    print('Accuracy: \\t \\t {} \\t {}'.format(accuracytrain, accuracytest))\n",
    "    print('Hamming: \\t \\t {} \\t {}'.format(hammingtrain, hammingtest))\n",
    "    print('Precision: \\t \\t {} \\t {}'.format(precisiontrain, precisiontest))\n",
    "    print('Recall: \\t \\t {} \\t {}'.format(recalltrain, recalltest))\n",
    "    print('F1: \\t \\t \\t {} \\t {}'.format(f1train, f1test))"
   ]
  },
  {
   "cell_type": "markdown",
   "metadata": {},
   "source": [
    "#### Predicting with KFold"
   ]
  },
  {
   "cell_type": "code",
   "execution_count": 17,
   "metadata": {},
   "outputs": [],
   "source": [
    "def predict3_kfold(clf, params, X, Y, n_splits=5):\n",
    "    accuracytrain = []\n",
    "    accuracytest = []\n",
    "    hammingtrain = []\n",
    "    hammingtest = []\n",
    "    f1train = []\n",
    "    f1test = []\n",
    "    precisiontrain = []\n",
    "    precisiontest = []\n",
    "    recalltrain = []\n",
    "    recalltest = []\n",
    "\n",
    "    kf = KFold(n_splits=n_splits)\n",
    "    for train_idx, test_idx in kf.split(X):\n",
    "        Xtrain = X[train_idx]\n",
    "        Xtest = X[test_idx]\n",
    "        Ytrain = Y[train_idx]\n",
    "        Ytest = Y[test_idx]\n",
    "\n",
    "        Ytrainpred_arr = []\n",
    "        Ytestpred_arr = []\n",
    "\n",
    "        for i in range(44):\n",
    "#             print('Predicting label {}'.format(i))\n",
    "            ytrain = Ytrain[:,i]\n",
    "            ytest = Ytest[:,i]\n",
    "\n",
    "            spl = SMOTE(ratio='minority', kind='borderline2', k_neighbors=3, m_neighbors=3, n_jobs=n_cores)\n",
    "            Xtrain_resampled, ytrain_resampled = spl.fit_sample(Xtrain, ytrain)\n",
    "\n",
    "            vt = VarianceThreshold().fit(Xtrain_resampled)\n",
    "            selected_ind1 = (vt.variances_ != vt.threshold)\n",
    "            Xtrain_resampled1 = Xtrain_resampled[:,selected_ind1]\n",
    "            Xtrain1 = Xtrain[:,selected_ind1]\n",
    "            Xtest1 = Xtest[:,selected_ind1]\n",
    "\n",
    "            fval, pval = f_classif(Xtrain_resampled1, ytrain_resampled)\n",
    "            selected_ind2 = (pval<0.1)\n",
    "            Xtrain_resampled2 = Xtrain_resampled1[:,selected_ind2]\n",
    "            Xtrain2 = Xtrain1[:,selected_ind2]\n",
    "            Xtest2 = Xtest1[:,selected_ind2]\n",
    "            \n",
    "            gscv = GridSearchCV(clf, params, scoring='accuracy', cv=5, n_jobs=n_cores)\n",
    "            gscv.fit(Xtrain_resampled2, ytrain_resampled)\n",
    "            print(gscv.best_score_)\n",
    "            print(gscv.best_params_)\n",
    "            \n",
    "            ytrainpred = gscv.predict(Xtrain2)\n",
    "            ytestpred = gscv.predict(Xtest2)\n",
    "            Ytrainpred_arr.append(ytrainpred)\n",
    "            Ytestpred_arr.append(ytestpred)\n",
    "\n",
    "        Ytrainpred = np.array(Ytrainpred_arr).T\n",
    "        Ytestpred = np.array(Ytestpred_arr).T\n",
    "\n",
    "        Ytrain = (Ytrain==1).astype('int')\n",
    "        Ytest = (Ytest==1).astype('int')\n",
    "        Ytrainpred = (Ytrainpred==1).astype('int')\n",
    "        Ytestpred = (Ytestpred==1).astype('int')\n",
    "\n",
    "        accuracytrain.append(metrics.accuracy_score(Ytrain, Ytrainpred))\n",
    "        accuracytest.append(metrics.accuracy_score(Ytest, Ytestpred))\n",
    "        hammingtrain.append(1 - metrics.hamming_loss(Ytrain, Ytrainpred))\n",
    "        hammingtest.append(1 - metrics.hamming_loss(Ytest, Ytestpred))\n",
    "        f1train.append(metrics.f1_score(Ytrain, Ytrainpred, average='micro'))\n",
    "        f1test.append(metrics.f1_score(Ytest, Ytestpred, average='micro'))\n",
    "        precisiontrain.append(metrics.precision_score(Ytrain, Ytrainpred, average='micro'))\n",
    "        precisiontest.append(metrics.precision_score(Ytest, Ytestpred, average='micro'))\n",
    "        recalltrain.append(metrics.recall_score(Ytrain, Ytrainpred, average='micro'))\n",
    "        recalltest.append(metrics.recall_score(Ytest, Ytestpred, average='micro'))\n",
    "\n",
    "    print('Accuracy: \\t \\t {} \\t {}'.format(np.array(accuracytrain).mean(), np.array(accuracytest).mean()))\n",
    "    print('Hamming: \\t \\t {} \\t {}'.format(np.array(hammingtrain).mean(), np.array(hammingtest).mean()))\n",
    "    print('Precision: \\t \\t {} \\t {}'.format(np.array(precisiontrain).mean(), np.array(precisiontest).mean()))\n",
    "    print('Recall: \\t \\t {} \\t {}'.format(np.array(recalltrain).mean(), np.array(recalltest).mean()))\n",
    "    print('F1: \\t \\t \\t {} \\t {}'.format(np.array(f1train).mean(), np.array(f1test).mean()))"
   ]
  },
  {
   "cell_type": "code",
   "execution_count": 18,
   "metadata": {},
   "outputs": [],
   "source": [
    "params_sgd = {'alpha': [0.00001, 0.0001, 0.001, 0.01, 0.1, 1]}"
   ]
  },
  {
   "cell_type": "code",
   "execution_count": 19,
   "metadata": {},
   "outputs": [
    {
     "name": "stdout",
     "output_type": "stream",
     "text": [
      "0.995471387402\n",
      "{'alpha': 0.0001}\n",
      "0.998774509804\n",
      "{'alpha': 1e-05}\n",
      "0.998693664272\n",
      "{'alpha': 0.0001}\n",
      "0.998161764706\n",
      "{'alpha': 0.001}\n",
      "0.998161764706\n",
      "{'alpha': 0.0001}\n",
      "0.999387254902\n",
      "{'alpha': 1e-05}\n",
      "0.928671820098\n",
      "{'alpha': 0.0001}\n",
      "0.985079365079\n",
      "{'alpha': 0.001}\n",
      "0.957638425617\n",
      "{'alpha': 0.001}\n",
      "0.998774509804\n",
      "{'alpha': 1e-05}\n",
      "0.976841428112\n",
      "{'alpha': 0.0001}\n",
      "0.948526921774\n",
      "{'alpha': 0.001}\n",
      "0.979173341878\n",
      "{'alpha': 0.01}\n",
      "0.999387254902\n",
      "{'alpha': 1e-05}\n",
      "0.999387254902\n",
      "{'alpha': 1e-05}\n",
      "0.996598639456\n",
      "{'alpha': 1e-05}\n",
      "0.919523637676\n",
      "{'alpha': 0.1}\n",
      "0.94248985115\n",
      "{'alpha': 1e-05}\n",
      "0.970425739357\n",
      "{'alpha': 0.0001}\n",
      "0.978449662271\n",
      "{'alpha': 0.001}\n",
      "0.907502569373\n",
      "{'alpha': 0.001}\n",
      "0.998693237504\n",
      "{'alpha': 1e-05}\n"
     ]
    },
    {
     "name": "stderr",
     "output_type": "stream",
     "text": [
      "/uufs/chpc.utah.edu/sys/installdir/python/3.6.3/lib/python3.6/site-packages/sklearn/feature_selection/univariate_selection.py:114: RuntimeWarning: divide by zero encountered in true_divide\n",
      "  f = msb / msw\n"
     ]
    },
    {
     "name": "stdout",
     "output_type": "stream",
     "text": [
      "1.0\n",
      "{'alpha': 1e-05}\n"
     ]
    },
    {
     "name": "stderr",
     "output_type": "stream",
     "text": [
      "/uufs/chpc.utah.edu/sys/installdir/python/3.6.3/lib/python3.6/site-packages/sklearn/feature_selection/univariate_selection.py:114: RuntimeWarning: divide by zero encountered in true_divide\n",
      "  f = msb / msw\n"
     ]
    },
    {
     "name": "stdout",
     "output_type": "stream",
     "text": [
      "1.0\n",
      "{'alpha': 1e-05}\n",
      "0.966229508197\n",
      "{'alpha': 1e-05}\n",
      "0.999387254902\n",
      "{'alpha': 1e-05}\n",
      "0.999387254902\n",
      "{'alpha': 1e-05}\n"
     ]
    },
    {
     "name": "stderr",
     "output_type": "stream",
     "text": [
      "/uufs/chpc.utah.edu/sys/installdir/python/3.6.3/lib/python3.6/site-packages/sklearn/feature_selection/univariate_selection.py:114: RuntimeWarning: divide by zero encountered in true_divide\n",
      "  f = msb / msw\n"
     ]
    },
    {
     "name": "stdout",
     "output_type": "stream",
     "text": [
      "1.0\n",
      "{'alpha': 1e-05}\n"
     ]
    },
    {
     "name": "stderr",
     "output_type": "stream",
     "text": [
      "/uufs/chpc.utah.edu/sys/installdir/python/3.6.3/lib/python3.6/site-packages/sklearn/feature_selection/univariate_selection.py:114: RuntimeWarning: divide by zero encountered in true_divide\n",
      "  f = msb / msw\n"
     ]
    },
    {
     "name": "stdout",
     "output_type": "stream",
     "text": [
      "1.0\n",
      "{'alpha': 1e-05}\n"
     ]
    },
    {
     "name": "stderr",
     "output_type": "stream",
     "text": [
      "/uufs/chpc.utah.edu/sys/installdir/python/3.6.3/lib/python3.6/site-packages/sklearn/feature_selection/univariate_selection.py:114: RuntimeWarning: divide by zero encountered in true_divide\n",
      "  f = msb / msw\n",
      "/uufs/chpc.utah.edu/sys/installdir/python/3.6.3/lib/python3.6/site-packages/ipykernel_launcher.py:38: RuntimeWarning: invalid value encountered in less\n"
     ]
    },
    {
     "name": "stdout",
     "output_type": "stream",
     "text": [
      "1.0\n",
      "{'alpha': 1e-05}\n",
      "0.996323529412\n",
      "{'alpha': 1e-05}\n",
      "0.998774509804\n",
      "{'alpha': 1e-05}\n",
      "0.998161764706\n",
      "{'alpha': 1e-05}\n",
      "0.998774509804\n",
      "{'alpha': 1e-05}\n",
      "0.999387254902\n",
      "{'alpha': 1e-05}\n",
      "0.984984984985\n",
      "{'alpha': 0.01}\n",
      "0.999387254902\n",
      "{'alpha': 1e-05}\n",
      "0.93234421365\n",
      "{'alpha': 0.001}\n",
      "0.996207811907\n",
      "{'alpha': 0.0001}\n"
     ]
    },
    {
     "name": "stderr",
     "output_type": "stream",
     "text": [
      "/uufs/chpc.utah.edu/sys/installdir/python/3.6.3/lib/python3.6/site-packages/sklearn/feature_selection/univariate_selection.py:114: RuntimeWarning: divide by zero encountered in true_divide\n",
      "  f = msb / msw\n",
      "/uufs/chpc.utah.edu/sys/installdir/python/3.6.3/lib/python3.6/site-packages/sklearn/model_selection/_split.py:605: Warning: The least populated class in y has only 1 members, which is too few. The minimum number of members in any class cannot be less than n_splits=5.\n",
      "  % (min_groups, self.n_splits)), Warning)\n"
     ]
    },
    {
     "name": "stdout",
     "output_type": "stream",
     "text": [
      "0.99387254902\n",
      "{'alpha': 1e-05}\n"
     ]
    },
    {
     "name": "stderr",
     "output_type": "stream",
     "text": [
      "/uufs/chpc.utah.edu/sys/installdir/python/3.6.3/lib/python3.6/site-packages/sklearn/feature_selection/univariate_selection.py:114: RuntimeWarning: divide by zero encountered in true_divide\n",
      "  f = msb / msw\n"
     ]
    },
    {
     "name": "stdout",
     "output_type": "stream",
     "text": [
      "1.0\n",
      "{'alpha': 1e-05}\n",
      "0.997549019608\n",
      "{'alpha': 1e-05}\n",
      "0.998774509804\n",
      "{'alpha': 1e-05}\n",
      "0.999387254902\n",
      "{'alpha': 1e-05}\n",
      "0.983551244201\n",
      "{'alpha': 0.001}\n",
      "0.966590239109\n",
      "{'alpha': 1e-05}\n",
      "0.998162890386\n",
      "{'alpha': 1e-05}\n",
      "0.9957134109\n",
      "{'alpha': 0.001}\n",
      "0.9957134109\n",
      "{'alpha': 0.01}\n"
     ]
    },
    {
     "name": "stderr",
     "output_type": "stream",
     "text": [
      "/uufs/chpc.utah.edu/sys/installdir/python/3.6.3/lib/python3.6/site-packages/sklearn/feature_selection/univariate_selection.py:114: RuntimeWarning: divide by zero encountered in true_divide\n",
      "  f = msb / msw\n"
     ]
    },
    {
     "name": "stdout",
     "output_type": "stream",
     "text": [
      "1.0\n",
      "{'alpha': 1e-05}\n",
      "0.995101041029\n",
      "{'alpha': 1e-05}\n",
      "0.987349778621\n",
      "{'alpha': 0.0001}\n",
      "0.958611481976\n",
      "{'alpha': 0.01}\n",
      "0.998775260257\n",
      "{'alpha': 1e-05}\n",
      "0.984503478811\n",
      "{'alpha': 0.01}\n",
      "0.960744500846\n",
      "{'alpha': 0.01}\n",
      "0.988835725678\n",
      "{'alpha': 0.001}\n"
     ]
    },
    {
     "name": "stderr",
     "output_type": "stream",
     "text": [
      "/uufs/chpc.utah.edu/sys/installdir/python/3.6.3/lib/python3.6/site-packages/sklearn/feature_selection/univariate_selection.py:114: RuntimeWarning: divide by zero encountered in true_divide\n",
      "  f = msb / msw\n"
     ]
    },
    {
     "name": "stdout",
     "output_type": "stream",
     "text": [
      "1.0\n",
      "{'alpha': 1e-05}\n"
     ]
    },
    {
     "name": "stderr",
     "output_type": "stream",
     "text": [
      "/uufs/chpc.utah.edu/sys/installdir/python/3.6.3/lib/python3.6/site-packages/sklearn/feature_selection/univariate_selection.py:114: RuntimeWarning: divide by zero encountered in true_divide\n",
      "  f = msb / msw\n"
     ]
    },
    {
     "name": "stdout",
     "output_type": "stream",
     "text": [
      "1.0\n",
      "{'alpha': 1e-05}\n",
      "0.993893129771\n",
      "{'alpha': 0.01}\n",
      "0.923188405797\n",
      "{'alpha': 0.01}\n",
      "0.979510905486\n",
      "{'alpha': 0.0001}\n",
      "0.972483004208\n",
      "{'alpha': 0.0001}\n",
      "0.984814931984\n",
      "{'alpha': 0.01}\n",
      "0.940200483927\n",
      "{'alpha': 0.0001}\n",
      "0.964837331581\n",
      "{'alpha': 0.001}\n"
     ]
    },
    {
     "name": "stderr",
     "output_type": "stream",
     "text": [
      "/uufs/chpc.utah.edu/sys/installdir/python/3.6.3/lib/python3.6/site-packages/sklearn/feature_selection/univariate_selection.py:114: RuntimeWarning: divide by zero encountered in true_divide\n",
      "  f = msb / msw\n"
     ]
    },
    {
     "name": "stdout",
     "output_type": "stream",
     "text": [
      "1.0\n",
      "{'alpha': 1e-05}\n"
     ]
    },
    {
     "name": "stderr",
     "output_type": "stream",
     "text": [
      "/uufs/chpc.utah.edu/sys/installdir/python/3.6.3/lib/python3.6/site-packages/sklearn/feature_selection/univariate_selection.py:114: RuntimeWarning: divide by zero encountered in true_divide\n",
      "  f = msb / msw\n"
     ]
    },
    {
     "name": "stdout",
     "output_type": "stream",
     "text": [
      "1.0\n",
      "{'alpha': 1e-05}\n",
      "0.998362266623\n",
      "{'alpha': 0.001}\n"
     ]
    },
    {
     "name": "stderr",
     "output_type": "stream",
     "text": [
      "/uufs/chpc.utah.edu/sys/installdir/python/3.6.3/lib/python3.6/site-packages/sklearn/feature_selection/univariate_selection.py:114: RuntimeWarning: divide by zero encountered in true_divide\n",
      "  f = msb / msw\n"
     ]
    },
    {
     "name": "stdout",
     "output_type": "stream",
     "text": [
      "1.0\n",
      "{'alpha': 1e-05}\n"
     ]
    },
    {
     "name": "stderr",
     "output_type": "stream",
     "text": [
      "/uufs/chpc.utah.edu/sys/installdir/python/3.6.3/lib/python3.6/site-packages/sklearn/feature_selection/univariate_selection.py:114: RuntimeWarning: divide by zero encountered in true_divide\n",
      "  f = msb / msw\n"
     ]
    },
    {
     "name": "stdout",
     "output_type": "stream",
     "text": [
      "1.0\n",
      "{'alpha': 1e-05}\n"
     ]
    },
    {
     "name": "stderr",
     "output_type": "stream",
     "text": [
      "/uufs/chpc.utah.edu/sys/installdir/python/3.6.3/lib/python3.6/site-packages/sklearn/feature_selection/univariate_selection.py:114: RuntimeWarning: divide by zero encountered in true_divide\n",
      "  f = msb / msw\n"
     ]
    },
    {
     "name": "stdout",
     "output_type": "stream",
     "text": [
      "1.0\n",
      "{'alpha': 1e-05}\n"
     ]
    },
    {
     "name": "stderr",
     "output_type": "stream",
     "text": [
      "/uufs/chpc.utah.edu/sys/installdir/python/3.6.3/lib/python3.6/site-packages/sklearn/feature_selection/univariate_selection.py:114: RuntimeWarning: divide by zero encountered in true_divide\n",
      "  f = msb / msw\n"
     ]
    },
    {
     "name": "stdout",
     "output_type": "stream",
     "text": [
      "1.0\n",
      "{'alpha': 1e-05}\n"
     ]
    },
    {
     "name": "stderr",
     "output_type": "stream",
     "text": [
      "/uufs/chpc.utah.edu/sys/installdir/python/3.6.3/lib/python3.6/site-packages/sklearn/feature_selection/univariate_selection.py:114: RuntimeWarning: divide by zero encountered in true_divide\n",
      "  f = msb / msw\n"
     ]
    },
    {
     "name": "stdout",
     "output_type": "stream",
     "text": [
      "1.0\n",
      "{'alpha': 1e-05}\n",
      "0.998162890386\n",
      "{'alpha': 1e-05}\n",
      "0.998775260257\n",
      "{'alpha': 1e-05}\n",
      "0.999387630129\n",
      "{'alpha': 1e-05}\n",
      "0.999673735726\n",
      "{'alpha': 1e-05}\n",
      "0.998775260257\n",
      "{'alpha': 1e-05}\n",
      "0.975164723771\n",
      "{'alpha': 0.01}\n"
     ]
    },
    {
     "name": "stderr",
     "output_type": "stream",
     "text": [
      "/uufs/chpc.utah.edu/sys/installdir/python/3.6.3/lib/python3.6/site-packages/sklearn/feature_selection/univariate_selection.py:114: RuntimeWarning: divide by zero encountered in true_divide\n",
      "  f = msb / msw\n"
     ]
    },
    {
     "name": "stdout",
     "output_type": "stream",
     "text": [
      "1.0\n",
      "{'alpha': 1e-05}\n",
      "0.925861062464\n",
      "{'alpha': 0.001}\n",
      "0.994642173747\n",
      "{'alpha': 0.001}\n"
     ]
    },
    {
     "name": "stderr",
     "output_type": "stream",
     "text": [
      "/uufs/chpc.utah.edu/sys/installdir/python/3.6.3/lib/python3.6/site-packages/sklearn/model_selection/_split.py:605: Warning: The least populated class in y has only 2 members, which is too few. The minimum number of members in any class cannot be less than n_splits=5.\n",
      "  % (min_groups, self.n_splits)), Warning)\n"
     ]
    },
    {
     "name": "stdout",
     "output_type": "stream",
     "text": [
      "0.992651561543\n",
      "{'alpha': 0.01}\n"
     ]
    },
    {
     "name": "stderr",
     "output_type": "stream",
     "text": [
      "/uufs/chpc.utah.edu/sys/installdir/python/3.6.3/lib/python3.6/site-packages/sklearn/feature_selection/univariate_selection.py:114: RuntimeWarning: divide by zero encountered in true_divide\n",
      "  f = msb / msw\n"
     ]
    },
    {
     "name": "stdout",
     "output_type": "stream",
     "text": [
      "1.0\n",
      "{'alpha': 1e-05}\n",
      "0.992651561543\n",
      "{'alpha': 1e-05}\n",
      "0.9957134109\n",
      "{'alpha': 1e-05}\n"
     ]
    },
    {
     "name": "stderr",
     "output_type": "stream",
     "text": [
      "/uufs/chpc.utah.edu/sys/installdir/python/3.6.3/lib/python3.6/site-packages/sklearn/feature_selection/univariate_selection.py:114: RuntimeWarning: divide by zero encountered in true_divide\n",
      "  f = msb / msw\n",
      "/uufs/chpc.utah.edu/sys/installdir/python/3.6.3/lib/python3.6/site-packages/ipykernel_launcher.py:38: RuntimeWarning: invalid value encountered in less\n"
     ]
    },
    {
     "name": "stdout",
     "output_type": "stream",
     "text": [
      "1.0\n",
      "{'alpha': 1e-05}\n",
      "0.98367029549\n",
      "{'alpha': 0.001}\n",
      "0.995101041029\n",
      "{'alpha': 1e-05}\n",
      "1.0\n",
      "{'alpha': 0.01}\n",
      "0.995101041029\n",
      "{'alpha': 1e-05}\n",
      "0.995101041029\n",
      "{'alpha': 0.0001}\n",
      "0.999387630129\n",
      "{'alpha': 1e-05}\n",
      "0.950642325896\n",
      "{'alpha': 0.001}\n",
      "0.976112565445\n",
      "{'alpha': 0.01}\n",
      "0.963382157124\n",
      "{'alpha': 0.01}\n",
      "0.997550520514\n",
      "{'alpha': 1e-05}\n",
      "0.974894033257\n",
      "{'alpha': 0.01}\n",
      "0.946643717728\n",
      "{'alpha': 0.01}\n",
      "0.972902383284\n",
      "{'alpha': 0.01}\n",
      "0.999387630129\n",
      "{'alpha': 1e-05}\n",
      "0.999387630129\n",
      "{'alpha': 1e-05}\n",
      "0.990610328638\n",
      "{'alpha': 0.0001}\n",
      "0.938467978234\n",
      "{'alpha': 0.001}\n",
      "0.955484330484\n",
      "{'alpha': 0.001}\n",
      "0.97416855021\n",
      "{'alpha': 0.001}\n",
      "0.974894033257\n",
      "{'alpha': 0.01}\n",
      "0.938069908815\n",
      "{'alpha': 0.001}\n",
      "0.998710924911\n",
      "{'alpha': 1e-05}\n"
     ]
    },
    {
     "name": "stderr",
     "output_type": "stream",
     "text": [
      "/uufs/chpc.utah.edu/sys/installdir/python/3.6.3/lib/python3.6/site-packages/sklearn/feature_selection/univariate_selection.py:114: RuntimeWarning: divide by zero encountered in true_divide\n",
      "  f = msb / msw\n"
     ]
    },
    {
     "name": "stdout",
     "output_type": "stream",
     "text": [
      "1.0\n",
      "{'alpha': 1e-05}\n"
     ]
    },
    {
     "name": "stderr",
     "output_type": "stream",
     "text": [
      "/uufs/chpc.utah.edu/sys/installdir/python/3.6.3/lib/python3.6/site-packages/sklearn/feature_selection/univariate_selection.py:114: RuntimeWarning: divide by zero encountered in true_divide\n",
      "  f = msb / msw\n"
     ]
    },
    {
     "name": "stdout",
     "output_type": "stream",
     "text": [
      "1.0\n",
      "{'alpha': 1e-05}\n",
      "0.97216828479\n",
      "{'alpha': 0.001}\n",
      "0.999387630129\n",
      "{'alpha': 1e-05}\n",
      "0.999387630129\n",
      "{'alpha': 1e-05}\n"
     ]
    },
    {
     "name": "stderr",
     "output_type": "stream",
     "text": [
      "/uufs/chpc.utah.edu/sys/installdir/python/3.6.3/lib/python3.6/site-packages/sklearn/feature_selection/univariate_selection.py:114: RuntimeWarning: divide by zero encountered in true_divide\n",
      "  f = msb / msw\n"
     ]
    },
    {
     "name": "stdout",
     "output_type": "stream",
     "text": [
      "1.0\n",
      "{'alpha': 1e-05}\n"
     ]
    },
    {
     "name": "stderr",
     "output_type": "stream",
     "text": [
      "/uufs/chpc.utah.edu/sys/installdir/python/3.6.3/lib/python3.6/site-packages/sklearn/feature_selection/univariate_selection.py:114: RuntimeWarning: divide by zero encountered in true_divide\n",
      "  f = msb / msw\n"
     ]
    },
    {
     "name": "stdout",
     "output_type": "stream",
     "text": [
      "1.0\n",
      "{'alpha': 1e-05}\n"
     ]
    },
    {
     "name": "stderr",
     "output_type": "stream",
     "text": [
      "/uufs/chpc.utah.edu/sys/installdir/python/3.6.3/lib/python3.6/site-packages/sklearn/feature_selection/univariate_selection.py:114: RuntimeWarning: divide by zero encountered in true_divide\n",
      "  f = msb / msw\n"
     ]
    },
    {
     "name": "stdout",
     "output_type": "stream",
     "text": [
      "1.0\n",
      "{'alpha': 1e-05}\n",
      "0.9957134109\n",
      "{'alpha': 1e-05}\n",
      "0.997550520514\n",
      "{'alpha': 1e-05}\n",
      "0.998775260257\n",
      "{'alpha': 1e-05}\n",
      "0.978219090327\n",
      "{'alpha': 0.001}\n",
      "0.998162890386\n",
      "{'alpha': 1e-05}\n",
      "0.986093003042\n",
      "{'alpha': 0.001}\n",
      "0.999387630129\n",
      "{'alpha': 1e-05}\n",
      "0.902702702703\n",
      "{'alpha': 0.001}\n",
      "0.993831640058\n",
      "{'alpha': 0.0001}\n"
     ]
    },
    {
     "name": "stderr",
     "output_type": "stream",
     "text": [
      "/uufs/chpc.utah.edu/sys/installdir/python/3.6.3/lib/python3.6/site-packages/sklearn/model_selection/_split.py:605: Warning: The least populated class in y has only 3 members, which is too few. The minimum number of members in any class cannot be less than n_splits=5.\n",
      "  % (min_groups, self.n_splits)), Warning)\n"
     ]
    },
    {
     "name": "stdout",
     "output_type": "stream",
     "text": [
      "0.988977342315\n",
      "{'alpha': 0.001}\n"
     ]
    },
    {
     "name": "stderr",
     "output_type": "stream",
     "text": [
      "/uufs/chpc.utah.edu/sys/installdir/python/3.6.3/lib/python3.6/site-packages/sklearn/feature_selection/univariate_selection.py:114: RuntimeWarning: divide by zero encountered in true_divide\n",
      "  f = msb / msw\n"
     ]
    },
    {
     "name": "stdout",
     "output_type": "stream",
     "text": [
      "1.0\n",
      "{'alpha': 1e-05}\n",
      "0.992651561543\n",
      "{'alpha': 0.1}\n",
      "0.9957134109\n",
      "{'alpha': 0.1}\n",
      "0.999387630129\n",
      "{'alpha': 1e-05}\n",
      "0.983783783784\n",
      "{'alpha': 0.01}\n",
      "0.995101041029\n",
      "{'alpha': 0.0001}\n",
      "1.0\n",
      "{'alpha': 0.01}\n",
      "0.994488671157\n",
      "{'alpha': 0.001}\n",
      "0.994488671157\n",
      "{'alpha': 1e-05}\n",
      "0.999387630129\n",
      "{'alpha': 1e-05}\n",
      "0.951819407008\n",
      "{'alpha': 0.0001}\n",
      "0.973779088823\n",
      "{'alpha': 0.01}\n",
      "0.963\n",
      "{'alpha': 0.01}\n",
      "0.997550520514\n",
      "{'alpha': 1e-05}\n",
      "0.974869451697\n",
      "{'alpha': 0.001}\n",
      "0.951717103026\n",
      "{'alpha': 0.01}\n",
      "0.969627694317\n",
      "{'alpha': 0.01}\n",
      "0.999387630129\n",
      "{'alpha': 1e-05}\n",
      "0.999387630129\n",
      "{'alpha': 1e-05}\n",
      "0.992465016146\n",
      "{'alpha': 0.001}\n",
      "0.93734123624\n",
      "{'alpha': 0.001}\n",
      "0.949552772809\n",
      "{'alpha': 0.001}\n",
      "0.979259731972\n",
      "{'alpha': 0.0001}\n",
      "0.974534769833\n",
      "{'alpha': 0.001}\n",
      "0.943418013857\n",
      "{'alpha': 0.001}\n",
      "0.999034127495\n",
      "{'alpha': 0.0001}\n"
     ]
    },
    {
     "name": "stderr",
     "output_type": "stream",
     "text": [
      "/uufs/chpc.utah.edu/sys/installdir/python/3.6.3/lib/python3.6/site-packages/sklearn/feature_selection/univariate_selection.py:114: RuntimeWarning: divide by zero encountered in true_divide\n",
      "  f = msb / msw\n"
     ]
    },
    {
     "name": "stdout",
     "output_type": "stream",
     "text": [
      "1.0\n",
      "{'alpha': 1e-05}\n"
     ]
    },
    {
     "name": "stderr",
     "output_type": "stream",
     "text": [
      "/uufs/chpc.utah.edu/sys/installdir/python/3.6.3/lib/python3.6/site-packages/sklearn/feature_selection/univariate_selection.py:114: RuntimeWarning: divide by zero encountered in true_divide\n",
      "  f = msb / msw\n"
     ]
    },
    {
     "name": "stdout",
     "output_type": "stream",
     "text": [
      "1.0\n",
      "{'alpha': 1e-05}\n",
      "0.974176888315\n",
      "{'alpha': 0.001}\n",
      "0.999387630129\n",
      "{'alpha': 1e-05}\n",
      "0.999387630129\n",
      "{'alpha': 1e-05}\n"
     ]
    },
    {
     "name": "stderr",
     "output_type": "stream",
     "text": [
      "/uufs/chpc.utah.edu/sys/installdir/python/3.6.3/lib/python3.6/site-packages/sklearn/feature_selection/univariate_selection.py:114: RuntimeWarning: divide by zero encountered in true_divide\n",
      "  f = msb / msw\n"
     ]
    },
    {
     "name": "stdout",
     "output_type": "stream",
     "text": [
      "1.0\n",
      "{'alpha': 1e-05}\n"
     ]
    },
    {
     "name": "stderr",
     "output_type": "stream",
     "text": [
      "/uufs/chpc.utah.edu/sys/installdir/python/3.6.3/lib/python3.6/site-packages/sklearn/feature_selection/univariate_selection.py:114: RuntimeWarning: divide by zero encountered in true_divide\n",
      "  f = msb / msw\n"
     ]
    },
    {
     "name": "stdout",
     "output_type": "stream",
     "text": [
      "1.0\n",
      "{'alpha': 1e-05}\n"
     ]
    },
    {
     "name": "stderr",
     "output_type": "stream",
     "text": [
      "/uufs/chpc.utah.edu/sys/installdir/python/3.6.3/lib/python3.6/site-packages/sklearn/feature_selection/univariate_selection.py:114: RuntimeWarning: divide by zero encountered in true_divide\n",
      "  f = msb / msw\n"
     ]
    },
    {
     "name": "stdout",
     "output_type": "stream",
     "text": [
      "1.0\n",
      "{'alpha': 1e-05}\n",
      "0.995101041029\n",
      "{'alpha': 1e-05}\n",
      "0.997550520514\n",
      "{'alpha': 1e-05}\n",
      "0.998162890386\n",
      "{'alpha': 1e-05}\n",
      "0.979552715655\n",
      "{'alpha': 0.0001}\n",
      "0.998162890386\n",
      "{'alpha': 1e-05}\n",
      "0.986527596697\n",
      "{'alpha': 0.001}\n",
      "0.999387630129\n",
      "{'alpha': 1e-05}\n",
      "0.930041152263\n",
      "{'alpha': 0.001}\n",
      "0.992787594663\n",
      "{'alpha': 0.001}\n"
     ]
    },
    {
     "name": "stderr",
     "output_type": "stream",
     "text": [
      "/uufs/chpc.utah.edu/sys/installdir/python/3.6.3/lib/python3.6/site-packages/sklearn/model_selection/_split.py:605: Warning: The least populated class in y has only 3 members, which is too few. The minimum number of members in any class cannot be less than n_splits=5.\n",
      "  % (min_groups, self.n_splits)), Warning)\n"
     ]
    },
    {
     "name": "stdout",
     "output_type": "stream",
     "text": [
      "0.987752602572\n",
      "{'alpha': 0.001}\n"
     ]
    },
    {
     "name": "stderr",
     "output_type": "stream",
     "text": [
      "/uufs/chpc.utah.edu/sys/installdir/python/3.6.3/lib/python3.6/site-packages/sklearn/feature_selection/univariate_selection.py:114: RuntimeWarning: divide by zero encountered in true_divide\n",
      "  f = msb / msw\n"
     ]
    },
    {
     "name": "stdout",
     "output_type": "stream",
     "text": [
      "1.0\n",
      "{'alpha': 1e-05}\n",
      "0.9914268218\n",
      "{'alpha': 0.1}\n",
      "0.995101041029\n",
      "{'alpha': 0.0001}\n",
      "0.999387630129\n",
      "{'alpha': 1e-05}\n",
      "0.987909516381\n",
      "{'alpha': 0.0001}\n",
      "0.995101041029\n",
      "{'alpha': 0.0001}\n",
      "0.999358563182\n",
      "{'alpha': 1e-05}\n",
      "0.994488671157\n",
      "{'alpha': 1e-05}\n",
      "0.994488671157\n",
      "{'alpha': 1e-05}\n",
      "0.999387630129\n",
      "{'alpha': 0.1}\n",
      "0.948882870684\n",
      "{'alpha': 0.001}\n",
      "0.973123566044\n",
      "{'alpha': 0.001}\n",
      "0.961255845023\n",
      "{'alpha': 0.01}\n",
      "0.997550520514\n",
      "{'alpha': 1e-05}\n",
      "0.983953786906\n",
      "{'alpha': 0.01}\n",
      "0.963024650233\n",
      "{'alpha': 0.01}\n",
      "0.980812280141\n",
      "{'alpha': 0.01}\n",
      "0.999387630129\n",
      "{'alpha': 1e-05}\n",
      "0.999387630129\n",
      "{'alpha': 1e-05}\n",
      "0.991326346223\n",
      "{'alpha': 0.001}\n",
      "0.936161449753\n",
      "{'alpha': 0.001}\n",
      "0.959468902865\n",
      "{'alpha': 0.001}\n",
      "0.978253917493\n",
      "{'alpha': 0.001}\n",
      "0.981380417335\n",
      "{'alpha': 0.01}\n",
      "0.936805821524\n",
      "{'alpha': 0.001}\n",
      "0.998709677419\n",
      "{'alpha': 0.0001}\n"
     ]
    },
    {
     "name": "stderr",
     "output_type": "stream",
     "text": [
      "/uufs/chpc.utah.edu/sys/installdir/python/3.6.3/lib/python3.6/site-packages/sklearn/feature_selection/univariate_selection.py:114: RuntimeWarning: divide by zero encountered in true_divide\n",
      "  f = msb / msw\n"
     ]
    },
    {
     "name": "stdout",
     "output_type": "stream",
     "text": [
      "1.0\n",
      "{'alpha': 1e-05}\n"
     ]
    },
    {
     "name": "stderr",
     "output_type": "stream",
     "text": [
      "/uufs/chpc.utah.edu/sys/installdir/python/3.6.3/lib/python3.6/site-packages/sklearn/feature_selection/univariate_selection.py:114: RuntimeWarning: divide by zero encountered in true_divide\n",
      "  f = msb / msw\n"
     ]
    },
    {
     "name": "stdout",
     "output_type": "stream",
     "text": [
      "1.0\n",
      "{'alpha': 1e-05}\n",
      "0.9725008088\n",
      "{'alpha': 0.001}\n",
      "0.999387630129\n",
      "{'alpha': 1e-05}\n",
      "0.999387630129\n",
      "{'alpha': 1e-05}\n"
     ]
    },
    {
     "name": "stderr",
     "output_type": "stream",
     "text": [
      "/uufs/chpc.utah.edu/sys/installdir/python/3.6.3/lib/python3.6/site-packages/sklearn/feature_selection/univariate_selection.py:114: RuntimeWarning: divide by zero encountered in true_divide\n",
      "  f = msb / msw\n"
     ]
    },
    {
     "name": "stdout",
     "output_type": "stream",
     "text": [
      "1.0\n",
      "{'alpha': 1e-05}\n"
     ]
    },
    {
     "name": "stderr",
     "output_type": "stream",
     "text": [
      "/uufs/chpc.utah.edu/sys/installdir/python/3.6.3/lib/python3.6/site-packages/sklearn/feature_selection/univariate_selection.py:114: RuntimeWarning: divide by zero encountered in true_divide\n",
      "  f = msb / msw\n"
     ]
    },
    {
     "name": "stdout",
     "output_type": "stream",
     "text": [
      "1.0\n",
      "{'alpha': 1e-05}\n"
     ]
    },
    {
     "name": "stderr",
     "output_type": "stream",
     "text": [
      "/uufs/chpc.utah.edu/sys/installdir/python/3.6.3/lib/python3.6/site-packages/sklearn/feature_selection/univariate_selection.py:114: RuntimeWarning: divide by zero encountered in true_divide\n",
      "  f = msb / msw\n"
     ]
    },
    {
     "name": "stdout",
     "output_type": "stream",
     "text": [
      "1.0\n",
      "{'alpha': 1e-05}\n",
      "0.995101041029\n",
      "{'alpha': 1e-05}\n",
      "0.997550520514\n",
      "{'alpha': 1e-05}\n",
      "0.998162890386\n",
      "{'alpha': 1e-05}\n",
      "0.978553137004\n",
      "{'alpha': 1e-05}\n"
     ]
    },
    {
     "name": "stderr",
     "output_type": "stream",
     "text": [
      "/uufs/chpc.utah.edu/sys/installdir/python/3.6.3/lib/python3.6/site-packages/ipykernel_launcher.py:38: RuntimeWarning: invalid value encountered in less\n"
     ]
    },
    {
     "name": "stdout",
     "output_type": "stream",
     "text": [
      "0.998162890386\n",
      "{'alpha': 1e-05}\n",
      "0.986795774648\n",
      "{'alpha': 0.001}\n",
      "0.999387630129\n",
      "{'alpha': 1e-05}\n",
      "0.911057692308\n",
      "{'alpha': 0.001}\n",
      "0.99128540305\n",
      "{'alpha': 0.01}\n"
     ]
    },
    {
     "name": "stderr",
     "output_type": "stream",
     "text": [
      "/uufs/chpc.utah.edu/sys/installdir/python/3.6.3/lib/python3.6/site-packages/sklearn/model_selection/_split.py:605: Warning: The least populated class in y has only 3 members, which is too few. The minimum number of members in any class cannot be less than n_splits=5.\n",
      "  % (min_groups, self.n_splits)), Warning)\n"
     ]
    },
    {
     "name": "stdout",
     "output_type": "stream",
     "text": [
      "0.987752602572\n",
      "{'alpha': 0.01}\n"
     ]
    },
    {
     "name": "stderr",
     "output_type": "stream",
     "text": [
      "/uufs/chpc.utah.edu/sys/installdir/python/3.6.3/lib/python3.6/site-packages/sklearn/feature_selection/univariate_selection.py:114: RuntimeWarning: divide by zero encountered in true_divide\n",
      "  f = msb / msw\n"
     ]
    },
    {
     "name": "stdout",
     "output_type": "stream",
     "text": [
      "1.0\n",
      "{'alpha': 1e-05}\n",
      "0.9914268218\n",
      "{'alpha': 0.1}\n",
      "0.995101041029\n",
      "{'alpha': 0.01}\n",
      "0.999387630129\n",
      "{'alpha': 1e-05}\n",
      "Accuracy: \t \t 0.8446825132379956 \t 0.6518684980104511\n",
      "Hamming: \t \t 0.9943905835033451 \t 0.9795134757614983\n",
      "Precision: \t \t 0.9829450382640499 \t 0.8870082307699654\n",
      "Recall: \t \t 0.9641484857789155 \t 0.8606612608753572\n",
      "F1: \t \t \t 0.973340344506845 \t 0.8717091219560696\n"
     ]
    }
   ],
   "source": [
    "predict3_kfold(SGDClassifier(loss='hinge', max_iter=5, tol=None), params_sgd, X, Y)"
   ]
  },
  {
   "cell_type": "code",
   "execution_count": 20,
   "metadata": {},
   "outputs": [
    {
     "name": "stdout",
     "output_type": "stream",
     "text": [
      "0.994236311239\n",
      "{'alpha': 1e-05}\n",
      "0.998774509804\n",
      "{'alpha': 1e-05}\n",
      "0.999346618752\n",
      "{'alpha': 0.0001}\n",
      "0.998161764706\n",
      "{'alpha': 1e-05}\n",
      "0.998161764706\n",
      "{'alpha': 1e-05}\n",
      "0.999387254902\n",
      "{'alpha': 1e-05}\n",
      "0.928998242531\n",
      "{'alpha': 1e-05}\n",
      "0.985714285714\n",
      "{'alpha': 0.0001}\n",
      "0.956637758506\n",
      "{'alpha': 0.1}\n",
      "0.998774509804\n",
      "{'alpha': 1e-05}\n",
      "0.980379543261\n",
      "{'alpha': 0.0001}\n",
      "0.947172367084\n",
      "{'alpha': 1}\n",
      "0.978219090327\n",
      "{'alpha': 1}\n",
      "0.999387254902\n",
      "{'alpha': 1e-05}\n",
      "0.999387254902\n",
      "{'alpha': 1e-05}\n",
      "0.996976568405\n",
      "{'alpha': 1e-05}\n",
      "0.922077922078\n",
      "{'alpha': 1}\n",
      "0.934709066306\n",
      "{'alpha': 0.001}\n",
      "0.971410006498\n",
      "{'alpha': 0.0001}\n",
      "0.981022836925\n",
      "{'alpha': 0.0001}\n",
      "0.906474820144\n",
      "{'alpha': 0.1}\n",
      "0.99836708034\n",
      "{'alpha': 1e-05}\n"
     ]
    },
    {
     "name": "stderr",
     "output_type": "stream",
     "text": [
      "/uufs/chpc.utah.edu/sys/installdir/python/3.6.3/lib/python3.6/site-packages/sklearn/feature_selection/univariate_selection.py:114: RuntimeWarning: divide by zero encountered in true_divide\n",
      "  f = msb / msw\n"
     ]
    },
    {
     "name": "stdout",
     "output_type": "stream",
     "text": [
      "1.0\n",
      "{'alpha': 1e-05}\n"
     ]
    },
    {
     "name": "stderr",
     "output_type": "stream",
     "text": [
      "/uufs/chpc.utah.edu/sys/installdir/python/3.6.3/lib/python3.6/site-packages/sklearn/feature_selection/univariate_selection.py:114: RuntimeWarning: divide by zero encountered in true_divide\n",
      "  f = msb / msw\n"
     ]
    },
    {
     "name": "stdout",
     "output_type": "stream",
     "text": [
      "1.0\n",
      "{'alpha': 1e-05}\n",
      "0.965901639344\n",
      "{'alpha': 0.1}\n",
      "0.999387254902\n",
      "{'alpha': 1e-05}\n",
      "0.999387254902\n",
      "{'alpha': 1e-05}\n"
     ]
    },
    {
     "name": "stderr",
     "output_type": "stream",
     "text": [
      "/uufs/chpc.utah.edu/sys/installdir/python/3.6.3/lib/python3.6/site-packages/sklearn/feature_selection/univariate_selection.py:114: RuntimeWarning: divide by zero encountered in true_divide\n",
      "  f = msb / msw\n"
     ]
    },
    {
     "name": "stdout",
     "output_type": "stream",
     "text": [
      "1.0\n",
      "{'alpha': 1e-05}\n"
     ]
    },
    {
     "name": "stderr",
     "output_type": "stream",
     "text": [
      "/uufs/chpc.utah.edu/sys/installdir/python/3.6.3/lib/python3.6/site-packages/sklearn/feature_selection/univariate_selection.py:114: RuntimeWarning: divide by zero encountered in true_divide\n",
      "  f = msb / msw\n"
     ]
    },
    {
     "name": "stdout",
     "output_type": "stream",
     "text": [
      "1.0\n",
      "{'alpha': 1e-05}\n"
     ]
    },
    {
     "name": "stderr",
     "output_type": "stream",
     "text": [
      "/uufs/chpc.utah.edu/sys/installdir/python/3.6.3/lib/python3.6/site-packages/sklearn/feature_selection/univariate_selection.py:114: RuntimeWarning: divide by zero encountered in true_divide\n",
      "  f = msb / msw\n",
      "/uufs/chpc.utah.edu/sys/installdir/python/3.6.3/lib/python3.6/site-packages/ipykernel_launcher.py:38: RuntimeWarning: invalid value encountered in less\n"
     ]
    },
    {
     "name": "stdout",
     "output_type": "stream",
     "text": [
      "1.0\n",
      "{'alpha': 1e-05}\n",
      "0.996323529412\n",
      "{'alpha': 1e-05}\n",
      "0.999387254902\n",
      "{'alpha': 1e-05}\n",
      "0.998161764706\n",
      "{'alpha': 1e-05}\n",
      "0.998774509804\n",
      "{'alpha': 1e-05}\n",
      "0.999387254902\n",
      "{'alpha': 1e-05}\n",
      "0.973960941412\n",
      "{'alpha': 0.001}\n",
      "0.999387254902\n",
      "{'alpha': 1e-05}\n",
      "0.933570581257\n",
      "{'alpha': 0.0001}\n",
      "0.998103905954\n",
      "{'alpha': 0.0001}\n"
     ]
    },
    {
     "name": "stderr",
     "output_type": "stream",
     "text": [
      "/uufs/chpc.utah.edu/sys/installdir/python/3.6.3/lib/python3.6/site-packages/sklearn/feature_selection/univariate_selection.py:114: RuntimeWarning: divide by zero encountered in true_divide\n",
      "  f = msb / msw\n",
      "/uufs/chpc.utah.edu/sys/installdir/python/3.6.3/lib/python3.6/site-packages/sklearn/model_selection/_split.py:605: Warning: The least populated class in y has only 1 members, which is too few. The minimum number of members in any class cannot be less than n_splits=5.\n",
      "  % (min_groups, self.n_splits)), Warning)\n"
     ]
    },
    {
     "name": "stdout",
     "output_type": "stream",
     "text": [
      "0.99387254902\n",
      "{'alpha': 1e-05}\n"
     ]
    },
    {
     "name": "stderr",
     "output_type": "stream",
     "text": [
      "/uufs/chpc.utah.edu/sys/installdir/python/3.6.3/lib/python3.6/site-packages/sklearn/feature_selection/univariate_selection.py:114: RuntimeWarning: divide by zero encountered in true_divide\n",
      "  f = msb / msw\n"
     ]
    },
    {
     "name": "stdout",
     "output_type": "stream",
     "text": [
      "1.0\n",
      "{'alpha': 1e-05}\n",
      "0.997549019608\n",
      "{'alpha': 1e-05}\n",
      "0.998774509804\n",
      "{'alpha': 0.0001}\n",
      "0.999387254902\n",
      "{'alpha': 1e-05}\n",
      "0.986509274874\n",
      "{'alpha': 1e-05}\n",
      "0.966590239109\n",
      "{'alpha': 1e-05}\n",
      "0.998162890386\n",
      "{'alpha': 1e-05}\n",
      "0.9957134109\n",
      "{'alpha': 1e-05}\n",
      "0.9957134109\n",
      "{'alpha': 1e-05}\n"
     ]
    },
    {
     "name": "stderr",
     "output_type": "stream",
     "text": [
      "/uufs/chpc.utah.edu/sys/installdir/python/3.6.3/lib/python3.6/site-packages/sklearn/feature_selection/univariate_selection.py:114: RuntimeWarning: divide by zero encountered in true_divide\n",
      "  f = msb / msw\n"
     ]
    },
    {
     "name": "stdout",
     "output_type": "stream",
     "text": [
      "1.0\n",
      "{'alpha': 1e-05}\n",
      "0.995101041029\n",
      "{'alpha': 1e-05}\n",
      "0.986084756483\n",
      "{'alpha': 0.0001}\n",
      "0.956608811749\n",
      "{'alpha': 0.001}\n",
      "0.998775260257\n",
      "{'alpha': 1e-05}\n",
      "0.98513598988\n",
      "{'alpha': 0.1}\n",
      "0.957021996616\n",
      "{'alpha': 1e-05}\n",
      "0.989154704944\n",
      "{'alpha': 0.0001}\n"
     ]
    },
    {
     "name": "stderr",
     "output_type": "stream",
     "text": [
      "/uufs/chpc.utah.edu/sys/installdir/python/3.6.3/lib/python3.6/site-packages/sklearn/feature_selection/univariate_selection.py:114: RuntimeWarning: divide by zero encountered in true_divide\n",
      "  f = msb / msw\n"
     ]
    },
    {
     "name": "stdout",
     "output_type": "stream",
     "text": [
      "1.0\n",
      "{'alpha': 1e-05}\n"
     ]
    },
    {
     "name": "stderr",
     "output_type": "stream",
     "text": [
      "/uufs/chpc.utah.edu/sys/installdir/python/3.6.3/lib/python3.6/site-packages/sklearn/feature_selection/univariate_selection.py:114: RuntimeWarning: divide by zero encountered in true_divide\n",
      "  f = msb / msw\n"
     ]
    },
    {
     "name": "stdout",
     "output_type": "stream",
     "text": [
      "1.0\n",
      "{'alpha': 1e-05}\n",
      "0.993511450382\n",
      "{'alpha': 0.0001}\n",
      "0.924972816238\n",
      "{'alpha': 1}\n",
      "0.973231989425\n",
      "{'alpha': 0.001}\n",
      "0.972159274846\n",
      "{'alpha': 1e-05}\n",
      "0.983865865233\n",
      "{'alpha': 0.0001}\n",
      "0.935038009675\n",
      "{'alpha': 0.001}\n",
      "0.963522839303\n",
      "{'alpha': 1e-05}\n"
     ]
    },
    {
     "name": "stderr",
     "output_type": "stream",
     "text": [
      "/uufs/chpc.utah.edu/sys/installdir/python/3.6.3/lib/python3.6/site-packages/sklearn/feature_selection/univariate_selection.py:114: RuntimeWarning: divide by zero encountered in true_divide\n",
      "  f = msb / msw\n"
     ]
    },
    {
     "name": "stdout",
     "output_type": "stream",
     "text": [
      "1.0\n",
      "{'alpha': 1e-05}\n"
     ]
    },
    {
     "name": "stderr",
     "output_type": "stream",
     "text": [
      "/uufs/chpc.utah.edu/sys/installdir/python/3.6.3/lib/python3.6/site-packages/sklearn/feature_selection/univariate_selection.py:114: RuntimeWarning: divide by zero encountered in true_divide\n",
      "  f = msb / msw\n"
     ]
    },
    {
     "name": "stdout",
     "output_type": "stream",
     "text": [
      "1.0\n",
      "{'alpha': 1e-05}\n",
      "0.995414346544\n",
      "{'alpha': 1e-05}\n"
     ]
    },
    {
     "name": "stderr",
     "output_type": "stream",
     "text": [
      "/uufs/chpc.utah.edu/sys/installdir/python/3.6.3/lib/python3.6/site-packages/sklearn/feature_selection/univariate_selection.py:114: RuntimeWarning: divide by zero encountered in true_divide\n",
      "  f = msb / msw\n"
     ]
    },
    {
     "name": "stdout",
     "output_type": "stream",
     "text": [
      "1.0\n",
      "{'alpha': 1e-05}\n"
     ]
    },
    {
     "name": "stderr",
     "output_type": "stream",
     "text": [
      "/uufs/chpc.utah.edu/sys/installdir/python/3.6.3/lib/python3.6/site-packages/sklearn/feature_selection/univariate_selection.py:114: RuntimeWarning: divide by zero encountered in true_divide\n",
      "  f = msb / msw\n"
     ]
    },
    {
     "name": "stdout",
     "output_type": "stream",
     "text": [
      "1.0\n",
      "{'alpha': 1e-05}\n"
     ]
    },
    {
     "name": "stderr",
     "output_type": "stream",
     "text": [
      "/uufs/chpc.utah.edu/sys/installdir/python/3.6.3/lib/python3.6/site-packages/sklearn/feature_selection/univariate_selection.py:114: RuntimeWarning: divide by zero encountered in true_divide\n",
      "  f = msb / msw\n"
     ]
    },
    {
     "name": "stdout",
     "output_type": "stream",
     "text": [
      "1.0\n",
      "{'alpha': 1e-05}\n"
     ]
    },
    {
     "name": "stderr",
     "output_type": "stream",
     "text": [
      "/uufs/chpc.utah.edu/sys/installdir/python/3.6.3/lib/python3.6/site-packages/sklearn/feature_selection/univariate_selection.py:114: RuntimeWarning: divide by zero encountered in true_divide\n",
      "  f = msb / msw\n"
     ]
    },
    {
     "name": "stdout",
     "output_type": "stream",
     "text": [
      "1.0\n",
      "{'alpha': 1e-05}\n"
     ]
    },
    {
     "name": "stderr",
     "output_type": "stream",
     "text": [
      "/uufs/chpc.utah.edu/sys/installdir/python/3.6.3/lib/python3.6/site-packages/sklearn/feature_selection/univariate_selection.py:114: RuntimeWarning: divide by zero encountered in true_divide\n",
      "  f = msb / msw\n"
     ]
    },
    {
     "name": "stdout",
     "output_type": "stream",
     "text": [
      "1.0\n",
      "{'alpha': 1e-05}\n",
      "0.998162890386\n",
      "{'alpha': 1e-05}\n",
      "0.998775260257\n",
      "{'alpha': 1e-05}\n",
      "0.999387630129\n",
      "{'alpha': 1e-05}\n",
      "0.99967384214\n",
      "{'alpha': 1e-05}\n",
      "0.998775260257\n",
      "{'alpha': 1e-05}\n",
      "0.980243161094\n",
      "{'alpha': 0.0001}\n"
     ]
    },
    {
     "name": "stderr",
     "output_type": "stream",
     "text": [
      "/uufs/chpc.utah.edu/sys/installdir/python/3.6.3/lib/python3.6/site-packages/sklearn/feature_selection/univariate_selection.py:114: RuntimeWarning: divide by zero encountered in true_divide\n",
      "  f = msb / msw\n"
     ]
    },
    {
     "name": "stdout",
     "output_type": "stream",
     "text": [
      "1.0\n",
      "{'alpha': 1e-05}\n",
      "0.931115002919\n",
      "{'alpha': 0.001}\n",
      "0.995026778883\n",
      "{'alpha': 1e-05}\n"
     ]
    },
    {
     "name": "stderr",
     "output_type": "stream",
     "text": [
      "/uufs/chpc.utah.edu/sys/installdir/python/3.6.3/lib/python3.6/site-packages/sklearn/model_selection/_split.py:605: Warning: The least populated class in y has only 2 members, which is too few. The minimum number of members in any class cannot be less than n_splits=5.\n",
      "  % (min_groups, self.n_splits)), Warning)\n"
     ]
    },
    {
     "name": "stdout",
     "output_type": "stream",
     "text": [
      "0.992651561543\n",
      "{'alpha': 0.0001}\n"
     ]
    },
    {
     "name": "stderr",
     "output_type": "stream",
     "text": [
      "/uufs/chpc.utah.edu/sys/installdir/python/3.6.3/lib/python3.6/site-packages/sklearn/feature_selection/univariate_selection.py:114: RuntimeWarning: divide by zero encountered in true_divide\n",
      "  f = msb / msw\n"
     ]
    },
    {
     "name": "stdout",
     "output_type": "stream",
     "text": [
      "1.0\n",
      "{'alpha': 1e-05}\n",
      "0.992651561543\n",
      "{'alpha': 1e-05}\n",
      "0.9957134109\n",
      "{'alpha': 1e-05}\n"
     ]
    },
    {
     "name": "stderr",
     "output_type": "stream",
     "text": [
      "/uufs/chpc.utah.edu/sys/installdir/python/3.6.3/lib/python3.6/site-packages/sklearn/feature_selection/univariate_selection.py:114: RuntimeWarning: divide by zero encountered in true_divide\n",
      "  f = msb / msw\n",
      "/uufs/chpc.utah.edu/sys/installdir/python/3.6.3/lib/python3.6/site-packages/ipykernel_launcher.py:38: RuntimeWarning: invalid value encountered in less\n"
     ]
    },
    {
     "name": "stdout",
     "output_type": "stream",
     "text": [
      "1.0\n",
      "{'alpha': 1e-05}\n",
      "0.982892690513\n",
      "{'alpha': 0.0001}\n",
      "0.995101041029\n",
      "{'alpha': 1e-05}\n",
      "1.0\n",
      "{'alpha': 1e-05}\n",
      "0.995101041029\n",
      "{'alpha': 1e-05}\n",
      "0.995101041029\n",
      "{'alpha': 0.0001}\n",
      "0.998775260257\n",
      "{'alpha': 1e-05}\n",
      "0.950980392157\n",
      "{'alpha': 1e-05}\n",
      "0.964332460733\n",
      "{'alpha': 1e-05}\n",
      "0.956058588549\n",
      "{'alpha': 0.001}\n",
      "0.997550520514\n",
      "{'alpha': 1e-05}\n",
      "0.967079530639\n",
      "{'alpha': 1e-05}\n",
      "0.940467997247\n",
      "{'alpha': 0.0001}\n",
      "0.968331700947\n",
      "{'alpha': 0.1}\n",
      "0.999387630129\n",
      "{'alpha': 1e-05}\n",
      "0.999387630129\n",
      "{'alpha': 1e-05}\n",
      "0.991335740072\n",
      "{'alpha': 0.0001}\n",
      "0.935537881959\n",
      "{'alpha': 1e-05}\n",
      "0.936587103669\n",
      "{'alpha': 0.001}\n",
      "0.971594577147\n",
      "{'alpha': 1e-05}\n",
      "0.970655363547\n",
      "{'alpha': 1e-05}\n",
      "0.936550151976\n",
      "{'alpha': 0.0001}\n",
      "0.998067010309\n",
      "{'alpha': 1e-05}\n"
     ]
    },
    {
     "name": "stderr",
     "output_type": "stream",
     "text": [
      "/uufs/chpc.utah.edu/sys/installdir/python/3.6.3/lib/python3.6/site-packages/sklearn/feature_selection/univariate_selection.py:114: RuntimeWarning: divide by zero encountered in true_divide\n",
      "  f = msb / msw\n"
     ]
    },
    {
     "name": "stdout",
     "output_type": "stream",
     "text": [
      "1.0\n",
      "{'alpha': 1e-05}\n"
     ]
    },
    {
     "name": "stderr",
     "output_type": "stream",
     "text": [
      "/uufs/chpc.utah.edu/sys/installdir/python/3.6.3/lib/python3.6/site-packages/sklearn/feature_selection/univariate_selection.py:114: RuntimeWarning: divide by zero encountered in true_divide\n",
      "  f = msb / msw\n"
     ]
    },
    {
     "name": "stdout",
     "output_type": "stream",
     "text": [
      "1.0\n",
      "{'alpha': 1e-05}\n",
      "0.969902912621\n",
      "{'alpha': 1e-05}\n",
      "0.999387630129\n",
      "{'alpha': 1e-05}\n",
      "0.999387630129\n",
      "{'alpha': 1e-05}\n"
     ]
    },
    {
     "name": "stderr",
     "output_type": "stream",
     "text": [
      "/uufs/chpc.utah.edu/sys/installdir/python/3.6.3/lib/python3.6/site-packages/sklearn/feature_selection/univariate_selection.py:114: RuntimeWarning: divide by zero encountered in true_divide\n",
      "  f = msb / msw\n"
     ]
    },
    {
     "name": "stdout",
     "output_type": "stream",
     "text": [
      "1.0\n",
      "{'alpha': 1e-05}\n"
     ]
    },
    {
     "name": "stderr",
     "output_type": "stream",
     "text": [
      "/uufs/chpc.utah.edu/sys/installdir/python/3.6.3/lib/python3.6/site-packages/sklearn/feature_selection/univariate_selection.py:114: RuntimeWarning: divide by zero encountered in true_divide\n",
      "  f = msb / msw\n"
     ]
    },
    {
     "name": "stdout",
     "output_type": "stream",
     "text": [
      "1.0\n",
      "{'alpha': 1e-05}\n"
     ]
    },
    {
     "name": "stderr",
     "output_type": "stream",
     "text": [
      "/uufs/chpc.utah.edu/sys/installdir/python/3.6.3/lib/python3.6/site-packages/sklearn/feature_selection/univariate_selection.py:114: RuntimeWarning: divide by zero encountered in true_divide\n",
      "  f = msb / msw\n"
     ]
    },
    {
     "name": "stdout",
     "output_type": "stream",
     "text": [
      "1.0\n",
      "{'alpha': 1e-05}\n",
      "0.9957134109\n",
      "{'alpha': 1e-05}\n",
      "0.997550520514\n",
      "{'alpha': 1e-05}\n",
      "0.998775260257\n",
      "{'alpha': 1e-05}\n",
      "0.978212111503\n",
      "{'alpha': 0.0001}\n",
      "0.998162890386\n",
      "{'alpha': 1e-05}\n",
      "0.985658409387\n",
      "{'alpha': 1e-05}\n",
      "0.999387630129\n",
      "{'alpha': 1e-05}\n",
      "0.902160864346\n",
      "{'alpha': 1e-05}\n",
      "0.99165154265\n",
      "{'alpha': 1e-05}\n"
     ]
    },
    {
     "name": "stderr",
     "output_type": "stream",
     "text": [
      "/uufs/chpc.utah.edu/sys/installdir/python/3.6.3/lib/python3.6/site-packages/sklearn/model_selection/_split.py:605: Warning: The least populated class in y has only 3 members, which is too few. The minimum number of members in any class cannot be less than n_splits=5.\n",
      "  % (min_groups, self.n_splits)), Warning)\n"
     ]
    },
    {
     "name": "stdout",
     "output_type": "stream",
     "text": [
      "0.988977342315\n",
      "{'alpha': 0.0001}\n"
     ]
    },
    {
     "name": "stderr",
     "output_type": "stream",
     "text": [
      "/uufs/chpc.utah.edu/sys/installdir/python/3.6.3/lib/python3.6/site-packages/sklearn/feature_selection/univariate_selection.py:114: RuntimeWarning: divide by zero encountered in true_divide\n",
      "  f = msb / msw\n"
     ]
    },
    {
     "name": "stdout",
     "output_type": "stream",
     "text": [
      "1.0\n",
      "{'alpha': 1e-05}\n",
      "0.992651561543\n",
      "{'alpha': 0.1}\n",
      "0.9957134109\n",
      "{'alpha': 0.01}\n",
      "0.999387630129\n",
      "{'alpha': 1e-05}\n",
      "0.979922779923\n",
      "{'alpha': 0.0001}\n",
      "0.995101041029\n",
      "{'alpha': 1e-05}\n",
      "0.999359590138\n",
      "{'alpha': 1e-05}\n",
      "0.994488671157\n",
      "{'alpha': 0.0001}\n",
      "0.994488671157\n",
      "{'alpha': 1e-05}\n",
      "0.999387630129\n",
      "{'alpha': 1e-05}\n",
      "0.950117964274\n",
      "{'alpha': 1e-05}\n",
      "0.963618485742\n",
      "{'alpha': 0.1}\n",
      "0.960320106702\n",
      "{'alpha': 1e-05}\n",
      "0.997550520514\n",
      "{'alpha': 1e-05}\n",
      "0.966699314398\n",
      "{'alpha': 0.0001}\n",
      "0.949014276003\n",
      "{'alpha': 0.1}\n",
      "0.966688438929\n",
      "{'alpha': 0.1}\n",
      "0.999387630129\n",
      "{'alpha': 1e-05}\n",
      "0.999387630129\n",
      "{'alpha': 1e-05}\n",
      "0.990312163617\n",
      "{'alpha': 1e-05}\n",
      "0.922523285351\n",
      "{'alpha': 1e-05}\n",
      "0.932045779685\n",
      "{'alpha': 1e-05}\n",
      "0.979578813019\n",
      "{'alpha': 0.0001}\n",
      "0.970290564806\n",
      "{'alpha': 0.0001}\n",
      "0.929149018098\n",
      "{'alpha': 1e-05}\n",
      "0.999033816425\n",
      "{'alpha': 1e-05}\n"
     ]
    },
    {
     "name": "stderr",
     "output_type": "stream",
     "text": [
      "/uufs/chpc.utah.edu/sys/installdir/python/3.6.3/lib/python3.6/site-packages/sklearn/feature_selection/univariate_selection.py:114: RuntimeWarning: divide by zero encountered in true_divide\n",
      "  f = msb / msw\n"
     ]
    },
    {
     "name": "stdout",
     "output_type": "stream",
     "text": [
      "1.0\n",
      "{'alpha': 1e-05}\n"
     ]
    },
    {
     "name": "stderr",
     "output_type": "stream",
     "text": [
      "/uufs/chpc.utah.edu/sys/installdir/python/3.6.3/lib/python3.6/site-packages/sklearn/feature_selection/univariate_selection.py:114: RuntimeWarning: divide by zero encountered in true_divide\n",
      "  f = msb / msw\n"
     ]
    },
    {
     "name": "stdout",
     "output_type": "stream",
     "text": [
      "1.0\n",
      "{'alpha': 1e-05}\n",
      "0.97287697772\n",
      "{'alpha': 1e-05}\n",
      "0.999387630129\n",
      "{'alpha': 1e-05}\n",
      "0.999387630129\n",
      "{'alpha': 1e-05}\n"
     ]
    },
    {
     "name": "stderr",
     "output_type": "stream",
     "text": [
      "/uufs/chpc.utah.edu/sys/installdir/python/3.6.3/lib/python3.6/site-packages/sklearn/feature_selection/univariate_selection.py:114: RuntimeWarning: divide by zero encountered in true_divide\n",
      "  f = msb / msw\n"
     ]
    },
    {
     "name": "stdout",
     "output_type": "stream",
     "text": [
      "1.0\n",
      "{'alpha': 1e-05}\n"
     ]
    },
    {
     "name": "stderr",
     "output_type": "stream",
     "text": [
      "/uufs/chpc.utah.edu/sys/installdir/python/3.6.3/lib/python3.6/site-packages/sklearn/feature_selection/univariate_selection.py:114: RuntimeWarning: divide by zero encountered in true_divide\n",
      "  f = msb / msw\n"
     ]
    },
    {
     "name": "stdout",
     "output_type": "stream",
     "text": [
      "1.0\n",
      "{'alpha': 1e-05}\n"
     ]
    },
    {
     "name": "stderr",
     "output_type": "stream",
     "text": [
      "/uufs/chpc.utah.edu/sys/installdir/python/3.6.3/lib/python3.6/site-packages/sklearn/feature_selection/univariate_selection.py:114: RuntimeWarning: divide by zero encountered in true_divide\n",
      "  f = msb / msw\n"
     ]
    },
    {
     "name": "stdout",
     "output_type": "stream",
     "text": [
      "1.0\n",
      "{'alpha': 1e-05}\n",
      "0.995101041029\n",
      "{'alpha': 1e-05}\n",
      "0.997550520514\n",
      "{'alpha': 1e-05}\n",
      "0.998162890386\n",
      "{'alpha': 1e-05}\n",
      "0.979552715655\n",
      "{'alpha': 0.0001}\n",
      "0.998162890386\n",
      "{'alpha': 1e-05}\n",
      "0.985664639444\n",
      "{'alpha': 1e-05}\n",
      "0.999387630129\n",
      "{'alpha': 1e-05}\n",
      "0.900705052879\n",
      "{'alpha': 0.001}\n",
      "0.991705733862\n",
      "{'alpha': 0.0001}\n"
     ]
    },
    {
     "name": "stderr",
     "output_type": "stream",
     "text": [
      "/uufs/chpc.utah.edu/sys/installdir/python/3.6.3/lib/python3.6/site-packages/sklearn/model_selection/_split.py:605: Warning: The least populated class in y has only 3 members, which is too few. The minimum number of members in any class cannot be less than n_splits=5.\n",
      "  % (min_groups, self.n_splits)), Warning)\n"
     ]
    },
    {
     "name": "stdout",
     "output_type": "stream",
     "text": [
      "0.987752602572\n",
      "{'alpha': 0.0001}\n"
     ]
    },
    {
     "name": "stderr",
     "output_type": "stream",
     "text": [
      "/uufs/chpc.utah.edu/sys/installdir/python/3.6.3/lib/python3.6/site-packages/sklearn/feature_selection/univariate_selection.py:114: RuntimeWarning: divide by zero encountered in true_divide\n",
      "  f = msb / msw\n"
     ]
    },
    {
     "name": "stdout",
     "output_type": "stream",
     "text": [
      "1.0\n",
      "{'alpha': 1e-05}\n",
      "0.9914268218\n",
      "{'alpha': 0.1}\n",
      "0.995101041029\n",
      "{'alpha': 0.001}\n",
      "0.999387630129\n",
      "{'alpha': 1e-05}\n",
      "0.983619344774\n",
      "{'alpha': 0.001}\n",
      "0.995101041029\n",
      "{'alpha': 1e-05}\n",
      "0.999358357395\n",
      "{'alpha': 1e-05}\n",
      "0.994488671157\n",
      "{'alpha': 1e-05}\n",
      "0.994488671157\n",
      "{'alpha': 1e-05}\n",
      "0.998775260257\n",
      "{'alpha': 1e-05}\n",
      "0.949898442789\n",
      "{'alpha': 0.001}\n",
      "0.964613368283\n",
      "{'alpha': 0.1}\n",
      "0.952890076846\n",
      "{'alpha': 1e-05}\n",
      "0.997550520514\n",
      "{'alpha': 1e-05}\n",
      "0.978498074454\n",
      "{'alpha': 1e-05}\n",
      "0.957680773076\n",
      "{'alpha': 0.1}\n",
      "0.979852894148\n",
      "{'alpha': 0.1}\n",
      "0.999387630129\n",
      "{'alpha': 1e-05}\n",
      "0.999387630129\n",
      "{'alpha': 1e-05}\n",
      "0.991326346223\n",
      "{'alpha': 0.0001}\n",
      "0.936161449753\n",
      "{'alpha': 1e-05}\n",
      "0.946191474493\n",
      "{'alpha': 0.001}\n",
      "0.975703324808\n",
      "{'alpha': 0.0001}\n",
      "0.9772070626\n",
      "{'alpha': 0.0001}\n",
      "0.923813169985\n",
      "{'alpha': 0.001}\n",
      "0.993548387097\n",
      "{'alpha': 0.1}\n"
     ]
    },
    {
     "name": "stderr",
     "output_type": "stream",
     "text": [
      "/uufs/chpc.utah.edu/sys/installdir/python/3.6.3/lib/python3.6/site-packages/sklearn/feature_selection/univariate_selection.py:114: RuntimeWarning: divide by zero encountered in true_divide\n",
      "  f = msb / msw\n"
     ]
    },
    {
     "name": "stdout",
     "output_type": "stream",
     "text": [
      "1.0\n",
      "{'alpha': 1e-05}\n"
     ]
    },
    {
     "name": "stderr",
     "output_type": "stream",
     "text": [
      "/uufs/chpc.utah.edu/sys/installdir/python/3.6.3/lib/python3.6/site-packages/sklearn/feature_selection/univariate_selection.py:114: RuntimeWarning: divide by zero encountered in true_divide\n",
      "  f = msb / msw\n"
     ]
    },
    {
     "name": "stdout",
     "output_type": "stream",
     "text": [
      "1.0\n",
      "{'alpha': 1e-05}\n",
      "0.971862871928\n",
      "{'alpha': 0.0001}\n",
      "0.999387630129\n",
      "{'alpha': 1e-05}\n",
      "0.999387630129\n",
      "{'alpha': 1e-05}\n"
     ]
    },
    {
     "name": "stderr",
     "output_type": "stream",
     "text": [
      "/uufs/chpc.utah.edu/sys/installdir/python/3.6.3/lib/python3.6/site-packages/sklearn/feature_selection/univariate_selection.py:114: RuntimeWarning: divide by zero encountered in true_divide\n",
      "  f = msb / msw\n"
     ]
    },
    {
     "name": "stdout",
     "output_type": "stream",
     "text": [
      "1.0\n",
      "{'alpha': 1e-05}\n"
     ]
    },
    {
     "name": "stderr",
     "output_type": "stream",
     "text": [
      "/uufs/chpc.utah.edu/sys/installdir/python/3.6.3/lib/python3.6/site-packages/sklearn/feature_selection/univariate_selection.py:114: RuntimeWarning: divide by zero encountered in true_divide\n",
      "  f = msb / msw\n"
     ]
    },
    {
     "name": "stdout",
     "output_type": "stream",
     "text": [
      "1.0\n",
      "{'alpha': 1e-05}\n"
     ]
    },
    {
     "name": "stderr",
     "output_type": "stream",
     "text": [
      "/uufs/chpc.utah.edu/sys/installdir/python/3.6.3/lib/python3.6/site-packages/sklearn/feature_selection/univariate_selection.py:114: RuntimeWarning: divide by zero encountered in true_divide\n",
      "  f = msb / msw\n"
     ]
    },
    {
     "name": "stdout",
     "output_type": "stream",
     "text": [
      "1.0\n",
      "{'alpha': 1e-05}\n",
      "0.995101041029\n",
      "{'alpha': 0.0001}\n",
      "0.997550520514\n",
      "{'alpha': 1e-05}\n",
      "0.998162890386\n",
      "{'alpha': 1e-05}\n",
      "0.978553137004\n",
      "{'alpha': 1e-05}\n"
     ]
    },
    {
     "name": "stderr",
     "output_type": "stream",
     "text": [
      "/uufs/chpc.utah.edu/sys/installdir/python/3.6.3/lib/python3.6/site-packages/ipykernel_launcher.py:38: RuntimeWarning: invalid value encountered in less\n"
     ]
    },
    {
     "name": "stdout",
     "output_type": "stream",
     "text": [
      "0.998162890386\n",
      "{'alpha': 1e-05}\n",
      "0.976221928666\n",
      "{'alpha': 1e-05}\n",
      "0.999387630129\n",
      "{'alpha': 1e-05}\n",
      "0.904990980156\n",
      "{'alpha': 0.001}\n",
      "0.991282237559\n",
      "{'alpha': 1e-05}\n"
     ]
    },
    {
     "name": "stderr",
     "output_type": "stream",
     "text": [
      "/uufs/chpc.utah.edu/sys/installdir/python/3.6.3/lib/python3.6/site-packages/sklearn/model_selection/_split.py:605: Warning: The least populated class in y has only 3 members, which is too few. The minimum number of members in any class cannot be less than n_splits=5.\n",
      "  % (min_groups, self.n_splits)), Warning)\n"
     ]
    },
    {
     "name": "stdout",
     "output_type": "stream",
     "text": [
      "0.987752602572\n",
      "{'alpha': 0.01}\n"
     ]
    },
    {
     "name": "stderr",
     "output_type": "stream",
     "text": [
      "/uufs/chpc.utah.edu/sys/installdir/python/3.6.3/lib/python3.6/site-packages/sklearn/feature_selection/univariate_selection.py:114: RuntimeWarning: divide by zero encountered in true_divide\n",
      "  f = msb / msw\n"
     ]
    },
    {
     "name": "stdout",
     "output_type": "stream",
     "text": [
      "1.0\n",
      "{'alpha': 1e-05}\n",
      "0.9914268218\n",
      "{'alpha': 1e-05}\n",
      "0.995101041029\n",
      "{'alpha': 0.1}\n",
      "0.999387630129\n",
      "{'alpha': 1e-05}\n",
      "Accuracy: \t \t 0.8309599498096849 \t 0.6092418140850472\n",
      "Hamming: \t \t 0.9942872205039116 \t 0.9755618623310628\n",
      "Precision: \t \t 0.9727294263269901 \t 0.8560835794112744\n",
      "Recall: \t \t 0.9742608726985427 \t 0.8563981328293384\n",
      "F1: \t \t \t 0.9734190295145183 \t 0.8556851277924193\n"
     ]
    }
   ],
   "source": [
    "predict3_kfold(SGDClassifier(loss='squared_hinge', max_iter=5, tol=None), params_sgd, X, Y)"
   ]
  },
  {
   "cell_type": "code",
   "execution_count": 21,
   "metadata": {},
   "outputs": [
    {
     "name": "stdout",
     "output_type": "stream",
     "text": [
      "0.995883079457\n",
      "{'alpha': 0.0001}\n",
      "0.998774509804\n",
      "{'alpha': 1e-05}\n",
      "0.999673416068\n",
      "{'alpha': 1e-05}\n",
      "0.998161764706\n",
      "{'alpha': 1e-05}\n",
      "0.998161764706\n",
      "{'alpha': 0.0001}\n",
      "0.999387254902\n",
      "{'alpha': 1e-05}\n",
      "0.929023190443\n",
      "{'alpha': 0.0001}\n",
      "0.982851698952\n",
      "{'alpha': 0.0001}\n",
      "0.957638425617\n",
      "{'alpha': 0.001}\n",
      "0.998774509804\n",
      "{'alpha': 1e-05}\n",
      "0.980701190093\n",
      "{'alpha': 1e-05}\n",
      "0.948865560447\n",
      "{'alpha': 0.001}\n",
      "0.978539397822\n",
      "{'alpha': 0.0001}\n",
      "0.999387254902\n",
      "{'alpha': 1e-05}\n",
      "0.999387254902\n",
      "{'alpha': 1e-05}\n",
      "0.997353497164\n",
      "{'alpha': 0.0001}\n",
      "0.924936845904\n",
      "{'alpha': 1}\n",
      "0.930964467005\n",
      "{'alpha': 1e-05}\n",
      "0.969460688759\n",
      "{'alpha': 1e-05}\n",
      "0.978128015439\n",
      "{'alpha': 0.0001}\n",
      "0.907502569373\n",
      "{'alpha': 1e-05}\n",
      "1.0\n",
      "{'alpha': 1e-05}\n"
     ]
    },
    {
     "name": "stderr",
     "output_type": "stream",
     "text": [
      "/uufs/chpc.utah.edu/sys/installdir/python/3.6.3/lib/python3.6/site-packages/sklearn/feature_selection/univariate_selection.py:114: RuntimeWarning: divide by zero encountered in true_divide\n",
      "  f = msb / msw\n"
     ]
    },
    {
     "name": "stdout",
     "output_type": "stream",
     "text": [
      "1.0\n",
      "{'alpha': 1e-05}\n"
     ]
    },
    {
     "name": "stderr",
     "output_type": "stream",
     "text": [
      "/uufs/chpc.utah.edu/sys/installdir/python/3.6.3/lib/python3.6/site-packages/sklearn/feature_selection/univariate_selection.py:114: RuntimeWarning: divide by zero encountered in true_divide\n",
      "  f = msb / msw\n"
     ]
    },
    {
     "name": "stdout",
     "output_type": "stream",
     "text": [
      "1.0\n",
      "{'alpha': 1e-05}\n",
      "0.965901639344\n",
      "{'alpha': 0.0001}\n",
      "0.999387254902\n",
      "{'alpha': 1e-05}\n",
      "0.999387254902\n",
      "{'alpha': 1e-05}\n"
     ]
    },
    {
     "name": "stderr",
     "output_type": "stream",
     "text": [
      "/uufs/chpc.utah.edu/sys/installdir/python/3.6.3/lib/python3.6/site-packages/sklearn/feature_selection/univariate_selection.py:114: RuntimeWarning: divide by zero encountered in true_divide\n",
      "  f = msb / msw\n"
     ]
    },
    {
     "name": "stdout",
     "output_type": "stream",
     "text": [
      "1.0\n",
      "{'alpha': 0.0001}\n"
     ]
    },
    {
     "name": "stderr",
     "output_type": "stream",
     "text": [
      "/uufs/chpc.utah.edu/sys/installdir/python/3.6.3/lib/python3.6/site-packages/sklearn/feature_selection/univariate_selection.py:114: RuntimeWarning: divide by zero encountered in true_divide\n",
      "  f = msb / msw\n"
     ]
    },
    {
     "name": "stdout",
     "output_type": "stream",
     "text": [
      "1.0\n",
      "{'alpha': 1e-05}\n"
     ]
    },
    {
     "name": "stderr",
     "output_type": "stream",
     "text": [
      "/uufs/chpc.utah.edu/sys/installdir/python/3.6.3/lib/python3.6/site-packages/sklearn/feature_selection/univariate_selection.py:114: RuntimeWarning: divide by zero encountered in true_divide\n",
      "  f = msb / msw\n",
      "/uufs/chpc.utah.edu/sys/installdir/python/3.6.3/lib/python3.6/site-packages/ipykernel_launcher.py:38: RuntimeWarning: invalid value encountered in less\n"
     ]
    },
    {
     "name": "stdout",
     "output_type": "stream",
     "text": [
      "1.0\n",
      "{'alpha': 1e-05}\n",
      "0.996323529412\n",
      "{'alpha': 1e-05}\n",
      "0.998774509804\n",
      "{'alpha': 1e-05}\n",
      "0.998161764706\n",
      "{'alpha': 1e-05}\n",
      "0.998774509804\n",
      "{'alpha': 1e-05}\n",
      "0.999387254902\n",
      "{'alpha': 1e-05}\n",
      "0.978478478478\n",
      "{'alpha': 0.0001}\n",
      "0.999387254902\n",
      "{'alpha': 1e-05}\n",
      "0.925266903915\n",
      "{'alpha': 0.0001}\n",
      "0.995449374289\n",
      "{'alpha': 0.001}\n"
     ]
    },
    {
     "name": "stderr",
     "output_type": "stream",
     "text": [
      "/uufs/chpc.utah.edu/sys/installdir/python/3.6.3/lib/python3.6/site-packages/sklearn/feature_selection/univariate_selection.py:114: RuntimeWarning: divide by zero encountered in true_divide\n",
      "  f = msb / msw\n",
      "/uufs/chpc.utah.edu/sys/installdir/python/3.6.3/lib/python3.6/site-packages/sklearn/model_selection/_split.py:605: Warning: The least populated class in y has only 1 members, which is too few. The minimum number of members in any class cannot be less than n_splits=5.\n",
      "  % (min_groups, self.n_splits)), Warning)\n"
     ]
    },
    {
     "name": "stdout",
     "output_type": "stream",
     "text": [
      "0.99387254902\n",
      "{'alpha': 1e-05}\n"
     ]
    },
    {
     "name": "stderr",
     "output_type": "stream",
     "text": [
      "/uufs/chpc.utah.edu/sys/installdir/python/3.6.3/lib/python3.6/site-packages/sklearn/feature_selection/univariate_selection.py:114: RuntimeWarning: divide by zero encountered in true_divide\n",
      "  f = msb / msw\n"
     ]
    },
    {
     "name": "stdout",
     "output_type": "stream",
     "text": [
      "1.0\n",
      "{'alpha': 1e-05}\n",
      "0.997549019608\n",
      "{'alpha': 1e-05}\n",
      "0.998774509804\n",
      "{'alpha': 1e-05}\n",
      "0.999387254902\n",
      "{'alpha': 1e-05}\n",
      "0.987768873893\n",
      "{'alpha': 1e-05}\n",
      "0.966590239109\n",
      "{'alpha': 1e-05}\n",
      "0.998162890386\n",
      "{'alpha': 1e-05}\n",
      "0.9957134109\n",
      "{'alpha': 0.001}\n",
      "0.9957134109\n",
      "{'alpha': 0.001}\n"
     ]
    },
    {
     "name": "stderr",
     "output_type": "stream",
     "text": [
      "/uufs/chpc.utah.edu/sys/installdir/python/3.6.3/lib/python3.6/site-packages/sklearn/feature_selection/univariate_selection.py:114: RuntimeWarning: divide by zero encountered in true_divide\n",
      "  f = msb / msw\n"
     ]
    },
    {
     "name": "stdout",
     "output_type": "stream",
     "text": [
      "1.0\n",
      "{'alpha': 1e-05}\n",
      "0.995101041029\n",
      "{'alpha': 1e-05}\n",
      "0.986080354318\n",
      "{'alpha': 1e-05}\n",
      "0.958945260347\n",
      "{'alpha': 0.0001}\n",
      "0.998775260257\n",
      "{'alpha': 1e-05}\n",
      "0.9844985764\n",
      "{'alpha': 1e-05}\n",
      "0.959390862944\n",
      "{'alpha': 0.001}\n",
      "0.988516746411\n",
      "{'alpha': 0.0001}\n"
     ]
    },
    {
     "name": "stderr",
     "output_type": "stream",
     "text": [
      "/uufs/chpc.utah.edu/sys/installdir/python/3.6.3/lib/python3.6/site-packages/sklearn/feature_selection/univariate_selection.py:114: RuntimeWarning: divide by zero encountered in true_divide\n",
      "  f = msb / msw\n"
     ]
    },
    {
     "name": "stdout",
     "output_type": "stream",
     "text": [
      "1.0\n",
      "{'alpha': 1e-05}\n"
     ]
    },
    {
     "name": "stderr",
     "output_type": "stream",
     "text": [
      "/uufs/chpc.utah.edu/sys/installdir/python/3.6.3/lib/python3.6/site-packages/sklearn/feature_selection/univariate_selection.py:114: RuntimeWarning: divide by zero encountered in true_divide\n",
      "  f = msb / msw\n"
     ]
    },
    {
     "name": "stdout",
     "output_type": "stream",
     "text": [
      "1.0\n",
      "{'alpha': 1e-05}\n",
      "0.993127147766\n",
      "{'alpha': 0.0001}\n",
      "0.925\n",
      "{'alpha': 0.1}\n",
      "0.957038995373\n",
      "{'alpha': 0.0001}\n",
      "0.972483004208\n",
      "{'alpha': 1e-05}\n",
      "0.985131287567\n",
      "{'alpha': 0.001}\n",
      "0.937780850328\n",
      "{'alpha': 1e-05}\n",
      "0.964508708511\n",
      "{'alpha': 0.001}\n"
     ]
    },
    {
     "name": "stderr",
     "output_type": "stream",
     "text": [
      "/uufs/chpc.utah.edu/sys/installdir/python/3.6.3/lib/python3.6/site-packages/sklearn/feature_selection/univariate_selection.py:114: RuntimeWarning: divide by zero encountered in true_divide\n",
      "  f = msb / msw\n"
     ]
    },
    {
     "name": "stdout",
     "output_type": "stream",
     "text": [
      "1.0\n",
      "{'alpha': 1e-05}\n"
     ]
    },
    {
     "name": "stderr",
     "output_type": "stream",
     "text": [
      "/uufs/chpc.utah.edu/sys/installdir/python/3.6.3/lib/python3.6/site-packages/sklearn/feature_selection/univariate_selection.py:114: RuntimeWarning: divide by zero encountered in true_divide\n",
      "  f = msb / msw\n"
     ]
    },
    {
     "name": "stdout",
     "output_type": "stream",
     "text": [
      "1.0\n",
      "{'alpha': 1e-05}\n",
      "0.998034719948\n",
      "{'alpha': 0.0001}\n"
     ]
    },
    {
     "name": "stderr",
     "output_type": "stream",
     "text": [
      "/uufs/chpc.utah.edu/sys/installdir/python/3.6.3/lib/python3.6/site-packages/sklearn/feature_selection/univariate_selection.py:114: RuntimeWarning: divide by zero encountered in true_divide\n",
      "  f = msb / msw\n"
     ]
    },
    {
     "name": "stdout",
     "output_type": "stream",
     "text": [
      "1.0\n",
      "{'alpha': 1e-05}\n"
     ]
    },
    {
     "name": "stderr",
     "output_type": "stream",
     "text": [
      "/uufs/chpc.utah.edu/sys/installdir/python/3.6.3/lib/python3.6/site-packages/sklearn/feature_selection/univariate_selection.py:114: RuntimeWarning: divide by zero encountered in true_divide\n",
      "  f = msb / msw\n"
     ]
    },
    {
     "name": "stdout",
     "output_type": "stream",
     "text": [
      "1.0\n",
      "{'alpha': 1e-05}\n"
     ]
    },
    {
     "name": "stderr",
     "output_type": "stream",
     "text": [
      "/uufs/chpc.utah.edu/sys/installdir/python/3.6.3/lib/python3.6/site-packages/sklearn/feature_selection/univariate_selection.py:114: RuntimeWarning: divide by zero encountered in true_divide\n",
      "  f = msb / msw\n"
     ]
    },
    {
     "name": "stdout",
     "output_type": "stream",
     "text": [
      "1.0\n",
      "{'alpha': 1e-05}\n"
     ]
    },
    {
     "name": "stderr",
     "output_type": "stream",
     "text": [
      "/uufs/chpc.utah.edu/sys/installdir/python/3.6.3/lib/python3.6/site-packages/sklearn/feature_selection/univariate_selection.py:114: RuntimeWarning: divide by zero encountered in true_divide\n",
      "  f = msb / msw\n"
     ]
    },
    {
     "name": "stdout",
     "output_type": "stream",
     "text": [
      "1.0\n",
      "{'alpha': 1e-05}\n"
     ]
    },
    {
     "name": "stderr",
     "output_type": "stream",
     "text": [
      "/uufs/chpc.utah.edu/sys/installdir/python/3.6.3/lib/python3.6/site-packages/sklearn/feature_selection/univariate_selection.py:114: RuntimeWarning: divide by zero encountered in true_divide\n",
      "  f = msb / msw\n"
     ]
    },
    {
     "name": "stdout",
     "output_type": "stream",
     "text": [
      "1.0\n",
      "{'alpha': 1e-05}\n",
      "0.998162890386\n",
      "{'alpha': 1e-05}\n",
      "0.998775260257\n",
      "{'alpha': 1e-05}\n",
      "0.999387630129\n",
      "{'alpha': 1e-05}\n",
      "0.99967384214\n",
      "{'alpha': 1e-05}\n",
      "0.998775260257\n",
      "{'alpha': 1e-05}\n",
      "0.973657548126\n",
      "{'alpha': 1e-05}\n"
     ]
    },
    {
     "name": "stderr",
     "output_type": "stream",
     "text": [
      "/uufs/chpc.utah.edu/sys/installdir/python/3.6.3/lib/python3.6/site-packages/sklearn/feature_selection/univariate_selection.py:114: RuntimeWarning: divide by zero encountered in true_divide\n",
      "  f = msb / msw\n"
     ]
    },
    {
     "name": "stdout",
     "output_type": "stream",
     "text": [
      "1.0\n",
      "{'alpha': 1e-05}\n",
      "0.946324387398\n",
      "{'alpha': 0.001}\n",
      "0.994261667942\n",
      "{'alpha': 0.001}\n"
     ]
    },
    {
     "name": "stderr",
     "output_type": "stream",
     "text": [
      "/uufs/chpc.utah.edu/sys/installdir/python/3.6.3/lib/python3.6/site-packages/sklearn/model_selection/_split.py:605: Warning: The least populated class in y has only 2 members, which is too few. The minimum number of members in any class cannot be less than n_splits=5.\n",
      "  % (min_groups, self.n_splits)), Warning)\n"
     ]
    },
    {
     "name": "stdout",
     "output_type": "stream",
     "text": [
      "0.992651561543\n",
      "{'alpha': 0.001}\n"
     ]
    },
    {
     "name": "stderr",
     "output_type": "stream",
     "text": [
      "/uufs/chpc.utah.edu/sys/installdir/python/3.6.3/lib/python3.6/site-packages/sklearn/feature_selection/univariate_selection.py:114: RuntimeWarning: divide by zero encountered in true_divide\n",
      "  f = msb / msw\n"
     ]
    },
    {
     "name": "stdout",
     "output_type": "stream",
     "text": [
      "1.0\n",
      "{'alpha': 1e-05}\n",
      "0.992651561543\n",
      "{'alpha': 1e-05}\n",
      "0.9957134109\n",
      "{'alpha': 1e-05}\n"
     ]
    },
    {
     "name": "stderr",
     "output_type": "stream",
     "text": [
      "/uufs/chpc.utah.edu/sys/installdir/python/3.6.3/lib/python3.6/site-packages/sklearn/feature_selection/univariate_selection.py:114: RuntimeWarning: divide by zero encountered in true_divide\n",
      "  f = msb / msw\n",
      "/uufs/chpc.utah.edu/sys/installdir/python/3.6.3/lib/python3.6/site-packages/ipykernel_launcher.py:38: RuntimeWarning: invalid value encountered in less\n"
     ]
    },
    {
     "name": "stdout",
     "output_type": "stream",
     "text": [
      "1.0\n",
      "{'alpha': 1e-05}\n",
      "0.985225505443\n",
      "{'alpha': 0.001}\n",
      "0.995101041029\n",
      "{'alpha': 1e-05}\n",
      "0.999679589875\n",
      "{'alpha': 0.0001}\n",
      "0.995101041029\n",
      "{'alpha': 1e-05}\n",
      "0.995101041029\n",
      "{'alpha': 0.0001}\n",
      "0.999387630129\n",
      "{'alpha': 1e-05}\n",
      "0.950642325896\n",
      "{'alpha': 0.0001}\n",
      "0.975122749591\n",
      "{'alpha': 0.0001}\n",
      "0.961371961372\n",
      "{'alpha': 0.001}\n",
      "0.997550520514\n",
      "{'alpha': 1e-05}\n",
      "0.974241930225\n",
      "{'alpha': 0.0001}\n",
      "0.944234079174\n",
      "{'alpha': 0.001}\n",
      "0.971605744125\n",
      "{'alpha': 0.001}\n",
      "0.999387630129\n",
      "{'alpha': 1e-05}\n",
      "0.999387630129\n",
      "{'alpha': 1e-05}\n",
      "0.99241603467\n",
      "{'alpha': 1e-05}\n",
      "0.934700711595\n",
      "{'alpha': 0.0001}\n",
      "0.94764957265\n",
      "{'alpha': 0.001}\n",
      "0.974499677211\n",
      "{'alpha': 1e-05}\n",
      "0.973924380704\n",
      "{'alpha': 0.001}\n",
      "0.938069908815\n",
      "{'alpha': 0.0001}\n",
      "0.998067010309\n",
      "{'alpha': 0.0001}\n"
     ]
    },
    {
     "name": "stderr",
     "output_type": "stream",
     "text": [
      "/uufs/chpc.utah.edu/sys/installdir/python/3.6.3/lib/python3.6/site-packages/sklearn/feature_selection/univariate_selection.py:114: RuntimeWarning: divide by zero encountered in true_divide\n",
      "  f = msb / msw\n"
     ]
    },
    {
     "name": "stdout",
     "output_type": "stream",
     "text": [
      "1.0\n",
      "{'alpha': 1e-05}\n"
     ]
    },
    {
     "name": "stderr",
     "output_type": "stream",
     "text": [
      "/uufs/chpc.utah.edu/sys/installdir/python/3.6.3/lib/python3.6/site-packages/sklearn/feature_selection/univariate_selection.py:114: RuntimeWarning: divide by zero encountered in true_divide\n",
      "  f = msb / msw\n"
     ]
    },
    {
     "name": "stdout",
     "output_type": "stream",
     "text": [
      "1.0\n",
      "{'alpha': 1e-05}\n",
      "0.971835545484\n",
      "{'alpha': 0.001}\n",
      "0.999387630129\n",
      "{'alpha': 1e-05}\n",
      "0.999387630129\n",
      "{'alpha': 1e-05}\n"
     ]
    },
    {
     "name": "stderr",
     "output_type": "stream",
     "text": [
      "/uufs/chpc.utah.edu/sys/installdir/python/3.6.3/lib/python3.6/site-packages/sklearn/feature_selection/univariate_selection.py:114: RuntimeWarning: divide by zero encountered in true_divide\n",
      "  f = msb / msw\n"
     ]
    },
    {
     "name": "stdout",
     "output_type": "stream",
     "text": [
      "1.0\n",
      "{'alpha': 1e-05}\n"
     ]
    },
    {
     "name": "stderr",
     "output_type": "stream",
     "text": [
      "/uufs/chpc.utah.edu/sys/installdir/python/3.6.3/lib/python3.6/site-packages/sklearn/feature_selection/univariate_selection.py:114: RuntimeWarning: divide by zero encountered in true_divide\n",
      "  f = msb / msw\n"
     ]
    },
    {
     "name": "stdout",
     "output_type": "stream",
     "text": [
      "1.0\n",
      "{'alpha': 1e-05}\n"
     ]
    },
    {
     "name": "stderr",
     "output_type": "stream",
     "text": [
      "/uufs/chpc.utah.edu/sys/installdir/python/3.6.3/lib/python3.6/site-packages/sklearn/feature_selection/univariate_selection.py:114: RuntimeWarning: divide by zero encountered in true_divide\n",
      "  f = msb / msw\n"
     ]
    },
    {
     "name": "stdout",
     "output_type": "stream",
     "text": [
      "1.0\n",
      "{'alpha': 1e-05}\n",
      "0.9957134109\n",
      "{'alpha': 1e-05}\n",
      "0.997550520514\n",
      "{'alpha': 1e-05}\n",
      "0.998775260257\n",
      "{'alpha': 1e-05}\n",
      "0.978219090327\n",
      "{'alpha': 1e-05}\n",
      "0.998162890386\n",
      "{'alpha': 1e-05}\n",
      "0.984354628422\n",
      "{'alpha': 0.0001}\n",
      "0.999387630129\n",
      "{'alpha': 1e-05}\n",
      "0.92012012012\n",
      "{'alpha': 0.001}\n",
      "0.992740471869\n",
      "{'alpha': 1e-05}\n"
     ]
    },
    {
     "name": "stderr",
     "output_type": "stream",
     "text": [
      "/uufs/chpc.utah.edu/sys/installdir/python/3.6.3/lib/python3.6/site-packages/sklearn/model_selection/_split.py:605: Warning: The least populated class in y has only 3 members, which is too few. The minimum number of members in any class cannot be less than n_splits=5.\n",
      "  % (min_groups, self.n_splits)), Warning)\n"
     ]
    },
    {
     "name": "stdout",
     "output_type": "stream",
     "text": [
      "0.988977342315\n",
      "{'alpha': 0.001}\n"
     ]
    },
    {
     "name": "stderr",
     "output_type": "stream",
     "text": [
      "/uufs/chpc.utah.edu/sys/installdir/python/3.6.3/lib/python3.6/site-packages/sklearn/feature_selection/univariate_selection.py:114: RuntimeWarning: divide by zero encountered in true_divide\n",
      "  f = msb / msw\n"
     ]
    },
    {
     "name": "stdout",
     "output_type": "stream",
     "text": [
      "1.0\n",
      "{'alpha': 1e-05}\n",
      "0.992651561543\n",
      "{'alpha': 0.01}\n",
      "0.9957134109\n",
      "{'alpha': 0.01}\n",
      "0.999387630129\n",
      "{'alpha': 1e-05}\n",
      "0.985714285714\n",
      "{'alpha': 0.001}\n",
      "0.995101041029\n",
      "{'alpha': 0.0001}\n",
      "1.0\n",
      "{'alpha': 0.0001}\n",
      "0.994488671157\n",
      "{'alpha': 0.001}\n",
      "0.994488671157\n",
      "{'alpha': 0.0001}\n",
      "0.999387630129\n",
      "{'alpha': 1e-05}\n",
      "0.952814290529\n",
      "{'alpha': 1e-05}\n",
      "0.976401179941\n",
      "{'alpha': 0.001}\n",
      "0.961\n",
      "{'alpha': 0.001}\n",
      "0.997550520514\n",
      "{'alpha': 1e-05}\n",
      "0.973228860594\n",
      "{'alpha': 0.001}\n",
      "0.95001700102\n",
      "{'alpha': 0.001}\n",
      "0.970271153218\n",
      "{'alpha': 0.001}\n",
      "0.999387630129\n",
      "{'alpha': 1e-05}\n",
      "0.999387630129\n",
      "{'alpha': 1e-05}\n",
      "0.991388589882\n",
      "{'alpha': 0.0001}\n",
      "0.932684165961\n",
      "{'alpha': 0.0001}\n",
      "0.950286123033\n",
      "{'alpha': 0.0001}\n",
      "0.97861474625\n",
      "{'alpha': 0.0001}\n",
      "0.972575905975\n",
      "{'alpha': 0.001}\n",
      "0.932255581216\n",
      "{'alpha': 0.0001}\n",
      "0.998711755233\n",
      "{'alpha': 1e-05}\n"
     ]
    },
    {
     "name": "stderr",
     "output_type": "stream",
     "text": [
      "/uufs/chpc.utah.edu/sys/installdir/python/3.6.3/lib/python3.6/site-packages/sklearn/feature_selection/univariate_selection.py:114: RuntimeWarning: divide by zero encountered in true_divide\n",
      "  f = msb / msw\n"
     ]
    },
    {
     "name": "stdout",
     "output_type": "stream",
     "text": [
      "1.0\n",
      "{'alpha': 1e-05}\n"
     ]
    },
    {
     "name": "stderr",
     "output_type": "stream",
     "text": [
      "/uufs/chpc.utah.edu/sys/installdir/python/3.6.3/lib/python3.6/site-packages/sklearn/feature_selection/univariate_selection.py:114: RuntimeWarning: divide by zero encountered in true_divide\n",
      "  f = msb / msw\n"
     ]
    },
    {
     "name": "stdout",
     "output_type": "stream",
     "text": [
      "1.0\n",
      "{'alpha': 1e-05}\n",
      "0.973531310523\n",
      "{'alpha': 0.001}\n",
      "0.999387630129\n",
      "{'alpha': 1e-05}\n",
      "0.999387630129\n",
      "{'alpha': 1e-05}\n"
     ]
    },
    {
     "name": "stderr",
     "output_type": "stream",
     "text": [
      "/uufs/chpc.utah.edu/sys/installdir/python/3.6.3/lib/python3.6/site-packages/sklearn/feature_selection/univariate_selection.py:114: RuntimeWarning: divide by zero encountered in true_divide\n",
      "  f = msb / msw\n"
     ]
    },
    {
     "name": "stdout",
     "output_type": "stream",
     "text": [
      "1.0\n",
      "{'alpha': 1e-05}\n"
     ]
    },
    {
     "name": "stderr",
     "output_type": "stream",
     "text": [
      "/uufs/chpc.utah.edu/sys/installdir/python/3.6.3/lib/python3.6/site-packages/sklearn/feature_selection/univariate_selection.py:114: RuntimeWarning: divide by zero encountered in true_divide\n",
      "  f = msb / msw\n"
     ]
    },
    {
     "name": "stdout",
     "output_type": "stream",
     "text": [
      "1.0\n",
      "{'alpha': 1e-05}\n"
     ]
    },
    {
     "name": "stderr",
     "output_type": "stream",
     "text": [
      "/uufs/chpc.utah.edu/sys/installdir/python/3.6.3/lib/python3.6/site-packages/sklearn/feature_selection/univariate_selection.py:114: RuntimeWarning: divide by zero encountered in true_divide\n",
      "  f = msb / msw\n"
     ]
    },
    {
     "name": "stdout",
     "output_type": "stream",
     "text": [
      "1.0\n",
      "{'alpha': 1e-05}\n",
      "0.995101041029\n",
      "{'alpha': 1e-05}\n",
      "0.997550520514\n",
      "{'alpha': 1e-05}\n",
      "0.998162890386\n",
      "{'alpha': 1e-05}\n",
      "0.979546180888\n",
      "{'alpha': 0.0001}\n",
      "0.998162890386\n",
      "{'alpha': 1e-05}\n",
      "0.983058210252\n",
      "{'alpha': 0.001}\n",
      "0.999387630129\n",
      "{'alpha': 1e-05}\n",
      "0.905349794239\n",
      "{'alpha': 0.001}\n",
      "0.994592645999\n",
      "{'alpha': 0.0001}\n"
     ]
    },
    {
     "name": "stderr",
     "output_type": "stream",
     "text": [
      "/uufs/chpc.utah.edu/sys/installdir/python/3.6.3/lib/python3.6/site-packages/sklearn/model_selection/_split.py:605: Warning: The least populated class in y has only 3 members, which is too few. The minimum number of members in any class cannot be less than n_splits=5.\n",
      "  % (min_groups, self.n_splits)), Warning)\n"
     ]
    },
    {
     "name": "stdout",
     "output_type": "stream",
     "text": [
      "0.987752602572\n",
      "{'alpha': 0.0001}\n"
     ]
    },
    {
     "name": "stderr",
     "output_type": "stream",
     "text": [
      "/uufs/chpc.utah.edu/sys/installdir/python/3.6.3/lib/python3.6/site-packages/sklearn/feature_selection/univariate_selection.py:114: RuntimeWarning: divide by zero encountered in true_divide\n",
      "  f = msb / msw\n"
     ]
    },
    {
     "name": "stdout",
     "output_type": "stream",
     "text": [
      "1.0\n",
      "{'alpha': 1e-05}\n",
      "0.9914268218\n",
      "{'alpha': 0.01}\n",
      "0.995101041029\n",
      "{'alpha': 0.001}\n",
      "0.999387630129\n",
      "{'alpha': 1e-05}\n",
      "0.985959438378\n",
      "{'alpha': 0.0001}\n",
      "0.995101041029\n",
      "{'alpha': 1e-05}\n",
      "0.999358357395\n",
      "{'alpha': 1e-05}\n",
      "0.994488671157\n",
      "{'alpha': 0.001}\n",
      "0.994488671157\n",
      "{'alpha': 1e-05}\n",
      "0.999387630129\n",
      "{'alpha': 1e-05}\n",
      "0.950220115137\n",
      "{'alpha': 0.001}\n",
      "0.972149410223\n",
      "{'alpha': 0.001}\n",
      "0.959585838343\n",
      "{'alpha': 0.001}\n",
      "0.997550520514\n",
      "{'alpha': 1e-05}\n",
      "0.982664526485\n",
      "{'alpha': 0.0001}\n",
      "0.960026648901\n",
      "{'alpha': 0.001}\n",
      "0.980498721228\n",
      "{'alpha': 0.001}\n",
      "0.999387630129\n",
      "{'alpha': 1e-05}\n",
      "0.999387630129\n",
      "{'alpha': 1e-05}\n",
      "0.992052023121\n",
      "{'alpha': 0.0001}\n",
      "0.931190770499\n",
      "{'alpha': 0.0001}\n",
      "0.951415588955\n",
      "{'alpha': 0.001}\n",
      "0.979539641944\n",
      "{'alpha': 1e-05}\n",
      "0.981386392811\n",
      "{'alpha': 0.001}\n",
      "0.936830015314\n",
      "{'alpha': 0.0001}\n",
      "0.998386576315\n",
      "{'alpha': 0.0001}\n"
     ]
    },
    {
     "name": "stderr",
     "output_type": "stream",
     "text": [
      "/uufs/chpc.utah.edu/sys/installdir/python/3.6.3/lib/python3.6/site-packages/sklearn/feature_selection/univariate_selection.py:114: RuntimeWarning: divide by zero encountered in true_divide\n",
      "  f = msb / msw\n"
     ]
    },
    {
     "name": "stdout",
     "output_type": "stream",
     "text": [
      "1.0\n",
      "{'alpha': 1e-05}\n"
     ]
    },
    {
     "name": "stderr",
     "output_type": "stream",
     "text": [
      "/uufs/chpc.utah.edu/sys/installdir/python/3.6.3/lib/python3.6/site-packages/sklearn/feature_selection/univariate_selection.py:114: RuntimeWarning: divide by zero encountered in true_divide\n",
      "  f = msb / msw\n"
     ]
    },
    {
     "name": "stdout",
     "output_type": "stream",
     "text": [
      "1.0\n",
      "{'alpha': 1e-05}\n",
      "0.972186287193\n",
      "{'alpha': 0.001}\n",
      "0.999387630129\n",
      "{'alpha': 1e-05}\n",
      "0.999387630129\n",
      "{'alpha': 1e-05}\n"
     ]
    },
    {
     "name": "stderr",
     "output_type": "stream",
     "text": [
      "/uufs/chpc.utah.edu/sys/installdir/python/3.6.3/lib/python3.6/site-packages/sklearn/feature_selection/univariate_selection.py:114: RuntimeWarning: divide by zero encountered in true_divide\n",
      "  f = msb / msw\n"
     ]
    },
    {
     "name": "stdout",
     "output_type": "stream",
     "text": [
      "1.0\n",
      "{'alpha': 1e-05}\n"
     ]
    },
    {
     "name": "stderr",
     "output_type": "stream",
     "text": [
      "/uufs/chpc.utah.edu/sys/installdir/python/3.6.3/lib/python3.6/site-packages/sklearn/feature_selection/univariate_selection.py:114: RuntimeWarning: divide by zero encountered in true_divide\n",
      "  f = msb / msw\n"
     ]
    },
    {
     "name": "stdout",
     "output_type": "stream",
     "text": [
      "1.0\n",
      "{'alpha': 1e-05}\n"
     ]
    },
    {
     "name": "stderr",
     "output_type": "stream",
     "text": [
      "/uufs/chpc.utah.edu/sys/installdir/python/3.6.3/lib/python3.6/site-packages/sklearn/feature_selection/univariate_selection.py:114: RuntimeWarning: divide by zero encountered in true_divide\n",
      "  f = msb / msw\n"
     ]
    },
    {
     "name": "stdout",
     "output_type": "stream",
     "text": [
      "1.0\n",
      "{'alpha': 1e-05}\n",
      "0.995101041029\n",
      "{'alpha': 1e-05}\n",
      "0.997550520514\n",
      "{'alpha': 1e-05}\n",
      "0.998162890386\n",
      "{'alpha': 1e-05}\n",
      "0.978553137004\n",
      "{'alpha': 0.0001}\n"
     ]
    },
    {
     "name": "stderr",
     "output_type": "stream",
     "text": [
      "/uufs/chpc.utah.edu/sys/installdir/python/3.6.3/lib/python3.6/site-packages/ipykernel_launcher.py:38: RuntimeWarning: invalid value encountered in less\n"
     ]
    },
    {
     "name": "stdout",
     "output_type": "stream",
     "text": [
      "0.998162890386\n",
      "{'alpha': 1e-05}\n",
      "0.98370761779\n",
      "{'alpha': 0.0001}\n",
      "0.999387630129\n",
      "{'alpha': 1e-05}\n",
      "0.911605532171\n",
      "{'alpha': 0.001}\n",
      "0.992735197966\n",
      "{'alpha': 0.001}\n"
     ]
    },
    {
     "name": "stderr",
     "output_type": "stream",
     "text": [
      "/uufs/chpc.utah.edu/sys/installdir/python/3.6.3/lib/python3.6/site-packages/sklearn/model_selection/_split.py:605: Warning: The least populated class in y has only 3 members, which is too few. The minimum number of members in any class cannot be less than n_splits=5.\n",
      "  % (min_groups, self.n_splits)), Warning)\n"
     ]
    },
    {
     "name": "stdout",
     "output_type": "stream",
     "text": [
      "0.987752602572\n",
      "{'alpha': 0.001}\n"
     ]
    },
    {
     "name": "stderr",
     "output_type": "stream",
     "text": [
      "/uufs/chpc.utah.edu/sys/installdir/python/3.6.3/lib/python3.6/site-packages/sklearn/feature_selection/univariate_selection.py:114: RuntimeWarning: divide by zero encountered in true_divide\n",
      "  f = msb / msw\n"
     ]
    },
    {
     "name": "stdout",
     "output_type": "stream",
     "text": [
      "1.0\n",
      "{'alpha': 1e-05}\n",
      "0.9914268218\n",
      "{'alpha': 0.01}\n",
      "0.995101041029\n",
      "{'alpha': 0.0001}\n",
      "0.999387630129\n",
      "{'alpha': 1e-05}\n",
      "Accuracy: \t \t 0.8526439969741725 \t 0.6592178436166642\n",
      "Hamming: \t \t 0.9951115831917022 \t 0.9784003198967962\n",
      "Precision: \t \t 0.9818867964710799 \t 0.8671656449943687\n",
      "Recall: \t \t 0.9723780286418855 \t 0.874478047577903\n",
      "F1: \t \t \t 0.9769782282398045 \t 0.8704191931435862\n"
     ]
    }
   ],
   "source": [
    "predict3_kfold(SGDClassifier(loss='log', max_iter=5, tol=None), params_sgd, X, Y)"
   ]
  },
  {
   "cell_type": "code",
   "execution_count": 22,
   "metadata": {},
   "outputs": [
    {
     "name": "stdout",
     "output_type": "stream",
     "text": [
      "0.995471387402\n",
      "{'alpha': 0.1}\n",
      "0.998774509804\n",
      "{'alpha': 1e-05}\n",
      "0.998693237504\n",
      "{'alpha': 0.01}\n",
      "0.998161764706\n",
      "{'alpha': 1e-05}\n",
      "0.998161764706\n",
      "{'alpha': 0.001}\n",
      "0.999387254902\n",
      "{'alpha': 1e-05}\n",
      "0.92934973638\n",
      "{'alpha': 0.1}\n",
      "0.986666666667\n",
      "{'alpha': 0.0001}\n",
      "0.957290623957\n",
      "{'alpha': 0.01}\n",
      "0.998774509804\n",
      "{'alpha': 1e-05}\n",
      "0.982309424252\n",
      "{'alpha': 0.1}\n",
      "0.946833728412\n",
      "{'alpha': 1}\n",
      "0.978212111503\n",
      "{'alpha': 0.0001}\n",
      "0.999387254902\n",
      "{'alpha': 1e-05}\n",
      "0.999387254902\n",
      "{'alpha': 1e-05}\n",
      "0.998109640832\n",
      "{'alpha': 0.001}\n",
      "0.91847041847\n",
      "{'alpha': 0.001}\n",
      "0.941474966171\n",
      "{'alpha': 1}\n",
      "0.971075723107\n",
      "{'alpha': 0.01}\n",
      "0.991318327974\n",
      "{'alpha': 0.01}\n",
      "0.961288112367\n",
      "{'alpha': 1}\n",
      "0.999020248204\n",
      "{'alpha': 0.0001}\n"
     ]
    },
    {
     "name": "stderr",
     "output_type": "stream",
     "text": [
      "/uufs/chpc.utah.edu/sys/installdir/python/3.6.3/lib/python3.6/site-packages/sklearn/feature_selection/univariate_selection.py:114: RuntimeWarning: divide by zero encountered in true_divide\n",
      "  f = msb / msw\n"
     ]
    },
    {
     "name": "stdout",
     "output_type": "stream",
     "text": [
      "1.0\n",
      "{'alpha': 1e-05}\n"
     ]
    },
    {
     "name": "stderr",
     "output_type": "stream",
     "text": [
      "/uufs/chpc.utah.edu/sys/installdir/python/3.6.3/lib/python3.6/site-packages/sklearn/feature_selection/univariate_selection.py:114: RuntimeWarning: divide by zero encountered in true_divide\n",
      "  f = msb / msw\n"
     ]
    },
    {
     "name": "stdout",
     "output_type": "stream",
     "text": [
      "1.0\n",
      "{'alpha': 1e-05}\n",
      "0.965890455887\n",
      "{'alpha': 0.0001}\n",
      "0.999387254902\n",
      "{'alpha': 1e-05}\n",
      "0.999387254902\n",
      "{'alpha': 1e-05}\n"
     ]
    },
    {
     "name": "stderr",
     "output_type": "stream",
     "text": [
      "/uufs/chpc.utah.edu/sys/installdir/python/3.6.3/lib/python3.6/site-packages/sklearn/feature_selection/univariate_selection.py:114: RuntimeWarning: divide by zero encountered in true_divide\n",
      "  f = msb / msw\n"
     ]
    },
    {
     "name": "stdout",
     "output_type": "stream",
     "text": [
      "1.0\n",
      "{'alpha': 0.0001}\n"
     ]
    },
    {
     "name": "stderr",
     "output_type": "stream",
     "text": [
      "/uufs/chpc.utah.edu/sys/installdir/python/3.6.3/lib/python3.6/site-packages/sklearn/feature_selection/univariate_selection.py:114: RuntimeWarning: divide by zero encountered in true_divide\n",
      "  f = msb / msw\n"
     ]
    },
    {
     "name": "stdout",
     "output_type": "stream",
     "text": [
      "1.0\n",
      "{'alpha': 1e-05}\n"
     ]
    },
    {
     "name": "stderr",
     "output_type": "stream",
     "text": [
      "/uufs/chpc.utah.edu/sys/installdir/python/3.6.3/lib/python3.6/site-packages/sklearn/feature_selection/univariate_selection.py:114: RuntimeWarning: divide by zero encountered in true_divide\n",
      "  f = msb / msw\n",
      "/uufs/chpc.utah.edu/sys/installdir/python/3.6.3/lib/python3.6/site-packages/ipykernel_launcher.py:38: RuntimeWarning: invalid value encountered in less\n"
     ]
    },
    {
     "name": "stdout",
     "output_type": "stream",
     "text": [
      "1.0\n",
      "{'alpha': 1e-05}\n",
      "0.99693627451\n",
      "{'alpha': 1e-05}\n",
      "0.998774509804\n",
      "{'alpha': 1e-05}\n",
      "0.998161764706\n",
      "{'alpha': 1e-05}\n",
      "0.998774509804\n",
      "{'alpha': 1e-05}\n",
      "0.999387254902\n",
      "{'alpha': 1e-05}\n",
      "0.986986986987\n",
      "{'alpha': 0.01}\n",
      "0.999387254902\n",
      "{'alpha': 1e-05}\n",
      "0.93234421365\n",
      "{'alpha': 1e-05}\n",
      "0.997346474602\n",
      "{'alpha': 0.01}\n"
     ]
    },
    {
     "name": "stderr",
     "output_type": "stream",
     "text": [
      "/uufs/chpc.utah.edu/sys/installdir/python/3.6.3/lib/python3.6/site-packages/sklearn/feature_selection/univariate_selection.py:114: RuntimeWarning: divide by zero encountered in true_divide\n",
      "  f = msb / msw\n",
      "/uufs/chpc.utah.edu/sys/installdir/python/3.6.3/lib/python3.6/site-packages/sklearn/model_selection/_split.py:605: Warning: The least populated class in y has only 1 members, which is too few. The minimum number of members in any class cannot be less than n_splits=5.\n",
      "  % (min_groups, self.n_splits)), Warning)\n"
     ]
    },
    {
     "name": "stdout",
     "output_type": "stream",
     "text": [
      "0.99387254902\n",
      "{'alpha': 1e-05}\n"
     ]
    },
    {
     "name": "stderr",
     "output_type": "stream",
     "text": [
      "/uufs/chpc.utah.edu/sys/installdir/python/3.6.3/lib/python3.6/site-packages/sklearn/feature_selection/univariate_selection.py:114: RuntimeWarning: divide by zero encountered in true_divide\n",
      "  f = msb / msw\n"
     ]
    },
    {
     "name": "stdout",
     "output_type": "stream",
     "text": [
      "1.0\n",
      "{'alpha': 1e-05}\n",
      "0.997549019608\n",
      "{'alpha': 0.0001}\n",
      "0.998774509804\n",
      "{'alpha': 1e-05}\n",
      "0.999387254902\n",
      "{'alpha': 1e-05}\n",
      "0.986503584985\n",
      "{'alpha': 1}\n",
      "0.966601178782\n",
      "{'alpha': 1e-05}\n",
      "0.998775260257\n",
      "{'alpha': 1e-05}\n",
      "0.9957134109\n",
      "{'alpha': 0.1}\n",
      "0.9957134109\n",
      "{'alpha': 0.0001}\n"
     ]
    },
    {
     "name": "stderr",
     "output_type": "stream",
     "text": [
      "/uufs/chpc.utah.edu/sys/installdir/python/3.6.3/lib/python3.6/site-packages/sklearn/feature_selection/univariate_selection.py:114: RuntimeWarning: divide by zero encountered in true_divide\n",
      "  f = msb / msw\n"
     ]
    },
    {
     "name": "stdout",
     "output_type": "stream",
     "text": [
      "1.0\n",
      "{'alpha': 1e-05}\n",
      "0.995101041029\n",
      "{'alpha': 1e-05}\n",
      "0.987349778621\n",
      "{'alpha': 0.01}\n",
      "0.958277703605\n",
      "{'alpha': 0.0001}\n",
      "0.998775260257\n",
      "{'alpha': 1e-05}\n",
      "0.985768500949\n",
      "{'alpha': 0.01}\n",
      "0.959390862944\n",
      "{'alpha': 1}\n",
      "0.990114795918\n",
      "{'alpha': 0.1}\n"
     ]
    },
    {
     "name": "stderr",
     "output_type": "stream",
     "text": [
      "/uufs/chpc.utah.edu/sys/installdir/python/3.6.3/lib/python3.6/site-packages/sklearn/feature_selection/univariate_selection.py:114: RuntimeWarning: divide by zero encountered in true_divide\n",
      "  f = msb / msw\n"
     ]
    },
    {
     "name": "stdout",
     "output_type": "stream",
     "text": [
      "1.0\n",
      "{'alpha': 1e-05}\n"
     ]
    },
    {
     "name": "stderr",
     "output_type": "stream",
     "text": [
      "/uufs/chpc.utah.edu/sys/installdir/python/3.6.3/lib/python3.6/site-packages/sklearn/feature_selection/univariate_selection.py:114: RuntimeWarning: divide by zero encountered in true_divide\n",
      "  f = msb / msw\n"
     ]
    },
    {
     "name": "stdout",
     "output_type": "stream",
     "text": [
      "1.0\n",
      "{'alpha': 1e-05}\n",
      "0.993890798015\n",
      "{'alpha': 1e-05}\n",
      "0.921014492754\n",
      "{'alpha': 1}\n",
      "0.971579643093\n",
      "{'alpha': 0.0001}\n",
      "0.971835545484\n",
      "{'alpha': 0.001}\n",
      "0.986080354318\n",
      "{'alpha': 0.1}\n",
      "0.940891807812\n",
      "{'alpha': 0.0001}\n",
      "0.964191852825\n",
      "{'alpha': 0.01}\n"
     ]
    },
    {
     "name": "stderr",
     "output_type": "stream",
     "text": [
      "/uufs/chpc.utah.edu/sys/installdir/python/3.6.3/lib/python3.6/site-packages/sklearn/feature_selection/univariate_selection.py:114: RuntimeWarning: divide by zero encountered in true_divide\n",
      "  f = msb / msw\n"
     ]
    },
    {
     "name": "stdout",
     "output_type": "stream",
     "text": [
      "1.0\n",
      "{'alpha': 1e-05}\n"
     ]
    },
    {
     "name": "stderr",
     "output_type": "stream",
     "text": [
      "/uufs/chpc.utah.edu/sys/installdir/python/3.6.3/lib/python3.6/site-packages/sklearn/feature_selection/univariate_selection.py:114: RuntimeWarning: divide by zero encountered in true_divide\n",
      "  f = msb / msw\n"
     ]
    },
    {
     "name": "stdout",
     "output_type": "stream",
     "text": [
      "1.0\n",
      "{'alpha': 1e-05}\n",
      "0.997707924034\n",
      "{'alpha': 0.0001}\n"
     ]
    },
    {
     "name": "stderr",
     "output_type": "stream",
     "text": [
      "/uufs/chpc.utah.edu/sys/installdir/python/3.6.3/lib/python3.6/site-packages/sklearn/feature_selection/univariate_selection.py:114: RuntimeWarning: divide by zero encountered in true_divide\n",
      "  f = msb / msw\n"
     ]
    },
    {
     "name": "stdout",
     "output_type": "stream",
     "text": [
      "1.0\n",
      "{'alpha': 1e-05}\n"
     ]
    },
    {
     "name": "stderr",
     "output_type": "stream",
     "text": [
      "/uufs/chpc.utah.edu/sys/installdir/python/3.6.3/lib/python3.6/site-packages/sklearn/feature_selection/univariate_selection.py:114: RuntimeWarning: divide by zero encountered in true_divide\n",
      "  f = msb / msw\n"
     ]
    },
    {
     "name": "stdout",
     "output_type": "stream",
     "text": [
      "1.0\n",
      "{'alpha': 1e-05}\n"
     ]
    },
    {
     "name": "stderr",
     "output_type": "stream",
     "text": [
      "/uufs/chpc.utah.edu/sys/installdir/python/3.6.3/lib/python3.6/site-packages/sklearn/feature_selection/univariate_selection.py:114: RuntimeWarning: divide by zero encountered in true_divide\n",
      "  f = msb / msw\n"
     ]
    },
    {
     "name": "stdout",
     "output_type": "stream",
     "text": [
      "1.0\n",
      "{'alpha': 1e-05}\n"
     ]
    },
    {
     "name": "stderr",
     "output_type": "stream",
     "text": [
      "/uufs/chpc.utah.edu/sys/installdir/python/3.6.3/lib/python3.6/site-packages/sklearn/feature_selection/univariate_selection.py:114: RuntimeWarning: divide by zero encountered in true_divide\n",
      "  f = msb / msw\n"
     ]
    },
    {
     "name": "stdout",
     "output_type": "stream",
     "text": [
      "1.0\n",
      "{'alpha': 1e-05}\n"
     ]
    },
    {
     "name": "stderr",
     "output_type": "stream",
     "text": [
      "/uufs/chpc.utah.edu/sys/installdir/python/3.6.3/lib/python3.6/site-packages/sklearn/feature_selection/univariate_selection.py:114: RuntimeWarning: divide by zero encountered in true_divide\n",
      "  f = msb / msw\n"
     ]
    },
    {
     "name": "stdout",
     "output_type": "stream",
     "text": [
      "1.0\n",
      "{'alpha': 1e-05}\n",
      "0.998162890386\n",
      "{'alpha': 1e-05}\n",
      "0.998775260257\n",
      "{'alpha': 1e-05}\n",
      "0.999387630129\n",
      "{'alpha': 1e-05}\n",
      "0.999347684279\n",
      "{'alpha': 1e-05}\n",
      "0.998775260257\n",
      "{'alpha': 1e-05}\n",
      "0.977710233029\n",
      "{'alpha': 0.0001}\n"
     ]
    },
    {
     "name": "stderr",
     "output_type": "stream",
     "text": [
      "/uufs/chpc.utah.edu/sys/installdir/python/3.6.3/lib/python3.6/site-packages/sklearn/feature_selection/univariate_selection.py:114: RuntimeWarning: divide by zero encountered in true_divide\n",
      "  f = msb / msw\n"
     ]
    },
    {
     "name": "stdout",
     "output_type": "stream",
     "text": [
      "1.0\n",
      "{'alpha': 1e-05}\n",
      "0.953298307064\n",
      "{'alpha': 0.0001}\n",
      "0.993496557001\n",
      "{'alpha': 1}\n"
     ]
    },
    {
     "name": "stderr",
     "output_type": "stream",
     "text": [
      "/uufs/chpc.utah.edu/sys/installdir/python/3.6.3/lib/python3.6/site-packages/sklearn/model_selection/_split.py:605: Warning: The least populated class in y has only 2 members, which is too few. The minimum number of members in any class cannot be less than n_splits=5.\n",
      "  % (min_groups, self.n_splits)), Warning)\n"
     ]
    },
    {
     "name": "stdout",
     "output_type": "stream",
     "text": [
      "0.992651561543\n",
      "{'alpha': 0.0001}\n"
     ]
    },
    {
     "name": "stderr",
     "output_type": "stream",
     "text": [
      "/uufs/chpc.utah.edu/sys/installdir/python/3.6.3/lib/python3.6/site-packages/sklearn/feature_selection/univariate_selection.py:114: RuntimeWarning: divide by zero encountered in true_divide\n",
      "  f = msb / msw\n"
     ]
    },
    {
     "name": "stdout",
     "output_type": "stream",
     "text": [
      "1.0\n",
      "{'alpha': 1e-05}\n",
      "0.992651561543\n",
      "{'alpha': 1e-05}\n",
      "0.9957134109\n",
      "{'alpha': 1e-05}\n"
     ]
    },
    {
     "name": "stderr",
     "output_type": "stream",
     "text": [
      "/uufs/chpc.utah.edu/sys/installdir/python/3.6.3/lib/python3.6/site-packages/sklearn/feature_selection/univariate_selection.py:114: RuntimeWarning: divide by zero encountered in true_divide\n",
      "  f = msb / msw\n",
      "/uufs/chpc.utah.edu/sys/installdir/python/3.6.3/lib/python3.6/site-packages/ipykernel_launcher.py:38: RuntimeWarning: invalid value encountered in less\n"
     ]
    },
    {
     "name": "stdout",
     "output_type": "stream",
     "text": [
      "1.0\n",
      "{'alpha': 1e-05}\n",
      "0.982497082847\n",
      "{'alpha': 1}\n",
      "0.995101041029\n",
      "{'alpha': 0.01}\n",
      "1.0\n",
      "{'alpha': 0.0001}\n",
      "0.995101041029\n",
      "{'alpha': 1e-05}\n",
      "0.995101041029\n",
      "{'alpha': 1e-05}\n",
      "0.999387630129\n",
      "{'alpha': 1e-05}\n",
      "0.950963814677\n",
      "{'alpha': 0.001}\n",
      "0.969558101473\n",
      "{'alpha': 1e-05}\n",
      "0.959387483356\n",
      "{'alpha': 0.01}\n",
      "0.997550520514\n",
      "{'alpha': 1e-05}\n",
      "0.97001303781\n",
      "{'alpha': 1}\n",
      "0.938037865749\n",
      "{'alpha': 0.1}\n",
      "0.967025791707\n",
      "{'alpha': 1e-05}\n",
      "0.999387630129\n",
      "{'alpha': 1e-05}\n",
      "0.999387630129\n",
      "{'alpha': 1e-05}\n",
      "0.990971469845\n",
      "{'alpha': 0.01}\n",
      "0.934309623431\n",
      "{'alpha': 0.1}\n",
      "0.94301994302\n",
      "{'alpha': 1e-05}\n",
      "0.974176888315\n",
      "{'alpha': 0.0001}\n",
      "0.970338983051\n",
      "{'alpha': 0.1}\n",
      "0.93085106383\n",
      "{'alpha': 1}\n",
      "0.998710924911\n",
      "{'alpha': 1e-05}\n"
     ]
    },
    {
     "name": "stderr",
     "output_type": "stream",
     "text": [
      "/uufs/chpc.utah.edu/sys/installdir/python/3.6.3/lib/python3.6/site-packages/sklearn/feature_selection/univariate_selection.py:114: RuntimeWarning: divide by zero encountered in true_divide\n",
      "  f = msb / msw\n"
     ]
    },
    {
     "name": "stdout",
     "output_type": "stream",
     "text": [
      "1.0\n",
      "{'alpha': 1e-05}\n"
     ]
    },
    {
     "name": "stderr",
     "output_type": "stream",
     "text": [
      "/uufs/chpc.utah.edu/sys/installdir/python/3.6.3/lib/python3.6/site-packages/sklearn/feature_selection/univariate_selection.py:114: RuntimeWarning: divide by zero encountered in true_divide\n",
      "  f = msb / msw\n"
     ]
    },
    {
     "name": "stdout",
     "output_type": "stream",
     "text": [
      "1.0\n",
      "{'alpha': 1e-05}\n",
      "0.970550161812\n",
      "{'alpha': 0.0001}\n",
      "0.999387630129\n",
      "{'alpha': 1e-05}\n",
      "0.999387630129\n",
      "{'alpha': 1e-05}\n"
     ]
    },
    {
     "name": "stderr",
     "output_type": "stream",
     "text": [
      "/uufs/chpc.utah.edu/sys/installdir/python/3.6.3/lib/python3.6/site-packages/sklearn/feature_selection/univariate_selection.py:114: RuntimeWarning: divide by zero encountered in true_divide\n",
      "  f = msb / msw\n"
     ]
    },
    {
     "name": "stdout",
     "output_type": "stream",
     "text": [
      "1.0\n",
      "{'alpha': 1e-05}\n"
     ]
    },
    {
     "name": "stderr",
     "output_type": "stream",
     "text": [
      "/uufs/chpc.utah.edu/sys/installdir/python/3.6.3/lib/python3.6/site-packages/sklearn/feature_selection/univariate_selection.py:114: RuntimeWarning: divide by zero encountered in true_divide\n",
      "  f = msb / msw\n"
     ]
    },
    {
     "name": "stdout",
     "output_type": "stream",
     "text": [
      "1.0\n",
      "{'alpha': 1e-05}\n"
     ]
    },
    {
     "name": "stderr",
     "output_type": "stream",
     "text": [
      "/uufs/chpc.utah.edu/sys/installdir/python/3.6.3/lib/python3.6/site-packages/sklearn/feature_selection/univariate_selection.py:114: RuntimeWarning: divide by zero encountered in true_divide\n",
      "  f = msb / msw\n"
     ]
    },
    {
     "name": "stdout",
     "output_type": "stream",
     "text": [
      "1.0\n",
      "{'alpha': 1e-05}\n",
      "0.9957134109\n",
      "{'alpha': 1e-05}\n",
      "0.997550520514\n",
      "{'alpha': 1e-05}\n",
      "0.998775260257\n",
      "{'alpha': 1e-05}\n",
      "0.978212111503\n",
      "{'alpha': 0.0001}\n",
      "0.998162890386\n",
      "{'alpha': 1e-05}\n",
      "0.984361424848\n",
      "{'alpha': 0.0001}\n",
      "0.999387630129\n",
      "{'alpha': 1e-05}\n",
      "0.911111111111\n",
      "{'alpha': 1e-05}\n",
      "0.994194484761\n",
      "{'alpha': 1}\n"
     ]
    },
    {
     "name": "stderr",
     "output_type": "stream",
     "text": [
      "/uufs/chpc.utah.edu/sys/installdir/python/3.6.3/lib/python3.6/site-packages/sklearn/model_selection/_split.py:605: Warning: The least populated class in y has only 3 members, which is too few. The minimum number of members in any class cannot be less than n_splits=5.\n",
      "  % (min_groups, self.n_splits)), Warning)\n"
     ]
    },
    {
     "name": "stdout",
     "output_type": "stream",
     "text": [
      "0.988977342315\n",
      "{'alpha': 0.0001}\n"
     ]
    },
    {
     "name": "stderr",
     "output_type": "stream",
     "text": [
      "/uufs/chpc.utah.edu/sys/installdir/python/3.6.3/lib/python3.6/site-packages/sklearn/feature_selection/univariate_selection.py:114: RuntimeWarning: divide by zero encountered in true_divide\n",
      "  f = msb / msw\n"
     ]
    },
    {
     "name": "stdout",
     "output_type": "stream",
     "text": [
      "1.0\n",
      "{'alpha': 1e-05}\n",
      "0.992039191672\n",
      "{'alpha': 1e-05}\n",
      "0.995101041029\n",
      "{'alpha': 1e-05}\n",
      "0.999387630129\n",
      "{'alpha': 1e-05}\n",
      "0.980687524141\n",
      "{'alpha': 0.0001}\n",
      "0.995101041029\n",
      "{'alpha': 0.0001}\n",
      "0.999679795069\n",
      "{'alpha': 1e-05}\n",
      "0.994488671157\n",
      "{'alpha': 0.0001}\n",
      "0.994488671157\n",
      "{'alpha': 0.0001}\n",
      "0.999387630129\n",
      "{'alpha': 1e-05}\n",
      "0.952830188679\n",
      "{'alpha': 0.1}\n",
      "0.964929531301\n",
      "{'alpha': 1e-05}\n",
      "0.958986328776\n",
      "{'alpha': 0.0001}\n",
      "0.997550520514\n",
      "{'alpha': 1e-05}\n",
      "0.970617042116\n",
      "{'alpha': 0.0001}\n",
      "0.938116286977\n",
      "{'alpha': 1}\n",
      "0.965055519268\n",
      "{'alpha': 0.001}\n",
      "0.999387630129\n",
      "{'alpha': 1e-05}\n",
      "0.999387630129\n",
      "{'alpha': 1e-05}\n",
      "0.991391678623\n",
      "{'alpha': 0.1}\n",
      "0.924640135478\n",
      "{'alpha': 1}\n",
      "0.946709585122\n",
      "{'alpha': 0.1}\n",
      "0.979253112033\n",
      "{'alpha': 0.1}\n",
      "0.971269996735\n",
      "{'alpha': 1e-05}\n",
      "0.936850211783\n",
      "{'alpha': 1}\n",
      "0.99806763285\n",
      "{'alpha': 1e-05}\n"
     ]
    },
    {
     "name": "stderr",
     "output_type": "stream",
     "text": [
      "/uufs/chpc.utah.edu/sys/installdir/python/3.6.3/lib/python3.6/site-packages/sklearn/feature_selection/univariate_selection.py:114: RuntimeWarning: divide by zero encountered in true_divide\n",
      "  f = msb / msw\n"
     ]
    },
    {
     "name": "stdout",
     "output_type": "stream",
     "text": [
      "1.0\n",
      "{'alpha': 1e-05}\n"
     ]
    },
    {
     "name": "stderr",
     "output_type": "stream",
     "text": [
      "/uufs/chpc.utah.edu/sys/installdir/python/3.6.3/lib/python3.6/site-packages/sklearn/feature_selection/univariate_selection.py:114: RuntimeWarning: divide by zero encountered in true_divide\n",
      "  f = msb / msw\n"
     ]
    },
    {
     "name": "stdout",
     "output_type": "stream",
     "text": [
      "1.0\n",
      "{'alpha': 1e-05}\n",
      "0.974176888315\n",
      "{'alpha': 0.1}\n",
      "0.999387630129\n",
      "{'alpha': 1e-05}\n",
      "0.999387630129\n",
      "{'alpha': 1e-05}\n"
     ]
    },
    {
     "name": "stderr",
     "output_type": "stream",
     "text": [
      "/uufs/chpc.utah.edu/sys/installdir/python/3.6.3/lib/python3.6/site-packages/sklearn/feature_selection/univariate_selection.py:114: RuntimeWarning: divide by zero encountered in true_divide\n",
      "  f = msb / msw\n"
     ]
    },
    {
     "name": "stdout",
     "output_type": "stream",
     "text": [
      "1.0\n",
      "{'alpha': 1e-05}\n"
     ]
    },
    {
     "name": "stderr",
     "output_type": "stream",
     "text": [
      "/uufs/chpc.utah.edu/sys/installdir/python/3.6.3/lib/python3.6/site-packages/sklearn/feature_selection/univariate_selection.py:114: RuntimeWarning: divide by zero encountered in true_divide\n",
      "  f = msb / msw\n"
     ]
    },
    {
     "name": "stdout",
     "output_type": "stream",
     "text": [
      "1.0\n",
      "{'alpha': 1e-05}\n"
     ]
    },
    {
     "name": "stderr",
     "output_type": "stream",
     "text": [
      "/uufs/chpc.utah.edu/sys/installdir/python/3.6.3/lib/python3.6/site-packages/sklearn/feature_selection/univariate_selection.py:114: RuntimeWarning: divide by zero encountered in true_divide\n",
      "  f = msb / msw\n"
     ]
    },
    {
     "name": "stdout",
     "output_type": "stream",
     "text": [
      "1.0\n",
      "{'alpha': 1e-05}\n",
      "0.995101041029\n",
      "{'alpha': 1e-05}\n",
      "0.997550520514\n",
      "{'alpha': 0.0001}\n",
      "0.998162890386\n",
      "{'alpha': 1e-05}\n",
      "0.978906999041\n",
      "{'alpha': 0.0001}\n",
      "0.998162890386\n",
      "{'alpha': 1e-05}\n",
      "0.983920034767\n",
      "{'alpha': 0.01}\n",
      "0.999387630129\n",
      "{'alpha': 1e-05}\n",
      "0.904230317274\n",
      "{'alpha': 0.001}\n",
      "0.990627253064\n",
      "{'alpha': 1e-05}\n"
     ]
    },
    {
     "name": "stderr",
     "output_type": "stream",
     "text": [
      "/uufs/chpc.utah.edu/sys/installdir/python/3.6.3/lib/python3.6/site-packages/sklearn/model_selection/_split.py:605: Warning: The least populated class in y has only 3 members, which is too few. The minimum number of members in any class cannot be less than n_splits=5.\n",
      "  % (min_groups, self.n_splits)), Warning)\n"
     ]
    },
    {
     "name": "stdout",
     "output_type": "stream",
     "text": [
      "0.987752602572\n",
      "{'alpha': 0.001}\n"
     ]
    },
    {
     "name": "stderr",
     "output_type": "stream",
     "text": [
      "/uufs/chpc.utah.edu/sys/installdir/python/3.6.3/lib/python3.6/site-packages/sklearn/feature_selection/univariate_selection.py:114: RuntimeWarning: divide by zero encountered in true_divide\n",
      "  f = msb / msw\n"
     ]
    },
    {
     "name": "stdout",
     "output_type": "stream",
     "text": [
      "1.0\n",
      "{'alpha': 1e-05}\n",
      "0.990814451929\n",
      "{'alpha': 0.001}\n",
      "0.995101041029\n",
      "{'alpha': 0.1}\n",
      "0.999387630129\n",
      "{'alpha': 1e-05}\n",
      "0.979321108076\n",
      "{'alpha': 0.1}\n",
      "0.995101041029\n",
      "{'alpha': 1e-05}\n",
      "1.0\n",
      "{'alpha': 1}\n",
      "0.994488671157\n",
      "{'alpha': 0.1}\n",
      "0.994488671157\n",
      "{'alpha': 0.01}\n",
      "0.999387630129\n",
      "{'alpha': 1e-05}\n",
      "0.950897392482\n",
      "{'alpha': 0.01}\n",
      "0.963302752294\n",
      "{'alpha': 1}\n",
      "0.958235883729\n",
      "{'alpha': 0.1}\n",
      "0.997550520514\n",
      "{'alpha': 1e-05}\n",
      "0.978170144462\n",
      "{'alpha': 0.1}\n",
      "0.947684105298\n",
      "{'alpha': 1}\n",
      "0.975695554845\n",
      "{'alpha': 1}\n",
      "0.999387630129\n",
      "{'alpha': 1e-05}\n",
      "0.999387630129\n",
      "{'alpha': 1e-05}\n",
      "0.990964943983\n",
      "{'alpha': 1e-05}\n",
      "0.926276771005\n",
      "{'alpha': 1e-05}\n",
      "0.944793850454\n",
      "{'alpha': 1}\n",
      "0.97858056266\n",
      "{'alpha': 0.001}\n",
      "0.977856225931\n",
      "{'alpha': 0.1}\n",
      "0.943721286371\n",
      "{'alpha': 1}\n",
      "0.999031945789\n",
      "{'alpha': 1e-05}\n"
     ]
    },
    {
     "name": "stderr",
     "output_type": "stream",
     "text": [
      "/uufs/chpc.utah.edu/sys/installdir/python/3.6.3/lib/python3.6/site-packages/sklearn/feature_selection/univariate_selection.py:114: RuntimeWarning: divide by zero encountered in true_divide\n",
      "  f = msb / msw\n"
     ]
    },
    {
     "name": "stdout",
     "output_type": "stream",
     "text": [
      "1.0\n",
      "{'alpha': 1e-05}\n"
     ]
    },
    {
     "name": "stderr",
     "output_type": "stream",
     "text": [
      "/uufs/chpc.utah.edu/sys/installdir/python/3.6.3/lib/python3.6/site-packages/sklearn/feature_selection/univariate_selection.py:114: RuntimeWarning: divide by zero encountered in true_divide\n",
      "  f = msb / msw\n"
     ]
    },
    {
     "name": "stdout",
     "output_type": "stream",
     "text": [
      "1.0\n",
      "{'alpha': 1e-05}\n",
      "0.972186287193\n",
      "{'alpha': 0.0001}\n",
      "0.999387630129\n",
      "{'alpha': 1e-05}\n",
      "0.999387630129\n",
      "{'alpha': 1e-05}\n"
     ]
    },
    {
     "name": "stderr",
     "output_type": "stream",
     "text": [
      "/uufs/chpc.utah.edu/sys/installdir/python/3.6.3/lib/python3.6/site-packages/sklearn/feature_selection/univariate_selection.py:114: RuntimeWarning: divide by zero encountered in true_divide\n",
      "  f = msb / msw\n"
     ]
    },
    {
     "name": "stdout",
     "output_type": "stream",
     "text": [
      "1.0\n",
      "{'alpha': 1e-05}\n"
     ]
    },
    {
     "name": "stderr",
     "output_type": "stream",
     "text": [
      "/uufs/chpc.utah.edu/sys/installdir/python/3.6.3/lib/python3.6/site-packages/sklearn/feature_selection/univariate_selection.py:114: RuntimeWarning: divide by zero encountered in true_divide\n",
      "  f = msb / msw\n"
     ]
    },
    {
     "name": "stdout",
     "output_type": "stream",
     "text": [
      "1.0\n",
      "{'alpha': 1e-05}\n"
     ]
    },
    {
     "name": "stderr",
     "output_type": "stream",
     "text": [
      "/uufs/chpc.utah.edu/sys/installdir/python/3.6.3/lib/python3.6/site-packages/sklearn/feature_selection/univariate_selection.py:114: RuntimeWarning: divide by zero encountered in true_divide\n",
      "  f = msb / msw\n"
     ]
    },
    {
     "name": "stdout",
     "output_type": "stream",
     "text": [
      "1.0\n",
      "{'alpha': 1e-05}\n",
      "0.995101041029\n",
      "{'alpha': 1e-05}\n",
      "0.997550520514\n",
      "{'alpha': 1e-05}\n",
      "0.998162890386\n",
      "{'alpha': 1e-05}\n",
      "0.978546269613\n",
      "{'alpha': 1e-05}\n"
     ]
    },
    {
     "name": "stderr",
     "output_type": "stream",
     "text": [
      "/uufs/chpc.utah.edu/sys/installdir/python/3.6.3/lib/python3.6/site-packages/ipykernel_launcher.py:38: RuntimeWarning: invalid value encountered in less\n"
     ]
    },
    {
     "name": "stdout",
     "output_type": "stream",
     "text": [
      "0.998162890386\n",
      "{'alpha': 1e-05}\n",
      "0.981954225352\n",
      "{'alpha': 1}\n",
      "0.999387630129\n",
      "{'alpha': 1e-05}\n",
      "0.903846153846\n",
      "{'alpha': 0.1}\n",
      "0.994914638576\n",
      "{'alpha': 0.1}\n"
     ]
    },
    {
     "name": "stderr",
     "output_type": "stream",
     "text": [
      "/uufs/chpc.utah.edu/sys/installdir/python/3.6.3/lib/python3.6/site-packages/sklearn/model_selection/_split.py:605: Warning: The least populated class in y has only 3 members, which is too few. The minimum number of members in any class cannot be less than n_splits=5.\n",
      "  % (min_groups, self.n_splits)), Warning)\n"
     ]
    },
    {
     "name": "stdout",
     "output_type": "stream",
     "text": [
      "0.987752602572\n",
      "{'alpha': 0.001}\n"
     ]
    },
    {
     "name": "stderr",
     "output_type": "stream",
     "text": [
      "/uufs/chpc.utah.edu/sys/installdir/python/3.6.3/lib/python3.6/site-packages/sklearn/feature_selection/univariate_selection.py:114: RuntimeWarning: divide by zero encountered in true_divide\n",
      "  f = msb / msw\n"
     ]
    },
    {
     "name": "stdout",
     "output_type": "stream",
     "text": [
      "1.0\n",
      "{'alpha': 1e-05}\n",
      "0.9914268218\n",
      "{'alpha': 0.1}\n",
      "0.994488671157\n",
      "{'alpha': 1e-05}\n",
      "0.999387630129\n",
      "{'alpha': 1e-05}\n",
      "Accuracy: \t \t 0.898703667014877 \t 0.6459921376863704\n",
      "Hamming: \t \t 0.9968236638793467 \t 0.9784119237826271\n",
      "Precision: \t \t 0.9869941945807652 \t 0.8730004999732696\n",
      "Recall: \t \t 0.9830250727554732 \t 0.8623110523274917\n",
      "F1: \t \t \t 0.9849954516731015 \t 0.8667604183453872\n"
     ]
    }
   ],
   "source": [
    "predict3_kfold(SGDClassifier(loss='perceptron', max_iter=5, tol=None), params_sgd, X, Y)"
   ]
  }
 ],
 "metadata": {
  "kernelspec": {
   "display_name": "Python 3",
   "language": "python",
   "name": "python3"
  },
  "language_info": {
   "codemirror_mode": {
    "name": "ipython",
    "version": 3
   },
   "file_extension": ".py",
   "mimetype": "text/x-python",
   "name": "python",
   "nbconvert_exporter": "python",
   "pygments_lexer": "ipython3",
   "version": "3.6.3"
  }
 },
 "nbformat": 4,
 "nbformat_minor": 2
}
