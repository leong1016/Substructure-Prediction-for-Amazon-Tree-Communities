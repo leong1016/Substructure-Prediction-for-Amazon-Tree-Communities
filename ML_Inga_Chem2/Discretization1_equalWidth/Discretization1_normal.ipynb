{
 "cells": [
  {
   "cell_type": "code",
   "execution_count": 1,
   "metadata": {},
   "outputs": [],
   "source": [
    "n_cores = -1"
   ]
  },
  {
   "cell_type": "code",
   "execution_count": 2,
   "metadata": {},
   "outputs": [],
   "source": [
    "import numpy as np\n",
    "import pandas as pd"
   ]
  },
  {
   "cell_type": "code",
   "execution_count": 3,
   "metadata": {},
   "outputs": [],
   "source": [
    "data = np.load('inga_out.npz')"
   ]
  },
  {
   "cell_type": "code",
   "execution_count": 4,
   "metadata": {},
   "outputs": [
    {
     "data": {
      "text/plain": [
       "array([ 552.293448,  338.046024,  724.221464, ...,  328.072907,\n",
       "        262.19328 ,  636.278192])"
      ]
     },
     "execution_count": 4,
     "metadata": {},
     "output_type": "execute_result"
    }
   ],
   "source": [
    "mass = data['arr_0']\n",
    "mass"
   ]
  },
  {
   "cell_type": "code",
   "execution_count": 5,
   "metadata": {},
   "outputs": [
    {
     "data": {
      "text/plain": [
       "array(['UNPD98266', 'UNPD207163', 'UNPD3499', ..., 'UNPD98267',\n",
       "       'UNPD47332', 'UNPD101003'], dtype=object)"
      ]
     },
     "execution_count": 5,
     "metadata": {},
     "output_type": "execute_result"
    }
   ],
   "source": [
    "name = data['arr_1']\n",
    "name"
   ]
  },
  {
   "cell_type": "code",
   "execution_count": 6,
   "metadata": {},
   "outputs": [
    {
     "data": {
      "text/plain": [
       "array([[  41.00329 ,    1.688456],\n",
       "       [  43.01894 ,    2.135631],\n",
       "       [  55.01894 ,    1.105409],\n",
       "       ..., \n",
       "       [ 549.23414 ,   24.377134],\n",
       "       [ 551.24979 ,   22.666363],\n",
       "       [ 591.2447  ,    5.496205]])"
      ]
     },
     "execution_count": 6,
     "metadata": {},
     "output_type": "execute_result"
    }
   ],
   "source": [
    "massabund = data['arr_2']\n",
    "massabund"
   ]
  },
  {
   "cell_type": "code",
   "execution_count": 7,
   "metadata": {},
   "outputs": [
    {
     "data": {
      "text/plain": [
       "array([     0,      0,      0, ..., 220988, 220988, 220988], dtype=uint32)"
      ]
     },
     "execution_count": 7,
     "metadata": {},
     "output_type": "execute_result"
    }
   ],
   "source": [
    "blockind = data['arr_3']\n",
    "blockind"
   ]
  },
  {
   "cell_type": "markdown",
   "metadata": {},
   "source": [
    "### Equal-width Binning"
   ]
  },
  {
   "cell_type": "code",
   "execution_count": 12,
   "metadata": {},
   "outputs": [],
   "source": [
    "def equalWidth(name, massabund, blockind, threshold):\n",
    "    \"\"\"\n",
    "    Using equal-width strategy to generate matrix.\n",
    "    \"\"\"\n",
    "    values = massabund[:,0]\n",
    "    start = values.min() // threshold * threshold\n",
    "    end = values.max() // threshold * threshold + threshold\n",
    "    valueRange = np.arange(start, end, threshold)\n",
    "    \n",
    "    features = generateMatrix(massabund, blockind, valueRange)\n",
    "    np.save('equalWidth_'+str(threshold), features)\n",
    "    \n",
    "#     result = generateDataFrame(name, newfeatures)\n",
    "#     result.to_csv('equalWidth_'+str(threshold)+'.csv', index=None)\n",
    "    \n",
    "    return features"
   ]
  },
  {
   "cell_type": "code",
   "execution_count": 13,
   "metadata": {},
   "outputs": [],
   "source": [
    "def generateMatrix(massabund, blockind, valueRange):\n",
    "    \"\"\"\n",
    "    Generating the corresponding matrix based on the valueRange.\n",
    "    \"\"\"\n",
    "    result = np.zeros([blockind.max()+1, valueRange.size])\n",
    "    \n",
    "    previousRow = 0\n",
    "    previousEnd = 0\n",
    "    for i in range(blockind.size):\n",
    "        row = blockind[i]\n",
    "        v = massabund[i]\n",
    "        m = v[0]\n",
    "        a = v[1]\n",
    "        if row == previousRow:\n",
    "            start = previousEnd\n",
    "        else:\n",
    "            start = 0\n",
    "        for col in range(start, valueRange.size):\n",
    "            upperLim = valueRange[col] \n",
    "            if (m <= upperLim):\n",
    "                result[row,col] = a\n",
    "                previousRow = row\n",
    "                previousEnd = col\n",
    "                break\n",
    "                \n",
    "    goodCol = result.sum(axis=0) > 0\n",
    "    newresult = result[:,goodCol]\n",
    "    \n",
    "    return newresult"
   ]
  },
  {
   "cell_type": "code",
   "execution_count": 14,
   "metadata": {},
   "outputs": [],
   "source": [
    "def generateDataFrame(name, features):\n",
    "    \"\"\"\n",
    "    Taking name and features to generate the corresponding dataframe.\n",
    "    \"\"\"\n",
    "    mat = np.concatenate([name.reshape(-1,1), features], axis=1)\n",
    "    column_name = ['name']\n",
    "    for i in range(features.shape[1]):\n",
    "        column_name.append('fraction'+str(i+1))\n",
    "    df = pd.DataFrame(mat, columns=column_name)\n",
    "    return df"
   ]
  },
  {
   "cell_type": "code",
   "execution_count": null,
   "metadata": {},
   "outputs": [],
   "source": [
    "for n in [1, 0.5, 0.1, 0.05, 0.01]:\n",
    "    equalWidth(name, massabund, blockind, n)"
   ]
  },
  {
   "cell_type": "markdown",
   "metadata": {},
   "source": [
    "### Equal-frequency Binning"
   ]
  },
  {
   "cell_type": "markdown",
   "metadata": {},
   "source": [
    "Not work very well for the distribution."
   ]
  }
 ],
 "metadata": {
  "kernelspec": {
   "display_name": "Python 3",
   "language": "python",
   "name": "python3"
  },
  "language_info": {
   "codemirror_mode": {
    "name": "ipython",
    "version": 3
   },
   "file_extension": ".py",
   "mimetype": "text/x-python",
   "name": "python",
   "nbconvert_exporter": "python",
   "pygments_lexer": "ipython3",
   "version": "3.6.3"
  }
 },
 "nbformat": 4,
 "nbformat_minor": 2
}
