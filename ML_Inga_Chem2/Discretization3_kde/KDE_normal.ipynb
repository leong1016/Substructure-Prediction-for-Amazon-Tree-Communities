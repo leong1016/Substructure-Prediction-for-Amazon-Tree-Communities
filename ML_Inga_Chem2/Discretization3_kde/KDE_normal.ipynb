{
 "cells": [
  {
   "cell_type": "code",
   "execution_count": 1,
   "metadata": {},
   "outputs": [],
   "source": [
    "import numpy as np\n",
    "import pandas as pd"
   ]
  },
  {
   "cell_type": "code",
   "execution_count": 2,
   "metadata": {},
   "outputs": [],
   "source": [
    "from sklearn.neighbors.kde import KernelDensity\n",
    "from scipy.signal import argrelextrema\n",
    "from bisect import bisect_left"
   ]
  },
  {
   "cell_type": "markdown",
   "metadata": {},
   "source": [
    "Read data from file"
   ]
  },
  {
   "cell_type": "code",
   "execution_count": 3,
   "metadata": {},
   "outputs": [],
   "source": [
    "data = np.load('inga_out.npz')"
   ]
  },
  {
   "cell_type": "code",
   "execution_count": 4,
   "metadata": {},
   "outputs": [
    {
     "data": {
      "text/plain": [
       "array([ 552.293448,  338.046024,  724.221464, ...,  328.072907,\n",
       "        262.19328 ,  636.278192])"
      ]
     },
     "execution_count": 4,
     "metadata": {},
     "output_type": "execute_result"
    }
   ],
   "source": [
    "mass = data['arr_0']\n",
    "mass"
   ]
  },
  {
   "cell_type": "code",
   "execution_count": 5,
   "metadata": {},
   "outputs": [
    {
     "data": {
      "text/plain": [
       "array(['UNPD98266', 'UNPD207163', 'UNPD3499', ..., 'UNPD98267',\n",
       "       'UNPD47332', 'UNPD101003'], dtype=object)"
      ]
     },
     "execution_count": 5,
     "metadata": {},
     "output_type": "execute_result"
    }
   ],
   "source": [
    "name = data['arr_1']\n",
    "name"
   ]
  },
  {
   "cell_type": "code",
   "execution_count": 6,
   "metadata": {},
   "outputs": [
    {
     "data": {
      "text/plain": [
       "array([[  41.00329 ,    1.688456],\n",
       "       [  43.01894 ,    2.135631],\n",
       "       [  55.01894 ,    1.105409],\n",
       "       ..., \n",
       "       [ 549.23414 ,   24.377134],\n",
       "       [ 551.24979 ,   22.666363],\n",
       "       [ 591.2447  ,    5.496205]])"
      ]
     },
     "execution_count": 6,
     "metadata": {},
     "output_type": "execute_result"
    }
   ],
   "source": [
    "massabund = data['arr_2']\n",
    "massabund"
   ]
  },
  {
   "cell_type": "code",
   "execution_count": 7,
   "metadata": {},
   "outputs": [
    {
     "data": {
      "text/plain": [
       "array([     0,      0,      0, ..., 220988, 220988, 220988], dtype=uint32)"
      ]
     },
     "execution_count": 7,
     "metadata": {},
     "output_type": "execute_result"
    }
   ],
   "source": [
    "blockind = data['arr_3']\n",
    "blockind"
   ]
  },
  {
   "cell_type": "code",
   "execution_count": 8,
   "metadata": {},
   "outputs": [],
   "source": [
    "def KDENormal(name, massabund, blockind, bandwidth):\n",
    "    \"\"\"\n",
    "    Using kernel density estimation strategy to generate matrix.\n",
    "    \"\"\"\n",
    "    values = massabund[:,0]\n",
    "    start = values.min() // 100 * 100\n",
    "    end = values.max() // 100 * 100 + 100\n",
    "    x = np.arange(start, end, 0.1)\n",
    "\n",
    "    dens = calculateDensity(values, x, bandwidth)\n",
    "    \n",
    "    mi_ind = argrelextrema(dens, np.less)[0]\n",
    "    mi_value = x[mi_ind]\n",
    "    np.save('splits_kde_'+str(bandwidth), mi_value)\n",
    "    \n",
    "    valueRange = np.append(mi_value, values.max())\n",
    "    print('number of groups: {}'.format(valueRange.shape))\n",
    "    \n",
    "    features = generateMatrix(massabund, blockind, valueRange)\n",
    "    np.save('kde_'+str(bandwidth), features)\n",
    "    \n",
    "#     result = generateDataFrame(name, newfeatures)\n",
    "#     result.to_csv('splitting_'+str(threshold)+'.csv', index=None)    \n",
    "    \n",
    "    return features"
   ]
  },
  {
   "cell_type": "code",
   "execution_count": 9,
   "metadata": {},
   "outputs": [],
   "source": [
    "def calculateDensity(values, x, bandwidth):\n",
    "    kde = KernelDensity(kernel='gaussian', bandwidth=bandwidth).fit(values.reshape(-1,1))\n",
    "    dens = kde.score_samples(x.reshape(-1,1))\n",
    "    np.save('dens'+str(bandwidth), dens)\n",
    "    return dens"
   ]
  },
  {
   "cell_type": "code",
   "execution_count": 10,
   "metadata": {},
   "outputs": [],
   "source": [
    "def generateMatrix(massabund, blockind, splits):\n",
    "    \"\"\"\n",
    "    Generating the corresponding matrix based on the splits.\n",
    "    \"\"\"\n",
    "    result = np.zeros([blockind.max()+1, splits.size])\n",
    "    \n",
    "    previousRow = 0\n",
    "    previousEnd = 0\n",
    "    for i in range(blockind.size):\n",
    "        row = blockind[i]\n",
    "        v = massabund[i]\n",
    "        m = v[0]\n",
    "        a = v[1]\n",
    "        if row == previousRow:\n",
    "            start = previousEnd\n",
    "        else:\n",
    "            start = 0\n",
    "        for col in range(start, splits.size):\n",
    "            upperLim = splits[col] \n",
    "            if (m <= upperLim):\n",
    "                result[row,col] = a\n",
    "                previousRow = row\n",
    "                previousEnd = col\n",
    "                break\n",
    "                \n",
    "    goodCol = result.sum(axis=0) > 0\n",
    "    newresult = result[:,goodCol]\n",
    "    \n",
    "    return newresult"
   ]
  },
  {
   "cell_type": "code",
   "execution_count": 11,
   "metadata": {},
   "outputs": [],
   "source": [
    "def generateDataFrame(name, features):\n",
    "    \"\"\"\n",
    "    Taking name and features to generate the corresponding dataframe.\n",
    "    \"\"\"\n",
    "    mat = np.concatenate([name.reshape(-1,1), features], axis=1)\n",
    "    column_name = ['name']\n",
    "    for i in range(features.shape[1]):\n",
    "        column_name.append('fraction'+str(i+1))\n",
    "    df = pd.DataFrame(mat, columns=column_name)\n",
    "    return df"
   ]
  },
  {
   "cell_type": "code",
   "execution_count": 12,
   "metadata": {},
   "outputs": [
    {
     "name": "stdout",
     "output_type": "stream",
     "text": [
      "number of groups: (2401,)\n",
      "number of groups: (2555,)\n",
      "number of groups: (2795,)\n"
     ]
    }
   ],
   "source": [
    "for n in [0.12, 0.1, 0.08]:\n",
    "    KDENormal(name, massabund, blockind, n)"
   ]
  }
 ],
 "metadata": {
  "kernelspec": {
   "display_name": "Python 3",
   "language": "python",
   "name": "python3"
  },
  "language_info": {
   "codemirror_mode": {
    "name": "ipython",
    "version": 3
   },
   "file_extension": ".py",
   "mimetype": "text/x-python",
   "name": "python",
   "nbconvert_exporter": "python",
   "pygments_lexer": "ipython3",
   "version": "3.6.3"
  }
 },
 "nbformat": 4,
 "nbformat_minor": 2
}
