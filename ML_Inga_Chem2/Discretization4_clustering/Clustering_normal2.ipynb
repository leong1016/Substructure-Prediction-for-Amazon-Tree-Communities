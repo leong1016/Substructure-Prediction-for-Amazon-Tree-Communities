{
 "cells": [
  {
   "cell_type": "code",
   "execution_count": 1,
   "metadata": {},
   "outputs": [],
   "source": [
    "n_cores = -1"
   ]
  },
  {
   "cell_type": "code",
   "execution_count": 2,
   "metadata": {},
   "outputs": [],
   "source": [
    "import pandas as pd\n",
    "import numpy as np"
   ]
  },
  {
   "cell_type": "code",
   "execution_count": 3,
   "metadata": {},
   "outputs": [],
   "source": [
    "from sklearn.cluster import KMeans"
   ]
  },
  {
   "cell_type": "code",
   "execution_count": 4,
   "metadata": {},
   "outputs": [],
   "source": [
    "data = np.load('inga_out.npz')"
   ]
  },
  {
   "cell_type": "code",
   "execution_count": 5,
   "metadata": {},
   "outputs": [
    {
     "data": {
      "text/plain": [
       "array([ 552.293448,  338.046024,  724.221464, ...,  328.072907,\n",
       "        262.19328 ,  636.278192])"
      ]
     },
     "execution_count": 5,
     "metadata": {},
     "output_type": "execute_result"
    }
   ],
   "source": [
    "mass = data['arr_0']\n",
    "mass"
   ]
  },
  {
   "cell_type": "code",
   "execution_count": 6,
   "metadata": {},
   "outputs": [
    {
     "data": {
      "text/plain": [
       "array(['UNPD98266', 'UNPD207163', 'UNPD3499', ..., 'UNPD98267',\n",
       "       'UNPD47332', 'UNPD101003'], dtype=object)"
      ]
     },
     "execution_count": 6,
     "metadata": {},
     "output_type": "execute_result"
    }
   ],
   "source": [
    "name = data['arr_1']\n",
    "name"
   ]
  },
  {
   "cell_type": "code",
   "execution_count": 7,
   "metadata": {},
   "outputs": [
    {
     "data": {
      "text/plain": [
       "array([[  41.00329 ,    1.688456],\n",
       "       [  43.01894 ,    2.135631],\n",
       "       [  55.01894 ,    1.105409],\n",
       "       ..., \n",
       "       [ 549.23414 ,   24.377134],\n",
       "       [ 551.24979 ,   22.666363],\n",
       "       [ 591.2447  ,    5.496205]])"
      ]
     },
     "execution_count": 7,
     "metadata": {},
     "output_type": "execute_result"
    }
   ],
   "source": [
    "massabund = data['arr_2']\n",
    "massabund"
   ]
  },
  {
   "cell_type": "code",
   "execution_count": 8,
   "metadata": {},
   "outputs": [
    {
     "data": {
      "text/plain": [
       "array([     0,      0,      0, ..., 220988, 220988, 220988], dtype=uint32)"
      ]
     },
     "execution_count": 8,
     "metadata": {},
     "output_type": "execute_result"
    }
   ],
   "source": [
    "blockind = data['arr_3']\n",
    "blockind"
   ]
  },
  {
   "cell_type": "markdown",
   "metadata": {},
   "source": [
    "### Clustering"
   ]
  },
  {
   "cell_type": "code",
   "execution_count": 9,
   "metadata": {},
   "outputs": [],
   "source": [
    "def clustering(name, massabund, blockind, n_clusters):\n",
    "    values = massabund[:,0]\n",
    "    kmeans = KMeans(n_clusters=n_clusters, n_jobs=n_cores).fit(values.reshape(-1,1))\n",
    "    labels = kmeans.labels_\n",
    "    \n",
    "    features = generateMatrix(massabund, blockind, labels)\n",
    "    np.save('clustering_'+str(n_clusters), features)\n",
    "    \n",
    "#     result = generateDataFrame(name, features)\n",
    "#     result.to_csv('clustering_'+str(n)+'.csv', index=None)\n",
    "    \n",
    "    return features"
   ]
  },
  {
   "cell_type": "code",
   "execution_count": 10,
   "metadata": {},
   "outputs": [],
   "source": [
    "def generateMatrix(massabund, blockind, labels):\n",
    "    n_blocks = blockind[-1] + 1\n",
    "    n_points = labels.size\n",
    "    n_clusters = np.unique(labels).size\n",
    "    result = np.zeros((n_blocks, n_clusters))\n",
    "    previous = 0\n",
    "    for i in range(n_points):\n",
    "        if blockind[i] != previous:\n",
    "            previous = blockind[i]\n",
    "        result[previous, labels[i]] = result[previous, labels[i]] + massabund[i,1]\n",
    "    return result"
   ]
  },
  {
   "cell_type": "code",
   "execution_count": 11,
   "metadata": {},
   "outputs": [],
   "source": [
    "def generateDataFrame(name, features):\n",
    "    mat = np.concatenate([name.reshape(-1,1), features], axis=1)\n",
    "    column_name = ['name']\n",
    "    for i in range(features.shape[1]):\n",
    "        column_name.append('fraction'+str(i+1))\n",
    "    df = pd.DataFrame(mat, columns=column_name)\n",
    "    return df"
   ]
  },
  {
   "cell_type": "code",
   "execution_count": 12,
   "metadata": {},
   "outputs": [],
   "source": [
    "for n in [300, 400, 500]:\n",
    "    clustering(name, massabund, blockind, n)"
   ]
  }
 ],
 "metadata": {
  "kernelspec": {
   "display_name": "Python 3",
   "language": "python",
   "name": "python3"
  },
  "language_info": {
   "codemirror_mode": {
    "name": "ipython",
    "version": 3
   },
   "file_extension": ".py",
   "mimetype": "text/x-python",
   "name": "python",
   "nbconvert_exporter": "python",
   "pygments_lexer": "ipython3",
   "version": "3.6.3"
  }
 },
 "nbformat": 4,
 "nbformat_minor": 2
}
