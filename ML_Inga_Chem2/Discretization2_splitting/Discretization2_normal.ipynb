{
 "cells": [
  {
   "cell_type": "code",
   "execution_count": 1,
   "metadata": {},
   "outputs": [],
   "source": [
    "n_cores = -1"
   ]
  },
  {
   "cell_type": "code",
   "execution_count": 2,
   "metadata": {},
   "outputs": [],
   "source": [
    "import numpy as np\n",
    "import pandas as pd"
   ]
  },
  {
   "cell_type": "code",
   "execution_count": 3,
   "metadata": {},
   "outputs": [],
   "source": [
    "data = np.load('inga_out.npz')"
   ]
  },
  {
   "cell_type": "code",
   "execution_count": 4,
   "metadata": {},
   "outputs": [
    {
     "data": {
      "text/plain": [
       "array([ 552.293448,  338.046024,  724.221464, ...,  328.072907,\n",
       "        262.19328 ,  636.278192])"
      ]
     },
     "execution_count": 4,
     "metadata": {},
     "output_type": "execute_result"
    }
   ],
   "source": [
    "mass = data['arr_0']\n",
    "mass"
   ]
  },
  {
   "cell_type": "code",
   "execution_count": 5,
   "metadata": {},
   "outputs": [
    {
     "data": {
      "text/plain": [
       "array(['UNPD98266', 'UNPD207163', 'UNPD3499', ..., 'UNPD98267',\n",
       "       'UNPD47332', 'UNPD101003'], dtype=object)"
      ]
     },
     "execution_count": 5,
     "metadata": {},
     "output_type": "execute_result"
    }
   ],
   "source": [
    "name = data['arr_1']\n",
    "name"
   ]
  },
  {
   "cell_type": "code",
   "execution_count": 6,
   "metadata": {},
   "outputs": [
    {
     "data": {
      "text/plain": [
       "array([[  41.00329 ,    1.688456],\n",
       "       [  43.01894 ,    2.135631],\n",
       "       [  55.01894 ,    1.105409],\n",
       "       ..., \n",
       "       [ 549.23414 ,   24.377134],\n",
       "       [ 551.24979 ,   22.666363],\n",
       "       [ 591.2447  ,    5.496205]])"
      ]
     },
     "execution_count": 6,
     "metadata": {},
     "output_type": "execute_result"
    }
   ],
   "source": [
    "massabund = data['arr_2']\n",
    "massabund"
   ]
  },
  {
   "cell_type": "code",
   "execution_count": 7,
   "metadata": {},
   "outputs": [
    {
     "data": {
      "text/plain": [
       "array([     0,      0,      0, ..., 220988, 220988, 220988], dtype=uint32)"
      ]
     },
     "execution_count": 7,
     "metadata": {},
     "output_type": "execute_result"
    }
   ],
   "source": [
    "blockind = data['arr_3']\n",
    "blockind"
   ]
  },
  {
   "cell_type": "markdown",
   "metadata": {},
   "source": [
    "### Splitting"
   ]
  },
  {
   "cell_type": "code",
   "execution_count": 8,
   "metadata": {},
   "outputs": [],
   "source": [
    "def splitting(name, massabund, blockind, threshold):\n",
    "    \"\"\"\n",
    "    Using splitting strategy to generate matrix.\n",
    "    \"\"\"\n",
    "    values = np.sort(massabund[:,0])\n",
    "    \n",
    "    splits = []\n",
    "    recurSplitting(values, splits, threshold)\n",
    "    splits.sort()\n",
    "    np.save('splits_splitting_'+str(threshold), splits)\n",
    "    \n",
    "    splits.append(values.max())\n",
    "    valueRange = np.array(splits)\n",
    "    \n",
    "    features = generateMatrix(massabund, blockind, valueRange)\n",
    "    np.save('splitting_'+str(threshold), features)\n",
    "    \n",
    "#     result = generateDataFrame(name, newfeatures)\n",
    "#     result.to_csv('splitting_'+str(threshold)+'.csv', index=None)    \n",
    "    \n",
    "    return features"
   ]
  },
  {
   "cell_type": "code",
   "execution_count": 9,
   "metadata": {},
   "outputs": [],
   "source": [
    "def recurSplitting(arr, res, threshold):\n",
    "    \"\"\"\n",
    "    A recursive method to split values into groups until \n",
    "    within each group there are no two consecutive values\n",
    "    which have differences larger than the given threshold.\n",
    "    \"\"\"\n",
    "    if threshold <= 0:\n",
    "        raise ValueError('Threshold should be positive.')\n",
    "        \n",
    "    n = len(arr)\n",
    "    maxInterval = -1\n",
    "    maxIdx = -1\n",
    "    for i in range(1,n):\n",
    "        diff = arr[i] - arr[i-1]\n",
    "        if diff > maxInterval:\n",
    "            maxInterval = diff\n",
    "            maxIdx = i\n",
    "            \n",
    "    if maxInterval < threshold:\n",
    "        return\n",
    "    else:\n",
    "        res.append((arr[maxIdx-1]+arr[maxIdx])/2)\n",
    "        arr1 = arr[0:maxIdx]\n",
    "        recurSplitting(arr1, res, threshold)\n",
    "        arr2 = arr[maxIdx:n]\n",
    "        recurSplitting(arr2, res, threshold)"
   ]
  },
  {
   "cell_type": "code",
   "execution_count": 10,
   "metadata": {},
   "outputs": [],
   "source": [
    "def generateMatrix(massabund, blockind, splits):\n",
    "    \"\"\"\n",
    "    Generating the corresponding matrix based on the splits.\n",
    "    \"\"\"\n",
    "    result = np.zeros([blockind.max()+1, splits.size])\n",
    "    \n",
    "    previousRow = 0\n",
    "    previousEnd = 0\n",
    "    for i in range(blockind.size):\n",
    "        row = blockind[i]\n",
    "        v = massabund[i]\n",
    "        m = v[0]\n",
    "        a = v[1]\n",
    "        if row == previousRow:\n",
    "            start = previousEnd\n",
    "        else:\n",
    "            start = 0\n",
    "        for col in range(start, splits.size):\n",
    "            upperLim = splits[col] \n",
    "            if (m <= upperLim):\n",
    "                result[row,col] = a\n",
    "                previousRow = row\n",
    "                previousEnd = col\n",
    "                break\n",
    "                \n",
    "    goodCol = result.sum(axis=0) > 0\n",
    "    newresult = result[:,goodCol]\n",
    "    \n",
    "    return newresult"
   ]
  },
  {
   "cell_type": "code",
   "execution_count": 11,
   "metadata": {},
   "outputs": [],
   "source": [
    "def generateDataFrame(name, features):\n",
    "    \"\"\"\n",
    "    Taking name and features to generate the corresponding dataframe.\n",
    "    \"\"\"\n",
    "    mat = np.concatenate([name.reshape(-1,1), features], axis=1)\n",
    "    column_name = ['name']\n",
    "    for i in range(features.shape[1]):\n",
    "        column_name.append('fraction'+str(i+1))\n",
    "    df = pd.DataFrame(mat, columns=column_name)\n",
    "    return df"
   ]
  },
  {
   "cell_type": "code",
   "execution_count": 12,
   "metadata": {},
   "outputs": [],
   "source": [
    "for n in [0.2, 0.1, 0.05]:\n",
    "    splitting(name, massabund, blockind, n)"
   ]
  }
 ],
 "metadata": {
  "kernelspec": {
   "display_name": "Python 3",
   "language": "python",
   "name": "python3"
  },
  "language_info": {
   "codemirror_mode": {
    "name": "ipython",
    "version": 3
   },
   "file_extension": ".py",
   "mimetype": "text/x-python",
   "name": "python",
   "nbconvert_exporter": "python",
   "pygments_lexer": "ipython3",
   "version": "3.6.3"
  }
 },
 "nbformat": 4,
 "nbformat_minor": 2
}
